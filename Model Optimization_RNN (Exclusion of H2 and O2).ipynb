{
  "cells": [
    {
      "cell_type": "markdown",
      "metadata": {
        "id": "view-in-github",
        "colab_type": "text"
      },
      "source": [
        "<a href=\"https://colab.research.google.com/github/EAkeweje/Accelerating-Hydrogen-Oxidation-Calculations/blob/main/Model%20Optimization_RNN%20(Exclusion%20of%20H2%20and%20O2).ipynb\" target=\"_parent\"><img src=\"https://colab.research.google.com/assets/colab-badge.svg\" alt=\"Open In Colab\"/></a>"
      ]
    },
    {
      "cell_type": "code",
      "execution_count": null,
      "metadata": {
        "id": "xDny70xkh-nC",
        "colab": {
          "base_uri": "https://localhost:8080/"
        },
        "outputId": "c894b210-f088-42f6-9e5a-446c918d00f9"
      },
      "outputs": [
        {
          "output_type": "stream",
          "name": "stdout",
          "text": [
            "\u001b[K     |████████████████████████████████| 1.8 MB 16.8 MB/s \n",
            "\u001b[K     |████████████████████████████████| 181 kB 61.2 MB/s \n",
            "\u001b[K     |████████████████████████████████| 158 kB 69.6 MB/s \n",
            "\u001b[K     |████████████████████████████████| 63 kB 1.9 MB/s \n",
            "\u001b[K     |████████████████████████████████| 157 kB 75.0 MB/s \n",
            "\u001b[K     |████████████████████████████████| 157 kB 74.8 MB/s \n",
            "\u001b[K     |████████████████████████████████| 157 kB 67.6 MB/s \n",
            "\u001b[K     |████████████████████████████████| 157 kB 75.2 MB/s \n",
            "\u001b[K     |████████████████████████████████| 157 kB 77.3 MB/s \n",
            "\u001b[K     |████████████████████████████████| 157 kB 61.5 MB/s \n",
            "\u001b[K     |████████████████████████████████| 157 kB 76.2 MB/s \n",
            "\u001b[K     |████████████████████████████████| 156 kB 49.5 MB/s \n",
            "\u001b[?25h  Building wheel for pathtools (setup.py) ... \u001b[?25l\u001b[?25hdone\n"
          ]
        }
      ],
      "source": [
        "!pip install wandb -Uq"
      ]
    },
    {
      "cell_type": "code",
      "execution_count": null,
      "metadata": {
        "colab": {
          "base_uri": "https://localhost:8080/",
          "height": 159
        },
        "id": "Lbe0cJ-MiCyd",
        "outputId": "aee4885d-87d2-45e0-8a0c-bf281f2b5ad5"
      },
      "outputs": [
        {
          "output_type": "stream",
          "name": "stderr",
          "text": [
            "ERROR:wandb.jupyter:Failed to detect the name of this notebook, you can set it manually with the WANDB_NOTEBOOK_NAME environment variable to enable code saving.\n"
          ]
        },
        {
          "output_type": "display_data",
          "data": {
            "text/plain": [
              "<IPython.core.display.Javascript object>"
            ],
            "application/javascript": [
              "\n",
              "        window._wandbApiKey = new Promise((resolve, reject) => {\n",
              "            function loadScript(url) {\n",
              "            return new Promise(function(resolve, reject) {\n",
              "                let newScript = document.createElement(\"script\");\n",
              "                newScript.onerror = reject;\n",
              "                newScript.onload = resolve;\n",
              "                document.body.appendChild(newScript);\n",
              "                newScript.src = url;\n",
              "            });\n",
              "            }\n",
              "            loadScript(\"https://cdn.jsdelivr.net/npm/postmate/build/postmate.min.js\").then(() => {\n",
              "            const iframe = document.createElement('iframe')\n",
              "            iframe.style.cssText = \"width:0;height:0;border:none\"\n",
              "            document.body.appendChild(iframe)\n",
              "            const handshake = new Postmate({\n",
              "                container: iframe,\n",
              "                url: 'https://wandb.ai/authorize'\n",
              "            });\n",
              "            const timeout = setTimeout(() => reject(\"Couldn't auto authenticate\"), 5000)\n",
              "            handshake.then(function(child) {\n",
              "                child.on('authorize', data => {\n",
              "                    clearTimeout(timeout)\n",
              "                    resolve(data)\n",
              "                });\n",
              "            });\n",
              "            })\n",
              "        });\n",
              "    "
            ]
          },
          "metadata": {}
        },
        {
          "output_type": "stream",
          "name": "stderr",
          "text": [
            "\u001b[34m\u001b[1mwandb\u001b[0m: Logging into wandb.ai. (Learn how to deploy a W&B server locally: https://wandb.me/wandb-server)\n",
            "\u001b[34m\u001b[1mwandb\u001b[0m: You can find your API key in your browser here: https://wandb.ai/authorize\n",
            "wandb: Paste an API key from your profile and hit enter, or press ctrl+c to quit: "
          ]
        },
        {
          "name": "stdout",
          "output_type": "stream",
          "text": [
            "··········\n"
          ]
        },
        {
          "output_type": "stream",
          "name": "stderr",
          "text": [
            "\u001b[34m\u001b[1mwandb\u001b[0m: Appending key for api.wandb.ai to your netrc file: /root/.netrc\n"
          ]
        },
        {
          "output_type": "execute_result",
          "data": {
            "text/plain": [
              "True"
            ]
          },
          "metadata": {},
          "execution_count": 4
        }
      ],
      "source": [
        "#import and login\n",
        "import wandb\n",
        "\n",
        "wandb.login()"
      ]
    },
    {
      "cell_type": "code",
      "execution_count": null,
      "metadata": {
        "id": "1cuI4Qzbecga"
      },
      "outputs": [],
      "source": [
        "import numpy as np\n",
        "import matplotlib.pyplot as plt\n",
        "import networkx as nx\n",
        "\n",
        "import torch\n",
        "from torch.autograd import Variable\n",
        "import torch.optim as optim\n",
        "import torch.nn as nn\n",
        "import torch.nn.functional as F\n",
        "from torch.utils.data import Dataset, DataLoader\n",
        "from torch.utils.data.sampler import SubsetRandomSampler\n",
        "\n",
        "import PIL\n",
        "import pandas as pd\n",
        "from tqdm.notebook import tqdm\n",
        "import json\n",
        "import time\n",
        "import cv2\n",
        "import random\n",
        "import glob\n",
        "import os\n",
        "import copy\n",
        "from sklearn.metrics import r2_score"
      ]
    },
    {
      "cell_type": "markdown",
      "metadata": {
        "id": "RU7ouKqQud_s"
      },
      "source": [
        "## Utils"
      ]
    },
    {
      "cell_type": "code",
      "execution_count": null,
      "metadata": {
        "id": "EcwOnufhNPE_"
      },
      "outputs": [],
      "source": [
        "#Dataset object\n",
        "class OxidationDataset(Dataset):\n",
        "\n",
        "    def __init__(self, inputs_path, outputs_dir, nsample, ntimesteps):\n",
        "        \"\"\"\n",
        "        Args:\n",
        "            inputs_dir (string): \n",
        "            outputs_dir (string):\n",
        "        \"\"\"\n",
        "        \n",
        "        # x = np.loadtxt(inputs_path, skiprows = 1, delimiter= ',')\n",
        "        # x = np.loadtxt(inputs_path, delimiter= ' ')\n",
        "        with open(inputs_path, 'rb') as f:\n",
        "          x = np.load(f)\n",
        "        #drop inert gases\n",
        "        self.inputs = np.delete(x[ :nsample, :], [0, 3, 8,9], 1)[:, np.newaxis] #exclude H2, O2 and the inert gases\n",
        "        self.out_dir = outputs_dir\n",
        "        self.ntimesteps = ntimesteps\n",
        "\n",
        "\n",
        "    def __len__(self):\n",
        "        return len(self.inputs)\n",
        "\n",
        "    def __getitem__(self, idx):\n",
        "        #get output\n",
        "        # Y = np.loadtxt(os.path.join(self.out_dir, f'out{idx}.txt'), delimiter= ';')\n",
        "        with open(os.path.join(self.out_dir, f'out{idx}.npy'), 'rb') as f:\n",
        "          Y = np.load(f)\n",
        "\n",
        "        #drop inert gases\n",
        "        if type(self.ntimesteps) == int:\n",
        "            Y = Y[:self.ntimesteps, 1:-2]\n",
        "        elif type(self.ntimesteps) == list:\n",
        "            Y = Y[self.ntimesteps, 1:-2]\n",
        "        elif self.ntimesteps == 'all':\n",
        "            Y = Y[:, 1:-2]\n",
        "        else:\n",
        "            raise ValueError(\"Invalid argument 'ntimestep' should an interger, a list or 'all' string\")\n",
        "        #excluding H2 and O2\n",
        "        Y = np.delete(Y, [1,4], axis = 1)\n",
        "\n",
        "        return torch.from_numpy(self.inputs[idx]), torch.from_numpy(Y)"
      ]
    },
    {
      "cell_type": "code",
      "source": [
        "#Dataset object\n",
        "class OxidationDataset_C(Dataset):\n",
        "  '''\n",
        "  Taking concentrations as model input. Using the gas equation, compute the input concetrations, which are the \n",
        "  concentrations at time t = 0 in the output files. Thus, the model do not learn to predict output at time t=0.\n",
        "  '''\n",
        "\n",
        "  def __init__(self, inputs_path, outputs_dir, nsample, ntimesteps, exclude_h2_o2 = False):\n",
        "    \"\"\"\n",
        "    Args:\n",
        "        inputs_dir (string): \n",
        "        outputs_dir (string):\n",
        "    \"\"\"\n",
        "    \n",
        "    # x = np.loadtxt(inputs_path, skiprows = 1, delimiter= ',')\n",
        "    # x = np.loadtxt(inputs_path, delimiter= ' ')\n",
        "    with open(inputs_path, 'rb') as f:\n",
        "      x = np.load(f)\n",
        "    self.exclude = exclude_h2_o2\n",
        "    #drop inert gases\n",
        "    if not self.exclude:\n",
        "      #load proportions\n",
        "      self.props = np.delete(x[ :nsample, :], [8,9], 1)\n",
        "    else:\n",
        "      self.props = np.delete(x[ :nsample, :], [0, 3, 8, 9], 1)\n",
        "    self.out_dir = outputs_dir\n",
        "    self.ntimesteps = ntimesteps\n",
        "\n",
        "  def get_total_material(self, Pressure, Temperature):\n",
        "    R =  8.314462618\n",
        "    return Pressure / (R * Temperature)\n",
        "\n",
        "  def __len__(self):\n",
        "    return len(self.props)\n",
        "\n",
        "  def __getitem__(self, idx):\n",
        "    #get output\n",
        "    # Y = np.loadtxt(os.path.join(self.out_dir, f'out{idx}.txt'), delimiter= ';')\n",
        "    pres = self.props[idx, -2]\n",
        "    temp = self.props[idx, -1]\n",
        "    total_amount_all = self.get_total_material(pres, temp)\n",
        "    #compute concentrations\n",
        "    concs = self.props[idx,:-2]*total_amount_all#[:, np.newaxis]\n",
        "    input = np.concatenate((concs, self.props[idx,-2:]))#, axis = 1)\n",
        "    \n",
        "    with open(os.path.join(self.out_dir, f'out{idx}.npy'), 'rb') as f:\n",
        "      Y = np.load(f)\n",
        "\n",
        "    #drop inert gases\n",
        "    if type(self.ntimesteps) == int:\n",
        "      Y = Y[self.ntimesteps, 1:-2]\n",
        "    elif type(self.ntimesteps) == list:\n",
        "      Y = Y[self.ntimesteps, 1:-2]\n",
        "    elif self.ntimesteps == 'all':\n",
        "      Y = Y[1:, 1:-2]\n",
        "    else:\n",
        "      raise ValueError(\"Invalid argument 'ntimestep' should an interger, a list or 'all' string\")\n",
        "\n",
        "    if self.exclude:\n",
        "      Y = np.delete(Y, [1,4], axis = 1)\n",
        "\n",
        "    return torch.from_numpy(input[np.newaxis,:]), torch.from_numpy(Y)"
      ],
      "metadata": {
        "id": "U_EHq5w2lMO4"
      },
      "execution_count": null,
      "outputs": []
    },
    {
      "cell_type": "code",
      "execution_count": null,
      "metadata": {
        "id": "6Z0qixxwQ3-3"
      },
      "outputs": [],
      "source": [
        "#for data standardization\n",
        "def standardize(tensor, dim = 0, mean = None, std = None) -> torch.float64:\n",
        "    tensor = tensor.float()\n",
        "\n",
        "    if mean is None:\n",
        "        mean = tensor.mean(dim = dim, keepdim = True)\n",
        "\n",
        "    if std is None:\n",
        "        std = tensor.std(dim = dim, keepdim = True)\n",
        "\n",
        "    standard_tensor = (tensor - mean) / std\n",
        "    return standard_tensor, mean, std\n",
        "\n",
        "def inverse_standardize(tensor, dim, mean, std):\n",
        "    tensor = tensor.float()\n",
        "    return tensor * std + mean"
      ]
    },
    {
      "cell_type": "code",
      "execution_count": null,
      "metadata": {
        "id": "UFzhT9hAIu8T"
      },
      "outputs": [],
      "source": [
        "def load_mean_std(path, loader = None):\n",
        "  if os.path.exists(path):\n",
        "    #get means and stds\n",
        "    with open(path, 'r') as f:\n",
        "        mean_std_dict = json.load(f)\n",
        "    train_x_mean = torch.tensor(mean_std_dict['mean_x'])\n",
        "    train_x_std = torch.tensor(mean_std_dict['std_x'])\n",
        "    train_y_mean = torch.tensor(mean_std_dict['mean_y'])\n",
        "    train_y_std = torch.tensor(mean_std_dict['std_y'])\n",
        "    return train_x_mean, train_x_std, train_y_mean, train_y_std\n",
        "  else:\n",
        "    return save_mean_std(loader, path, output = True)\n",
        "  "
      ]
    },
    {
      "cell_type": "code",
      "execution_count": null,
      "metadata": {
        "id": "ZPtYcqUplFZu"
      },
      "outputs": [],
      "source": [
        "def save_mean_std(loader, path, output = False):\n",
        "  '''\n",
        "  loader:: preferably train loader\n",
        "  path:: a json path\n",
        "  output:: bool: to output the means and stds\n",
        "  '''\n",
        "  #obtaining mean and std of training set\n",
        "  train_x = []\n",
        "  train_y = []\n",
        "  for x,y in loader:\n",
        "      train_x.append(x)\n",
        "      train_y.append(y)\n",
        "\n",
        "  _, train_x_mean, train_x_std = standardize(torch.concat(train_x), 0)\n",
        "  _, train_y_mean, train_y_std = standardize(torch.concat(train_y), 0)\n",
        "\n",
        "  #write to disc\n",
        "  mean_std_dict = {\n",
        "      'mean_x' : train_x_mean.tolist(),\n",
        "      'mean_y' : train_y_mean.tolist(),\n",
        "      'std_x' : train_x_std.tolist(),\n",
        "      'std_y' : train_y_std.tolist()\n",
        "  }\n",
        "\n",
        "  with open(path, 'w') as f:\n",
        "    json.dump(mean_std_dict, f)\n",
        "  \n",
        "  if output:\n",
        "    return train_x_mean, train_x_std, train_y_mean, train_y_std"
      ]
    },
    {
      "cell_type": "code",
      "execution_count": null,
      "metadata": {
        "id": "3o-JvRD4aDbF"
      },
      "outputs": [],
      "source": [
        "def train_step(model, optimizer, criterion, dataloader, mean_std, device, mb_coeff = 0):\n",
        "  '''\n",
        "  Do one training epoch.\n",
        "  mb_coeff is material balance weight. If mb_coeff == 0, then material balance is not considered.\n",
        "  '''\n",
        "  train_loss_ = 0.0\n",
        "  model.train()\n",
        "  for input, target in dataloader:\n",
        "    # Transfer Data to GPU if available\n",
        "    input, target = input.to(device), target.to(device)\n",
        "    # Standardize\n",
        "    if mean_std:\n",
        "      input, _, _ = standardize(input, 0, mean_std[0], mean_std[1])\n",
        "      target, _, _ = standardize(target, 0, mean_std[2], mean_std[3])\n",
        "    # Forward Pass\n",
        "    predict = model(input.float())\n",
        "    # Find loss\n",
        "    if mb_coeff != 0:\n",
        "      #Material Balance\n",
        "      T_H_true, T_H_pred, T_O_true, T_O_pred = total_material(target, predict)\n",
        "      loss = criterion(predict,target.float()) + mb_coeff * criterion(T_H_pred, T_H_true) + mb_coeff * criterion(T_O_pred, T_O_true)\n",
        "    else:\n",
        "      loss = criterion(predict, target.float())\n",
        "    # Clear the gradients\n",
        "    optimizer.zero_grad()\n",
        "    # Calculate gradients\n",
        "    loss.backward()\n",
        "    # Update Weights\n",
        "    optimizer.step()\n",
        "    # Calculate Loss\n",
        "    train_loss_ += loss.item() \n",
        "  return train_loss_\n",
        "\n",
        "def valid_step(model, criterion, dataloader, mean_std, device, mb_coeff = 0):\n",
        "  valid_loss_ = 0.0\n",
        "  model.eval()     # Optional when not using Model Specific layer\n",
        "  for input, target in dataloader:\n",
        "    # Transfer Data to GPU if available\n",
        "    input, target = input.to(device), target.to(device)\n",
        "    #standardize\n",
        "    if mean_std:\n",
        "      input, _, _ = standardize(input, 0, mean_std[0], mean_std[1])\n",
        "      target, _, _ = standardize(target, 0, mean_std[2], mean_std[3])\n",
        "    # Forward Pass\n",
        "    predict = model(input.float())\n",
        "    # Find the Loss\n",
        "    if mb_coeff != 0:\n",
        "      #Material Balance\n",
        "      T_H_true, T_H_pred, T_O_true, T_O_pred = total_material(target, predict)\n",
        "      loss = criterion(predict,target.float()) + mb_coeff * criterion(T_H_pred, T_H_true) + mb_coeff * criterion(T_O_pred, T_O_true)\n",
        "    else:\n",
        "      loss = criterion(predict,target.float())\n",
        "    # Calculate Loss\n",
        "    valid_loss_ += loss.item()\n",
        "  return valid_loss_"
      ]
    },
    {
      "cell_type": "code",
      "execution_count": null,
      "metadata": {
        "id": "iLXfZKnO-nOM"
      },
      "outputs": [],
      "source": [
        "def loss_plot(train_loss, valid_loss):\n",
        "  plt.figure(figsize = (10,7))\n",
        "  epochs = len(train_loss)\n",
        "  epochs2 = len(valid_loss)\n",
        "  plt.plot(range(epochs),train_loss,'-r',label = 'Training loss')\n",
        "  plt.plot(range(epochs2),valid_loss,'-b',label = 'Validation loss')\n",
        "  plt.yscale('log')\n",
        "  plt.legend(fontsize=15)\n",
        "  plt.grid()\n",
        "  plt.xlabel('epochs', fontsize=15)\n",
        "  plt.ylabel('MSE', fontsize=15)\n",
        "  plt.show()\n",
        "# plt.title(f'Loss curve (2ks {len(dataset.guage_space)}sensor)', fontsize = 20)}"
      ]
    },
    {
      "cell_type": "code",
      "execution_count": null,
      "metadata": {
        "id": "pJCPrVDSIrOI"
      },
      "outputs": [],
      "source": [
        "def total_material(y_true, y_pred):\n",
        "  '''\n",
        "  Computes the total material (moles) of Hydrogen and Oxygen in product.\n",
        "  y_true: ground truth\n",
        "  y_pred: (model) prediction\n",
        "  '''\n",
        "  assert y_true.ndim == y_pred.ndim, f'Tensors are of different dimensions: {y_true.ndim} and {y_pred.ndim}'\n",
        "  assert y_true.shape == y_pred.shape, f'Shape of tensor are different: {y_true.shape} and {y_pred.shape}'\n",
        "  assert y_true.ndim < 4, f'Tensor dimension must be less than 4: {y_true.ndim}'\n",
        "\n",
        "  if y_true.ndim == 1:\n",
        "    T_H_true = 2*y_true[1] + y_true[2] + y_true[5]+ 2*y_true[6] + y_true[7]+ 2*y_true[8]\n",
        "    T_H_pred = 2*y_pred[1] + y_pred[2] + y_pred[5]+ 2*y_pred[6] + y_pred[7]+ 2*y_pred[8]\n",
        "    T_O_true = y_true[3] + 2*y_true[4] + y_true[5]+ y_true[6] + 2*y_true[7]+ 2*y_true[8]\n",
        "    T_O_pred = y_pred[3] + 2*y_pred[4] + y_pred[5]+ y_pred[6] + 2*y_pred[7]+ 2*y_pred[8]\n",
        "\n",
        "  elif y_true.ndim == 2:\n",
        "    T_H_true = 2*y_true[:,1] + y_true[:,2] + y_true[:,5]+ 2*y_true[:,6] + y_true[:,7]+ 2*y_true[:,8]\n",
        "    T_H_pred = 2*y_pred[:,1] + y_pred[:,2] + y_pred[:,5]+ 2*y_pred[:,6] + y_pred[:,7]+ 2*y_pred[:,8]\n",
        "    T_O_true = y_true[:,3] + 2*y_true[:,4] + y_true[:,5]+ y_true[:,6] + 2*y_true[:,7]+ 2*y_true[:,8]\n",
        "    T_O_pred = y_pred[:,3] + 2*y_pred[:,4] + y_pred[:,5]+ y_pred[:,6] + 2*y_pred[:,7]+ 2*y_pred[:,8]\n",
        "  \n",
        "  elif y_true.ndim == 3:\n",
        "    T_H_true = 2*y_true[:,:,1] + y_true[:,:,2] + y_true[:,:,5]+ 2*y_true[:,:,6] + y_true[:,:,7]+ 2*y_true[:,:,8]\n",
        "    T_H_pred = 2*y_pred[:,:,1] + y_pred[:,:,2] + y_pred[:,:,5]+ 2*y_pred[:,:,6] + y_pred[:,:,7]+ 2*y_pred[:,:,8]\n",
        "    T_O_true = y_true[:,:,3] + 2*y_true[:,:,4] + y_true[:,:,5]+ y_true[:,:,6] + 2*y_true[:,:,7]+ 2*y_true[:,:,8]\n",
        "    T_O_pred = y_pred[:,:,3] + 2*y_pred[:,:,4] + y_pred[:,:,5]+ y_pred[:,:,6] + 2*y_pred[:,:,7]+ 2*y_pred[:,:,8]\n",
        "  \n",
        "  return T_H_true, T_H_pred, T_O_true, T_O_pred\n"
      ]
    },
    {
      "cell_type": "code",
      "execution_count": null,
      "metadata": {
        "id": "KDFbtxNO40wP"
      },
      "outputs": [],
      "source": [
        "###Networks\n",
        "#single step\n",
        "class RNN_Model(nn.Module):\n",
        "    def __init__(self, input_size, hidden_size, num_layers, output_size):\n",
        "        super(RNN_Model, self).__init__()\n",
        "        self.input_size = input_size\n",
        "        self.hidden_size = hidden_size\n",
        "        self.output_size = output_size\n",
        "        self.num_layers = num_layers\n",
        "        self.rnn = nn.RNN(self.input_size, self.hidden_size, self.num_layers, dropout = 0.1, batch_first = True)\n",
        "        self.linear = nn.Linear(self.hidden_size, self.output_size)\n",
        "        \n",
        "    def forward(self, x):\n",
        "        out, _ = self.rnn(x)\n",
        "        out = self.linear(out)\n",
        "        return out\n",
        "    \n",
        "def init_weights(m):\n",
        "    if type(m) == nn.Linear:\n",
        "        nn.init.kaiming_uniform_(m.weight, nonlinearity= 'relu')\n",
        "        m.bias.data.fill_(0.0)\n",
        "\n",
        "###multiple time steps\n",
        "#one to many RNN architechture\n",
        "class Base_RNN(nn.Module):\n",
        "    def __init__(self, input_size, hidden_size, num_layers):\n",
        "        super(Base_RNN, self).__init__()\n",
        "        self.input_size = input_size\n",
        "        self.hidden_size = hidden_size\n",
        "        self.num_layers = num_layers\n",
        "        self.rnn = nn.RNN(self.input_size, self.hidden_size, self.num_layers, dropout = 0.1, batch_first = True)\n",
        "        self.linear = nn.Linear(self.hidden_size, self.input_size)\n",
        "        \n",
        "    def forward(self, x, in_hidden = None):\n",
        "        if in_hidden == None:\n",
        "            out, out_hidden = self.rnn(x)\n",
        "        else:\n",
        "            out, out_hidden = self.rnn(x, in_hidden)\n",
        "        out = self.linear(out)\n",
        "        return out, out_hidden\n",
        "\n",
        "class RNN_Model_Multiple(nn.Module):\n",
        "    def __init__(self,input_size, hidden_size, num_layers, output_size, ntimesteps):\n",
        "        super(RNN_Model_Multiple, self).__init__()\n",
        "        self.input_size = input_size\n",
        "        self.hidden_size = hidden_size\n",
        "        self.output_size = output_size\n",
        "        self.num_layers = num_layers\n",
        "        self.ntimesteps = ntimesteps\n",
        "        self.base_rnn = Base_RNN(self.input_size, self.hidden_size, self.num_layers)\n",
        "        self.relu = nn.ReLU()\n",
        "        self.linear = nn.Linear(self.input_size, self.output_size)\n",
        "        \n",
        "    def forward(self, x):\n",
        "        out = x\n",
        "        hidden = None\n",
        "        \n",
        "        #to store outputs\n",
        "        outputs = []\n",
        "        \n",
        "        for t in range(self.ntimesteps):                \n",
        "            #pass to rnn\n",
        "            out, hidden = self.base_rnn(out, hidden)\n",
        "            #pass to output layer\n",
        "            outputs.append(self.linear(self.relu(out)))\n",
        "            #skip connection\n",
        "            out += x\n",
        "\n",
        "        return torch.concat(outputs, 1)\n",
        "\n",
        "#one to many RNN architechture\n",
        "class Base_RNN_v2(nn.Module):\n",
        "    def __init__(self, output_size, hidden_size, num_layers):\n",
        "        super(Base_RNN_v2, self).__init__()\n",
        "        self.hidden_size = hidden_size\n",
        "        self.output_size = output_size\n",
        "        self.num_layers = num_layers\n",
        "        self.rnn = nn.RNN(self.output_size, self.hidden_size, self.num_layers, dropout = 0.1, batch_first = True)\n",
        "        self.linear = nn.Linear(self.hidden_size, self.output_size)\n",
        "\n",
        "    def forward(self, x, in_hidden = None):\n",
        "        if in_hidden == None:\n",
        "            out, out_hidden = self.rnn(x)\n",
        "        else:\n",
        "            out, out_hidden = self.rnn(x, in_hidden)\n",
        "        out = self.linear(out)\n",
        "        return out, out_hidden\n",
        "\n",
        "class RNN_Model_Multiple_v2(nn.Module):\n",
        "    def __init__(self,input_size, hidden_size, num_layers, output_size, ntimesteps):\n",
        "        super(RNN_Model_Multiple_v2, self).__init__()\n",
        "        self.input_size = input_size\n",
        "        self.hidden_size = hidden_size\n",
        "        self.output_size = output_size\n",
        "        self.num_layers = num_layers\n",
        "        self.ntimesteps = ntimesteps\n",
        "        self.base_rnn = Base_RNN_v2(self.output_size, self.hidden_size, self.num_layers)\n",
        "        self.relu = nn.ReLU()\n",
        "        self.linear = nn.Linear(self.input_size, self.output_size)\n",
        "\n",
        "    def forward(self, x):\n",
        "        #pass to first layer and activation\n",
        "        x = self.relu(self.linear(x))\n",
        "\n",
        "        #to store outputs\n",
        "        outputs = []\n",
        "\n",
        "        #set inputs to first RNN layer\n",
        "        out = x\n",
        "        hidden = None\n",
        "\n",
        "        #loop through rnn layers\n",
        "        for t in range(self.ntimesteps):                \n",
        "            #pass to rnn\n",
        "            out, hidden = self.base_rnn(out, hidden)\n",
        "            #pass to output layer\n",
        "            outputs.append(out)\n",
        "            #skip connection\n",
        "            out += x\n",
        "\n",
        "        return torch.concat(outputs, 1)"
      ]
    },
    {
      "cell_type": "code",
      "execution_count": null,
      "metadata": {
        "id": "8t5KrR8hEVJi"
      },
      "outputs": [],
      "source": [
        "def make_dataloaders(config):\n",
        "    '''\n",
        "    batch_size: int = batch size\n",
        "    ntimesteps: int or list = number/list of time steps in data\n",
        "    nsample: int = number of samples to use\n",
        "    split: list = list of train set to data ration and train+valid set to data ratio\n",
        "    '''\n",
        "    #initialize dataset object\n",
        "    dataset = OxidationDataset_C(inputs_path = 'input_98660.npy',#'input_98660.txt',\n",
        "                               outputs_dir = './Out_files_npy',\n",
        "                               nsample = config.nsample,\n",
        "                               ntimesteps = config.timesteps,\n",
        "                               exclude_h2_o2 = config.exclude)\n",
        "    # Creating Training, Validation, and Test dataloaders\n",
        "    # split Train : Val : Test = 0.7 : 0.2 : 0.1\n",
        "    dataset_size = len(dataset)\n",
        "    indices = list(range(dataset_size))\n",
        "    train_split = int(np.floor(config.split[0] * dataset_size))\n",
        "    val_split = int(np.floor(config.split[1] * dataset_size))\n",
        "    shuffle_dataset = True\n",
        "    random_seed = 42\n",
        "    if shuffle_dataset :\n",
        "        np.random.seed(random_seed)\n",
        "        np.random.shuffle(indices)\n",
        "    train_indices = indices[ : train_split]\n",
        "    val_indices = indices[train_split : train_split + val_split]\n",
        "    test_indices = indices[train_split + val_split : ]\n",
        "\n",
        "    # Creating PT data samplers and loaders:\n",
        "    train_sampler = SubsetRandomSampler(train_indices)\n",
        "    valid_sampler = SubsetRandomSampler(val_indices)\n",
        "    test_sampler = SubsetRandomSampler(test_indices)\n",
        "\n",
        "    train_loader = DataLoader(dataset, batch_size = config.batch_size, sampler=train_sampler)\n",
        "    validation_loader = DataLoader(dataset, batch_size = config.batch_size, sampler=valid_sampler)\n",
        "    test_loader = DataLoader(dataset, batch_size = config.batch_size, sampler=test_sampler)\n",
        "    \n",
        "    return train_loader, validation_loader, test_loader\n",
        "\n",
        "def to_device(model, train_x_mean, train_x_std, train_y_mean, train_y_std):\n",
        "  if torch.cuda.is_available():\n",
        "    model = model.cuda()\n",
        "    train_x_mean = train_x_mean.cuda()\n",
        "    train_x_std = train_x_std.cuda()\n",
        "    train_y_mean = train_y_mean.cuda()\n",
        "    train_y_std = train_y_std.cuda()"
      ]
    },
    {
      "cell_type": "code",
      "execution_count": null,
      "metadata": {
        "id": "4pJsQiLArxzk"
      },
      "outputs": [],
      "source": [
        "def training(model, train_loader, val_loader, config, criterion, mean_std, device, dict_path):\n",
        "  '''\n",
        "  model:: Neural network\n",
        "  epoch:: \n",
        "  optimizer:: optimization algorithm. Default Adam\n",
        "  learning rate:: \n",
        "  dict_path:: path to save best model's state_dict\n",
        "  criterion:: loss function. Default = nn.MSELoss()\n",
        "  scheduler:: schedule learning rate. Default = False\n",
        "  mb_coeff :: Weight for material balance inclusion. Default = 0\n",
        "  '''\n",
        "  min_valid_loss = np.inf\n",
        "  # train_loss = []\n",
        "  # valid_loss = []\n",
        "\n",
        "  if config.optimizer == 'Adam':\n",
        "    optimizer = torch.optim.Adam(model.parameters(), lr = config.lr, betas = (config.beta1, config.beta2))\n",
        "  elif config.optimizer == 'SGD':\n",
        "    optimizer = torch.optim.SGD(model.parameters(), lr = config.lr, momentum= config.SGD_momentum)\n",
        "  else:\n",
        "    raise ValueError(f'Unknown optimizer ({config.optimizer})')\n",
        "\n",
        "  scheduler = torch.optim.lr_scheduler.StepLR(optimizer, step_size=50, gamma=0.1)\n",
        "  no_save = 0 #for early stopping\n",
        "\n",
        "  for e in range(config.epochs):\n",
        "    train_loss_ = train_step(model, optimizer, criterion, train_loader, mean_std, device, config.mb_coeff)\n",
        "    valid_loss_ = valid_step(model, criterion, val_loader, mean_std, device, config.mb_coeff)\n",
        "\n",
        "    wandb.log({\"train_loss\": train_loss_/len(train_loader),\n",
        "               \"val_loss\": valid_loss_/len(val_loader)})\n",
        "\n",
        "    if config.scheduling:\n",
        "      scheduler.step()\n",
        "\n",
        "    if min_valid_loss > valid_loss_:\n",
        "        min_valid_loss = valid_loss_\n",
        "\n",
        "        no_save = 0 #reset counter\n",
        "        # Saving State Dict\n",
        "        if dict_path != None:\n",
        "          torch.save(model.state_dict(), dict_path)\n",
        "        \n",
        "    else:\n",
        "      no_save += 1\n",
        "\n",
        "    # Early stopping\n",
        "    if no_save >= 200:\n",
        "      break\n",
        "\n",
        "  return e, min_valid_loss"
      ]
    },
    {
      "cell_type": "markdown",
      "metadata": {
        "id": "RKPa7CPLvjHI"
      },
      "source": [
        "# Model Optimization"
      ]
    },
    {
      "cell_type": "code",
      "execution_count": null,
      "metadata": {
        "id": "NOE7vQpX-WR3",
        "colab": {
          "base_uri": "https://localhost:8080/"
        },
        "outputId": "203d300e-35eb-4a78-fbd5-080ea9179624"
      },
      "outputs": [
        {
          "output_type": "execute_result",
          "data": {
            "text/plain": [
              "{'name': 'Accelerating Hydrogen Oxidation Calculations (Concentration inputs)',\n",
              " 'description': 'Model Optimization for Adam Optimizer',\n",
              " 'method': 'random',\n",
              " 'metric': {'name': 'loss', 'goal': 'minimize'}}"
            ]
          },
          "metadata": {},
          "execution_count": 18
        }
      ],
      "source": [
        "#Define the sweep\n",
        "sweep_config = {\n",
        "    'name': 'Accelerating Hydrogen Oxidation Calculations',\n",
        "    'description': 'Model Optimization for Adam Optimizer',\n",
        "    'method': 'random', #how sweep controller select hyperparameter\n",
        "    'metric': {'name': 'loss',\n",
        "               'goal': 'minimize'}\n",
        "                }\n",
        "sweep_config"
      ]
    },
    {
      "cell_type": "code",
      "execution_count": null,
      "metadata": {
        "id": "77mYRM_uv48S"
      },
      "outputs": [],
      "source": [
        "param_dict = {\n",
        "    'batch_size': {\n",
        "        'values': [8, 16, 32]\n",
        "        },\n",
        "    'timesteps': {\n",
        "        'value': 'all'\n",
        "        },\n",
        "    'nsample': {\n",
        "        'value': 1500\n",
        "        },\n",
        "    'hidden_size': {\n",
        "        'values': [20, 40, 60, 80, 100]\n",
        "        },\n",
        "    'num_layers': {\n",
        "        'values': [2, 3, 4]\n",
        "        },\n",
        "    'ntimesteps': {\n",
        "        'value': 201\n",
        "        },\n",
        "    'epochs': {\n",
        "        'value': 1000\n",
        "        },\n",
        "    'optimizer': {\n",
        "        'value': 'Adam'\n",
        "        },\n",
        "    'lr': {\n",
        "      'values': [5e-2, 1e-2, 5e-3, 1e-3, 5e-4, 1e-4]\n",
        "        },\n",
        "    'beta1': {\n",
        "        'values': [0.85, 0.9, 0.95]\n",
        "        },\n",
        "    'beta2': {\n",
        "        'values': [0.9, 0.95, 0.99]\n",
        "        },\n",
        "    'mb_coeff': {\n",
        "        'value': 0\n",
        "        },\n",
        "    'scheduling': {\n",
        "        'values': [True, False]\n",
        "       },\n",
        "    'model': {\n",
        "        'values': ['v1', 'v2']\n",
        "    },\n",
        "    'split': {\n",
        "        'value': [0.7, 0.2, 0.1]\n",
        "    },\n",
        "    'dict_path':{\n",
        "        'value': None\n",
        "    },\n",
        "    'exclude': {\n",
        "        'value': True\n",
        "    },\n",
        "    'mean_std_path': {\n",
        "        'value': 'rnn_NoH2_O2_all_mean_std.json'\n",
        "    }\n",
        "    }\n",
        "\n",
        "sweep_config['parameters'] = param_dict"
      ]
    },
    {
      "cell_type": "code",
      "execution_count": null,
      "metadata": {
        "id": "082S9eNN7Map",
        "colab": {
          "base_uri": "https://localhost:8080/"
        },
        "outputId": "bbf758f0-d6a7-47a6-fa10-442b4b820adb"
      },
      "outputs": [
        {
          "output_type": "execute_result",
          "data": {
            "text/plain": [
              "{'name': 'Accelerating Hydrogen Oxidation Calculations (Concentration inputs)',\n",
              " 'description': 'Model Optimization for Adam Optimizer',\n",
              " 'method': 'random',\n",
              " 'metric': {'name': 'loss', 'goal': 'minimize'},\n",
              " 'parameters': {'batch_size': {'values': [8, 16, 32]},\n",
              "  'timesteps': {'value': 'all'},\n",
              "  'nsample': {'value': 1500},\n",
              "  'hidden_size': {'values': [20, 40, 60, 80, 100]},\n",
              "  'num_layers': {'values': [2, 3, 4]},\n",
              "  'ntimesteps': {'value': 200},\n",
              "  'epochs': {'value': 1000},\n",
              "  'optimizer': {'value': 'Adam'},\n",
              "  'lr': {'values': [0.05, 0.01, 0.005, 0.001, 0.0005, 0.0001]},\n",
              "  'beta1': {'values': [0.85, 0.9, 0.95]},\n",
              "  'beta2': {'values': [0.9, 0.95, 0.99]},\n",
              "  'mb_coeff': {'value': 0},\n",
              "  'scheduling': {'values': [True, False]},\n",
              "  'model': {'values': ['v1', 'v2']},\n",
              "  'split': {'value': [0.7, 0.2, 0.1]},\n",
              "  'dict_path': {'value': None},\n",
              "  'exclude': {'value': False},\n",
              "  'mean_std_path': {'value': None},\n",
              "  'input_size': {'value': 10},\n",
              "  'output_size': {'value': 9}}}"
            ]
          },
          "metadata": {},
          "execution_count": 30
        }
      ],
      "source": [
        "sweep_config"
      ]
    },
    {
      "cell_type": "code",
      "execution_count": null,
      "metadata": {
        "colab": {
          "base_uri": "https://localhost:8080/"
        },
        "id": "uFVzZZMq7OCu",
        "outputId": "3eb85891-402f-4fa9-feb5-83d21d9be0cd"
      },
      "outputs": [
        {
          "output_type": "stream",
          "name": "stdout",
          "text": [
            "Create sweep with ID: 316icv60\n",
            "Sweep URL: https://wandb.ai/data-bigwig/Hydrogen-Oxidation-Models-Optimization/sweeps/316icv60\n"
          ]
        }
      ],
      "source": [
        "# Initialize Sweep\n",
        "sweep_id = wandb.sweep(sweep_config, project=\"Hydrogen-Oxidation-Models-Optimization\")"
      ]
    },
    {
      "cell_type": "code",
      "execution_count": null,
      "metadata": {
        "id": "tnnFILnZ85RP"
      },
      "outputs": [],
      "source": [
        "def train_model(config = None):\n",
        "  # tell wandb to get started\n",
        "  with wandb.init(config=config):\n",
        "  # access all HPs through wandb.config, so logging matches execution!\n",
        "    config = wandb.config\n",
        "\n",
        "    device = torch.device(\"cuda\" if torch.cuda.is_available() else \"cpu\")\n",
        "    mean_std_path = config.mean_std_path\n",
        "    input_size = 8\n",
        "    output_size = 7\n",
        "    dict_path = None\n",
        "\n",
        "    #Get data\n",
        "    train_loader, val_loader, test_loader = make_dataloaders(config)\n",
        "    #obtaining mean and std of training set\n",
        "    train_x_mean, train_x_std, train_y_mean, train_y_std = load_mean_std(mean_std_path)\n",
        "    #initialize model\n",
        "    if config.model == 'v1':\n",
        "      model = RNN_Model_Multiple(input_size, config.hidden_size, config.num_layers, output_size, config.ntimesteps)\n",
        "    elif config.model == 'v2':\n",
        "      model = RNN_Model_Multiple_v2(input_size, config.hidden_size, config.num_layers, output_size, config.ntimesteps)\n",
        "    model.apply(init_weights)\n",
        "    #training\n",
        "    model = model.to(device)\n",
        "    mean_std = [train_x_mean.to(device), train_x_std.to(device), train_y_mean.to(device), train_y_std.to(device)]\n",
        "    criterion  = nn.MSELoss()\n",
        "    epochs, val_loss = training(model, train_loader, val_loader, config, criterion, mean_std, device, dict_path)\n",
        "    wandb.log({'loss': val_loss})\n",
        "    wandb.log({'num_epochs': epochs})"
      ]
    },
    {
      "cell_type": "code",
      "execution_count": null,
      "metadata": {
        "colab": {
          "base_uri": "https://localhost:8080/",
          "height": 1000,
          "referenced_widgets": [
            "fceaf56fe46e47889a886d235929dd8f",
            "ea31a87449ff459ebf1f92dd176f66d3",
            "1d06ba2a30c541839a6bdff9b3b13c50",
            "6ddf5886731d47f381dbc6490cb70ba1",
            "38acc85c22ef4097b0833e02927d9158",
            "1b4be31dbb744b52903a2fb80f72d76c",
            "9e209ddc2a27457bbe6dcf140fc47f9f",
            "788a71471c60446785028fd2a8faa779",
            "e905294e23f24bbfb31b9317d0b97d2a",
            "b205a183cd3f4b2bb0a00e62aa282413",
            "fd87c68279534d73977c7f6f68937cde",
            "c20da75af38949a49f9d0fb1a9c16654",
            "36e771e80a964189b4e03d84f160e610",
            "ba926028571f419ab437ef6b6d4abc71",
            "f99ed024f62f4ad6b2c5694392f00053",
            "5a535fce692a4e3a938075eed27d1f15",
            "1a236b2f0be34d28a3f340fcde616013",
            "fe688cf56c484956a06123d53dee0dee",
            "dd4cd631306a42d1a24a45fb0e6e5ef8",
            "c58c4f56a9e24c5fa50943302edfff1f",
            "b2ea84d502d448ebb9399efc7ad17848",
            "dcfc55bada2c471caf8d8131c4e06931",
            "1103ab05ab9a46b08c7d43481a588b7c",
            "c5d736e05fd643e9b6ccd1bee6df91b1",
            "1c80733b24f64960b0a967acfe293fa0",
            "14729c8fba4a4348883c05093d65b4c6",
            "c2f83f23022a43e5b0af80013d89e51a",
            "01de6edcb22a4802b623704bce886876",
            "b96f18e60cdc4ebeb2e7a9d6768e3638",
            "a807b02f85894a7192b5ac0a45e68107",
            "eb640a7e179e4c9c8792add29e1481f7",
            "5ac5664aef754ff4a9dc29526363cf0f",
            "fd68f031423a4771b5dd3c784cbe446d",
            "bbf59b8af52f4b5788560c33d2591cad",
            "bf226f464525454f982ca3301dee2549",
            "410446caf4184635912480fe26a82028",
            "0d6e451d42f54f7a9fef178b9c588bfb",
            "a00eb96eef3a49ba95e0cba59f60d529",
            "fcc2c57c0875448fa643dd607b6d65d2",
            "a93f6e8901044cdca7c92988a0789fe0",
            "04694756a7f1450696fb9dca60cef151",
            "630e27772f7946858664d347990df158",
            "d2a857f566c0460fad04ea95cfbf04b8",
            "5dd1245f893540ce95ecfb21567eb3aa",
            "cdda9a41e8ea463a84b283e2e225415c",
            "e199c587ca5e4490a9d5ea85300909f3",
            "accdc5f17c054c7bb4cb4e712bc88533",
            "733616cc67fc40608de9275e5d925941",
            "7db43e67c3dd4663be1cd0143a7262ff",
            "cef1cbcdd76940f6803ce2801274b024",
            "bdd4a621c5f14b1a850826043458fc1e",
            "5886bdc086b64d39b69250d042b4240a",
            "38897bd634c44ccf8c106aca51499efb",
            "e66d7a42bc8f408c96ebb24e4e7291d3",
            "ab45a226778b457190375fb998657f35",
            "a73a5df1cb2d4058a2af5d50bb519600",
            "40fdc8ce760e4eb6bd648cfecb5da64b",
            "25acde23b8b54959a2458e1d909ea638",
            "ba584ca0995b43df8e43dd57f606cdf7",
            "eb65a03a041c43d4960778a5b1f470c9",
            "2b8456fc085a4e27b4583d324cd004b0",
            "dcce25c3770645b6a2a1839248c5ce31",
            "6b37419b6bd24c41849c06576b5cf904",
            "326f29590e6543eca8312c10e57c200c",
            "587d8ace3a4c4bdc95e5e1204c269e1e",
            "e3c0f0b242664dc491e5d73fd30e75e0",
            "0f51965f43124dcb9335399977ba4077",
            "490bd5b550224bd4b89084d9bb2115dd",
            "34bed1bdc4e34db98687ad95288c8404",
            "a1e80e5fb9374976baff808cfaf8e941",
            "f960952124ef46b0ac6dee346dceb85e",
            "dfe64e46f3b14077af439022b6f13c49",
            "4cb12d6b9423426fb3d2a82b5fb1a8aa",
            "68c57fc0159644658d92e46be7379994",
            "7eb390959c9e4e4ba9efc24a73551480",
            "e7463617fd1d40ee885bac30ad9ef196",
            "1f42a17192c24e92b14b8fc9bfe4693a",
            "99c7878caa034b33aede1afa30a71d9d",
            "aeff313b551f4386ab48ca37eb1758ab",
            "05545b9baeca486098907d3edcc217a5"
          ]
        },
        "id": "x4ceo-ErIF_X",
        "outputId": "71723acb-dea8-410e-f59a-b34971528996"
      },
      "outputs": [
        {
          "metadata": {
            "tags": null
          },
          "name": "stderr",
          "output_type": "stream",
          "text": [
            "\u001b[34m\u001b[1mwandb\u001b[0m: Agent Starting Run: 8eqcyi1w with config:\n",
            "\u001b[34m\u001b[1mwandb\u001b[0m: \tbatch_size: 8\n",
            "\u001b[34m\u001b[1mwandb\u001b[0m: \tbeta1: 0.85\n",
            "\u001b[34m\u001b[1mwandb\u001b[0m: \tbeta2: 0.99\n",
            "\u001b[34m\u001b[1mwandb\u001b[0m: \tdict_path: None\n",
            "\u001b[34m\u001b[1mwandb\u001b[0m: \tepochs: 1000\n",
            "\u001b[34m\u001b[1mwandb\u001b[0m: \texclude: False\n",
            "\u001b[34m\u001b[1mwandb\u001b[0m: \thidden_size: 60\n",
            "\u001b[34m\u001b[1mwandb\u001b[0m: \tinput_size: 10\n",
            "\u001b[34m\u001b[1mwandb\u001b[0m: \tlr: 0.0001\n",
            "\u001b[34m\u001b[1mwandb\u001b[0m: \tmb_coeff: 0\n",
            "\u001b[34m\u001b[1mwandb\u001b[0m: \tmean_std_path: None\n",
            "\u001b[34m\u001b[1mwandb\u001b[0m: \tmodel: v2\n",
            "\u001b[34m\u001b[1mwandb\u001b[0m: \tnsample: 1500\n",
            "\u001b[34m\u001b[1mwandb\u001b[0m: \tntimesteps: 200\n",
            "\u001b[34m\u001b[1mwandb\u001b[0m: \tnum_layers: 4\n",
            "\u001b[34m\u001b[1mwandb\u001b[0m: \toptimizer: Adam\n",
            "\u001b[34m\u001b[1mwandb\u001b[0m: \toutput_size: 9\n",
            "\u001b[34m\u001b[1mwandb\u001b[0m: \tscheduling: False\n",
            "\u001b[34m\u001b[1mwandb\u001b[0m: \tsplit: [0.7, 0.2, 0.1]\n",
            "\u001b[34m\u001b[1mwandb\u001b[0m: \ttimesteps: all\n",
            "Failed to detect the name of this notebook, you can set it manually with the WANDB_NOTEBOOK_NAME environment variable to enable code saving.\n"
          ]
        },
        {
          "data": {
            "text/html": [
              "Tracking run with wandb version 0.13.3"
            ],
            "text/plain": [
              "<IPython.core.display.HTML object>"
            ]
          },
          "metadata": {},
          "output_type": "display_data"
        },
        {
          "data": {
            "text/html": [
              "Run data is saved locally in <code>/content/drive/MyDrive/Skoltech/Research/Hydrogen Oxidation/wandb/run-20220914_201756-8eqcyi1w</code>"
            ],
            "text/plain": [
              "<IPython.core.display.HTML object>"
            ]
          },
          "metadata": {},
          "output_type": "display_data"
        },
        {
          "data": {
            "text/html": [
              "Syncing run <strong><a href=\"https://wandb.ai/data-bigwig/Hydrogen-Oxidation-Models-Optimization/runs/8eqcyi1w\" target=\"_blank\">generous-sweep-1</a></strong> to <a href=\"https://wandb.ai/data-bigwig/Hydrogen-Oxidation-Models-Optimization\" target=\"_blank\">Weights & Biases</a> (<a href=\"https://wandb.me/run\" target=\"_blank\">docs</a>)<br/>Sweep page:  <a href=\"https://wandb.ai/data-bigwig/Hydrogen-Oxidation-Models-Optimization/sweeps/316icv60\" target=\"_blank\">https://wandb.ai/data-bigwig/Hydrogen-Oxidation-Models-Optimization/sweeps/316icv60</a>"
            ],
            "text/plain": [
              "<IPython.core.display.HTML object>"
            ]
          },
          "metadata": {},
          "output_type": "display_data"
        },
        {
          "data": {
            "text/html": [
              "Waiting for W&B process to finish... <strong style=\"color:green\">(success).</strong>"
            ],
            "text/plain": [
              "<IPython.core.display.HTML object>"
            ]
          },
          "metadata": {},
          "output_type": "display_data"
        },
        {
          "data": {
            "application/vnd.jupyter.widget-view+json": {
              "model_id": "fceaf56fe46e47889a886d235929dd8f",
              "version_major": 2,
              "version_minor": 0
            },
            "text/plain": [
              "VBox(children=(Label(value='0.000 MB of 0.000 MB uploaded (0.000 MB deduped)\\r'), FloatProgress(value=1.0, max…"
            ]
          },
          "metadata": {},
          "output_type": "display_data"
        },
        {
          "data": {
            "text/html": [
              "<style>\n",
              "    table.wandb td:nth-child(1) { padding: 0 10px; text-align: left ; width: auto;} td:nth-child(2) {text-align: left ; width: 100%}\n",
              "    .wandb-row { display: flex; flex-direction: row; flex-wrap: wrap; justify-content: flex-start; width: 100% }\n",
              "    .wandb-col { display: flex; flex-direction: column; flex-basis: 100%; flex: 1; padding: 10px; }\n",
              "    </style>\n",
              "<div class=\"wandb-row\"><div class=\"wandb-col\"><h3>Run history:</h3><br/><table class=\"wandb\"><tr><td>loss</td><td>▁</td></tr><tr><td>num_epochs</td><td>▁</td></tr><tr><td>train_loss</td><td>█▆▄▃▂▁▁▁▁▁▁▁▁▁▁▁▁▁▁▁▁▁▁▁▁▁▁▁▁▁▁▁▁▁▁▁▁▁▁▁</td></tr><tr><td>val_loss</td><td>█▆▄▃▂▁▁▁▁▁▁▁▁▁▁▁▁▁▁▁▁▁▁▁▁▁▁▁▁▁▁▁▁▁▁▁▁▁▁▁</td></tr></table><br/></div><div class=\"wandb-col\"><h3>Run summary:</h3><br/><table class=\"wandb\"><tr><td>loss</td><td>29492397.75</td></tr><tr><td>num_epochs</td><td>350</td></tr><tr><td>train_loss</td><td>781687.48627</td></tr><tr><td>val_loss</td><td>785390.67763</td></tr></table><br/></div></div>"
            ],
            "text/plain": [
              "<IPython.core.display.HTML object>"
            ]
          },
          "metadata": {},
          "output_type": "display_data"
        },
        {
          "data": {
            "text/html": [
              "Synced <strong style=\"color:#cdcd00\">generous-sweep-1</strong>: <a href=\"https://wandb.ai/data-bigwig/Hydrogen-Oxidation-Models-Optimization/runs/8eqcyi1w\" target=\"_blank\">https://wandb.ai/data-bigwig/Hydrogen-Oxidation-Models-Optimization/runs/8eqcyi1w</a><br/>Synced 4 W&B file(s), 0 media file(s), 0 artifact file(s) and 0 other file(s)"
            ],
            "text/plain": [
              "<IPython.core.display.HTML object>"
            ]
          },
          "metadata": {},
          "output_type": "display_data"
        },
        {
          "data": {
            "text/html": [
              "Find logs at: <code>./wandb/run-20220914_201756-8eqcyi1w/logs</code>"
            ],
            "text/plain": [
              "<IPython.core.display.HTML object>"
            ]
          },
          "metadata": {},
          "output_type": "display_data"
        },
        {
          "metadata": {
            "tags": null
          },
          "name": "stderr",
          "output_type": "stream",
          "text": [
            "\u001b[34m\u001b[1mwandb\u001b[0m: Agent Starting Run: l4bcxps6 with config:\n",
            "\u001b[34m\u001b[1mwandb\u001b[0m: \tbatch_size: 32\n",
            "\u001b[34m\u001b[1mwandb\u001b[0m: \tbeta1: 0.95\n",
            "\u001b[34m\u001b[1mwandb\u001b[0m: \tbeta2: 0.9\n",
            "\u001b[34m\u001b[1mwandb\u001b[0m: \tdict_path: None\n",
            "\u001b[34m\u001b[1mwandb\u001b[0m: \tepochs: 1000\n",
            "\u001b[34m\u001b[1mwandb\u001b[0m: \texclude: False\n",
            "\u001b[34m\u001b[1mwandb\u001b[0m: \thidden_size: 100\n",
            "\u001b[34m\u001b[1mwandb\u001b[0m: \tinput_size: 10\n",
            "\u001b[34m\u001b[1mwandb\u001b[0m: \tlr: 0.01\n",
            "\u001b[34m\u001b[1mwandb\u001b[0m: \tmb_coeff: 0\n",
            "\u001b[34m\u001b[1mwandb\u001b[0m: \tmean_std_path: None\n",
            "\u001b[34m\u001b[1mwandb\u001b[0m: \tmodel: v1\n",
            "\u001b[34m\u001b[1mwandb\u001b[0m: \tnsample: 1500\n",
            "\u001b[34m\u001b[1mwandb\u001b[0m: \tntimesteps: 200\n",
            "\u001b[34m\u001b[1mwandb\u001b[0m: \tnum_layers: 3\n",
            "\u001b[34m\u001b[1mwandb\u001b[0m: \toptimizer: Adam\n",
            "\u001b[34m\u001b[1mwandb\u001b[0m: \toutput_size: 9\n",
            "\u001b[34m\u001b[1mwandb\u001b[0m: \tscheduling: False\n",
            "\u001b[34m\u001b[1mwandb\u001b[0m: \tsplit: [0.7, 0.2, 0.1]\n",
            "\u001b[34m\u001b[1mwandb\u001b[0m: \ttimesteps: all\n",
            "Failed to detect the name of this notebook, you can set it manually with the WANDB_NOTEBOOK_NAME environment variable to enable code saving.\n"
          ]
        },
        {
          "data": {
            "text/html": [
              "Tracking run with wandb version 0.13.3"
            ],
            "text/plain": [
              "<IPython.core.display.HTML object>"
            ]
          },
          "metadata": {},
          "output_type": "display_data"
        },
        {
          "data": {
            "text/html": [
              "Run data is saved locally in <code>/content/drive/MyDrive/Skoltech/Research/Hydrogen Oxidation/wandb/run-20220914_231843-l4bcxps6</code>"
            ],
            "text/plain": [
              "<IPython.core.display.HTML object>"
            ]
          },
          "metadata": {},
          "output_type": "display_data"
        },
        {
          "data": {
            "text/html": [
              "Syncing run <strong><a href=\"https://wandb.ai/data-bigwig/Hydrogen-Oxidation-Models-Optimization/runs/l4bcxps6\" target=\"_blank\">valiant-sweep-3</a></strong> to <a href=\"https://wandb.ai/data-bigwig/Hydrogen-Oxidation-Models-Optimization\" target=\"_blank\">Weights & Biases</a> (<a href=\"https://wandb.me/run\" target=\"_blank\">docs</a>)<br/>Sweep page:  <a href=\"https://wandb.ai/data-bigwig/Hydrogen-Oxidation-Models-Optimization/sweeps/316icv60\" target=\"_blank\">https://wandb.ai/data-bigwig/Hydrogen-Oxidation-Models-Optimization/sweeps/316icv60</a>"
            ],
            "text/plain": [
              "<IPython.core.display.HTML object>"
            ]
          },
          "metadata": {},
          "output_type": "display_data"
        },
        {
          "data": {
            "text/html": [
              "Waiting for W&B process to finish... <strong style=\"color:green\">(success).</strong>"
            ],
            "text/plain": [
              "<IPython.core.display.HTML object>"
            ]
          },
          "metadata": {},
          "output_type": "display_data"
        },
        {
          "data": {
            "application/vnd.jupyter.widget-view+json": {
              "model_id": "e905294e23f24bbfb31b9317d0b97d2a",
              "version_major": 2,
              "version_minor": 0
            },
            "text/plain": [
              "VBox(children=(Label(value='0.000 MB of 0.000 MB uploaded (0.000 MB deduped)\\r'), FloatProgress(value=1.0, max…"
            ]
          },
          "metadata": {},
          "output_type": "display_data"
        },
        {
          "data": {
            "text/html": [
              "<style>\n",
              "    table.wandb td:nth-child(1) { padding: 0 10px; text-align: left ; width: auto;} td:nth-child(2) {text-align: left ; width: 100%}\n",
              "    .wandb-row { display: flex; flex-direction: row; flex-wrap: wrap; justify-content: flex-start; width: 100% }\n",
              "    .wandb-col { display: flex; flex-direction: column; flex-basis: 100%; flex: 1; padding: 10px; }\n",
              "    </style>\n",
              "<div class=\"wandb-row\"><div class=\"wandb-col\"><h3>Run history:</h3><br/><table class=\"wandb\"><tr><td>loss</td><td>▁</td></tr><tr><td>num_epochs</td><td>▁</td></tr><tr><td>train_loss</td><td>█▁▁▁▁▁▁▁▁▁▁▁▁▁▁▁▁▁▁▁▁▁▁▁▁▁▁▁▁▁▁▁▁▁▁▁▁▁▁▁</td></tr><tr><td>val_loss</td><td>█▁▁▁▁▁▁▁▁▁▁▁▁▁▁▁▁▁▁▁▁▁▁▁▁▁▁▁▁▁▁▁▁▁▁▁▁▁▁▁</td></tr></table><br/></div><div class=\"wandb-col\"><h3>Run summary:</h3><br/><table class=\"wandb\"><tr><td>loss</td><td>22760.71259</td></tr><tr><td>num_epochs</td><td>428</td></tr><tr><td>train_loss</td><td>2211.52917</td></tr><tr><td>val_loss</td><td>2355.96177</td></tr></table><br/></div></div>"
            ],
            "text/plain": [
              "<IPython.core.display.HTML object>"
            ]
          },
          "metadata": {},
          "output_type": "display_data"
        },
        {
          "data": {
            "text/html": [
              "Synced <strong style=\"color:#cdcd00\">valiant-sweep-3</strong>: <a href=\"https://wandb.ai/data-bigwig/Hydrogen-Oxidation-Models-Optimization/runs/l4bcxps6\" target=\"_blank\">https://wandb.ai/data-bigwig/Hydrogen-Oxidation-Models-Optimization/runs/l4bcxps6</a><br/>Synced 4 W&B file(s), 0 media file(s), 0 artifact file(s) and 0 other file(s)"
            ],
            "text/plain": [
              "<IPython.core.display.HTML object>"
            ]
          },
          "metadata": {},
          "output_type": "display_data"
        },
        {
          "data": {
            "text/html": [
              "Find logs at: <code>./wandb/run-20220914_231843-l4bcxps6/logs</code>"
            ],
            "text/plain": [
              "<IPython.core.display.HTML object>"
            ]
          },
          "metadata": {},
          "output_type": "display_data"
        },
        {
          "metadata": {
            "tags": null
          },
          "name": "stderr",
          "output_type": "stream",
          "text": [
            "\u001b[34m\u001b[1mwandb\u001b[0m: Agent Starting Run: z5o9axa1 with config:\n",
            "\u001b[34m\u001b[1mwandb\u001b[0m: \tbatch_size: 8\n",
            "\u001b[34m\u001b[1mwandb\u001b[0m: \tbeta1: 0.95\n",
            "\u001b[34m\u001b[1mwandb\u001b[0m: \tbeta2: 0.9\n",
            "\u001b[34m\u001b[1mwandb\u001b[0m: \tdict_path: None\n",
            "\u001b[34m\u001b[1mwandb\u001b[0m: \tepochs: 1000\n",
            "\u001b[34m\u001b[1mwandb\u001b[0m: \texclude: False\n",
            "\u001b[34m\u001b[1mwandb\u001b[0m: \thidden_size: 20\n",
            "\u001b[34m\u001b[1mwandb\u001b[0m: \tinput_size: 10\n",
            "\u001b[34m\u001b[1mwandb\u001b[0m: \tlr: 0.0001\n",
            "\u001b[34m\u001b[1mwandb\u001b[0m: \tmb_coeff: 0\n",
            "\u001b[34m\u001b[1mwandb\u001b[0m: \tmean_std_path: None\n",
            "\u001b[34m\u001b[1mwandb\u001b[0m: \tmodel: v2\n",
            "\u001b[34m\u001b[1mwandb\u001b[0m: \tnsample: 1500\n",
            "\u001b[34m\u001b[1mwandb\u001b[0m: \tntimesteps: 200\n",
            "\u001b[34m\u001b[1mwandb\u001b[0m: \tnum_layers: 4\n",
            "\u001b[34m\u001b[1mwandb\u001b[0m: \toptimizer: Adam\n",
            "\u001b[34m\u001b[1mwandb\u001b[0m: \toutput_size: 9\n",
            "\u001b[34m\u001b[1mwandb\u001b[0m: \tscheduling: False\n",
            "\u001b[34m\u001b[1mwandb\u001b[0m: \tsplit: [0.7, 0.2, 0.1]\n",
            "\u001b[34m\u001b[1mwandb\u001b[0m: \ttimesteps: all\n",
            "Failed to detect the name of this notebook, you can set it manually with the WANDB_NOTEBOOK_NAME environment variable to enable code saving.\n"
          ]
        },
        {
          "data": {
            "text/html": [
              "Tracking run with wandb version 0.13.3"
            ],
            "text/plain": [
              "<IPython.core.display.HTML object>"
            ]
          },
          "metadata": {},
          "output_type": "display_data"
        },
        {
          "data": {
            "text/html": [
              "Run data is saved locally in <code>/content/drive/MyDrive/Skoltech/Research/Hydrogen Oxidation/wandb/run-20220915_002453-z5o9axa1</code>"
            ],
            "text/plain": [
              "<IPython.core.display.HTML object>"
            ]
          },
          "metadata": {},
          "output_type": "display_data"
        },
        {
          "data": {
            "text/html": [
              "Syncing run <strong><a href=\"https://wandb.ai/data-bigwig/Hydrogen-Oxidation-Models-Optimization/runs/z5o9axa1\" target=\"_blank\">twilight-sweep-6</a></strong> to <a href=\"https://wandb.ai/data-bigwig/Hydrogen-Oxidation-Models-Optimization\" target=\"_blank\">Weights & Biases</a> (<a href=\"https://wandb.me/run\" target=\"_blank\">docs</a>)<br/>Sweep page:  <a href=\"https://wandb.ai/data-bigwig/Hydrogen-Oxidation-Models-Optimization/sweeps/316icv60\" target=\"_blank\">https://wandb.ai/data-bigwig/Hydrogen-Oxidation-Models-Optimization/sweeps/316icv60</a>"
            ],
            "text/plain": [
              "<IPython.core.display.HTML object>"
            ]
          },
          "metadata": {},
          "output_type": "display_data"
        },
        {
          "output_type": "display_data",
          "data": {
            "text/plain": [
              "<IPython.core.display.HTML object>"
            ],
            "text/html": [
              "Waiting for W&B process to finish... <strong style=\"color:green\">(success).</strong>"
            ]
          },
          "metadata": {}
        },
        {
          "output_type": "display_data",
          "data": {
            "text/plain": [
              "VBox(children=(Label(value='0.000 MB of 0.000 MB uploaded (0.000 MB deduped)\\r'), FloatProgress(value=1.0, max…"
            ],
            "application/vnd.jupyter.widget-view+json": {
              "version_major": 2,
              "version_minor": 0,
              "model_id": "1a236b2f0be34d28a3f340fcde616013"
            }
          },
          "metadata": {}
        },
        {
          "output_type": "display_data",
          "data": {
            "text/plain": [
              "<IPython.core.display.HTML object>"
            ],
            "text/html": [
              "<style>\n",
              "    table.wandb td:nth-child(1) { padding: 0 10px; text-align: left ; width: auto;} td:nth-child(2) {text-align: left ; width: 100%}\n",
              "    .wandb-row { display: flex; flex-direction: row; flex-wrap: wrap; justify-content: flex-start; width: 100% }\n",
              "    .wandb-col { display: flex; flex-direction: column; flex-basis: 100%; flex: 1; padding: 10px; }\n",
              "    </style>\n",
              "<div class=\"wandb-row\"><div class=\"wandb-col\"><h3>Run history:</h3><br/><table class=\"wandb\"><tr><td>loss</td><td>▁</td></tr><tr><td>num_epochs</td><td>▁</td></tr><tr><td>train_loss</td><td>█▁▁▁▁▁▁▁▁▁▁▁▁▁▁▁▁▁▁▁▁▁▁▁▁▁▁▁▁▁▁▁▁▁▁▁▁▁▁▁</td></tr><tr><td>val_loss</td><td>█▁▁▁▁▁▁▁▁▁▁▁▁▁▁▁▁▁▁▁▁▁▁▁▁▁▁▁▁▁▁▁▁▁▁▁▁▁▁▁</td></tr></table><br/></div><div class=\"wandb-col\"><h3>Run summary:</h3><br/><table class=\"wandb\"><tr><td>loss</td><td>24668839.875</td></tr><tr><td>num_epochs</td><td>999</td></tr><tr><td>train_loss</td><td>646154.35417</td></tr><tr><td>val_loss</td><td>650013.99178</td></tr></table><br/></div></div>"
            ]
          },
          "metadata": {}
        },
        {
          "output_type": "display_data",
          "data": {
            "text/plain": [
              "<IPython.core.display.HTML object>"
            ],
            "text/html": [
              "Synced <strong style=\"color:#cdcd00\">twilight-sweep-6</strong>: <a href=\"https://wandb.ai/data-bigwig/Hydrogen-Oxidation-Models-Optimization/runs/z5o9axa1\" target=\"_blank\">https://wandb.ai/data-bigwig/Hydrogen-Oxidation-Models-Optimization/runs/z5o9axa1</a><br/>Synced 4 W&B file(s), 0 media file(s), 0 artifact file(s) and 0 other file(s)"
            ]
          },
          "metadata": {}
        },
        {
          "output_type": "display_data",
          "data": {
            "text/plain": [
              "<IPython.core.display.HTML object>"
            ],
            "text/html": [
              "Find logs at: <code>./wandb/run-20220915_002453-z5o9axa1/logs</code>"
            ]
          },
          "metadata": {}
        },
        {
          "output_type": "stream",
          "name": "stderr",
          "text": [
            "\u001b[34m\u001b[1mwandb\u001b[0m: Agent Starting Run: ob7khxg8 with config:\n",
            "\u001b[34m\u001b[1mwandb\u001b[0m: \tbatch_size: 32\n",
            "\u001b[34m\u001b[1mwandb\u001b[0m: \tbeta1: 0.85\n",
            "\u001b[34m\u001b[1mwandb\u001b[0m: \tbeta2: 0.99\n",
            "\u001b[34m\u001b[1mwandb\u001b[0m: \tdict_path: None\n",
            "\u001b[34m\u001b[1mwandb\u001b[0m: \tepochs: 1000\n",
            "\u001b[34m\u001b[1mwandb\u001b[0m: \texclude: False\n",
            "\u001b[34m\u001b[1mwandb\u001b[0m: \thidden_size: 100\n",
            "\u001b[34m\u001b[1mwandb\u001b[0m: \tinput_size: 10\n",
            "\u001b[34m\u001b[1mwandb\u001b[0m: \tlr: 0.05\n",
            "\u001b[34m\u001b[1mwandb\u001b[0m: \tmb_coeff: 0\n",
            "\u001b[34m\u001b[1mwandb\u001b[0m: \tmean_std_path: None\n",
            "\u001b[34m\u001b[1mwandb\u001b[0m: \tmodel: v1\n",
            "\u001b[34m\u001b[1mwandb\u001b[0m: \tnsample: 1500\n",
            "\u001b[34m\u001b[1mwandb\u001b[0m: \tntimesteps: 200\n",
            "\u001b[34m\u001b[1mwandb\u001b[0m: \tnum_layers: 3\n",
            "\u001b[34m\u001b[1mwandb\u001b[0m: \toptimizer: Adam\n",
            "\u001b[34m\u001b[1mwandb\u001b[0m: \toutput_size: 9\n",
            "\u001b[34m\u001b[1mwandb\u001b[0m: \tscheduling: False\n",
            "\u001b[34m\u001b[1mwandb\u001b[0m: \tsplit: [0.7, 0.2, 0.1]\n",
            "\u001b[34m\u001b[1mwandb\u001b[0m: \ttimesteps: all\n"
          ]
        },
        {
          "output_type": "display_data",
          "data": {
            "text/plain": [
              "<IPython.core.display.HTML object>"
            ],
            "text/html": [
              "Tracking run with wandb version 0.13.3"
            ]
          },
          "metadata": {}
        },
        {
          "output_type": "display_data",
          "data": {
            "text/plain": [
              "<IPython.core.display.HTML object>"
            ],
            "text/html": [
              "Run data is saved locally in <code>/content/drive/MyDrive/Skoltech/Research/Hydrogen Oxidation/wandb/run-20220915_082432-ob7khxg8</code>"
            ]
          },
          "metadata": {}
        },
        {
          "output_type": "display_data",
          "data": {
            "text/plain": [
              "<IPython.core.display.HTML object>"
            ],
            "text/html": [
              "Syncing run <strong><a href=\"https://wandb.ai/data-bigwig/Hydrogen-Oxidation-Models-Optimization/runs/ob7khxg8\" target=\"_blank\">rare-sweep-12</a></strong> to <a href=\"https://wandb.ai/data-bigwig/Hydrogen-Oxidation-Models-Optimization\" target=\"_blank\">Weights & Biases</a> (<a href=\"https://wandb.me/run\" target=\"_blank\">docs</a>)<br/>Sweep page:  <a href=\"https://wandb.ai/data-bigwig/Hydrogen-Oxidation-Models-Optimization/sweeps/316icv60\" target=\"_blank\">https://wandb.ai/data-bigwig/Hydrogen-Oxidation-Models-Optimization/sweeps/316icv60</a>"
            ]
          },
          "metadata": {}
        },
        {
          "output_type": "display_data",
          "data": {
            "text/plain": [
              "<IPython.core.display.HTML object>"
            ],
            "text/html": [
              "Waiting for W&B process to finish... <strong style=\"color:green\">(success).</strong>"
            ]
          },
          "metadata": {}
        },
        {
          "output_type": "display_data",
          "data": {
            "text/plain": [
              "VBox(children=(Label(value='0.001 MB of 0.001 MB uploaded (0.000 MB deduped)\\r'), FloatProgress(value=1.0, max…"
            ],
            "application/vnd.jupyter.widget-view+json": {
              "version_major": 2,
              "version_minor": 0,
              "model_id": "1c80733b24f64960b0a967acfe293fa0"
            }
          },
          "metadata": {}
        },
        {
          "output_type": "display_data",
          "data": {
            "text/plain": [
              "<IPython.core.display.HTML object>"
            ],
            "text/html": [
              "<style>\n",
              "    table.wandb td:nth-child(1) { padding: 0 10px; text-align: left ; width: auto;} td:nth-child(2) {text-align: left ; width: 100%}\n",
              "    .wandb-row { display: flex; flex-direction: row; flex-wrap: wrap; justify-content: flex-start; width: 100% }\n",
              "    .wandb-col { display: flex; flex-direction: column; flex-basis: 100%; flex: 1; padding: 10px; }\n",
              "    </style>\n",
              "<div class=\"wandb-row\"><div class=\"wandb-col\"><h3>Run history:</h3><br/><table class=\"wandb\"><tr><td>loss</td><td>▁</td></tr><tr><td>num_epochs</td><td>▁</td></tr><tr><td>train_loss</td><td>█▁▁▁▁▁▁▁▁▁▁▁▁▁▁▁▁▁▁▁▁▁▁▁▁▁▁▁▁▁▁▁▁▁▁▁▁▁▁▁</td></tr><tr><td>val_loss</td><td>▃▁▃▄▂▂▃▃▁█▅▂▄▃▅▂█▃▃▃▃█▃▁▂▂▅▃█▂▂██▂▄█▄▇▁▃</td></tr></table><br/></div><div class=\"wandb-col\"><h3>Run summary:</h3><br/><table class=\"wandb\"><tr><td>loss</td><td>22090.59467</td></tr><tr><td>num_epochs</td><td>205</td></tr><tr><td>train_loss</td><td>2182.41384</td></tr><tr><td>val_loss</td><td>2285.83563</td></tr></table><br/></div></div>"
            ]
          },
          "metadata": {}
        },
        {
          "output_type": "display_data",
          "data": {
            "text/plain": [
              "<IPython.core.display.HTML object>"
            ],
            "text/html": [
              "Synced <strong style=\"color:#cdcd00\">rare-sweep-12</strong>: <a href=\"https://wandb.ai/data-bigwig/Hydrogen-Oxidation-Models-Optimization/runs/ob7khxg8\" target=\"_blank\">https://wandb.ai/data-bigwig/Hydrogen-Oxidation-Models-Optimization/runs/ob7khxg8</a><br/>Synced 4 W&B file(s), 0 media file(s), 0 artifact file(s) and 0 other file(s)"
            ]
          },
          "metadata": {}
        },
        {
          "output_type": "display_data",
          "data": {
            "text/plain": [
              "<IPython.core.display.HTML object>"
            ],
            "text/html": [
              "Find logs at: <code>./wandb/run-20220915_082432-ob7khxg8/logs</code>"
            ]
          },
          "metadata": {}
        },
        {
          "output_type": "stream",
          "name": "stderr",
          "text": [
            "\u001b[34m\u001b[1mwandb\u001b[0m: Agent Starting Run: mm331lzf with config:\n",
            "\u001b[34m\u001b[1mwandb\u001b[0m: \tbatch_size: 32\n",
            "\u001b[34m\u001b[1mwandb\u001b[0m: \tbeta1: 0.85\n",
            "\u001b[34m\u001b[1mwandb\u001b[0m: \tbeta2: 0.9\n",
            "\u001b[34m\u001b[1mwandb\u001b[0m: \tdict_path: None\n",
            "\u001b[34m\u001b[1mwandb\u001b[0m: \tepochs: 1000\n",
            "\u001b[34m\u001b[1mwandb\u001b[0m: \texclude: False\n",
            "\u001b[34m\u001b[1mwandb\u001b[0m: \thidden_size: 40\n",
            "\u001b[34m\u001b[1mwandb\u001b[0m: \tinput_size: 10\n",
            "\u001b[34m\u001b[1mwandb\u001b[0m: \tlr: 0.005\n",
            "\u001b[34m\u001b[1mwandb\u001b[0m: \tmb_coeff: 0\n",
            "\u001b[34m\u001b[1mwandb\u001b[0m: \tmean_std_path: None\n",
            "\u001b[34m\u001b[1mwandb\u001b[0m: \tmodel: v2\n",
            "\u001b[34m\u001b[1mwandb\u001b[0m: \tnsample: 1500\n",
            "\u001b[34m\u001b[1mwandb\u001b[0m: \tntimesteps: 200\n",
            "\u001b[34m\u001b[1mwandb\u001b[0m: \tnum_layers: 4\n",
            "\u001b[34m\u001b[1mwandb\u001b[0m: \toptimizer: Adam\n",
            "\u001b[34m\u001b[1mwandb\u001b[0m: \toutput_size: 9\n",
            "\u001b[34m\u001b[1mwandb\u001b[0m: \tscheduling: False\n",
            "\u001b[34m\u001b[1mwandb\u001b[0m: \tsplit: [0.7, 0.2, 0.1]\n",
            "\u001b[34m\u001b[1mwandb\u001b[0m: \ttimesteps: all\n"
          ]
        },
        {
          "output_type": "display_data",
          "data": {
            "text/plain": [
              "<IPython.core.display.HTML object>"
            ],
            "text/html": [
              "Tracking run with wandb version 0.13.3"
            ]
          },
          "metadata": {}
        },
        {
          "output_type": "display_data",
          "data": {
            "text/plain": [
              "<IPython.core.display.HTML object>"
            ],
            "text/html": [
              "Run data is saved locally in <code>/content/drive/MyDrive/Skoltech/Research/Hydrogen Oxidation/wandb/run-20220915_085636-mm331lzf</code>"
            ]
          },
          "metadata": {}
        },
        {
          "output_type": "display_data",
          "data": {
            "text/plain": [
              "<IPython.core.display.HTML object>"
            ],
            "text/html": [
              "Syncing run <strong><a href=\"https://wandb.ai/data-bigwig/Hydrogen-Oxidation-Models-Optimization/runs/mm331lzf\" target=\"_blank\">fearless-sweep-13</a></strong> to <a href=\"https://wandb.ai/data-bigwig/Hydrogen-Oxidation-Models-Optimization\" target=\"_blank\">Weights & Biases</a> (<a href=\"https://wandb.me/run\" target=\"_blank\">docs</a>)<br/>Sweep page:  <a href=\"https://wandb.ai/data-bigwig/Hydrogen-Oxidation-Models-Optimization/sweeps/316icv60\" target=\"_blank\">https://wandb.ai/data-bigwig/Hydrogen-Oxidation-Models-Optimization/sweeps/316icv60</a>"
            ]
          },
          "metadata": {}
        },
        {
          "output_type": "display_data",
          "data": {
            "text/plain": [
              "<IPython.core.display.HTML object>"
            ],
            "text/html": [
              "Waiting for W&B process to finish... <strong style=\"color:green\">(success).</strong>"
            ]
          },
          "metadata": {}
        },
        {
          "output_type": "display_data",
          "data": {
            "text/plain": [
              "VBox(children=(Label(value='0.001 MB of 0.001 MB uploaded (0.000 MB deduped)\\r'), FloatProgress(value=1.0, max…"
            ],
            "application/vnd.jupyter.widget-view+json": {
              "version_major": 2,
              "version_minor": 0,
              "model_id": "fd68f031423a4771b5dd3c784cbe446d"
            }
          },
          "metadata": {}
        },
        {
          "output_type": "display_data",
          "data": {
            "text/plain": [
              "<IPython.core.display.HTML object>"
            ],
            "text/html": [
              "<style>\n",
              "    table.wandb td:nth-child(1) { padding: 0 10px; text-align: left ; width: auto;} td:nth-child(2) {text-align: left ; width: 100%}\n",
              "    .wandb-row { display: flex; flex-direction: row; flex-wrap: wrap; justify-content: flex-start; width: 100% }\n",
              "    .wandb-col { display: flex; flex-direction: column; flex-basis: 100%; flex: 1; padding: 10px; }\n",
              "    </style>\n",
              "<div class=\"wandb-row\"><div class=\"wandb-col\"><h3>Run history:</h3><br/><table class=\"wandb\"><tr><td>loss</td><td>▁</td></tr><tr><td>num_epochs</td><td>▁</td></tr><tr><td>train_loss</td><td>█▇▇▆▅▅▄▄▃▃▂▂▂▁▁▁▁▁▁▁▁▁▁▁▁▁▁▁▁▁▁▁▁▁▁▁▁▁▁▁</td></tr><tr><td>val_loss</td><td>█▇▇▆▅▅▄▄▃▃▂▂▂▁▁▁▁▁▁▁▁▁▁▁▁▁▁▁▁▁▁▁▁▁▁▁▁▁▁▁</td></tr></table><br/></div><div class=\"wandb-col\"><h3>Run summary:</h3><br/><table class=\"wandb\"><tr><td>loss</td><td>20902.68433</td></tr><tr><td>num_epochs</td><td>873</td></tr><tr><td>train_loss</td><td>2047.53203</td></tr><tr><td>val_loss</td><td>3374.53291</td></tr></table><br/></div></div>"
            ]
          },
          "metadata": {}
        },
        {
          "output_type": "display_data",
          "data": {
            "text/plain": [
              "<IPython.core.display.HTML object>"
            ],
            "text/html": [
              "Synced <strong style=\"color:#cdcd00\">fearless-sweep-13</strong>: <a href=\"https://wandb.ai/data-bigwig/Hydrogen-Oxidation-Models-Optimization/runs/mm331lzf\" target=\"_blank\">https://wandb.ai/data-bigwig/Hydrogen-Oxidation-Models-Optimization/runs/mm331lzf</a><br/>Synced 4 W&B file(s), 0 media file(s), 0 artifact file(s) and 0 other file(s)"
            ]
          },
          "metadata": {}
        },
        {
          "output_type": "display_data",
          "data": {
            "text/plain": [
              "<IPython.core.display.HTML object>"
            ],
            "text/html": [
              "Find logs at: <code>./wandb/run-20220915_085636-mm331lzf/logs</code>"
            ]
          },
          "metadata": {}
        },
        {
          "output_type": "stream",
          "name": "stderr",
          "text": [
            "\u001b[34m\u001b[1mwandb\u001b[0m: Agent Starting Run: og1ckoma with config:\n",
            "\u001b[34m\u001b[1mwandb\u001b[0m: \tbatch_size: 8\n",
            "\u001b[34m\u001b[1mwandb\u001b[0m: \tbeta1: 0.9\n",
            "\u001b[34m\u001b[1mwandb\u001b[0m: \tbeta2: 0.9\n",
            "\u001b[34m\u001b[1mwandb\u001b[0m: \tdict_path: None\n",
            "\u001b[34m\u001b[1mwandb\u001b[0m: \tepochs: 1000\n",
            "\u001b[34m\u001b[1mwandb\u001b[0m: \texclude: False\n",
            "\u001b[34m\u001b[1mwandb\u001b[0m: \thidden_size: 60\n",
            "\u001b[34m\u001b[1mwandb\u001b[0m: \tinput_size: 10\n",
            "\u001b[34m\u001b[1mwandb\u001b[0m: \tlr: 0.01\n",
            "\u001b[34m\u001b[1mwandb\u001b[0m: \tmb_coeff: 0\n",
            "\u001b[34m\u001b[1mwandb\u001b[0m: \tmean_std_path: None\n",
            "\u001b[34m\u001b[1mwandb\u001b[0m: \tmodel: v1\n",
            "\u001b[34m\u001b[1mwandb\u001b[0m: \tnsample: 1500\n",
            "\u001b[34m\u001b[1mwandb\u001b[0m: \tntimesteps: 200\n",
            "\u001b[34m\u001b[1mwandb\u001b[0m: \tnum_layers: 3\n",
            "\u001b[34m\u001b[1mwandb\u001b[0m: \toptimizer: Adam\n",
            "\u001b[34m\u001b[1mwandb\u001b[0m: \toutput_size: 9\n",
            "\u001b[34m\u001b[1mwandb\u001b[0m: \tscheduling: True\n",
            "\u001b[34m\u001b[1mwandb\u001b[0m: \tsplit: [0.7, 0.2, 0.1]\n",
            "\u001b[34m\u001b[1mwandb\u001b[0m: \ttimesteps: all\n"
          ]
        },
        {
          "output_type": "display_data",
          "data": {
            "text/plain": [
              "<IPython.core.display.HTML object>"
            ],
            "text/html": [
              "Tracking run with wandb version 0.13.3"
            ]
          },
          "metadata": {}
        },
        {
          "output_type": "display_data",
          "data": {
            "text/plain": [
              "<IPython.core.display.HTML object>"
            ],
            "text/html": [
              "Run data is saved locally in <code>/content/drive/MyDrive/Skoltech/Research/Hydrogen Oxidation/wandb/run-20220915_110134-og1ckoma</code>"
            ]
          },
          "metadata": {}
        },
        {
          "output_type": "display_data",
          "data": {
            "text/plain": [
              "<IPython.core.display.HTML object>"
            ],
            "text/html": [
              "Syncing run <strong><a href=\"https://wandb.ai/data-bigwig/Hydrogen-Oxidation-Models-Optimization/runs/og1ckoma\" target=\"_blank\">splendid-sweep-14</a></strong> to <a href=\"https://wandb.ai/data-bigwig/Hydrogen-Oxidation-Models-Optimization\" target=\"_blank\">Weights & Biases</a> (<a href=\"https://wandb.me/run\" target=\"_blank\">docs</a>)<br/>Sweep page:  <a href=\"https://wandb.ai/data-bigwig/Hydrogen-Oxidation-Models-Optimization/sweeps/316icv60\" target=\"_blank\">https://wandb.ai/data-bigwig/Hydrogen-Oxidation-Models-Optimization/sweeps/316icv60</a>"
            ]
          },
          "metadata": {}
        },
        {
          "output_type": "display_data",
          "data": {
            "text/plain": [
              "<IPython.core.display.HTML object>"
            ],
            "text/html": [
              "Waiting for W&B process to finish... <strong style=\"color:green\">(success).</strong>"
            ]
          },
          "metadata": {}
        },
        {
          "output_type": "display_data",
          "data": {
            "text/plain": [
              "VBox(children=(Label(value='0.001 MB of 0.001 MB uploaded (0.000 MB deduped)\\r'), FloatProgress(value=1.0, max…"
            ],
            "application/vnd.jupyter.widget-view+json": {
              "version_major": 2,
              "version_minor": 0,
              "model_id": "04694756a7f1450696fb9dca60cef151"
            }
          },
          "metadata": {}
        },
        {
          "output_type": "display_data",
          "data": {
            "text/plain": [
              "<IPython.core.display.HTML object>"
            ],
            "text/html": [
              "<style>\n",
              "    table.wandb td:nth-child(1) { padding: 0 10px; text-align: left ; width: auto;} td:nth-child(2) {text-align: left ; width: 100%}\n",
              "    .wandb-row { display: flex; flex-direction: row; flex-wrap: wrap; justify-content: flex-start; width: 100% }\n",
              "    .wandb-col { display: flex; flex-direction: column; flex-basis: 100%; flex: 1; padding: 10px; }\n",
              "    </style>\n",
              "<div class=\"wandb-row\"><div class=\"wandb-col\"><h3>Run history:</h3><br/><table class=\"wandb\"><tr><td>loss</td><td>▁</td></tr><tr><td>num_epochs</td><td>▁</td></tr><tr><td>train_loss</td><td>█▁▁▁▁▁▁▁▁▁▁▁▁▁▁▁▁▁▁▁▁▁▁▁▁▁▁▁▁▁▁▁▁▁▁▁▁▁▁▁</td></tr><tr><td>val_loss</td><td>▅▁▂▁▁▂█▂▁▂▂▂▂▂▂▂▂▂▂▂▂▂▁▂▂▂▂▂▂▂▂▂▂▂▂▂▁▂▂▂</td></tr></table><br/></div><div class=\"wandb-col\"><h3>Run summary:</h3><br/><table class=\"wandb\"><tr><td>loss</td><td>82806.34027</td></tr><tr><td>num_epochs</td><td>203</td></tr><tr><td>train_loss</td><td>2149.67609</td></tr><tr><td>val_loss</td><td>2297.63337</td></tr></table><br/></div></div>"
            ]
          },
          "metadata": {}
        },
        {
          "output_type": "display_data",
          "data": {
            "text/plain": [
              "<IPython.core.display.HTML object>"
            ],
            "text/html": [
              "Synced <strong style=\"color:#cdcd00\">splendid-sweep-14</strong>: <a href=\"https://wandb.ai/data-bigwig/Hydrogen-Oxidation-Models-Optimization/runs/og1ckoma\" target=\"_blank\">https://wandb.ai/data-bigwig/Hydrogen-Oxidation-Models-Optimization/runs/og1ckoma</a><br/>Synced 4 W&B file(s), 0 media file(s), 0 artifact file(s) and 0 other file(s)"
            ]
          },
          "metadata": {}
        },
        {
          "output_type": "display_data",
          "data": {
            "text/plain": [
              "<IPython.core.display.HTML object>"
            ],
            "text/html": [
              "Find logs at: <code>./wandb/run-20220915_110134-og1ckoma/logs</code>"
            ]
          },
          "metadata": {}
        },
        {
          "output_type": "stream",
          "name": "stderr",
          "text": [
            "\u001b[34m\u001b[1mwandb\u001b[0m: Sweep Agent: Waiting for job.\n",
            "\u001b[34m\u001b[1mwandb\u001b[0m: Job received.\n",
            "\u001b[34m\u001b[1mwandb\u001b[0m: Agent Starting Run: xvb89iob with config:\n",
            "\u001b[34m\u001b[1mwandb\u001b[0m: \tbatch_size: 32\n",
            "\u001b[34m\u001b[1mwandb\u001b[0m: \tbeta1: 0.95\n",
            "\u001b[34m\u001b[1mwandb\u001b[0m: \tbeta2: 0.99\n",
            "\u001b[34m\u001b[1mwandb\u001b[0m: \tdict_path: None\n",
            "\u001b[34m\u001b[1mwandb\u001b[0m: \tepochs: 1000\n",
            "\u001b[34m\u001b[1mwandb\u001b[0m: \texclude: False\n",
            "\u001b[34m\u001b[1mwandb\u001b[0m: \thidden_size: 100\n",
            "\u001b[34m\u001b[1mwandb\u001b[0m: \tinput_size: 10\n",
            "\u001b[34m\u001b[1mwandb\u001b[0m: \tlr: 0.0001\n",
            "\u001b[34m\u001b[1mwandb\u001b[0m: \tmb_coeff: 0\n",
            "\u001b[34m\u001b[1mwandb\u001b[0m: \tmean_std_path: None\n",
            "\u001b[34m\u001b[1mwandb\u001b[0m: \tmodel: v1\n",
            "\u001b[34m\u001b[1mwandb\u001b[0m: \tnsample: 1500\n",
            "\u001b[34m\u001b[1mwandb\u001b[0m: \tntimesteps: 200\n",
            "\u001b[34m\u001b[1mwandb\u001b[0m: \tnum_layers: 2\n",
            "\u001b[34m\u001b[1mwandb\u001b[0m: \toptimizer: Adam\n",
            "\u001b[34m\u001b[1mwandb\u001b[0m: \toutput_size: 9\n",
            "\u001b[34m\u001b[1mwandb\u001b[0m: \tscheduling: True\n",
            "\u001b[34m\u001b[1mwandb\u001b[0m: \tsplit: [0.7, 0.2, 0.1]\n",
            "\u001b[34m\u001b[1mwandb\u001b[0m: \ttimesteps: all\n"
          ]
        },
        {
          "output_type": "display_data",
          "data": {
            "text/plain": [
              "<IPython.core.display.HTML object>"
            ],
            "text/html": [
              "Tracking run with wandb version 0.13.3"
            ]
          },
          "metadata": {}
        },
        {
          "output_type": "display_data",
          "data": {
            "text/plain": [
              "<IPython.core.display.HTML object>"
            ],
            "text/html": [
              "Run data is saved locally in <code>/content/drive/MyDrive/Skoltech/Research/Hydrogen Oxidation/wandb/run-20220915_124815-xvb89iob</code>"
            ]
          },
          "metadata": {}
        },
        {
          "output_type": "display_data",
          "data": {
            "text/plain": [
              "<IPython.core.display.HTML object>"
            ],
            "text/html": [
              "Syncing run <strong><a href=\"https://wandb.ai/data-bigwig/Hydrogen-Oxidation-Models-Optimization/runs/xvb89iob\" target=\"_blank\">rosy-sweep-16</a></strong> to <a href=\"https://wandb.ai/data-bigwig/Hydrogen-Oxidation-Models-Optimization\" target=\"_blank\">Weights & Biases</a> (<a href=\"https://wandb.me/run\" target=\"_blank\">docs</a>)<br/>Sweep page:  <a href=\"https://wandb.ai/data-bigwig/Hydrogen-Oxidation-Models-Optimization/sweeps/316icv60\" target=\"_blank\">https://wandb.ai/data-bigwig/Hydrogen-Oxidation-Models-Optimization/sweeps/316icv60</a>"
            ]
          },
          "metadata": {}
        },
        {
          "output_type": "display_data",
          "data": {
            "text/plain": [
              "<IPython.core.display.HTML object>"
            ],
            "text/html": [
              "Waiting for W&B process to finish... <strong style=\"color:green\">(success).</strong>"
            ]
          },
          "metadata": {}
        },
        {
          "output_type": "display_data",
          "data": {
            "text/plain": [
              "VBox(children=(Label(value='0.001 MB of 0.001 MB uploaded (0.000 MB deduped)\\r'), FloatProgress(value=1.0, max…"
            ],
            "application/vnd.jupyter.widget-view+json": {
              "version_major": 2,
              "version_minor": 0,
              "model_id": "7db43e67c3dd4663be1cd0143a7262ff"
            }
          },
          "metadata": {}
        },
        {
          "output_type": "display_data",
          "data": {
            "text/plain": [
              "<IPython.core.display.HTML object>"
            ],
            "text/html": [
              "<style>\n",
              "    table.wandb td:nth-child(1) { padding: 0 10px; text-align: left ; width: auto;} td:nth-child(2) {text-align: left ; width: 100%}\n",
              "    .wandb-row { display: flex; flex-direction: row; flex-wrap: wrap; justify-content: flex-start; width: 100% }\n",
              "    .wandb-col { display: flex; flex-direction: column; flex-basis: 100%; flex: 1; padding: 10px; }\n",
              "    </style>\n",
              "<div class=\"wandb-row\"><div class=\"wandb-col\"><h3>Run history:</h3><br/><table class=\"wandb\"><tr><td>loss</td><td>▁</td></tr><tr><td>num_epochs</td><td>▁</td></tr><tr><td>train_loss</td><td>█▇▅▂▂▂▁▁▁▁▁▁▁▁▁▁▁▁▁▁▁▁▁▁▁▁▁▁▁▁▁▁▁▁▁▁▁▁▁▁</td></tr><tr><td>val_loss</td><td>█▇▅▃▃▂▂▂▂▁▁▂▂▁▂▂▂▂▁▁▂▂▂▂▁▁▂▂▁▁▁▁▂▁▁▂▁▂▂▂</td></tr></table><br/></div><div class=\"wandb-col\"><h3>Run summary:</h3><br/><table class=\"wandb\"><tr><td>loss</td><td>7463926.0</td></tr><tr><td>num_epochs</td><td>562</td></tr><tr><td>train_loss</td><td>747035.0625</td></tr><tr><td>val_loss</td><td>752544.70625</td></tr></table><br/></div></div>"
            ]
          },
          "metadata": {}
        },
        {
          "output_type": "display_data",
          "data": {
            "text/plain": [
              "<IPython.core.display.HTML object>"
            ],
            "text/html": [
              "Synced <strong style=\"color:#cdcd00\">rosy-sweep-16</strong>: <a href=\"https://wandb.ai/data-bigwig/Hydrogen-Oxidation-Models-Optimization/runs/xvb89iob\" target=\"_blank\">https://wandb.ai/data-bigwig/Hydrogen-Oxidation-Models-Optimization/runs/xvb89iob</a><br/>Synced 4 W&B file(s), 0 media file(s), 0 artifact file(s) and 0 other file(s)"
            ]
          },
          "metadata": {}
        },
        {
          "output_type": "display_data",
          "data": {
            "text/plain": [
              "<IPython.core.display.HTML object>"
            ],
            "text/html": [
              "Find logs at: <code>./wandb/run-20220915_124815-xvb89iob/logs</code>"
            ]
          },
          "metadata": {}
        },
        {
          "output_type": "stream",
          "name": "stderr",
          "text": [
            "\u001b[34m\u001b[1mwandb\u001b[0m: Agent Starting Run: 84jyieax with config:\n",
            "\u001b[34m\u001b[1mwandb\u001b[0m: \tbatch_size: 32\n",
            "\u001b[34m\u001b[1mwandb\u001b[0m: \tbeta1: 0.95\n",
            "\u001b[34m\u001b[1mwandb\u001b[0m: \tbeta2: 0.99\n",
            "\u001b[34m\u001b[1mwandb\u001b[0m: \tdict_path: None\n",
            "\u001b[34m\u001b[1mwandb\u001b[0m: \tepochs: 1000\n",
            "\u001b[34m\u001b[1mwandb\u001b[0m: \texclude: False\n",
            "\u001b[34m\u001b[1mwandb\u001b[0m: \thidden_size: 60\n",
            "\u001b[34m\u001b[1mwandb\u001b[0m: \tinput_size: 10\n",
            "\u001b[34m\u001b[1mwandb\u001b[0m: \tlr: 0.05\n",
            "\u001b[34m\u001b[1mwandb\u001b[0m: \tmb_coeff: 0\n",
            "\u001b[34m\u001b[1mwandb\u001b[0m: \tmean_std_path: None\n",
            "\u001b[34m\u001b[1mwandb\u001b[0m: \tmodel: v2\n",
            "\u001b[34m\u001b[1mwandb\u001b[0m: \tnsample: 1500\n",
            "\u001b[34m\u001b[1mwandb\u001b[0m: \tntimesteps: 200\n",
            "\u001b[34m\u001b[1mwandb\u001b[0m: \tnum_layers: 4\n",
            "\u001b[34m\u001b[1mwandb\u001b[0m: \toptimizer: Adam\n",
            "\u001b[34m\u001b[1mwandb\u001b[0m: \toutput_size: 9\n",
            "\u001b[34m\u001b[1mwandb\u001b[0m: \tscheduling: True\n",
            "\u001b[34m\u001b[1mwandb\u001b[0m: \tsplit: [0.7, 0.2, 0.1]\n",
            "\u001b[34m\u001b[1mwandb\u001b[0m: \ttimesteps: all\n"
          ]
        },
        {
          "output_type": "display_data",
          "data": {
            "text/plain": [
              "<IPython.core.display.HTML object>"
            ],
            "text/html": [
              "Tracking run with wandb version 0.13.3"
            ]
          },
          "metadata": {}
        },
        {
          "output_type": "display_data",
          "data": {
            "text/plain": [
              "<IPython.core.display.HTML object>"
            ],
            "text/html": [
              "Run data is saved locally in <code>/content/drive/MyDrive/Skoltech/Research/Hydrogen Oxidation/wandb/run-20220915_140753-84jyieax</code>"
            ]
          },
          "metadata": {}
        },
        {
          "output_type": "display_data",
          "data": {
            "text/plain": [
              "<IPython.core.display.HTML object>"
            ],
            "text/html": [
              "Syncing run <strong><a href=\"https://wandb.ai/data-bigwig/Hydrogen-Oxidation-Models-Optimization/runs/84jyieax\" target=\"_blank\">light-sweep-17</a></strong> to <a href=\"https://wandb.ai/data-bigwig/Hydrogen-Oxidation-Models-Optimization\" target=\"_blank\">Weights & Biases</a> (<a href=\"https://wandb.me/run\" target=\"_blank\">docs</a>)<br/>Sweep page:  <a href=\"https://wandb.ai/data-bigwig/Hydrogen-Oxidation-Models-Optimization/sweeps/316icv60\" target=\"_blank\">https://wandb.ai/data-bigwig/Hydrogen-Oxidation-Models-Optimization/sweeps/316icv60</a>"
            ]
          },
          "metadata": {}
        },
        {
          "output_type": "display_data",
          "data": {
            "text/plain": [
              "<IPython.core.display.HTML object>"
            ],
            "text/html": [
              "Waiting for W&B process to finish... <strong style=\"color:green\">(success).</strong>"
            ]
          },
          "metadata": {}
        },
        {
          "output_type": "display_data",
          "data": {
            "text/plain": [
              "VBox(children=(Label(value='0.001 MB of 0.001 MB uploaded (0.000 MB deduped)\\r'), FloatProgress(value=1.0, max…"
            ],
            "application/vnd.jupyter.widget-view+json": {
              "version_major": 2,
              "version_minor": 0,
              "model_id": "40fdc8ce760e4eb6bd648cfecb5da64b"
            }
          },
          "metadata": {}
        },
        {
          "output_type": "display_data",
          "data": {
            "text/plain": [
              "<IPython.core.display.HTML object>"
            ],
            "text/html": [
              "<style>\n",
              "    table.wandb td:nth-child(1) { padding: 0 10px; text-align: left ; width: auto;} td:nth-child(2) {text-align: left ; width: 100%}\n",
              "    .wandb-row { display: flex; flex-direction: row; flex-wrap: wrap; justify-content: flex-start; width: 100% }\n",
              "    .wandb-col { display: flex; flex-direction: column; flex-basis: 100%; flex: 1; padding: 10px; }\n",
              "    </style>\n",
              "<div class=\"wandb-row\"><div class=\"wandb-col\"><h3>Run history:</h3><br/><table class=\"wandb\"><tr><td>loss</td><td>▁</td></tr><tr><td>num_epochs</td><td>▁</td></tr><tr><td>train_loss</td><td>█▄▁▁                                    </td></tr><tr><td>val_loss</td><td>▅▇█▁                                    </td></tr></table><br/></div><div class=\"wandb-col\"><h3>Run summary:</h3><br/><table class=\"wandb\"><tr><td>loss</td><td>7864396.125</td></tr><tr><td>num_epochs</td><td>208</td></tr><tr><td>train_loss</td><td>nan</td></tr><tr><td>val_loss</td><td>nan</td></tr></table><br/></div></div>"
            ]
          },
          "metadata": {}
        },
        {
          "output_type": "display_data",
          "data": {
            "text/plain": [
              "<IPython.core.display.HTML object>"
            ],
            "text/html": [
              "Synced <strong style=\"color:#cdcd00\">light-sweep-17</strong>: <a href=\"https://wandb.ai/data-bigwig/Hydrogen-Oxidation-Models-Optimization/runs/84jyieax\" target=\"_blank\">https://wandb.ai/data-bigwig/Hydrogen-Oxidation-Models-Optimization/runs/84jyieax</a><br/>Synced 4 W&B file(s), 0 media file(s), 0 artifact file(s) and 0 other file(s)"
            ]
          },
          "metadata": {}
        },
        {
          "output_type": "display_data",
          "data": {
            "text/plain": [
              "<IPython.core.display.HTML object>"
            ],
            "text/html": [
              "Find logs at: <code>./wandb/run-20220915_140753-84jyieax/logs</code>"
            ]
          },
          "metadata": {}
        },
        {
          "output_type": "stream",
          "name": "stderr",
          "text": [
            "\u001b[34m\u001b[1mwandb\u001b[0m: Agent Starting Run: f4h86tl2 with config:\n",
            "\u001b[34m\u001b[1mwandb\u001b[0m: \tbatch_size: 8\n",
            "\u001b[34m\u001b[1mwandb\u001b[0m: \tbeta1: 0.85\n",
            "\u001b[34m\u001b[1mwandb\u001b[0m: \tbeta2: 0.99\n",
            "\u001b[34m\u001b[1mwandb\u001b[0m: \tdict_path: None\n",
            "\u001b[34m\u001b[1mwandb\u001b[0m: \tepochs: 1000\n",
            "\u001b[34m\u001b[1mwandb\u001b[0m: \texclude: False\n",
            "\u001b[34m\u001b[1mwandb\u001b[0m: \thidden_size: 80\n",
            "\u001b[34m\u001b[1mwandb\u001b[0m: \tinput_size: 10\n",
            "\u001b[34m\u001b[1mwandb\u001b[0m: \tlr: 0.01\n",
            "\u001b[34m\u001b[1mwandb\u001b[0m: \tmb_coeff: 0\n",
            "\u001b[34m\u001b[1mwandb\u001b[0m: \tmean_std_path: None\n",
            "\u001b[34m\u001b[1mwandb\u001b[0m: \tmodel: v2\n",
            "\u001b[34m\u001b[1mwandb\u001b[0m: \tnsample: 1500\n",
            "\u001b[34m\u001b[1mwandb\u001b[0m: \tntimesteps: 200\n",
            "\u001b[34m\u001b[1mwandb\u001b[0m: \tnum_layers: 4\n",
            "\u001b[34m\u001b[1mwandb\u001b[0m: \toptimizer: Adam\n",
            "\u001b[34m\u001b[1mwandb\u001b[0m: \toutput_size: 9\n",
            "\u001b[34m\u001b[1mwandb\u001b[0m: \tscheduling: False\n",
            "\u001b[34m\u001b[1mwandb\u001b[0m: \tsplit: [0.7, 0.2, 0.1]\n",
            "\u001b[34m\u001b[1mwandb\u001b[0m: \ttimesteps: all\n"
          ]
        },
        {
          "output_type": "display_data",
          "data": {
            "text/plain": [
              "<IPython.core.display.HTML object>"
            ],
            "text/html": [
              "Tracking run with wandb version 0.13.3"
            ]
          },
          "metadata": {}
        },
        {
          "output_type": "display_data",
          "data": {
            "text/plain": [
              "<IPython.core.display.HTML object>"
            ],
            "text/html": [
              "Run data is saved locally in <code>/content/drive/MyDrive/Skoltech/Research/Hydrogen Oxidation/wandb/run-20220915_143753-f4h86tl2</code>"
            ]
          },
          "metadata": {}
        },
        {
          "output_type": "display_data",
          "data": {
            "text/plain": [
              "<IPython.core.display.HTML object>"
            ],
            "text/html": [
              "Syncing run <strong><a href=\"https://wandb.ai/data-bigwig/Hydrogen-Oxidation-Models-Optimization/runs/f4h86tl2\" target=\"_blank\">flowing-sweep-18</a></strong> to <a href=\"https://wandb.ai/data-bigwig/Hydrogen-Oxidation-Models-Optimization\" target=\"_blank\">Weights & Biases</a> (<a href=\"https://wandb.me/run\" target=\"_blank\">docs</a>)<br/>Sweep page:  <a href=\"https://wandb.ai/data-bigwig/Hydrogen-Oxidation-Models-Optimization/sweeps/316icv60\" target=\"_blank\">https://wandb.ai/data-bigwig/Hydrogen-Oxidation-Models-Optimization/sweeps/316icv60</a>"
            ]
          },
          "metadata": {}
        },
        {
          "output_type": "display_data",
          "data": {
            "text/plain": [
              "<IPython.core.display.HTML object>"
            ],
            "text/html": [
              "Waiting for W&B process to finish... <strong style=\"color:green\">(success).</strong>"
            ]
          },
          "metadata": {}
        },
        {
          "output_type": "display_data",
          "data": {
            "text/plain": [
              "VBox(children=(Label(value='0.001 MB of 0.001 MB uploaded (0.000 MB deduped)\\r'), FloatProgress(value=1.0, max…"
            ],
            "application/vnd.jupyter.widget-view+json": {
              "version_major": 2,
              "version_minor": 0,
              "model_id": "587d8ace3a4c4bdc95e5e1204c269e1e"
            }
          },
          "metadata": {}
        },
        {
          "output_type": "display_data",
          "data": {
            "text/plain": [
              "<IPython.core.display.HTML object>"
            ],
            "text/html": [
              "<style>\n",
              "    table.wandb td:nth-child(1) { padding: 0 10px; text-align: left ; width: auto;} td:nth-child(2) {text-align: left ; width: 100%}\n",
              "    .wandb-row { display: flex; flex-direction: row; flex-wrap: wrap; justify-content: flex-start; width: 100% }\n",
              "    .wandb-col { display: flex; flex-direction: column; flex-basis: 100%; flex: 1; padding: 10px; }\n",
              "    </style>\n",
              "<div class=\"wandb-row\"><div class=\"wandb-col\"><h3>Run history:</h3><br/><table class=\"wandb\"><tr><td>loss</td><td>▁</td></tr><tr><td>num_epochs</td><td>▁</td></tr><tr><td>train_loss</td><td>█▇▃▂▂▇▃▁▁▁▁▁▁▁▁▁▁▁▁▁▁▁▁▁▁▁▁▁▁▁▁▁▁▁▁▁▁▁▁▁</td></tr><tr><td>val_loss</td><td>▇▄█▃▃▆▂▁▁▁▁▁▁▁▁▁▁▁▁▁▁▁▁▁▁▁▁▁▁▁▁▁▁▁▁▁▁▁▁▁</td></tr></table><br/></div><div class=\"wandb-col\"><h3>Run summary:</h3><br/><table class=\"wandb\"><tr><td>loss</td><td>85114.53989</td></tr><tr><td>num_epochs</td><td>311</td></tr><tr><td>train_loss</td><td>2152.67122</td></tr><tr><td>val_loss</td><td>2297.8395</td></tr></table><br/></div></div>"
            ]
          },
          "metadata": {}
        },
        {
          "output_type": "display_data",
          "data": {
            "text/plain": [
              "<IPython.core.display.HTML object>"
            ],
            "text/html": [
              "Synced <strong style=\"color:#cdcd00\">flowing-sweep-18</strong>: <a href=\"https://wandb.ai/data-bigwig/Hydrogen-Oxidation-Models-Optimization/runs/f4h86tl2\" target=\"_blank\">https://wandb.ai/data-bigwig/Hydrogen-Oxidation-Models-Optimization/runs/f4h86tl2</a><br/>Synced 4 W&B file(s), 0 media file(s), 0 artifact file(s) and 0 other file(s)"
            ]
          },
          "metadata": {}
        },
        {
          "output_type": "display_data",
          "data": {
            "text/plain": [
              "<IPython.core.display.HTML object>"
            ],
            "text/html": [
              "Find logs at: <code>./wandb/run-20220915_143753-f4h86tl2/logs</code>"
            ]
          },
          "metadata": {}
        },
        {
          "output_type": "stream",
          "name": "stderr",
          "text": [
            "\u001b[34m\u001b[1mwandb\u001b[0m: Agent Starting Run: ouqm8e0d with config:\n",
            "\u001b[34m\u001b[1mwandb\u001b[0m: \tbatch_size: 16\n",
            "\u001b[34m\u001b[1mwandb\u001b[0m: \tbeta1: 0.9\n",
            "\u001b[34m\u001b[1mwandb\u001b[0m: \tbeta2: 0.9\n",
            "\u001b[34m\u001b[1mwandb\u001b[0m: \tdict_path: None\n",
            "\u001b[34m\u001b[1mwandb\u001b[0m: \tepochs: 1000\n",
            "\u001b[34m\u001b[1mwandb\u001b[0m: \texclude: False\n",
            "\u001b[34m\u001b[1mwandb\u001b[0m: \thidden_size: 40\n",
            "\u001b[34m\u001b[1mwandb\u001b[0m: \tinput_size: 10\n",
            "\u001b[34m\u001b[1mwandb\u001b[0m: \tlr: 0.0001\n",
            "\u001b[34m\u001b[1mwandb\u001b[0m: \tmb_coeff: 0\n",
            "\u001b[34m\u001b[1mwandb\u001b[0m: \tmean_std_path: None\n",
            "\u001b[34m\u001b[1mwandb\u001b[0m: \tmodel: v1\n",
            "\u001b[34m\u001b[1mwandb\u001b[0m: \tnsample: 1500\n",
            "\u001b[34m\u001b[1mwandb\u001b[0m: \tntimesteps: 200\n",
            "\u001b[34m\u001b[1mwandb\u001b[0m: \tnum_layers: 2\n",
            "\u001b[34m\u001b[1mwandb\u001b[0m: \toptimizer: Adam\n",
            "\u001b[34m\u001b[1mwandb\u001b[0m: \toutput_size: 9\n",
            "\u001b[34m\u001b[1mwandb\u001b[0m: \tscheduling: True\n",
            "\u001b[34m\u001b[1mwandb\u001b[0m: \tsplit: [0.7, 0.2, 0.1]\n",
            "\u001b[34m\u001b[1mwandb\u001b[0m: \ttimesteps: all\n"
          ]
        },
        {
          "output_type": "display_data",
          "data": {
            "text/plain": [
              "<IPython.core.display.HTML object>"
            ],
            "text/html": [
              "Tracking run with wandb version 0.13.3"
            ]
          },
          "metadata": {}
        },
        {
          "output_type": "display_data",
          "data": {
            "text/plain": [
              "<IPython.core.display.HTML object>"
            ],
            "text/html": [
              "Run data is saved locally in <code>/content/drive/MyDrive/Skoltech/Research/Hydrogen Oxidation/wandb/run-20220915_170744-ouqm8e0d</code>"
            ]
          },
          "metadata": {}
        },
        {
          "output_type": "display_data",
          "data": {
            "text/plain": [
              "<IPython.core.display.HTML object>"
            ],
            "text/html": [
              "Syncing run <strong><a href=\"https://wandb.ai/data-bigwig/Hydrogen-Oxidation-Models-Optimization/runs/ouqm8e0d\" target=\"_blank\">bumbling-sweep-19</a></strong> to <a href=\"https://wandb.ai/data-bigwig/Hydrogen-Oxidation-Models-Optimization\" target=\"_blank\">Weights & Biases</a> (<a href=\"https://wandb.me/run\" target=\"_blank\">docs</a>)<br/>Sweep page:  <a href=\"https://wandb.ai/data-bigwig/Hydrogen-Oxidation-Models-Optimization/sweeps/316icv60\" target=\"_blank\">https://wandb.ai/data-bigwig/Hydrogen-Oxidation-Models-Optimization/sweeps/316icv60</a>"
            ]
          },
          "metadata": {}
        },
        {
          "output_type": "display_data",
          "data": {
            "text/plain": [
              "<IPython.core.display.HTML object>"
            ],
            "text/html": [
              "Waiting for W&B process to finish... <strong style=\"color:green\">(success).</strong>"
            ]
          },
          "metadata": {}
        },
        {
          "output_type": "display_data",
          "data": {
            "text/plain": [
              "VBox(children=(Label(value='0.001 MB of 0.001 MB uploaded (0.000 MB deduped)\\r'), FloatProgress(value=1.0, max…"
            ],
            "application/vnd.jupyter.widget-view+json": {
              "version_major": 2,
              "version_minor": 0,
              "model_id": "4cb12d6b9423426fb3d2a82b5fb1a8aa"
            }
          },
          "metadata": {}
        },
        {
          "output_type": "display_data",
          "data": {
            "text/plain": [
              "<IPython.core.display.HTML object>"
            ],
            "text/html": [
              "<style>\n",
              "    table.wandb td:nth-child(1) { padding: 0 10px; text-align: left ; width: auto;} td:nth-child(2) {text-align: left ; width: 100%}\n",
              "    .wandb-row { display: flex; flex-direction: row; flex-wrap: wrap; justify-content: flex-start; width: 100% }\n",
              "    .wandb-col { display: flex; flex-direction: column; flex-basis: 100%; flex: 1; padding: 10px; }\n",
              "    </style>\n",
              "<div class=\"wandb-row\"><div class=\"wandb-col\"><h3>Run history:</h3><br/><table class=\"wandb\"><tr><td>loss</td><td>▁</td></tr><tr><td>num_epochs</td><td>▁</td></tr><tr><td>train_loss</td><td>█▆▄▂▂▁▁▁▁▁▁▁▁▁▁▁▁▁▁▁▁▁▁▁▁▁▁▁▁▁▁▁▁▁▁▁▁▁▁▁</td></tr><tr><td>val_loss</td><td>█▆▄▂▂▂▁▁▁▁▁▁▁▁▁▁▁▁▁▁▁▁▁▁▁▁▁▁▁▁▁▁▁▁▁▁▁▁▁▁</td></tr></table><br/></div><div class=\"wandb-col\"><h3>Run summary:</h3><br/><table class=\"wandb\"><tr><td>loss</td><td>14182976.3125</td></tr><tr><td>num_epochs</td><td>671</td></tr><tr><td>train_loss</td><td>744061.60606</td></tr><tr><td>val_loss</td><td>746737.72039</td></tr></table><br/></div></div>"
            ]
          },
          "metadata": {}
        },
        {
          "output_type": "display_data",
          "data": {
            "text/plain": [
              "<IPython.core.display.HTML object>"
            ],
            "text/html": [
              "Synced <strong style=\"color:#cdcd00\">bumbling-sweep-19</strong>: <a href=\"https://wandb.ai/data-bigwig/Hydrogen-Oxidation-Models-Optimization/runs/ouqm8e0d\" target=\"_blank\">https://wandb.ai/data-bigwig/Hydrogen-Oxidation-Models-Optimization/runs/ouqm8e0d</a><br/>Synced 4 W&B file(s), 0 media file(s), 0 artifact file(s) and 0 other file(s)"
            ]
          },
          "metadata": {}
        },
        {
          "output_type": "display_data",
          "data": {
            "text/plain": [
              "<IPython.core.display.HTML object>"
            ],
            "text/html": [
              "Find logs at: <code>./wandb/run-20220915_170744-ouqm8e0d/logs</code>"
            ]
          },
          "metadata": {}
        },
        {
          "output_type": "stream",
          "name": "stderr",
          "text": [
            "\u001b[34m\u001b[1mwandb\u001b[0m: Agent Starting Run: wc8ee9rq with config:\n",
            "\u001b[34m\u001b[1mwandb\u001b[0m: \tbatch_size: 32\n",
            "\u001b[34m\u001b[1mwandb\u001b[0m: \tbeta1: 0.85\n",
            "\u001b[34m\u001b[1mwandb\u001b[0m: \tbeta2: 0.99\n",
            "\u001b[34m\u001b[1mwandb\u001b[0m: \tdict_path: None\n",
            "\u001b[34m\u001b[1mwandb\u001b[0m: \tepochs: 1000\n",
            "\u001b[34m\u001b[1mwandb\u001b[0m: \texclude: False\n",
            "\u001b[34m\u001b[1mwandb\u001b[0m: \thidden_size: 80\n",
            "\u001b[34m\u001b[1mwandb\u001b[0m: \tinput_size: 10\n",
            "\u001b[34m\u001b[1mwandb\u001b[0m: \tlr: 0.0001\n",
            "\u001b[34m\u001b[1mwandb\u001b[0m: \tmb_coeff: 0\n",
            "\u001b[34m\u001b[1mwandb\u001b[0m: \tmean_std_path: None\n",
            "\u001b[34m\u001b[1mwandb\u001b[0m: \tmodel: v2\n",
            "\u001b[34m\u001b[1mwandb\u001b[0m: \tnsample: 1500\n",
            "\u001b[34m\u001b[1mwandb\u001b[0m: \tntimesteps: 200\n",
            "\u001b[34m\u001b[1mwandb\u001b[0m: \tnum_layers: 3\n",
            "\u001b[34m\u001b[1mwandb\u001b[0m: \toptimizer: Adam\n",
            "\u001b[34m\u001b[1mwandb\u001b[0m: \toutput_size: 9\n",
            "\u001b[34m\u001b[1mwandb\u001b[0m: \tscheduling: True\n",
            "\u001b[34m\u001b[1mwandb\u001b[0m: \tsplit: [0.7, 0.2, 0.1]\n",
            "\u001b[34m\u001b[1mwandb\u001b[0m: \ttimesteps: all\n"
          ]
        },
        {
          "output_type": "display_data",
          "data": {
            "text/plain": [
              "<IPython.core.display.HTML object>"
            ],
            "text/html": [
              "Tracking run with wandb version 0.13.3"
            ]
          },
          "metadata": {}
        },
        {
          "output_type": "display_data",
          "data": {
            "text/plain": [
              "<IPython.core.display.HTML object>"
            ],
            "text/html": [
              "Run data is saved locally in <code>/content/drive/MyDrive/Skoltech/Research/Hydrogen Oxidation/wandb/run-20220915_195741-wc8ee9rq</code>"
            ]
          },
          "metadata": {}
        },
        {
          "output_type": "display_data",
          "data": {
            "text/plain": [
              "<IPython.core.display.HTML object>"
            ],
            "text/html": [
              "Syncing run <strong><a href=\"https://wandb.ai/data-bigwig/Hydrogen-Oxidation-Models-Optimization/runs/wc8ee9rq\" target=\"_blank\">rural-sweep-21</a></strong> to <a href=\"https://wandb.ai/data-bigwig/Hydrogen-Oxidation-Models-Optimization\" target=\"_blank\">Weights & Biases</a> (<a href=\"https://wandb.me/run\" target=\"_blank\">docs</a>)<br/>Sweep page:  <a href=\"https://wandb.ai/data-bigwig/Hydrogen-Oxidation-Models-Optimization/sweeps/316icv60\" target=\"_blank\">https://wandb.ai/data-bigwig/Hydrogen-Oxidation-Models-Optimization/sweeps/316icv60</a>"
            ]
          },
          "metadata": {}
        }
      ],
      "source": [
        "wandb.agent(sweep_id, train_model, project=\"Hydrogen-Oxidation-Models-Optimization\", count=20)"
      ]
    },
    {
      "cell_type": "code",
      "execution_count": null,
      "metadata": {
        "id": "z6GFHeT3bEH_"
      },
      "outputs": [],
      "source": []
    },
    {
      "cell_type": "code",
      "source": [],
      "metadata": {
        "id": "A3o-VwP7cBVj"
      },
      "execution_count": null,
      "outputs": []
    }
  ],
  "metadata": {
    "colab": {
      "collapsed_sections": [],
      "provenance": [],
      "include_colab_link": true
    },
    "gpuClass": "standard",
    "kernelspec": {
      "display_name": "Python 3 (ipykernel)",
      "language": "python",
      "name": "python3"
    },
    "language_info": {
      "codemirror_mode": {
        "name": "ipython",
        "version": 3
      },
      "file_extension": ".py",
      "mimetype": "text/x-python",
      "name": "python",
      "nbconvert_exporter": "python",
      "pygments_lexer": "ipython3",
      "version": "3.8.13"
    },
    "widgets": {
      "application/vnd.jupyter.widget-state+json": {
        "fceaf56fe46e47889a886d235929dd8f": {
          "model_module": "@jupyter-widgets/controls",
          "model_name": "VBoxModel",
          "model_module_version": "1.5.0",
          "state": {
            "_dom_classes": [],
            "_model_module": "@jupyter-widgets/controls",
            "_model_module_version": "1.5.0",
            "_model_name": "VBoxModel",
            "_view_count": null,
            "_view_module": "@jupyter-widgets/controls",
            "_view_module_version": "1.5.0",
            "_view_name": "VBoxView",
            "box_style": "",
            "children": [
              "IPY_MODEL_ea31a87449ff459ebf1f92dd176f66d3",
              "IPY_MODEL_1d06ba2a30c541839a6bdff9b3b13c50"
            ],
            "layout": "IPY_MODEL_6ddf5886731d47f381dbc6490cb70ba1"
          }
        },
        "ea31a87449ff459ebf1f92dd176f66d3": {
          "model_module": "@jupyter-widgets/controls",
          "model_name": "LabelModel",
          "model_module_version": "1.5.0",
          "state": {
            "_dom_classes": [],
            "_model_module": "@jupyter-widgets/controls",
            "_model_module_version": "1.5.0",
            "_model_name": "LabelModel",
            "_view_count": null,
            "_view_module": "@jupyter-widgets/controls",
            "_view_module_version": "1.5.0",
            "_view_name": "LabelView",
            "description": "",
            "description_tooltip": null,
            "layout": "IPY_MODEL_38acc85c22ef4097b0833e02927d9158",
            "placeholder": "​",
            "style": "IPY_MODEL_1b4be31dbb744b52903a2fb80f72d76c",
            "value": "0.009 MB of 0.009 MB uploaded (0.000 MB deduped)\r"
          }
        },
        "1d06ba2a30c541839a6bdff9b3b13c50": {
          "model_module": "@jupyter-widgets/controls",
          "model_name": "FloatProgressModel",
          "model_module_version": "1.5.0",
          "state": {
            "_dom_classes": [],
            "_model_module": "@jupyter-widgets/controls",
            "_model_module_version": "1.5.0",
            "_model_name": "FloatProgressModel",
            "_view_count": null,
            "_view_module": "@jupyter-widgets/controls",
            "_view_module_version": "1.5.0",
            "_view_name": "ProgressView",
            "bar_style": "",
            "description": "",
            "description_tooltip": null,
            "layout": "IPY_MODEL_9e209ddc2a27457bbe6dcf140fc47f9f",
            "max": 1,
            "min": 0,
            "orientation": "horizontal",
            "style": "IPY_MODEL_788a71471c60446785028fd2a8faa779",
            "value": 1
          }
        },
        "6ddf5886731d47f381dbc6490cb70ba1": {
          "model_module": "@jupyter-widgets/base",
          "model_name": "LayoutModel",
          "model_module_version": "1.2.0",
          "state": {
            "_model_module": "@jupyter-widgets/base",
            "_model_module_version": "1.2.0",
            "_model_name": "LayoutModel",
            "_view_count": null,
            "_view_module": "@jupyter-widgets/base",
            "_view_module_version": "1.2.0",
            "_view_name": "LayoutView",
            "align_content": null,
            "align_items": null,
            "align_self": null,
            "border": null,
            "bottom": null,
            "display": null,
            "flex": null,
            "flex_flow": null,
            "grid_area": null,
            "grid_auto_columns": null,
            "grid_auto_flow": null,
            "grid_auto_rows": null,
            "grid_column": null,
            "grid_gap": null,
            "grid_row": null,
            "grid_template_areas": null,
            "grid_template_columns": null,
            "grid_template_rows": null,
            "height": null,
            "justify_content": null,
            "justify_items": null,
            "left": null,
            "margin": null,
            "max_height": null,
            "max_width": null,
            "min_height": null,
            "min_width": null,
            "object_fit": null,
            "object_position": null,
            "order": null,
            "overflow": null,
            "overflow_x": null,
            "overflow_y": null,
            "padding": null,
            "right": null,
            "top": null,
            "visibility": null,
            "width": null
          }
        },
        "38acc85c22ef4097b0833e02927d9158": {
          "model_module": "@jupyter-widgets/base",
          "model_name": "LayoutModel",
          "model_module_version": "1.2.0",
          "state": {
            "_model_module": "@jupyter-widgets/base",
            "_model_module_version": "1.2.0",
            "_model_name": "LayoutModel",
            "_view_count": null,
            "_view_module": "@jupyter-widgets/base",
            "_view_module_version": "1.2.0",
            "_view_name": "LayoutView",
            "align_content": null,
            "align_items": null,
            "align_self": null,
            "border": null,
            "bottom": null,
            "display": null,
            "flex": null,
            "flex_flow": null,
            "grid_area": null,
            "grid_auto_columns": null,
            "grid_auto_flow": null,
            "grid_auto_rows": null,
            "grid_column": null,
            "grid_gap": null,
            "grid_row": null,
            "grid_template_areas": null,
            "grid_template_columns": null,
            "grid_template_rows": null,
            "height": null,
            "justify_content": null,
            "justify_items": null,
            "left": null,
            "margin": null,
            "max_height": null,
            "max_width": null,
            "min_height": null,
            "min_width": null,
            "object_fit": null,
            "object_position": null,
            "order": null,
            "overflow": null,
            "overflow_x": null,
            "overflow_y": null,
            "padding": null,
            "right": null,
            "top": null,
            "visibility": null,
            "width": null
          }
        },
        "1b4be31dbb744b52903a2fb80f72d76c": {
          "model_module": "@jupyter-widgets/controls",
          "model_name": "DescriptionStyleModel",
          "model_module_version": "1.5.0",
          "state": {
            "_model_module": "@jupyter-widgets/controls",
            "_model_module_version": "1.5.0",
            "_model_name": "DescriptionStyleModel",
            "_view_count": null,
            "_view_module": "@jupyter-widgets/base",
            "_view_module_version": "1.2.0",
            "_view_name": "StyleView",
            "description_width": ""
          }
        },
        "9e209ddc2a27457bbe6dcf140fc47f9f": {
          "model_module": "@jupyter-widgets/base",
          "model_name": "LayoutModel",
          "model_module_version": "1.2.0",
          "state": {
            "_model_module": "@jupyter-widgets/base",
            "_model_module_version": "1.2.0",
            "_model_name": "LayoutModel",
            "_view_count": null,
            "_view_module": "@jupyter-widgets/base",
            "_view_module_version": "1.2.0",
            "_view_name": "LayoutView",
            "align_content": null,
            "align_items": null,
            "align_self": null,
            "border": null,
            "bottom": null,
            "display": null,
            "flex": null,
            "flex_flow": null,
            "grid_area": null,
            "grid_auto_columns": null,
            "grid_auto_flow": null,
            "grid_auto_rows": null,
            "grid_column": null,
            "grid_gap": null,
            "grid_row": null,
            "grid_template_areas": null,
            "grid_template_columns": null,
            "grid_template_rows": null,
            "height": null,
            "justify_content": null,
            "justify_items": null,
            "left": null,
            "margin": null,
            "max_height": null,
            "max_width": null,
            "min_height": null,
            "min_width": null,
            "object_fit": null,
            "object_position": null,
            "order": null,
            "overflow": null,
            "overflow_x": null,
            "overflow_y": null,
            "padding": null,
            "right": null,
            "top": null,
            "visibility": null,
            "width": null
          }
        },
        "788a71471c60446785028fd2a8faa779": {
          "model_module": "@jupyter-widgets/controls",
          "model_name": "ProgressStyleModel",
          "model_module_version": "1.5.0",
          "state": {
            "_model_module": "@jupyter-widgets/controls",
            "_model_module_version": "1.5.0",
            "_model_name": "ProgressStyleModel",
            "_view_count": null,
            "_view_module": "@jupyter-widgets/base",
            "_view_module_version": "1.2.0",
            "_view_name": "StyleView",
            "bar_color": null,
            "description_width": ""
          }
        },
        "e905294e23f24bbfb31b9317d0b97d2a": {
          "model_module": "@jupyter-widgets/controls",
          "model_name": "VBoxModel",
          "model_module_version": "1.5.0",
          "state": {
            "_dom_classes": [],
            "_model_module": "@jupyter-widgets/controls",
            "_model_module_version": "1.5.0",
            "_model_name": "VBoxModel",
            "_view_count": null,
            "_view_module": "@jupyter-widgets/controls",
            "_view_module_version": "1.5.0",
            "_view_name": "VBoxView",
            "box_style": "",
            "children": [
              "IPY_MODEL_b205a183cd3f4b2bb0a00e62aa282413",
              "IPY_MODEL_fd87c68279534d73977c7f6f68937cde"
            ],
            "layout": "IPY_MODEL_c20da75af38949a49f9d0fb1a9c16654"
          }
        },
        "b205a183cd3f4b2bb0a00e62aa282413": {
          "model_module": "@jupyter-widgets/controls",
          "model_name": "LabelModel",
          "model_module_version": "1.5.0",
          "state": {
            "_dom_classes": [],
            "_model_module": "@jupyter-widgets/controls",
            "_model_module_version": "1.5.0",
            "_model_name": "LabelModel",
            "_view_count": null,
            "_view_module": "@jupyter-widgets/controls",
            "_view_module_version": "1.5.0",
            "_view_name": "LabelView",
            "description": "",
            "description_tooltip": null,
            "layout": "IPY_MODEL_36e771e80a964189b4e03d84f160e610",
            "placeholder": "​",
            "style": "IPY_MODEL_ba926028571f419ab437ef6b6d4abc71",
            "value": "0.009 MB of 0.009 MB uploaded (0.000 MB deduped)\r"
          }
        },
        "fd87c68279534d73977c7f6f68937cde": {
          "model_module": "@jupyter-widgets/controls",
          "model_name": "FloatProgressModel",
          "model_module_version": "1.5.0",
          "state": {
            "_dom_classes": [],
            "_model_module": "@jupyter-widgets/controls",
            "_model_module_version": "1.5.0",
            "_model_name": "FloatProgressModel",
            "_view_count": null,
            "_view_module": "@jupyter-widgets/controls",
            "_view_module_version": "1.5.0",
            "_view_name": "ProgressView",
            "bar_style": "",
            "description": "",
            "description_tooltip": null,
            "layout": "IPY_MODEL_f99ed024f62f4ad6b2c5694392f00053",
            "max": 1,
            "min": 0,
            "orientation": "horizontal",
            "style": "IPY_MODEL_5a535fce692a4e3a938075eed27d1f15",
            "value": 1
          }
        },
        "c20da75af38949a49f9d0fb1a9c16654": {
          "model_module": "@jupyter-widgets/base",
          "model_name": "LayoutModel",
          "model_module_version": "1.2.0",
          "state": {
            "_model_module": "@jupyter-widgets/base",
            "_model_module_version": "1.2.0",
            "_model_name": "LayoutModel",
            "_view_count": null,
            "_view_module": "@jupyter-widgets/base",
            "_view_module_version": "1.2.0",
            "_view_name": "LayoutView",
            "align_content": null,
            "align_items": null,
            "align_self": null,
            "border": null,
            "bottom": null,
            "display": null,
            "flex": null,
            "flex_flow": null,
            "grid_area": null,
            "grid_auto_columns": null,
            "grid_auto_flow": null,
            "grid_auto_rows": null,
            "grid_column": null,
            "grid_gap": null,
            "grid_row": null,
            "grid_template_areas": null,
            "grid_template_columns": null,
            "grid_template_rows": null,
            "height": null,
            "justify_content": null,
            "justify_items": null,
            "left": null,
            "margin": null,
            "max_height": null,
            "max_width": null,
            "min_height": null,
            "min_width": null,
            "object_fit": null,
            "object_position": null,
            "order": null,
            "overflow": null,
            "overflow_x": null,
            "overflow_y": null,
            "padding": null,
            "right": null,
            "top": null,
            "visibility": null,
            "width": null
          }
        },
        "36e771e80a964189b4e03d84f160e610": {
          "model_module": "@jupyter-widgets/base",
          "model_name": "LayoutModel",
          "model_module_version": "1.2.0",
          "state": {
            "_model_module": "@jupyter-widgets/base",
            "_model_module_version": "1.2.0",
            "_model_name": "LayoutModel",
            "_view_count": null,
            "_view_module": "@jupyter-widgets/base",
            "_view_module_version": "1.2.0",
            "_view_name": "LayoutView",
            "align_content": null,
            "align_items": null,
            "align_self": null,
            "border": null,
            "bottom": null,
            "display": null,
            "flex": null,
            "flex_flow": null,
            "grid_area": null,
            "grid_auto_columns": null,
            "grid_auto_flow": null,
            "grid_auto_rows": null,
            "grid_column": null,
            "grid_gap": null,
            "grid_row": null,
            "grid_template_areas": null,
            "grid_template_columns": null,
            "grid_template_rows": null,
            "height": null,
            "justify_content": null,
            "justify_items": null,
            "left": null,
            "margin": null,
            "max_height": null,
            "max_width": null,
            "min_height": null,
            "min_width": null,
            "object_fit": null,
            "object_position": null,
            "order": null,
            "overflow": null,
            "overflow_x": null,
            "overflow_y": null,
            "padding": null,
            "right": null,
            "top": null,
            "visibility": null,
            "width": null
          }
        },
        "ba926028571f419ab437ef6b6d4abc71": {
          "model_module": "@jupyter-widgets/controls",
          "model_name": "DescriptionStyleModel",
          "model_module_version": "1.5.0",
          "state": {
            "_model_module": "@jupyter-widgets/controls",
            "_model_module_version": "1.5.0",
            "_model_name": "DescriptionStyleModel",
            "_view_count": null,
            "_view_module": "@jupyter-widgets/base",
            "_view_module_version": "1.2.0",
            "_view_name": "StyleView",
            "description_width": ""
          }
        },
        "f99ed024f62f4ad6b2c5694392f00053": {
          "model_module": "@jupyter-widgets/base",
          "model_name": "LayoutModel",
          "model_module_version": "1.2.0",
          "state": {
            "_model_module": "@jupyter-widgets/base",
            "_model_module_version": "1.2.0",
            "_model_name": "LayoutModel",
            "_view_count": null,
            "_view_module": "@jupyter-widgets/base",
            "_view_module_version": "1.2.0",
            "_view_name": "LayoutView",
            "align_content": null,
            "align_items": null,
            "align_self": null,
            "border": null,
            "bottom": null,
            "display": null,
            "flex": null,
            "flex_flow": null,
            "grid_area": null,
            "grid_auto_columns": null,
            "grid_auto_flow": null,
            "grid_auto_rows": null,
            "grid_column": null,
            "grid_gap": null,
            "grid_row": null,
            "grid_template_areas": null,
            "grid_template_columns": null,
            "grid_template_rows": null,
            "height": null,
            "justify_content": null,
            "justify_items": null,
            "left": null,
            "margin": null,
            "max_height": null,
            "max_width": null,
            "min_height": null,
            "min_width": null,
            "object_fit": null,
            "object_position": null,
            "order": null,
            "overflow": null,
            "overflow_x": null,
            "overflow_y": null,
            "padding": null,
            "right": null,
            "top": null,
            "visibility": null,
            "width": null
          }
        },
        "5a535fce692a4e3a938075eed27d1f15": {
          "model_module": "@jupyter-widgets/controls",
          "model_name": "ProgressStyleModel",
          "model_module_version": "1.5.0",
          "state": {
            "_model_module": "@jupyter-widgets/controls",
            "_model_module_version": "1.5.0",
            "_model_name": "ProgressStyleModel",
            "_view_count": null,
            "_view_module": "@jupyter-widgets/base",
            "_view_module_version": "1.2.0",
            "_view_name": "StyleView",
            "bar_color": null,
            "description_width": ""
          }
        },
        "1a236b2f0be34d28a3f340fcde616013": {
          "model_module": "@jupyter-widgets/controls",
          "model_name": "VBoxModel",
          "model_module_version": "1.5.0",
          "state": {
            "_dom_classes": [],
            "_model_module": "@jupyter-widgets/controls",
            "_model_module_version": "1.5.0",
            "_model_name": "VBoxModel",
            "_view_count": null,
            "_view_module": "@jupyter-widgets/controls",
            "_view_module_version": "1.5.0",
            "_view_name": "VBoxView",
            "box_style": "",
            "children": [
              "IPY_MODEL_fe688cf56c484956a06123d53dee0dee",
              "IPY_MODEL_dd4cd631306a42d1a24a45fb0e6e5ef8"
            ],
            "layout": "IPY_MODEL_c58c4f56a9e24c5fa50943302edfff1f"
          }
        },
        "fe688cf56c484956a06123d53dee0dee": {
          "model_module": "@jupyter-widgets/controls",
          "model_name": "LabelModel",
          "model_module_version": "1.5.0",
          "state": {
            "_dom_classes": [],
            "_model_module": "@jupyter-widgets/controls",
            "_model_module_version": "1.5.0",
            "_model_name": "LabelModel",
            "_view_count": null,
            "_view_module": "@jupyter-widgets/controls",
            "_view_module_version": "1.5.0",
            "_view_name": "LabelView",
            "description": "",
            "description_tooltip": null,
            "layout": "IPY_MODEL_b2ea84d502d448ebb9399efc7ad17848",
            "placeholder": "​",
            "style": "IPY_MODEL_dcfc55bada2c471caf8d8131c4e06931",
            "value": "0.009 MB of 0.009 MB uploaded (0.000 MB deduped)\r"
          }
        },
        "dd4cd631306a42d1a24a45fb0e6e5ef8": {
          "model_module": "@jupyter-widgets/controls",
          "model_name": "FloatProgressModel",
          "model_module_version": "1.5.0",
          "state": {
            "_dom_classes": [],
            "_model_module": "@jupyter-widgets/controls",
            "_model_module_version": "1.5.0",
            "_model_name": "FloatProgressModel",
            "_view_count": null,
            "_view_module": "@jupyter-widgets/controls",
            "_view_module_version": "1.5.0",
            "_view_name": "ProgressView",
            "bar_style": "",
            "description": "",
            "description_tooltip": null,
            "layout": "IPY_MODEL_1103ab05ab9a46b08c7d43481a588b7c",
            "max": 1,
            "min": 0,
            "orientation": "horizontal",
            "style": "IPY_MODEL_c5d736e05fd643e9b6ccd1bee6df91b1",
            "value": 1
          }
        },
        "c58c4f56a9e24c5fa50943302edfff1f": {
          "model_module": "@jupyter-widgets/base",
          "model_name": "LayoutModel",
          "model_module_version": "1.2.0",
          "state": {
            "_model_module": "@jupyter-widgets/base",
            "_model_module_version": "1.2.0",
            "_model_name": "LayoutModel",
            "_view_count": null,
            "_view_module": "@jupyter-widgets/base",
            "_view_module_version": "1.2.0",
            "_view_name": "LayoutView",
            "align_content": null,
            "align_items": null,
            "align_self": null,
            "border": null,
            "bottom": null,
            "display": null,
            "flex": null,
            "flex_flow": null,
            "grid_area": null,
            "grid_auto_columns": null,
            "grid_auto_flow": null,
            "grid_auto_rows": null,
            "grid_column": null,
            "grid_gap": null,
            "grid_row": null,
            "grid_template_areas": null,
            "grid_template_columns": null,
            "grid_template_rows": null,
            "height": null,
            "justify_content": null,
            "justify_items": null,
            "left": null,
            "margin": null,
            "max_height": null,
            "max_width": null,
            "min_height": null,
            "min_width": null,
            "object_fit": null,
            "object_position": null,
            "order": null,
            "overflow": null,
            "overflow_x": null,
            "overflow_y": null,
            "padding": null,
            "right": null,
            "top": null,
            "visibility": null,
            "width": null
          }
        },
        "b2ea84d502d448ebb9399efc7ad17848": {
          "model_module": "@jupyter-widgets/base",
          "model_name": "LayoutModel",
          "model_module_version": "1.2.0",
          "state": {
            "_model_module": "@jupyter-widgets/base",
            "_model_module_version": "1.2.0",
            "_model_name": "LayoutModel",
            "_view_count": null,
            "_view_module": "@jupyter-widgets/base",
            "_view_module_version": "1.2.0",
            "_view_name": "LayoutView",
            "align_content": null,
            "align_items": null,
            "align_self": null,
            "border": null,
            "bottom": null,
            "display": null,
            "flex": null,
            "flex_flow": null,
            "grid_area": null,
            "grid_auto_columns": null,
            "grid_auto_flow": null,
            "grid_auto_rows": null,
            "grid_column": null,
            "grid_gap": null,
            "grid_row": null,
            "grid_template_areas": null,
            "grid_template_columns": null,
            "grid_template_rows": null,
            "height": null,
            "justify_content": null,
            "justify_items": null,
            "left": null,
            "margin": null,
            "max_height": null,
            "max_width": null,
            "min_height": null,
            "min_width": null,
            "object_fit": null,
            "object_position": null,
            "order": null,
            "overflow": null,
            "overflow_x": null,
            "overflow_y": null,
            "padding": null,
            "right": null,
            "top": null,
            "visibility": null,
            "width": null
          }
        },
        "dcfc55bada2c471caf8d8131c4e06931": {
          "model_module": "@jupyter-widgets/controls",
          "model_name": "DescriptionStyleModel",
          "model_module_version": "1.5.0",
          "state": {
            "_model_module": "@jupyter-widgets/controls",
            "_model_module_version": "1.5.0",
            "_model_name": "DescriptionStyleModel",
            "_view_count": null,
            "_view_module": "@jupyter-widgets/base",
            "_view_module_version": "1.2.0",
            "_view_name": "StyleView",
            "description_width": ""
          }
        },
        "1103ab05ab9a46b08c7d43481a588b7c": {
          "model_module": "@jupyter-widgets/base",
          "model_name": "LayoutModel",
          "model_module_version": "1.2.0",
          "state": {
            "_model_module": "@jupyter-widgets/base",
            "_model_module_version": "1.2.0",
            "_model_name": "LayoutModel",
            "_view_count": null,
            "_view_module": "@jupyter-widgets/base",
            "_view_module_version": "1.2.0",
            "_view_name": "LayoutView",
            "align_content": null,
            "align_items": null,
            "align_self": null,
            "border": null,
            "bottom": null,
            "display": null,
            "flex": null,
            "flex_flow": null,
            "grid_area": null,
            "grid_auto_columns": null,
            "grid_auto_flow": null,
            "grid_auto_rows": null,
            "grid_column": null,
            "grid_gap": null,
            "grid_row": null,
            "grid_template_areas": null,
            "grid_template_columns": null,
            "grid_template_rows": null,
            "height": null,
            "justify_content": null,
            "justify_items": null,
            "left": null,
            "margin": null,
            "max_height": null,
            "max_width": null,
            "min_height": null,
            "min_width": null,
            "object_fit": null,
            "object_position": null,
            "order": null,
            "overflow": null,
            "overflow_x": null,
            "overflow_y": null,
            "padding": null,
            "right": null,
            "top": null,
            "visibility": null,
            "width": null
          }
        },
        "c5d736e05fd643e9b6ccd1bee6df91b1": {
          "model_module": "@jupyter-widgets/controls",
          "model_name": "ProgressStyleModel",
          "model_module_version": "1.5.0",
          "state": {
            "_model_module": "@jupyter-widgets/controls",
            "_model_module_version": "1.5.0",
            "_model_name": "ProgressStyleModel",
            "_view_count": null,
            "_view_module": "@jupyter-widgets/base",
            "_view_module_version": "1.2.0",
            "_view_name": "StyleView",
            "bar_color": null,
            "description_width": ""
          }
        },
        "1c80733b24f64960b0a967acfe293fa0": {
          "model_module": "@jupyter-widgets/controls",
          "model_name": "VBoxModel",
          "model_module_version": "1.5.0",
          "state": {
            "_dom_classes": [],
            "_model_module": "@jupyter-widgets/controls",
            "_model_module_version": "1.5.0",
            "_model_name": "VBoxModel",
            "_view_count": null,
            "_view_module": "@jupyter-widgets/controls",
            "_view_module_version": "1.5.0",
            "_view_name": "VBoxView",
            "box_style": "",
            "children": [
              "IPY_MODEL_14729c8fba4a4348883c05093d65b4c6",
              "IPY_MODEL_c2f83f23022a43e5b0af80013d89e51a"
            ],
            "layout": "IPY_MODEL_01de6edcb22a4802b623704bce886876"
          }
        },
        "14729c8fba4a4348883c05093d65b4c6": {
          "model_module": "@jupyter-widgets/controls",
          "model_name": "LabelModel",
          "model_module_version": "1.5.0",
          "state": {
            "_dom_classes": [],
            "_model_module": "@jupyter-widgets/controls",
            "_model_module_version": "1.5.0",
            "_model_name": "LabelModel",
            "_view_count": null,
            "_view_module": "@jupyter-widgets/controls",
            "_view_module_version": "1.5.0",
            "_view_name": "LabelView",
            "description": "",
            "description_tooltip": null,
            "layout": "IPY_MODEL_b96f18e60cdc4ebeb2e7a9d6768e3638",
            "placeholder": "​",
            "style": "IPY_MODEL_a807b02f85894a7192b5ac0a45e68107",
            "value": "0.009 MB of 0.009 MB uploaded (0.000 MB deduped)\r"
          }
        },
        "c2f83f23022a43e5b0af80013d89e51a": {
          "model_module": "@jupyter-widgets/controls",
          "model_name": "FloatProgressModel",
          "model_module_version": "1.5.0",
          "state": {
            "_dom_classes": [],
            "_model_module": "@jupyter-widgets/controls",
            "_model_module_version": "1.5.0",
            "_model_name": "FloatProgressModel",
            "_view_count": null,
            "_view_module": "@jupyter-widgets/controls",
            "_view_module_version": "1.5.0",
            "_view_name": "ProgressView",
            "bar_style": "",
            "description": "",
            "description_tooltip": null,
            "layout": "IPY_MODEL_eb640a7e179e4c9c8792add29e1481f7",
            "max": 1,
            "min": 0,
            "orientation": "horizontal",
            "style": "IPY_MODEL_5ac5664aef754ff4a9dc29526363cf0f",
            "value": 1
          }
        },
        "01de6edcb22a4802b623704bce886876": {
          "model_module": "@jupyter-widgets/base",
          "model_name": "LayoutModel",
          "model_module_version": "1.2.0",
          "state": {
            "_model_module": "@jupyter-widgets/base",
            "_model_module_version": "1.2.0",
            "_model_name": "LayoutModel",
            "_view_count": null,
            "_view_module": "@jupyter-widgets/base",
            "_view_module_version": "1.2.0",
            "_view_name": "LayoutView",
            "align_content": null,
            "align_items": null,
            "align_self": null,
            "border": null,
            "bottom": null,
            "display": null,
            "flex": null,
            "flex_flow": null,
            "grid_area": null,
            "grid_auto_columns": null,
            "grid_auto_flow": null,
            "grid_auto_rows": null,
            "grid_column": null,
            "grid_gap": null,
            "grid_row": null,
            "grid_template_areas": null,
            "grid_template_columns": null,
            "grid_template_rows": null,
            "height": null,
            "justify_content": null,
            "justify_items": null,
            "left": null,
            "margin": null,
            "max_height": null,
            "max_width": null,
            "min_height": null,
            "min_width": null,
            "object_fit": null,
            "object_position": null,
            "order": null,
            "overflow": null,
            "overflow_x": null,
            "overflow_y": null,
            "padding": null,
            "right": null,
            "top": null,
            "visibility": null,
            "width": null
          }
        },
        "b96f18e60cdc4ebeb2e7a9d6768e3638": {
          "model_module": "@jupyter-widgets/base",
          "model_name": "LayoutModel",
          "model_module_version": "1.2.0",
          "state": {
            "_model_module": "@jupyter-widgets/base",
            "_model_module_version": "1.2.0",
            "_model_name": "LayoutModel",
            "_view_count": null,
            "_view_module": "@jupyter-widgets/base",
            "_view_module_version": "1.2.0",
            "_view_name": "LayoutView",
            "align_content": null,
            "align_items": null,
            "align_self": null,
            "border": null,
            "bottom": null,
            "display": null,
            "flex": null,
            "flex_flow": null,
            "grid_area": null,
            "grid_auto_columns": null,
            "grid_auto_flow": null,
            "grid_auto_rows": null,
            "grid_column": null,
            "grid_gap": null,
            "grid_row": null,
            "grid_template_areas": null,
            "grid_template_columns": null,
            "grid_template_rows": null,
            "height": null,
            "justify_content": null,
            "justify_items": null,
            "left": null,
            "margin": null,
            "max_height": null,
            "max_width": null,
            "min_height": null,
            "min_width": null,
            "object_fit": null,
            "object_position": null,
            "order": null,
            "overflow": null,
            "overflow_x": null,
            "overflow_y": null,
            "padding": null,
            "right": null,
            "top": null,
            "visibility": null,
            "width": null
          }
        },
        "a807b02f85894a7192b5ac0a45e68107": {
          "model_module": "@jupyter-widgets/controls",
          "model_name": "DescriptionStyleModel",
          "model_module_version": "1.5.0",
          "state": {
            "_model_module": "@jupyter-widgets/controls",
            "_model_module_version": "1.5.0",
            "_model_name": "DescriptionStyleModel",
            "_view_count": null,
            "_view_module": "@jupyter-widgets/base",
            "_view_module_version": "1.2.0",
            "_view_name": "StyleView",
            "description_width": ""
          }
        },
        "eb640a7e179e4c9c8792add29e1481f7": {
          "model_module": "@jupyter-widgets/base",
          "model_name": "LayoutModel",
          "model_module_version": "1.2.0",
          "state": {
            "_model_module": "@jupyter-widgets/base",
            "_model_module_version": "1.2.0",
            "_model_name": "LayoutModel",
            "_view_count": null,
            "_view_module": "@jupyter-widgets/base",
            "_view_module_version": "1.2.0",
            "_view_name": "LayoutView",
            "align_content": null,
            "align_items": null,
            "align_self": null,
            "border": null,
            "bottom": null,
            "display": null,
            "flex": null,
            "flex_flow": null,
            "grid_area": null,
            "grid_auto_columns": null,
            "grid_auto_flow": null,
            "grid_auto_rows": null,
            "grid_column": null,
            "grid_gap": null,
            "grid_row": null,
            "grid_template_areas": null,
            "grid_template_columns": null,
            "grid_template_rows": null,
            "height": null,
            "justify_content": null,
            "justify_items": null,
            "left": null,
            "margin": null,
            "max_height": null,
            "max_width": null,
            "min_height": null,
            "min_width": null,
            "object_fit": null,
            "object_position": null,
            "order": null,
            "overflow": null,
            "overflow_x": null,
            "overflow_y": null,
            "padding": null,
            "right": null,
            "top": null,
            "visibility": null,
            "width": null
          }
        },
        "5ac5664aef754ff4a9dc29526363cf0f": {
          "model_module": "@jupyter-widgets/controls",
          "model_name": "ProgressStyleModel",
          "model_module_version": "1.5.0",
          "state": {
            "_model_module": "@jupyter-widgets/controls",
            "_model_module_version": "1.5.0",
            "_model_name": "ProgressStyleModel",
            "_view_count": null,
            "_view_module": "@jupyter-widgets/base",
            "_view_module_version": "1.2.0",
            "_view_name": "StyleView",
            "bar_color": null,
            "description_width": ""
          }
        },
        "fd68f031423a4771b5dd3c784cbe446d": {
          "model_module": "@jupyter-widgets/controls",
          "model_name": "VBoxModel",
          "model_module_version": "1.5.0",
          "state": {
            "_dom_classes": [],
            "_model_module": "@jupyter-widgets/controls",
            "_model_module_version": "1.5.0",
            "_model_name": "VBoxModel",
            "_view_count": null,
            "_view_module": "@jupyter-widgets/controls",
            "_view_module_version": "1.5.0",
            "_view_name": "VBoxView",
            "box_style": "",
            "children": [
              "IPY_MODEL_bbf59b8af52f4b5788560c33d2591cad",
              "IPY_MODEL_bf226f464525454f982ca3301dee2549"
            ],
            "layout": "IPY_MODEL_410446caf4184635912480fe26a82028"
          }
        },
        "bbf59b8af52f4b5788560c33d2591cad": {
          "model_module": "@jupyter-widgets/controls",
          "model_name": "LabelModel",
          "model_module_version": "1.5.0",
          "state": {
            "_dom_classes": [],
            "_model_module": "@jupyter-widgets/controls",
            "_model_module_version": "1.5.0",
            "_model_name": "LabelModel",
            "_view_count": null,
            "_view_module": "@jupyter-widgets/controls",
            "_view_module_version": "1.5.0",
            "_view_name": "LabelView",
            "description": "",
            "description_tooltip": null,
            "layout": "IPY_MODEL_0d6e451d42f54f7a9fef178b9c588bfb",
            "placeholder": "​",
            "style": "IPY_MODEL_a00eb96eef3a49ba95e0cba59f60d529",
            "value": "0.009 MB of 0.009 MB uploaded (0.000 MB deduped)\r"
          }
        },
        "bf226f464525454f982ca3301dee2549": {
          "model_module": "@jupyter-widgets/controls",
          "model_name": "FloatProgressModel",
          "model_module_version": "1.5.0",
          "state": {
            "_dom_classes": [],
            "_model_module": "@jupyter-widgets/controls",
            "_model_module_version": "1.5.0",
            "_model_name": "FloatProgressModel",
            "_view_count": null,
            "_view_module": "@jupyter-widgets/controls",
            "_view_module_version": "1.5.0",
            "_view_name": "ProgressView",
            "bar_style": "",
            "description": "",
            "description_tooltip": null,
            "layout": "IPY_MODEL_fcc2c57c0875448fa643dd607b6d65d2",
            "max": 1,
            "min": 0,
            "orientation": "horizontal",
            "style": "IPY_MODEL_a93f6e8901044cdca7c92988a0789fe0",
            "value": 1
          }
        },
        "410446caf4184635912480fe26a82028": {
          "model_module": "@jupyter-widgets/base",
          "model_name": "LayoutModel",
          "model_module_version": "1.2.0",
          "state": {
            "_model_module": "@jupyter-widgets/base",
            "_model_module_version": "1.2.0",
            "_model_name": "LayoutModel",
            "_view_count": null,
            "_view_module": "@jupyter-widgets/base",
            "_view_module_version": "1.2.0",
            "_view_name": "LayoutView",
            "align_content": null,
            "align_items": null,
            "align_self": null,
            "border": null,
            "bottom": null,
            "display": null,
            "flex": null,
            "flex_flow": null,
            "grid_area": null,
            "grid_auto_columns": null,
            "grid_auto_flow": null,
            "grid_auto_rows": null,
            "grid_column": null,
            "grid_gap": null,
            "grid_row": null,
            "grid_template_areas": null,
            "grid_template_columns": null,
            "grid_template_rows": null,
            "height": null,
            "justify_content": null,
            "justify_items": null,
            "left": null,
            "margin": null,
            "max_height": null,
            "max_width": null,
            "min_height": null,
            "min_width": null,
            "object_fit": null,
            "object_position": null,
            "order": null,
            "overflow": null,
            "overflow_x": null,
            "overflow_y": null,
            "padding": null,
            "right": null,
            "top": null,
            "visibility": null,
            "width": null
          }
        },
        "0d6e451d42f54f7a9fef178b9c588bfb": {
          "model_module": "@jupyter-widgets/base",
          "model_name": "LayoutModel",
          "model_module_version": "1.2.0",
          "state": {
            "_model_module": "@jupyter-widgets/base",
            "_model_module_version": "1.2.0",
            "_model_name": "LayoutModel",
            "_view_count": null,
            "_view_module": "@jupyter-widgets/base",
            "_view_module_version": "1.2.0",
            "_view_name": "LayoutView",
            "align_content": null,
            "align_items": null,
            "align_self": null,
            "border": null,
            "bottom": null,
            "display": null,
            "flex": null,
            "flex_flow": null,
            "grid_area": null,
            "grid_auto_columns": null,
            "grid_auto_flow": null,
            "grid_auto_rows": null,
            "grid_column": null,
            "grid_gap": null,
            "grid_row": null,
            "grid_template_areas": null,
            "grid_template_columns": null,
            "grid_template_rows": null,
            "height": null,
            "justify_content": null,
            "justify_items": null,
            "left": null,
            "margin": null,
            "max_height": null,
            "max_width": null,
            "min_height": null,
            "min_width": null,
            "object_fit": null,
            "object_position": null,
            "order": null,
            "overflow": null,
            "overflow_x": null,
            "overflow_y": null,
            "padding": null,
            "right": null,
            "top": null,
            "visibility": null,
            "width": null
          }
        },
        "a00eb96eef3a49ba95e0cba59f60d529": {
          "model_module": "@jupyter-widgets/controls",
          "model_name": "DescriptionStyleModel",
          "model_module_version": "1.5.0",
          "state": {
            "_model_module": "@jupyter-widgets/controls",
            "_model_module_version": "1.5.0",
            "_model_name": "DescriptionStyleModel",
            "_view_count": null,
            "_view_module": "@jupyter-widgets/base",
            "_view_module_version": "1.2.0",
            "_view_name": "StyleView",
            "description_width": ""
          }
        },
        "fcc2c57c0875448fa643dd607b6d65d2": {
          "model_module": "@jupyter-widgets/base",
          "model_name": "LayoutModel",
          "model_module_version": "1.2.0",
          "state": {
            "_model_module": "@jupyter-widgets/base",
            "_model_module_version": "1.2.0",
            "_model_name": "LayoutModel",
            "_view_count": null,
            "_view_module": "@jupyter-widgets/base",
            "_view_module_version": "1.2.0",
            "_view_name": "LayoutView",
            "align_content": null,
            "align_items": null,
            "align_self": null,
            "border": null,
            "bottom": null,
            "display": null,
            "flex": null,
            "flex_flow": null,
            "grid_area": null,
            "grid_auto_columns": null,
            "grid_auto_flow": null,
            "grid_auto_rows": null,
            "grid_column": null,
            "grid_gap": null,
            "grid_row": null,
            "grid_template_areas": null,
            "grid_template_columns": null,
            "grid_template_rows": null,
            "height": null,
            "justify_content": null,
            "justify_items": null,
            "left": null,
            "margin": null,
            "max_height": null,
            "max_width": null,
            "min_height": null,
            "min_width": null,
            "object_fit": null,
            "object_position": null,
            "order": null,
            "overflow": null,
            "overflow_x": null,
            "overflow_y": null,
            "padding": null,
            "right": null,
            "top": null,
            "visibility": null,
            "width": null
          }
        },
        "a93f6e8901044cdca7c92988a0789fe0": {
          "model_module": "@jupyter-widgets/controls",
          "model_name": "ProgressStyleModel",
          "model_module_version": "1.5.0",
          "state": {
            "_model_module": "@jupyter-widgets/controls",
            "_model_module_version": "1.5.0",
            "_model_name": "ProgressStyleModel",
            "_view_count": null,
            "_view_module": "@jupyter-widgets/base",
            "_view_module_version": "1.2.0",
            "_view_name": "StyleView",
            "bar_color": null,
            "description_width": ""
          }
        },
        "04694756a7f1450696fb9dca60cef151": {
          "model_module": "@jupyter-widgets/controls",
          "model_name": "VBoxModel",
          "model_module_version": "1.5.0",
          "state": {
            "_dom_classes": [],
            "_model_module": "@jupyter-widgets/controls",
            "_model_module_version": "1.5.0",
            "_model_name": "VBoxModel",
            "_view_count": null,
            "_view_module": "@jupyter-widgets/controls",
            "_view_module_version": "1.5.0",
            "_view_name": "VBoxView",
            "box_style": "",
            "children": [
              "IPY_MODEL_630e27772f7946858664d347990df158",
              "IPY_MODEL_d2a857f566c0460fad04ea95cfbf04b8"
            ],
            "layout": "IPY_MODEL_5dd1245f893540ce95ecfb21567eb3aa"
          }
        },
        "630e27772f7946858664d347990df158": {
          "model_module": "@jupyter-widgets/controls",
          "model_name": "LabelModel",
          "model_module_version": "1.5.0",
          "state": {
            "_dom_classes": [],
            "_model_module": "@jupyter-widgets/controls",
            "_model_module_version": "1.5.0",
            "_model_name": "LabelModel",
            "_view_count": null,
            "_view_module": "@jupyter-widgets/controls",
            "_view_module_version": "1.5.0",
            "_view_name": "LabelView",
            "description": "",
            "description_tooltip": null,
            "layout": "IPY_MODEL_cdda9a41e8ea463a84b283e2e225415c",
            "placeholder": "​",
            "style": "IPY_MODEL_e199c587ca5e4490a9d5ea85300909f3",
            "value": "0.009 MB of 0.009 MB uploaded (0.000 MB deduped)\r"
          }
        },
        "d2a857f566c0460fad04ea95cfbf04b8": {
          "model_module": "@jupyter-widgets/controls",
          "model_name": "FloatProgressModel",
          "model_module_version": "1.5.0",
          "state": {
            "_dom_classes": [],
            "_model_module": "@jupyter-widgets/controls",
            "_model_module_version": "1.5.0",
            "_model_name": "FloatProgressModel",
            "_view_count": null,
            "_view_module": "@jupyter-widgets/controls",
            "_view_module_version": "1.5.0",
            "_view_name": "ProgressView",
            "bar_style": "",
            "description": "",
            "description_tooltip": null,
            "layout": "IPY_MODEL_accdc5f17c054c7bb4cb4e712bc88533",
            "max": 1,
            "min": 0,
            "orientation": "horizontal",
            "style": "IPY_MODEL_733616cc67fc40608de9275e5d925941",
            "value": 1
          }
        },
        "5dd1245f893540ce95ecfb21567eb3aa": {
          "model_module": "@jupyter-widgets/base",
          "model_name": "LayoutModel",
          "model_module_version": "1.2.0",
          "state": {
            "_model_module": "@jupyter-widgets/base",
            "_model_module_version": "1.2.0",
            "_model_name": "LayoutModel",
            "_view_count": null,
            "_view_module": "@jupyter-widgets/base",
            "_view_module_version": "1.2.0",
            "_view_name": "LayoutView",
            "align_content": null,
            "align_items": null,
            "align_self": null,
            "border": null,
            "bottom": null,
            "display": null,
            "flex": null,
            "flex_flow": null,
            "grid_area": null,
            "grid_auto_columns": null,
            "grid_auto_flow": null,
            "grid_auto_rows": null,
            "grid_column": null,
            "grid_gap": null,
            "grid_row": null,
            "grid_template_areas": null,
            "grid_template_columns": null,
            "grid_template_rows": null,
            "height": null,
            "justify_content": null,
            "justify_items": null,
            "left": null,
            "margin": null,
            "max_height": null,
            "max_width": null,
            "min_height": null,
            "min_width": null,
            "object_fit": null,
            "object_position": null,
            "order": null,
            "overflow": null,
            "overflow_x": null,
            "overflow_y": null,
            "padding": null,
            "right": null,
            "top": null,
            "visibility": null,
            "width": null
          }
        },
        "cdda9a41e8ea463a84b283e2e225415c": {
          "model_module": "@jupyter-widgets/base",
          "model_name": "LayoutModel",
          "model_module_version": "1.2.0",
          "state": {
            "_model_module": "@jupyter-widgets/base",
            "_model_module_version": "1.2.0",
            "_model_name": "LayoutModel",
            "_view_count": null,
            "_view_module": "@jupyter-widgets/base",
            "_view_module_version": "1.2.0",
            "_view_name": "LayoutView",
            "align_content": null,
            "align_items": null,
            "align_self": null,
            "border": null,
            "bottom": null,
            "display": null,
            "flex": null,
            "flex_flow": null,
            "grid_area": null,
            "grid_auto_columns": null,
            "grid_auto_flow": null,
            "grid_auto_rows": null,
            "grid_column": null,
            "grid_gap": null,
            "grid_row": null,
            "grid_template_areas": null,
            "grid_template_columns": null,
            "grid_template_rows": null,
            "height": null,
            "justify_content": null,
            "justify_items": null,
            "left": null,
            "margin": null,
            "max_height": null,
            "max_width": null,
            "min_height": null,
            "min_width": null,
            "object_fit": null,
            "object_position": null,
            "order": null,
            "overflow": null,
            "overflow_x": null,
            "overflow_y": null,
            "padding": null,
            "right": null,
            "top": null,
            "visibility": null,
            "width": null
          }
        },
        "e199c587ca5e4490a9d5ea85300909f3": {
          "model_module": "@jupyter-widgets/controls",
          "model_name": "DescriptionStyleModel",
          "model_module_version": "1.5.0",
          "state": {
            "_model_module": "@jupyter-widgets/controls",
            "_model_module_version": "1.5.0",
            "_model_name": "DescriptionStyleModel",
            "_view_count": null,
            "_view_module": "@jupyter-widgets/base",
            "_view_module_version": "1.2.0",
            "_view_name": "StyleView",
            "description_width": ""
          }
        },
        "accdc5f17c054c7bb4cb4e712bc88533": {
          "model_module": "@jupyter-widgets/base",
          "model_name": "LayoutModel",
          "model_module_version": "1.2.0",
          "state": {
            "_model_module": "@jupyter-widgets/base",
            "_model_module_version": "1.2.0",
            "_model_name": "LayoutModel",
            "_view_count": null,
            "_view_module": "@jupyter-widgets/base",
            "_view_module_version": "1.2.0",
            "_view_name": "LayoutView",
            "align_content": null,
            "align_items": null,
            "align_self": null,
            "border": null,
            "bottom": null,
            "display": null,
            "flex": null,
            "flex_flow": null,
            "grid_area": null,
            "grid_auto_columns": null,
            "grid_auto_flow": null,
            "grid_auto_rows": null,
            "grid_column": null,
            "grid_gap": null,
            "grid_row": null,
            "grid_template_areas": null,
            "grid_template_columns": null,
            "grid_template_rows": null,
            "height": null,
            "justify_content": null,
            "justify_items": null,
            "left": null,
            "margin": null,
            "max_height": null,
            "max_width": null,
            "min_height": null,
            "min_width": null,
            "object_fit": null,
            "object_position": null,
            "order": null,
            "overflow": null,
            "overflow_x": null,
            "overflow_y": null,
            "padding": null,
            "right": null,
            "top": null,
            "visibility": null,
            "width": null
          }
        },
        "733616cc67fc40608de9275e5d925941": {
          "model_module": "@jupyter-widgets/controls",
          "model_name": "ProgressStyleModel",
          "model_module_version": "1.5.0",
          "state": {
            "_model_module": "@jupyter-widgets/controls",
            "_model_module_version": "1.5.0",
            "_model_name": "ProgressStyleModel",
            "_view_count": null,
            "_view_module": "@jupyter-widgets/base",
            "_view_module_version": "1.2.0",
            "_view_name": "StyleView",
            "bar_color": null,
            "description_width": ""
          }
        },
        "7db43e67c3dd4663be1cd0143a7262ff": {
          "model_module": "@jupyter-widgets/controls",
          "model_name": "VBoxModel",
          "model_module_version": "1.5.0",
          "state": {
            "_dom_classes": [],
            "_model_module": "@jupyter-widgets/controls",
            "_model_module_version": "1.5.0",
            "_model_name": "VBoxModel",
            "_view_count": null,
            "_view_module": "@jupyter-widgets/controls",
            "_view_module_version": "1.5.0",
            "_view_name": "VBoxView",
            "box_style": "",
            "children": [
              "IPY_MODEL_cef1cbcdd76940f6803ce2801274b024",
              "IPY_MODEL_bdd4a621c5f14b1a850826043458fc1e"
            ],
            "layout": "IPY_MODEL_5886bdc086b64d39b69250d042b4240a"
          }
        },
        "cef1cbcdd76940f6803ce2801274b024": {
          "model_module": "@jupyter-widgets/controls",
          "model_name": "LabelModel",
          "model_module_version": "1.5.0",
          "state": {
            "_dom_classes": [],
            "_model_module": "@jupyter-widgets/controls",
            "_model_module_version": "1.5.0",
            "_model_name": "LabelModel",
            "_view_count": null,
            "_view_module": "@jupyter-widgets/controls",
            "_view_module_version": "1.5.0",
            "_view_name": "LabelView",
            "description": "",
            "description_tooltip": null,
            "layout": "IPY_MODEL_38897bd634c44ccf8c106aca51499efb",
            "placeholder": "​",
            "style": "IPY_MODEL_e66d7a42bc8f408c96ebb24e4e7291d3",
            "value": "0.009 MB of 0.009 MB uploaded (0.000 MB deduped)\r"
          }
        },
        "bdd4a621c5f14b1a850826043458fc1e": {
          "model_module": "@jupyter-widgets/controls",
          "model_name": "FloatProgressModel",
          "model_module_version": "1.5.0",
          "state": {
            "_dom_classes": [],
            "_model_module": "@jupyter-widgets/controls",
            "_model_module_version": "1.5.0",
            "_model_name": "FloatProgressModel",
            "_view_count": null,
            "_view_module": "@jupyter-widgets/controls",
            "_view_module_version": "1.5.0",
            "_view_name": "ProgressView",
            "bar_style": "",
            "description": "",
            "description_tooltip": null,
            "layout": "IPY_MODEL_ab45a226778b457190375fb998657f35",
            "max": 1,
            "min": 0,
            "orientation": "horizontal",
            "style": "IPY_MODEL_a73a5df1cb2d4058a2af5d50bb519600",
            "value": 1
          }
        },
        "5886bdc086b64d39b69250d042b4240a": {
          "model_module": "@jupyter-widgets/base",
          "model_name": "LayoutModel",
          "model_module_version": "1.2.0",
          "state": {
            "_model_module": "@jupyter-widgets/base",
            "_model_module_version": "1.2.0",
            "_model_name": "LayoutModel",
            "_view_count": null,
            "_view_module": "@jupyter-widgets/base",
            "_view_module_version": "1.2.0",
            "_view_name": "LayoutView",
            "align_content": null,
            "align_items": null,
            "align_self": null,
            "border": null,
            "bottom": null,
            "display": null,
            "flex": null,
            "flex_flow": null,
            "grid_area": null,
            "grid_auto_columns": null,
            "grid_auto_flow": null,
            "grid_auto_rows": null,
            "grid_column": null,
            "grid_gap": null,
            "grid_row": null,
            "grid_template_areas": null,
            "grid_template_columns": null,
            "grid_template_rows": null,
            "height": null,
            "justify_content": null,
            "justify_items": null,
            "left": null,
            "margin": null,
            "max_height": null,
            "max_width": null,
            "min_height": null,
            "min_width": null,
            "object_fit": null,
            "object_position": null,
            "order": null,
            "overflow": null,
            "overflow_x": null,
            "overflow_y": null,
            "padding": null,
            "right": null,
            "top": null,
            "visibility": null,
            "width": null
          }
        },
        "38897bd634c44ccf8c106aca51499efb": {
          "model_module": "@jupyter-widgets/base",
          "model_name": "LayoutModel",
          "model_module_version": "1.2.0",
          "state": {
            "_model_module": "@jupyter-widgets/base",
            "_model_module_version": "1.2.0",
            "_model_name": "LayoutModel",
            "_view_count": null,
            "_view_module": "@jupyter-widgets/base",
            "_view_module_version": "1.2.0",
            "_view_name": "LayoutView",
            "align_content": null,
            "align_items": null,
            "align_self": null,
            "border": null,
            "bottom": null,
            "display": null,
            "flex": null,
            "flex_flow": null,
            "grid_area": null,
            "grid_auto_columns": null,
            "grid_auto_flow": null,
            "grid_auto_rows": null,
            "grid_column": null,
            "grid_gap": null,
            "grid_row": null,
            "grid_template_areas": null,
            "grid_template_columns": null,
            "grid_template_rows": null,
            "height": null,
            "justify_content": null,
            "justify_items": null,
            "left": null,
            "margin": null,
            "max_height": null,
            "max_width": null,
            "min_height": null,
            "min_width": null,
            "object_fit": null,
            "object_position": null,
            "order": null,
            "overflow": null,
            "overflow_x": null,
            "overflow_y": null,
            "padding": null,
            "right": null,
            "top": null,
            "visibility": null,
            "width": null
          }
        },
        "e66d7a42bc8f408c96ebb24e4e7291d3": {
          "model_module": "@jupyter-widgets/controls",
          "model_name": "DescriptionStyleModel",
          "model_module_version": "1.5.0",
          "state": {
            "_model_module": "@jupyter-widgets/controls",
            "_model_module_version": "1.5.0",
            "_model_name": "DescriptionStyleModel",
            "_view_count": null,
            "_view_module": "@jupyter-widgets/base",
            "_view_module_version": "1.2.0",
            "_view_name": "StyleView",
            "description_width": ""
          }
        },
        "ab45a226778b457190375fb998657f35": {
          "model_module": "@jupyter-widgets/base",
          "model_name": "LayoutModel",
          "model_module_version": "1.2.0",
          "state": {
            "_model_module": "@jupyter-widgets/base",
            "_model_module_version": "1.2.0",
            "_model_name": "LayoutModel",
            "_view_count": null,
            "_view_module": "@jupyter-widgets/base",
            "_view_module_version": "1.2.0",
            "_view_name": "LayoutView",
            "align_content": null,
            "align_items": null,
            "align_self": null,
            "border": null,
            "bottom": null,
            "display": null,
            "flex": null,
            "flex_flow": null,
            "grid_area": null,
            "grid_auto_columns": null,
            "grid_auto_flow": null,
            "grid_auto_rows": null,
            "grid_column": null,
            "grid_gap": null,
            "grid_row": null,
            "grid_template_areas": null,
            "grid_template_columns": null,
            "grid_template_rows": null,
            "height": null,
            "justify_content": null,
            "justify_items": null,
            "left": null,
            "margin": null,
            "max_height": null,
            "max_width": null,
            "min_height": null,
            "min_width": null,
            "object_fit": null,
            "object_position": null,
            "order": null,
            "overflow": null,
            "overflow_x": null,
            "overflow_y": null,
            "padding": null,
            "right": null,
            "top": null,
            "visibility": null,
            "width": null
          }
        },
        "a73a5df1cb2d4058a2af5d50bb519600": {
          "model_module": "@jupyter-widgets/controls",
          "model_name": "ProgressStyleModel",
          "model_module_version": "1.5.0",
          "state": {
            "_model_module": "@jupyter-widgets/controls",
            "_model_module_version": "1.5.0",
            "_model_name": "ProgressStyleModel",
            "_view_count": null,
            "_view_module": "@jupyter-widgets/base",
            "_view_module_version": "1.2.0",
            "_view_name": "StyleView",
            "bar_color": null,
            "description_width": ""
          }
        },
        "40fdc8ce760e4eb6bd648cfecb5da64b": {
          "model_module": "@jupyter-widgets/controls",
          "model_name": "VBoxModel",
          "model_module_version": "1.5.0",
          "state": {
            "_dom_classes": [],
            "_model_module": "@jupyter-widgets/controls",
            "_model_module_version": "1.5.0",
            "_model_name": "VBoxModel",
            "_view_count": null,
            "_view_module": "@jupyter-widgets/controls",
            "_view_module_version": "1.5.0",
            "_view_name": "VBoxView",
            "box_style": "",
            "children": [
              "IPY_MODEL_25acde23b8b54959a2458e1d909ea638",
              "IPY_MODEL_ba584ca0995b43df8e43dd57f606cdf7"
            ],
            "layout": "IPY_MODEL_eb65a03a041c43d4960778a5b1f470c9"
          }
        },
        "25acde23b8b54959a2458e1d909ea638": {
          "model_module": "@jupyter-widgets/controls",
          "model_name": "LabelModel",
          "model_module_version": "1.5.0",
          "state": {
            "_dom_classes": [],
            "_model_module": "@jupyter-widgets/controls",
            "_model_module_version": "1.5.0",
            "_model_name": "LabelModel",
            "_view_count": null,
            "_view_module": "@jupyter-widgets/controls",
            "_view_module_version": "1.5.0",
            "_view_name": "LabelView",
            "description": "",
            "description_tooltip": null,
            "layout": "IPY_MODEL_2b8456fc085a4e27b4583d324cd004b0",
            "placeholder": "​",
            "style": "IPY_MODEL_dcce25c3770645b6a2a1839248c5ce31",
            "value": "0.009 MB of 0.009 MB uploaded (0.000 MB deduped)\r"
          }
        },
        "ba584ca0995b43df8e43dd57f606cdf7": {
          "model_module": "@jupyter-widgets/controls",
          "model_name": "FloatProgressModel",
          "model_module_version": "1.5.0",
          "state": {
            "_dom_classes": [],
            "_model_module": "@jupyter-widgets/controls",
            "_model_module_version": "1.5.0",
            "_model_name": "FloatProgressModel",
            "_view_count": null,
            "_view_module": "@jupyter-widgets/controls",
            "_view_module_version": "1.5.0",
            "_view_name": "ProgressView",
            "bar_style": "",
            "description": "",
            "description_tooltip": null,
            "layout": "IPY_MODEL_6b37419b6bd24c41849c06576b5cf904",
            "max": 1,
            "min": 0,
            "orientation": "horizontal",
            "style": "IPY_MODEL_326f29590e6543eca8312c10e57c200c",
            "value": 1
          }
        },
        "eb65a03a041c43d4960778a5b1f470c9": {
          "model_module": "@jupyter-widgets/base",
          "model_name": "LayoutModel",
          "model_module_version": "1.2.0",
          "state": {
            "_model_module": "@jupyter-widgets/base",
            "_model_module_version": "1.2.0",
            "_model_name": "LayoutModel",
            "_view_count": null,
            "_view_module": "@jupyter-widgets/base",
            "_view_module_version": "1.2.0",
            "_view_name": "LayoutView",
            "align_content": null,
            "align_items": null,
            "align_self": null,
            "border": null,
            "bottom": null,
            "display": null,
            "flex": null,
            "flex_flow": null,
            "grid_area": null,
            "grid_auto_columns": null,
            "grid_auto_flow": null,
            "grid_auto_rows": null,
            "grid_column": null,
            "grid_gap": null,
            "grid_row": null,
            "grid_template_areas": null,
            "grid_template_columns": null,
            "grid_template_rows": null,
            "height": null,
            "justify_content": null,
            "justify_items": null,
            "left": null,
            "margin": null,
            "max_height": null,
            "max_width": null,
            "min_height": null,
            "min_width": null,
            "object_fit": null,
            "object_position": null,
            "order": null,
            "overflow": null,
            "overflow_x": null,
            "overflow_y": null,
            "padding": null,
            "right": null,
            "top": null,
            "visibility": null,
            "width": null
          }
        },
        "2b8456fc085a4e27b4583d324cd004b0": {
          "model_module": "@jupyter-widgets/base",
          "model_name": "LayoutModel",
          "model_module_version": "1.2.0",
          "state": {
            "_model_module": "@jupyter-widgets/base",
            "_model_module_version": "1.2.0",
            "_model_name": "LayoutModel",
            "_view_count": null,
            "_view_module": "@jupyter-widgets/base",
            "_view_module_version": "1.2.0",
            "_view_name": "LayoutView",
            "align_content": null,
            "align_items": null,
            "align_self": null,
            "border": null,
            "bottom": null,
            "display": null,
            "flex": null,
            "flex_flow": null,
            "grid_area": null,
            "grid_auto_columns": null,
            "grid_auto_flow": null,
            "grid_auto_rows": null,
            "grid_column": null,
            "grid_gap": null,
            "grid_row": null,
            "grid_template_areas": null,
            "grid_template_columns": null,
            "grid_template_rows": null,
            "height": null,
            "justify_content": null,
            "justify_items": null,
            "left": null,
            "margin": null,
            "max_height": null,
            "max_width": null,
            "min_height": null,
            "min_width": null,
            "object_fit": null,
            "object_position": null,
            "order": null,
            "overflow": null,
            "overflow_x": null,
            "overflow_y": null,
            "padding": null,
            "right": null,
            "top": null,
            "visibility": null,
            "width": null
          }
        },
        "dcce25c3770645b6a2a1839248c5ce31": {
          "model_module": "@jupyter-widgets/controls",
          "model_name": "DescriptionStyleModel",
          "model_module_version": "1.5.0",
          "state": {
            "_model_module": "@jupyter-widgets/controls",
            "_model_module_version": "1.5.0",
            "_model_name": "DescriptionStyleModel",
            "_view_count": null,
            "_view_module": "@jupyter-widgets/base",
            "_view_module_version": "1.2.0",
            "_view_name": "StyleView",
            "description_width": ""
          }
        },
        "6b37419b6bd24c41849c06576b5cf904": {
          "model_module": "@jupyter-widgets/base",
          "model_name": "LayoutModel",
          "model_module_version": "1.2.0",
          "state": {
            "_model_module": "@jupyter-widgets/base",
            "_model_module_version": "1.2.0",
            "_model_name": "LayoutModel",
            "_view_count": null,
            "_view_module": "@jupyter-widgets/base",
            "_view_module_version": "1.2.0",
            "_view_name": "LayoutView",
            "align_content": null,
            "align_items": null,
            "align_self": null,
            "border": null,
            "bottom": null,
            "display": null,
            "flex": null,
            "flex_flow": null,
            "grid_area": null,
            "grid_auto_columns": null,
            "grid_auto_flow": null,
            "grid_auto_rows": null,
            "grid_column": null,
            "grid_gap": null,
            "grid_row": null,
            "grid_template_areas": null,
            "grid_template_columns": null,
            "grid_template_rows": null,
            "height": null,
            "justify_content": null,
            "justify_items": null,
            "left": null,
            "margin": null,
            "max_height": null,
            "max_width": null,
            "min_height": null,
            "min_width": null,
            "object_fit": null,
            "object_position": null,
            "order": null,
            "overflow": null,
            "overflow_x": null,
            "overflow_y": null,
            "padding": null,
            "right": null,
            "top": null,
            "visibility": null,
            "width": null
          }
        },
        "326f29590e6543eca8312c10e57c200c": {
          "model_module": "@jupyter-widgets/controls",
          "model_name": "ProgressStyleModel",
          "model_module_version": "1.5.0",
          "state": {
            "_model_module": "@jupyter-widgets/controls",
            "_model_module_version": "1.5.0",
            "_model_name": "ProgressStyleModel",
            "_view_count": null,
            "_view_module": "@jupyter-widgets/base",
            "_view_module_version": "1.2.0",
            "_view_name": "StyleView",
            "bar_color": null,
            "description_width": ""
          }
        },
        "587d8ace3a4c4bdc95e5e1204c269e1e": {
          "model_module": "@jupyter-widgets/controls",
          "model_name": "VBoxModel",
          "model_module_version": "1.5.0",
          "state": {
            "_dom_classes": [],
            "_model_module": "@jupyter-widgets/controls",
            "_model_module_version": "1.5.0",
            "_model_name": "VBoxModel",
            "_view_count": null,
            "_view_module": "@jupyter-widgets/controls",
            "_view_module_version": "1.5.0",
            "_view_name": "VBoxView",
            "box_style": "",
            "children": [
              "IPY_MODEL_e3c0f0b242664dc491e5d73fd30e75e0",
              "IPY_MODEL_0f51965f43124dcb9335399977ba4077"
            ],
            "layout": "IPY_MODEL_490bd5b550224bd4b89084d9bb2115dd"
          }
        },
        "e3c0f0b242664dc491e5d73fd30e75e0": {
          "model_module": "@jupyter-widgets/controls",
          "model_name": "LabelModel",
          "model_module_version": "1.5.0",
          "state": {
            "_dom_classes": [],
            "_model_module": "@jupyter-widgets/controls",
            "_model_module_version": "1.5.0",
            "_model_name": "LabelModel",
            "_view_count": null,
            "_view_module": "@jupyter-widgets/controls",
            "_view_module_version": "1.5.0",
            "_view_name": "LabelView",
            "description": "",
            "description_tooltip": null,
            "layout": "IPY_MODEL_34bed1bdc4e34db98687ad95288c8404",
            "placeholder": "​",
            "style": "IPY_MODEL_a1e80e5fb9374976baff808cfaf8e941",
            "value": "0.009 MB of 0.009 MB uploaded (0.000 MB deduped)\r"
          }
        },
        "0f51965f43124dcb9335399977ba4077": {
          "model_module": "@jupyter-widgets/controls",
          "model_name": "FloatProgressModel",
          "model_module_version": "1.5.0",
          "state": {
            "_dom_classes": [],
            "_model_module": "@jupyter-widgets/controls",
            "_model_module_version": "1.5.0",
            "_model_name": "FloatProgressModel",
            "_view_count": null,
            "_view_module": "@jupyter-widgets/controls",
            "_view_module_version": "1.5.0",
            "_view_name": "ProgressView",
            "bar_style": "",
            "description": "",
            "description_tooltip": null,
            "layout": "IPY_MODEL_f960952124ef46b0ac6dee346dceb85e",
            "max": 1,
            "min": 0,
            "orientation": "horizontal",
            "style": "IPY_MODEL_dfe64e46f3b14077af439022b6f13c49",
            "value": 1
          }
        },
        "490bd5b550224bd4b89084d9bb2115dd": {
          "model_module": "@jupyter-widgets/base",
          "model_name": "LayoutModel",
          "model_module_version": "1.2.0",
          "state": {
            "_model_module": "@jupyter-widgets/base",
            "_model_module_version": "1.2.0",
            "_model_name": "LayoutModel",
            "_view_count": null,
            "_view_module": "@jupyter-widgets/base",
            "_view_module_version": "1.2.0",
            "_view_name": "LayoutView",
            "align_content": null,
            "align_items": null,
            "align_self": null,
            "border": null,
            "bottom": null,
            "display": null,
            "flex": null,
            "flex_flow": null,
            "grid_area": null,
            "grid_auto_columns": null,
            "grid_auto_flow": null,
            "grid_auto_rows": null,
            "grid_column": null,
            "grid_gap": null,
            "grid_row": null,
            "grid_template_areas": null,
            "grid_template_columns": null,
            "grid_template_rows": null,
            "height": null,
            "justify_content": null,
            "justify_items": null,
            "left": null,
            "margin": null,
            "max_height": null,
            "max_width": null,
            "min_height": null,
            "min_width": null,
            "object_fit": null,
            "object_position": null,
            "order": null,
            "overflow": null,
            "overflow_x": null,
            "overflow_y": null,
            "padding": null,
            "right": null,
            "top": null,
            "visibility": null,
            "width": null
          }
        },
        "34bed1bdc4e34db98687ad95288c8404": {
          "model_module": "@jupyter-widgets/base",
          "model_name": "LayoutModel",
          "model_module_version": "1.2.0",
          "state": {
            "_model_module": "@jupyter-widgets/base",
            "_model_module_version": "1.2.0",
            "_model_name": "LayoutModel",
            "_view_count": null,
            "_view_module": "@jupyter-widgets/base",
            "_view_module_version": "1.2.0",
            "_view_name": "LayoutView",
            "align_content": null,
            "align_items": null,
            "align_self": null,
            "border": null,
            "bottom": null,
            "display": null,
            "flex": null,
            "flex_flow": null,
            "grid_area": null,
            "grid_auto_columns": null,
            "grid_auto_flow": null,
            "grid_auto_rows": null,
            "grid_column": null,
            "grid_gap": null,
            "grid_row": null,
            "grid_template_areas": null,
            "grid_template_columns": null,
            "grid_template_rows": null,
            "height": null,
            "justify_content": null,
            "justify_items": null,
            "left": null,
            "margin": null,
            "max_height": null,
            "max_width": null,
            "min_height": null,
            "min_width": null,
            "object_fit": null,
            "object_position": null,
            "order": null,
            "overflow": null,
            "overflow_x": null,
            "overflow_y": null,
            "padding": null,
            "right": null,
            "top": null,
            "visibility": null,
            "width": null
          }
        },
        "a1e80e5fb9374976baff808cfaf8e941": {
          "model_module": "@jupyter-widgets/controls",
          "model_name": "DescriptionStyleModel",
          "model_module_version": "1.5.0",
          "state": {
            "_model_module": "@jupyter-widgets/controls",
            "_model_module_version": "1.5.0",
            "_model_name": "DescriptionStyleModel",
            "_view_count": null,
            "_view_module": "@jupyter-widgets/base",
            "_view_module_version": "1.2.0",
            "_view_name": "StyleView",
            "description_width": ""
          }
        },
        "f960952124ef46b0ac6dee346dceb85e": {
          "model_module": "@jupyter-widgets/base",
          "model_name": "LayoutModel",
          "model_module_version": "1.2.0",
          "state": {
            "_model_module": "@jupyter-widgets/base",
            "_model_module_version": "1.2.0",
            "_model_name": "LayoutModel",
            "_view_count": null,
            "_view_module": "@jupyter-widgets/base",
            "_view_module_version": "1.2.0",
            "_view_name": "LayoutView",
            "align_content": null,
            "align_items": null,
            "align_self": null,
            "border": null,
            "bottom": null,
            "display": null,
            "flex": null,
            "flex_flow": null,
            "grid_area": null,
            "grid_auto_columns": null,
            "grid_auto_flow": null,
            "grid_auto_rows": null,
            "grid_column": null,
            "grid_gap": null,
            "grid_row": null,
            "grid_template_areas": null,
            "grid_template_columns": null,
            "grid_template_rows": null,
            "height": null,
            "justify_content": null,
            "justify_items": null,
            "left": null,
            "margin": null,
            "max_height": null,
            "max_width": null,
            "min_height": null,
            "min_width": null,
            "object_fit": null,
            "object_position": null,
            "order": null,
            "overflow": null,
            "overflow_x": null,
            "overflow_y": null,
            "padding": null,
            "right": null,
            "top": null,
            "visibility": null,
            "width": null
          }
        },
        "dfe64e46f3b14077af439022b6f13c49": {
          "model_module": "@jupyter-widgets/controls",
          "model_name": "ProgressStyleModel",
          "model_module_version": "1.5.0",
          "state": {
            "_model_module": "@jupyter-widgets/controls",
            "_model_module_version": "1.5.0",
            "_model_name": "ProgressStyleModel",
            "_view_count": null,
            "_view_module": "@jupyter-widgets/base",
            "_view_module_version": "1.2.0",
            "_view_name": "StyleView",
            "bar_color": null,
            "description_width": ""
          }
        },
        "4cb12d6b9423426fb3d2a82b5fb1a8aa": {
          "model_module": "@jupyter-widgets/controls",
          "model_name": "VBoxModel",
          "model_module_version": "1.5.0",
          "state": {
            "_dom_classes": [],
            "_model_module": "@jupyter-widgets/controls",
            "_model_module_version": "1.5.0",
            "_model_name": "VBoxModel",
            "_view_count": null,
            "_view_module": "@jupyter-widgets/controls",
            "_view_module_version": "1.5.0",
            "_view_name": "VBoxView",
            "box_style": "",
            "children": [
              "IPY_MODEL_68c57fc0159644658d92e46be7379994",
              "IPY_MODEL_7eb390959c9e4e4ba9efc24a73551480"
            ],
            "layout": "IPY_MODEL_e7463617fd1d40ee885bac30ad9ef196"
          }
        },
        "68c57fc0159644658d92e46be7379994": {
          "model_module": "@jupyter-widgets/controls",
          "model_name": "LabelModel",
          "model_module_version": "1.5.0",
          "state": {
            "_dom_classes": [],
            "_model_module": "@jupyter-widgets/controls",
            "_model_module_version": "1.5.0",
            "_model_name": "LabelModel",
            "_view_count": null,
            "_view_module": "@jupyter-widgets/controls",
            "_view_module_version": "1.5.0",
            "_view_name": "LabelView",
            "description": "",
            "description_tooltip": null,
            "layout": "IPY_MODEL_1f42a17192c24e92b14b8fc9bfe4693a",
            "placeholder": "​",
            "style": "IPY_MODEL_99c7878caa034b33aede1afa30a71d9d",
            "value": "0.009 MB of 0.009 MB uploaded (0.000 MB deduped)\r"
          }
        },
        "7eb390959c9e4e4ba9efc24a73551480": {
          "model_module": "@jupyter-widgets/controls",
          "model_name": "FloatProgressModel",
          "model_module_version": "1.5.0",
          "state": {
            "_dom_classes": [],
            "_model_module": "@jupyter-widgets/controls",
            "_model_module_version": "1.5.0",
            "_model_name": "FloatProgressModel",
            "_view_count": null,
            "_view_module": "@jupyter-widgets/controls",
            "_view_module_version": "1.5.0",
            "_view_name": "ProgressView",
            "bar_style": "",
            "description": "",
            "description_tooltip": null,
            "layout": "IPY_MODEL_aeff313b551f4386ab48ca37eb1758ab",
            "max": 1,
            "min": 0,
            "orientation": "horizontal",
            "style": "IPY_MODEL_05545b9baeca486098907d3edcc217a5",
            "value": 1
          }
        },
        "e7463617fd1d40ee885bac30ad9ef196": {
          "model_module": "@jupyter-widgets/base",
          "model_name": "LayoutModel",
          "model_module_version": "1.2.0",
          "state": {
            "_model_module": "@jupyter-widgets/base",
            "_model_module_version": "1.2.0",
            "_model_name": "LayoutModel",
            "_view_count": null,
            "_view_module": "@jupyter-widgets/base",
            "_view_module_version": "1.2.0",
            "_view_name": "LayoutView",
            "align_content": null,
            "align_items": null,
            "align_self": null,
            "border": null,
            "bottom": null,
            "display": null,
            "flex": null,
            "flex_flow": null,
            "grid_area": null,
            "grid_auto_columns": null,
            "grid_auto_flow": null,
            "grid_auto_rows": null,
            "grid_column": null,
            "grid_gap": null,
            "grid_row": null,
            "grid_template_areas": null,
            "grid_template_columns": null,
            "grid_template_rows": null,
            "height": null,
            "justify_content": null,
            "justify_items": null,
            "left": null,
            "margin": null,
            "max_height": null,
            "max_width": null,
            "min_height": null,
            "min_width": null,
            "object_fit": null,
            "object_position": null,
            "order": null,
            "overflow": null,
            "overflow_x": null,
            "overflow_y": null,
            "padding": null,
            "right": null,
            "top": null,
            "visibility": null,
            "width": null
          }
        },
        "1f42a17192c24e92b14b8fc9bfe4693a": {
          "model_module": "@jupyter-widgets/base",
          "model_name": "LayoutModel",
          "model_module_version": "1.2.0",
          "state": {
            "_model_module": "@jupyter-widgets/base",
            "_model_module_version": "1.2.0",
            "_model_name": "LayoutModel",
            "_view_count": null,
            "_view_module": "@jupyter-widgets/base",
            "_view_module_version": "1.2.0",
            "_view_name": "LayoutView",
            "align_content": null,
            "align_items": null,
            "align_self": null,
            "border": null,
            "bottom": null,
            "display": null,
            "flex": null,
            "flex_flow": null,
            "grid_area": null,
            "grid_auto_columns": null,
            "grid_auto_flow": null,
            "grid_auto_rows": null,
            "grid_column": null,
            "grid_gap": null,
            "grid_row": null,
            "grid_template_areas": null,
            "grid_template_columns": null,
            "grid_template_rows": null,
            "height": null,
            "justify_content": null,
            "justify_items": null,
            "left": null,
            "margin": null,
            "max_height": null,
            "max_width": null,
            "min_height": null,
            "min_width": null,
            "object_fit": null,
            "object_position": null,
            "order": null,
            "overflow": null,
            "overflow_x": null,
            "overflow_y": null,
            "padding": null,
            "right": null,
            "top": null,
            "visibility": null,
            "width": null
          }
        },
        "99c7878caa034b33aede1afa30a71d9d": {
          "model_module": "@jupyter-widgets/controls",
          "model_name": "DescriptionStyleModel",
          "model_module_version": "1.5.0",
          "state": {
            "_model_module": "@jupyter-widgets/controls",
            "_model_module_version": "1.5.0",
            "_model_name": "DescriptionStyleModel",
            "_view_count": null,
            "_view_module": "@jupyter-widgets/base",
            "_view_module_version": "1.2.0",
            "_view_name": "StyleView",
            "description_width": ""
          }
        },
        "aeff313b551f4386ab48ca37eb1758ab": {
          "model_module": "@jupyter-widgets/base",
          "model_name": "LayoutModel",
          "model_module_version": "1.2.0",
          "state": {
            "_model_module": "@jupyter-widgets/base",
            "_model_module_version": "1.2.0",
            "_model_name": "LayoutModel",
            "_view_count": null,
            "_view_module": "@jupyter-widgets/base",
            "_view_module_version": "1.2.0",
            "_view_name": "LayoutView",
            "align_content": null,
            "align_items": null,
            "align_self": null,
            "border": null,
            "bottom": null,
            "display": null,
            "flex": null,
            "flex_flow": null,
            "grid_area": null,
            "grid_auto_columns": null,
            "grid_auto_flow": null,
            "grid_auto_rows": null,
            "grid_column": null,
            "grid_gap": null,
            "grid_row": null,
            "grid_template_areas": null,
            "grid_template_columns": null,
            "grid_template_rows": null,
            "height": null,
            "justify_content": null,
            "justify_items": null,
            "left": null,
            "margin": null,
            "max_height": null,
            "max_width": null,
            "min_height": null,
            "min_width": null,
            "object_fit": null,
            "object_position": null,
            "order": null,
            "overflow": null,
            "overflow_x": null,
            "overflow_y": null,
            "padding": null,
            "right": null,
            "top": null,
            "visibility": null,
            "width": null
          }
        },
        "05545b9baeca486098907d3edcc217a5": {
          "model_module": "@jupyter-widgets/controls",
          "model_name": "ProgressStyleModel",
          "model_module_version": "1.5.0",
          "state": {
            "_model_module": "@jupyter-widgets/controls",
            "_model_module_version": "1.5.0",
            "_model_name": "ProgressStyleModel",
            "_view_count": null,
            "_view_module": "@jupyter-widgets/base",
            "_view_module_version": "1.2.0",
            "_view_name": "StyleView",
            "bar_color": null,
            "description_width": ""
          }
        }
      }
    },
    "accelerator": "GPU"
  },
  "nbformat": 4,
  "nbformat_minor": 0
}