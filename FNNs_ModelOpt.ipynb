{
  "cells": [
    {
      "cell_type": "markdown",
      "metadata": {
        "id": "view-in-github",
        "colab_type": "text"
      },
      "source": [
        "<a href=\"https://colab.research.google.com/github/EAkeweje/Accelerating-Hydrogen-Oxidation-Calculations/blob/main/FNNs_ModelOpt.ipynb\" target=\"_parent\"><img src=\"https://colab.research.google.com/assets/colab-badge.svg\" alt=\"Open In Colab\"/></a>"
      ]
    },
    {
      "cell_type": "code",
      "source": [
        "!pip install wandb -Uq"
      ],
      "metadata": {
        "colab": {
          "base_uri": "https://localhost:8080/"
        },
        "id": "pnUWNv1Zfd0i",
        "outputId": "a85057d1-8146-49f9-de99-b68555bcb25a"
      },
      "execution_count": null,
      "outputs": [
        {
          "output_type": "stream",
          "name": "stdout",
          "text": [
            "\u001b[K     |████████████████████████████████| 1.8 MB 15.9 MB/s \n",
            "\u001b[K     |████████████████████████████████| 181 kB 63.2 MB/s \n",
            "\u001b[K     |████████████████████████████████| 162 kB 64.0 MB/s \n",
            "\u001b[K     |████████████████████████████████| 63 kB 1.8 MB/s \n",
            "\u001b[K     |████████████████████████████████| 158 kB 70.1 MB/s \n",
            "\u001b[K     |████████████████████████████████| 157 kB 73.3 MB/s \n",
            "\u001b[K     |████████████████████████████████| 157 kB 71.3 MB/s \n",
            "\u001b[K     |████████████████████████████████| 157 kB 58.5 MB/s \n",
            "\u001b[K     |████████████████████████████████| 157 kB 77.4 MB/s \n",
            "\u001b[K     |████████████████████████████████| 157 kB 76.8 MB/s \n",
            "\u001b[K     |████████████████████████████████| 157 kB 77.0 MB/s \n",
            "\u001b[K     |████████████████████████████████| 157 kB 66.4 MB/s \n",
            "\u001b[K     |████████████████████████████████| 156 kB 76.1 MB/s \n",
            "\u001b[?25h  Building wheel for pathtools (setup.py) ... \u001b[?25l\u001b[?25hdone\n"
          ]
        }
      ]
    },
    {
      "cell_type": "code",
      "source": [
        "#import and login\n",
        "import wandb\n",
        "\n",
        "wandb.login()"
      ],
      "metadata": {
        "colab": {
          "base_uri": "https://localhost:8080/",
          "height": 105
        },
        "id": "mhLOWrxLfg1N",
        "outputId": "e536f068-bf9b-47fe-888a-ace66e3b5799"
      },
      "execution_count": null,
      "outputs": [
        {
          "output_type": "stream",
          "name": "stderr",
          "text": [
            "ERROR:wandb.jupyter:Failed to detect the name of this notebook, you can set it manually with the WANDB_NOTEBOOK_NAME environment variable to enable code saving.\n"
          ]
        },
        {
          "output_type": "display_data",
          "data": {
            "text/plain": [
              "<IPython.core.display.Javascript object>"
            ],
            "application/javascript": [
              "\n",
              "        window._wandbApiKey = new Promise((resolve, reject) => {\n",
              "            function loadScript(url) {\n",
              "            return new Promise(function(resolve, reject) {\n",
              "                let newScript = document.createElement(\"script\");\n",
              "                newScript.onerror = reject;\n",
              "                newScript.onload = resolve;\n",
              "                document.body.appendChild(newScript);\n",
              "                newScript.src = url;\n",
              "            });\n",
              "            }\n",
              "            loadScript(\"https://cdn.jsdelivr.net/npm/postmate/build/postmate.min.js\").then(() => {\n",
              "            const iframe = document.createElement('iframe')\n",
              "            iframe.style.cssText = \"width:0;height:0;border:none\"\n",
              "            document.body.appendChild(iframe)\n",
              "            const handshake = new Postmate({\n",
              "                container: iframe,\n",
              "                url: 'https://wandb.ai/authorize'\n",
              "            });\n",
              "            const timeout = setTimeout(() => reject(\"Couldn't auto authenticate\"), 5000)\n",
              "            handshake.then(function(child) {\n",
              "                child.on('authorize', data => {\n",
              "                    clearTimeout(timeout)\n",
              "                    resolve(data)\n",
              "                });\n",
              "            });\n",
              "            })\n",
              "        });\n",
              "    "
            ]
          },
          "metadata": {}
        },
        {
          "output_type": "stream",
          "name": "stderr",
          "text": [
            "\u001b[34m\u001b[1mwandb\u001b[0m: Appending key for api.wandb.ai to your netrc file: /root/.netrc\n"
          ]
        },
        {
          "output_type": "execute_result",
          "data": {
            "text/plain": [
              "True"
            ]
          },
          "metadata": {},
          "execution_count": 4
        }
      ]
    },
    {
      "cell_type": "code",
      "source": [
        "import numpy as np\n",
        "import matplotlib.pyplot as plt\n",
        "import json\n",
        "\n",
        "import torch\n",
        "from sklearn.metrics import r2_score\n",
        "from torch.autograd import Variable\n",
        "import torch.optim as optim\n",
        "import torch.nn as nn\n",
        "import torch.nn.functional as F\n",
        "from torch.utils.data import Dataset, DataLoader\n",
        "from torch.utils.data.sampler import SubsetRandomSampler\n",
        "from torchvision import transforms\n",
        "from torchsummary import summary\n",
        "\n",
        "import os\n",
        "import sys"
      ],
      "metadata": {
        "id": "O6uNaaPRlQ5C"
      },
      "execution_count": null,
      "outputs": []
    },
    {
      "cell_type": "markdown",
      "metadata": {
        "id": "VqM_0xMo41Hb"
      },
      "source": [
        "## Utils and network"
      ]
    },
    {
      "cell_type": "code",
      "source": [
        "#get utils\n",
        "\n",
        "sys.path.append(os.getcwd()+'/scripts')\n",
        "import Wandb_Utils as wu"
      ],
      "metadata": {
        "id": "Yq4oyNKsePgU"
      },
      "execution_count": null,
      "outputs": []
    },
    {
      "cell_type": "code",
      "source": [
        "class net(nn.Module):\n",
        "  def __init__(self, config):\n",
        "    super(net, self).__init__()\n",
        "    self.in_dim, self.out_dim = config.input_size, config.output_size\n",
        "    self.nhid = config.num_layers\n",
        "    self.hid_dims = config.hidden_size\n",
        "\n",
        "    self.in_layer = nn.Linear(self.in_dim, self.hid_dims[0])\n",
        "    current_dim = self.hid_dims[0]\n",
        "    self.hid_layers = nn.ModuleList()\n",
        "    for i in range(self.nhid-1):\n",
        "      self.hid_layers.append(nn.Linear(current_dim, self.hid_dims[1]))\n",
        "      current_dim = self.hid_dims[1]\n",
        "    self.hid_layers.append(nn.Linear(current_dim, self.hid_dims[0]))\n",
        "    self.out_layer = nn.Linear(self.hid_dims[0], self.out_dim)\n",
        "    self.relu = nn.ReLU()\n",
        "    self.in_batchnorm = nn.BatchNorm1d(self.hid_dims[0])\n",
        "    self.hid_batchnorm = nn.BatchNorm1d(self.hid_dims[1])\n",
        "    self.out_batchnorm = nn.BatchNorm1d(self.hid_dims[0])\n",
        "    self.dropout = nn.Dropout(p = config.dropout)\n",
        "\n",
        "  def forward(self, x):\n",
        "    #pass input to input layer\n",
        "    out = self.in_batchnorm(self.relu(self.in_layer(x)))\n",
        "    #pass through hidden layers\n",
        "    for i in range(self.nhid-1):\n",
        "      out = self.hid_batchnorm(self.relu(self.hid_layers[i](self.dropout(out))))\n",
        "    out = self.out_batchnorm(self.relu(self.hid_layers[-1](self.dropout(out))))\n",
        "    #pass to output layer\n",
        "    out = self.out_layer(self.dropout(out))\n",
        "\n",
        "    return out\n",
        "    \n",
        "def init_weights(m):\n",
        "  if type(m) == nn.Linear:\n",
        "    nn.init.kaiming_uniform_(m.weight, nonlinearity= 'relu')\n",
        "    m.bias.data.fill_(0.0)"
      ],
      "metadata": {
        "id": "Imd0sRMOsbxz"
      },
      "execution_count": null,
      "outputs": []
    },
    {
      "cell_type": "markdown",
      "metadata": {
        "id": "s0CQC6s-zTGF"
      },
      "source": [
        "# Model Optimization"
      ]
    },
    {
      "cell_type": "code",
      "source": [
        "#Define the sweep\n",
        "sweep_config = {\n",
        "    'name': 'Accelerating Hydrogen Oxidation Calculations (Concentration inputs, transformed data, Exclude pressure, Exclude H2 and O2 from model target, last steps)',\n",
        "    'description': 'Model Optimization for Adam Optimizer',\n",
        "    'method': 'bayes', #how sweep controller select hyperparameter\n",
        "    'metric': {'name': 'loss',\n",
        "               'goal': 'minimize'}\n",
        "                }\n",
        "param_dict = {\n",
        "    'batch_size': {\n",
        "        'values': [8, 16, 32, 64, 128]\n",
        "        },\n",
        "    'timesteps': {\n",
        "        'value': [-1]\n",
        "        },\n",
        "    'nsample': {\n",
        "        'value': 1500\n",
        "        },\n",
        "    'hidden_size': {\n",
        "        'values': [[32, 128], [32, 256], [64, 256], [64, 512]]\n",
        "        },\n",
        "    'num_layers': {\n",
        "        'values': [2, 3, 4]\n",
        "        },\n",
        "    'dropout': {\n",
        "        'values': [0, 0.05, 0.1, 0.15, 0.2]\n",
        "    },\n",
        "    'epochs': {\n",
        "        'value': 2500\n",
        "        },\n",
        "    'optimizer': {\n",
        "        'value': 'Adam'\n",
        "        },\n",
        "    'lr': {\n",
        "      'values': [5e-2, 1e-2, 5e-3, 1e-3, 5e-4, 1e-4]\n",
        "        },\n",
        "    'weight_decay': {\n",
        "        'values' : [0.05, 0.01, 0]\n",
        "    },\n",
        "    'beta1': {\n",
        "        'values': [0.85, 0.9, 0.95]\n",
        "        },\n",
        "    'beta2': {\n",
        "        'values': [0.9, 0.95, 0.99]\n",
        "        },\n",
        "    'mb_coeff': {\n",
        "        'value': 0\n",
        "        },\n",
        "    'scheduling': {\n",
        "        'values': [True, False]\n",
        "       },\n",
        "    'model': {\n",
        "        'value': 'FNN'\n",
        "    },\n",
        "    'split': {\n",
        "        'value': [0.7, 0.2, 0.1]\n",
        "    },\n",
        "    'dict_path':{\n",
        "        'value': None\n",
        "    },\n",
        "    'mean_std_path': {\n",
        "        'value': \"ConcInputs_NoH2O2(taraget_only)_NoPressure_mean_std_laststep.json\"\n",
        "    },\n",
        "    'input_size':{\n",
        "        'value': 9\n",
        "    },\n",
        "    'output_size':{\n",
        "        'value': 7\n",
        "    },\n",
        "    'in_conc': {\n",
        "        'value': True\n",
        "    },\n",
        "    'inputs_path': {\n",
        "        'value' : 'input_98660.npy'\n",
        "    },\n",
        "    'outputs_dir': {\n",
        "        'value': './Out_files_npy'\n",
        "    },\n",
        "    'in_h2_o2': {\n",
        "        'value': True\n",
        "    },\n",
        "    'out_h2_o2': {\n",
        "        'value': False\n",
        "    },\n",
        "    'in_pres': {\n",
        "        'value': False\n",
        "    },\n",
        "    'return_1d_input': {\n",
        "        'value' : True\n",
        "    }\n",
        "    }\n",
        "sweep_config['parameters'] = param_dict\n",
        "sweep_config"
      ],
      "metadata": {
        "colab": {
          "base_uri": "https://localhost:8080/"
        },
        "id": "h9qSjSNEh_Om",
        "outputId": "3634a048-97ed-43e9-f085-ceb3b82b97d0"
      },
      "execution_count": null,
      "outputs": [
        {
          "output_type": "execute_result",
          "data": {
            "text/plain": [
              "{'name': 'Accelerating Hydrogen Oxidation Calculations (Concentration inputs, transformed data, Exclude pressure, Exclude H2 and O2 from model target, last steps)',\n",
              " 'description': 'Model Optimization for Adam Optimizer',\n",
              " 'method': 'bayes',\n",
              " 'metric': {'name': 'loss', 'goal': 'minimize'},\n",
              " 'parameters': {'batch_size': {'values': [8, 16, 32, 64, 128]},\n",
              "  'timesteps': {'value': [-1]},\n",
              "  'nsample': {'value': 1500},\n",
              "  'hidden_size': {'values': [[32, 128], [32, 256], [64, 256], [64, 512]]},\n",
              "  'num_layers': {'values': [2, 3, 4]},\n",
              "  'dropout': {'values': [0, 0.05, 0.1, 0.15, 0.2]},\n",
              "  'epochs': {'value': 2500},\n",
              "  'optimizer': {'value': 'Adam'},\n",
              "  'lr': {'values': [0.05, 0.01, 0.005, 0.001, 0.0005, 0.0001]},\n",
              "  'weight_decay': {'values': [0.05, 0.01, 0]},\n",
              "  'beta1': {'values': [0.85, 0.9, 0.95]},\n",
              "  'beta2': {'values': [0.9, 0.95, 0.99]},\n",
              "  'mb_coeff': {'value': 0},\n",
              "  'scheduling': {'values': [True, False]},\n",
              "  'model': {'value': 'FNN'},\n",
              "  'split': {'value': [0.7, 0.2, 0.1]},\n",
              "  'dict_path': {'value': None},\n",
              "  'mean_std_path': {'value': 'ConcInputs_NoH2O2(taraget_only)_NoPressure_mean_std_laststep.json'},\n",
              "  'input_size': {'value': 9},\n",
              "  'output_size': {'value': 7},\n",
              "  'in_conc': {'value': True},\n",
              "  'inputs_path': {'value': 'input_98660.npy'},\n",
              "  'outputs_dir': {'value': './Out_files_npy'},\n",
              "  'in_h2_o2': {'value': True},\n",
              "  'out_h2_o2': {'value': False},\n",
              "  'in_pres': {'value': False},\n",
              "  'return_1d_input': {'value': True}}}"
            ]
          },
          "metadata": {},
          "execution_count": 8
        }
      ]
    },
    {
      "cell_type": "code",
      "source": [
        "# Initialize Sweep\n",
        "sweep_id = wandb.sweep(sweep_config, project=\"Hydrogen-Oxidation-Models-Optimization\")"
      ],
      "metadata": {
        "colab": {
          "base_uri": "https://localhost:8080/"
        },
        "id": "QmEhTWYBiBcQ",
        "outputId": "98bed33b-e84e-4ff4-cf87-446fc9732a3c"
      },
      "execution_count": null,
      "outputs": [
        {
          "output_type": "stream",
          "name": "stdout",
          "text": [
            "Create sweep with ID: iwmnhlen\n",
            "Sweep URL: https://wandb.ai/data-bigwig/Hydrogen-Oxidation-Models-Optimization/sweeps/iwmnhlen\n"
          ]
        }
      ]
    },
    {
      "cell_type": "code",
      "source": [
        "# sweep_id = 'yxhoindr'"
      ],
      "metadata": {
        "id": "X8v8r86Iq6K_"
      },
      "execution_count": null,
      "outputs": []
    },
    {
      "cell_type": "code",
      "execution_count": null,
      "metadata": {
        "id": "8t5KrR8hEVJi"
      },
      "outputs": [],
      "source": [
        "def train_model(config = None):\n",
        "  # tell wandb to get started\n",
        "  with wandb.init(config=config):\n",
        "  # access all HPs through wandb.config, so logging matches execution!\n",
        "    config = wandb.config\n",
        "\n",
        "    device = torch.device(\"cuda\" if torch.cuda.is_available() else \"cpu\")\n",
        "\n",
        "    #Get data\n",
        "    train_loader, val_loader, test_loader = wu.make_dataloaders(config)\n",
        "    #obtaining mean and std of training set\n",
        "    train_x_mean, train_x_std, train_y_mean, train_y_std = wu.load_mean_std(config.mean_std_path, train_loader)\n",
        "    #initialize model\n",
        "    model = net(config)\n",
        "\n",
        "    #training\n",
        "    model = model.to(device)\n",
        "    mean_std = [train_x_mean.to(device), train_x_std.to(device), train_y_mean.to(device), train_y_std.to(device)]\n",
        "    criterion  = nn.MSELoss()\n",
        "    epochs, val_loss = wu.training(model, train_loader, val_loader, config, criterion, mean_std, device)\n",
        "    wandb.log({'loss': val_loss})\n",
        "    wandb.log({'num_epochs': epochs})"
      ]
    },
    {
      "cell_type": "code",
      "source": [
        "wandb.agent(sweep_id, train_model, project=\"Hydrogen-Oxidation-Models-Optimization\", count=20)"
      ],
      "metadata": {
        "id": "5n5grPglt28J",
        "colab": {
          "base_uri": "https://localhost:8080/",
          "height": 1000,
          "referenced_widgets": [
            "a907211276c94005a350cb9450af7821",
            "2d3f4a415af143868bb79dc85b6aa2cc",
            "851c5bbed28946cda8bf31d42d3bd4ae",
            "8d00180261944efd8a3a5920c5afa198",
            "a8d5d2ce96d4440b857aaa744b369c5d",
            "a1ced0c2c1de4bb1a8d8b2af3ec3011b",
            "1eeff61513b847c3899ec8528e1abc65",
            "aab4f2939e9c431c85dc6fc4399bb00b",
            "b960f6f230e74844b8fc6d1595ce01b1",
            "36bbeaed9d7e4e2b9c8f98e48c99cab0",
            "36aa561dd1e7494ab219e13430f0fc12",
            "db8a022f61724703ac7dc8cf3f5a27c0",
            "5cbe5477c01d40fe85f4efec0977ff00",
            "da7f55c8e08048ba895029ee3763a7a3",
            "1016df75661144f9b0fc005b5cb6bdbe",
            "5a15bda0ea404bfdbc1593e6cf219447",
            "30e3bc108a1b4da9886e9d6aa6600c9d",
            "07607b3a2d4b4ccc85f730bf10838eea",
            "e5c2c9d7f5e64f2db377397432ecb40e",
            "1379765f7a714cad90ab3cdf0bb2ef29",
            "02c25ecb0ec244a2a6cd5bf9d2b0bb5b",
            "0fb66f2f7fa3473b8b44b679b80d3a36",
            "2ef2a0d56abe45618c099fcbb620c346",
            "5ff183d10640429fa387032997e73f13",
            "9821b9f6d60c4d17ad340c4958ff6750",
            "5a23c4655aa64cc08af7370890bc0db7",
            "3d9e2b84115e4fe9afd7d134fd2dd116",
            "138fac336fc74b3298568ad81b92305f",
            "dfb0aa1330684a038cc23d304789734f",
            "5c0bfb5263404efb8a114495a79d7350",
            "72fd9c2881924c3b81961f82e2daa1a1",
            "b746113323bc44e0bd6f61179f7c740a",
            "f6cf9741712349418d75a5b9e8786f2f",
            "007ea204dfe349ffa5f1fe586223242f",
            "9a0b9daff6dd4a36a88f588e82b7fcb9",
            "e8c4098665a44440944cd4b625b58009",
            "75ed14a2e93d421dbffc1141a2bb834f",
            "071a63ad4d13423391db0674c890f3b0",
            "11557ff3cd264bf39c756a2344453be1",
            "0a68743058224943988b84118373fe88",
            "3381942555b440f5a9ac5c166198446d",
            "85fb8fe2c9354e03baffc67a176442f6",
            "65a1a37f09bc4b538e378073d24d64ca",
            "44c3a116264647ed862c1272cbcc174c",
            "98ce87361e664c638a186db8afdcfb31",
            "5236a7aee4d54e28a8469c1f8c0b75a7",
            "3caf57e29c5f4ba285499e133d0adc2e",
            "222af38f61ae48468d35ba4eeda0cf8f",
            "28a21b307f7f48dc9b858880e0c72e60",
            "73e37c9cb8df4799944335541c93b442",
            "2e0a2f59cbb7455792f702948a220221",
            "d14dc72ead8c49219b01b3e54d9d8f27",
            "dc267e9beb2446e59effac8fe7c40c1e",
            "2963ce4aa93940408b400d244db160e7",
            "07468a1e35814ca08fa9f04035f05ca3",
            "728c7c720b514fc1b0bc0ea854738c59",
            "6e328fa06caf4038842e1ada5e9e37c3",
            "f45e4236530a4deea6ce70dfa48f981c",
            "f91dddb646794439b3db7eecb6510e53",
            "3b50762b482f486f9143dbb3d7a132b8",
            "0e287311b97b4779818dc86d254da0e6",
            "6c2a83ddc52e4aa998839f4bcde5cc0a",
            "35708c68cc70457c8db4736585988641",
            "91cad3752dce4ed182e3344f965482cb",
            "e1a606469e44457fb349b6ebec41a9ae",
            "0d11db0754c74d56b5f2e28962016c14",
            "9442f53d276545c0ba94473fe0359c20",
            "9adbd7a6400444f89b62191a5b8c190f",
            "3ee14c0a025947d5ba29c8836c44ded5",
            "67d65038c8ab4713b2cba5187645d7a7",
            "e74bc1eb761648de939dfeb478d765a6",
            "028f1eb4979c41b0ae921850e1d9e3d6",
            "2ff8d465b03f43a39f5f6bbce6b32728",
            "7c425014dc054409bdcdb68a520135f9",
            "e06da9f5068f4082baca0ea326089d0d",
            "3ab7c0f9c45840faab578f3b94f696d2",
            "53d887aeb7e043eabeb2dddfe24612fa",
            "b445b7eb78254752b0587247ed84678d",
            "eb92812c18b34229a6552d872b2994dd",
            "3753c926222d4b14871cfa9fc52cfde2",
            "cb4b6d4879744cea9ffd5f0163119794",
            "16c1af6e184e4199aa6f889c133215c6",
            "4376b99ad9df4bfd9df7c3daee08e879",
            "3d8ecf74c2a8492fb260af4c8213b7a3",
            "c895e2fd376a41aa9c93951f17eea6f7",
            "228e38e0a2a0401c89a80cebb517058b",
            "236270a196d347b58f4c1f95434a4ecf",
            "9cf7b8c458334157b54cdfac80d89766",
            "5ea70c214e0d43f3a78ca9013df01f0f",
            "1869ee006f0c4c8da49f6cc4acab7951",
            "174c33ed3aa04197a9271edc6122985c",
            "cb71e9ce850f4c89bf1b9b9e9187ab73",
            "7b461f885ac0409ab23e7ecca5d23631",
            "fcfe88fea2b940e8be83e29d26c3c180",
            "9ec0cbfc48e248b98a495d439de87b2a",
            "98d4d9f499054a7a8b2901fc7494fcef",
            "7204e8c7c21545bda54127b1b6597b1b",
            "7f92c2ddcb844720bbd145e458bdbd5e",
            "5aa33223209d46baa211c9db89a69d8e",
            "3e47993d41744d44a22ade979551998c",
            "a95e9c2935f340a38ec8462635c32d01",
            "ee1550672492474d90e40364d412290a",
            "a68f914d6d6c4c1cab40a5114ed1cbd4",
            "6730aca2307f485a818924666914cc45",
            "2e543590540e4025b9695751ebd1ffff",
            "4e101fe5d27741ffad6f32907fd421c2",
            "1b73a08dc7914a0e8e401dd0106bbb00",
            "3b0e71b465d649d19dd66ef8cb96264a",
            "d44282322cd44a8aafd9fc85e084415f",
            "1ee61dd2fa18461a9e89b4d103822193",
            "1fea7288ced642aab3e7cd6e95e91c0a",
            "dc33731e7b4d429c886e9091b13541ce",
            "4c46c5f9bc524f2e87d707cf77fd544b",
            "0282b98e613c42dfb330ee0849336d33",
            "8ddfaf84e46341559c9324fb04d7b3d9",
            "cb2e0749ec904c229defeab5ac1cff94",
            "d4d2ec18971c48a49ae258f68985afff",
            "d2eea11464ef4a5587c15acbdb586709",
            "2a5bbe642a424983805a7c1c372557c6",
            "42952d9fbd2c44b99ca69996b6caa3ff",
            "557bff9a7aee41cfa7452a0f02b83bd1",
            "671363e68ff74dfa8290e1b00836dddd",
            "1e75fbb0a4f945e8ab822a39ccbb1ac3",
            "b9a54e15c70e4ca080eb546bc5eaa720",
            "d25650afa6394cf79130809c6338c55c",
            "c8daa4ff8aee4162a0ce13a45d8e8084",
            "9aad62d33b1b48d4aaac507c65abbc63",
            "4f03852f378a41c58ebc497ac9479cf4",
            "a896f5c083554033b7fbe0fc1e345d5b",
            "c796e404f2cc4bb6bd3834691db31fe0",
            "998826f0890342198d24b2224f5eea92",
            "516554a8cb3e43cca0a38736d83442cf",
            "609a9bff675d466181432ddf7db61068",
            "9134cb323acb4c12b78ad1d645082582",
            "525f4727057e42b6bfd75b515175c7a3",
            "a80bc2fbe84b4a539f78c9f2dcd1125b",
            "48752663a20c4fe497b933a452d61cb3",
            "e321e01a015e4f7b96ead80466eda514",
            "ae5b7a075df34b7eae77399c0cbdf3c9",
            "4c7c570b04b346f3ad6e268d93be5bf4",
            "6108723272df4c5bbd4e6921342fed56",
            "5b1be5328bdd4d749879a1bd5e78e681",
            "d19317f9c22341b69be5a5ef47a624cd",
            "3f1fc48985d348ef96198ac5c1d8a718",
            "6283057f2cbc4b1eb1307489f6f45ddf",
            "15fce62e45b041499589c1f861f62514",
            "1679a87c766d4dc896f9ddf11dfafe0f",
            "8cb3e59946d24282887b440ff981dca2",
            "090f96c32a174184a36cae922e60eab4",
            "cf5cdb9af2e446988d55461de7028ea3",
            "ffd23f59f83b4c2ba740b974d632eb44",
            "9bcbfe2c1e8c42f0b5a58fe9f1d49241",
            "4f73c6f4720c4573a2f646bbed2c93c6"
          ]
        },
        "outputId": "cc6c81ca-3ef7-41dd-cf10-fd1ea6b373fb"
      },
      "execution_count": null,
      "outputs": [
        {
          "metadata": {
            "tags": null
          },
          "name": "stderr",
          "output_type": "stream",
          "text": [
            "\u001b[34m\u001b[1mwandb\u001b[0m: Agent Starting Run: oqkc9w5c with config:\n",
            "\u001b[34m\u001b[1mwandb\u001b[0m: \tbatch_size: 128\n",
            "\u001b[34m\u001b[1mwandb\u001b[0m: \tbeta1: 0.9\n",
            "\u001b[34m\u001b[1mwandb\u001b[0m: \tbeta2: 0.99\n",
            "\u001b[34m\u001b[1mwandb\u001b[0m: \tdict_path: None\n",
            "\u001b[34m\u001b[1mwandb\u001b[0m: \tdropout: 0.05\n",
            "\u001b[34m\u001b[1mwandb\u001b[0m: \tepochs: 2500\n",
            "\u001b[34m\u001b[1mwandb\u001b[0m: \thidden_size: [64, 256]\n",
            "\u001b[34m\u001b[1mwandb\u001b[0m: \tin_conc: True\n",
            "\u001b[34m\u001b[1mwandb\u001b[0m: \tin_h2_o2: True\n",
            "\u001b[34m\u001b[1mwandb\u001b[0m: \tin_pres: False\n",
            "\u001b[34m\u001b[1mwandb\u001b[0m: \tinput_size: 9\n",
            "\u001b[34m\u001b[1mwandb\u001b[0m: \tinputs_path: input_98660.npy\n",
            "\u001b[34m\u001b[1mwandb\u001b[0m: \tlr: 0.01\n",
            "\u001b[34m\u001b[1mwandb\u001b[0m: \tmb_coeff: 0\n",
            "\u001b[34m\u001b[1mwandb\u001b[0m: \tmean_std_path: ConcInputs_NoH2O2(taraget_only)_NoPressure_mean_std_laststep.json\n",
            "\u001b[34m\u001b[1mwandb\u001b[0m: \tmodel: FNN\n",
            "\u001b[34m\u001b[1mwandb\u001b[0m: \tnsample: 1500\n",
            "\u001b[34m\u001b[1mwandb\u001b[0m: \tnum_layers: 4\n",
            "\u001b[34m\u001b[1mwandb\u001b[0m: \toptimizer: Adam\n",
            "\u001b[34m\u001b[1mwandb\u001b[0m: \tout_h2_o2: False\n",
            "\u001b[34m\u001b[1mwandb\u001b[0m: \toutput_size: 7\n",
            "\u001b[34m\u001b[1mwandb\u001b[0m: \toutputs_dir: ./Out_files_npy\n",
            "\u001b[34m\u001b[1mwandb\u001b[0m: \treturn_1d_input: True\n",
            "\u001b[34m\u001b[1mwandb\u001b[0m: \tscheduling: False\n",
            "\u001b[34m\u001b[1mwandb\u001b[0m: \tsplit: [0.7, 0.2, 0.1]\n",
            "\u001b[34m\u001b[1mwandb\u001b[0m: \ttimesteps: [-1]\n",
            "\u001b[34m\u001b[1mwandb\u001b[0m: \tweight_decay: 0\n",
            "ERROR:wandb.jupyter:Failed to detect the name of this notebook, you can set it manually with the WANDB_NOTEBOOK_NAME environment variable to enable code saving.\n",
            "\u001b[34m\u001b[1mwandb\u001b[0m: Currently logged in as: \u001b[33mdata-bigwig\u001b[0m. Use \u001b[1m`wandb login --relogin`\u001b[0m to force relogin\n"
          ]
        },
        {
          "data": {
            "text/html": [
              "Tracking run with wandb version 0.13.3"
            ],
            "text/plain": [
              "<IPython.core.display.HTML object>"
            ]
          },
          "metadata": {},
          "output_type": "display_data"
        },
        {
          "data": {
            "text/html": [
              "Run data is saved locally in <code>/content/drive/MyDrive/Skoltech/Research/Hydrogen Oxidation/wandb/run-20220930_160915-oqkc9w5c</code>"
            ],
            "text/plain": [
              "<IPython.core.display.HTML object>"
            ]
          },
          "metadata": {},
          "output_type": "display_data"
        },
        {
          "data": {
            "text/html": [
              "Syncing run <strong><a href=\"https://wandb.ai/data-bigwig/Hydrogen-Oxidation-Models-Optimization/runs/oqkc9w5c\" target=\"_blank\">cerulean-sweep-1</a></strong> to <a href=\"https://wandb.ai/data-bigwig/Hydrogen-Oxidation-Models-Optimization\" target=\"_blank\">Weights & Biases</a> (<a href=\"https://wandb.me/run\" target=\"_blank\">docs</a>)<br/>Sweep page:  <a href=\"https://wandb.ai/data-bigwig/Hydrogen-Oxidation-Models-Optimization/sweeps/iwmnhlen\" target=\"_blank\">https://wandb.ai/data-bigwig/Hydrogen-Oxidation-Models-Optimization/sweeps/iwmnhlen</a>"
            ],
            "text/plain": [
              "<IPython.core.display.HTML object>"
            ]
          },
          "metadata": {},
          "output_type": "display_data"
        },
        {
          "data": {
            "text/html": [
              "Waiting for W&B process to finish... <strong style=\"color:green\">(success).</strong>"
            ],
            "text/plain": [
              "<IPython.core.display.HTML object>"
            ]
          },
          "metadata": {},
          "output_type": "display_data"
        },
        {
          "data": {
            "application/vnd.jupyter.widget-view+json": {
              "model_id": "a907211276c94005a350cb9450af7821",
              "version_major": 2,
              "version_minor": 0
            },
            "text/plain": [
              "VBox(children=(Label(value='0.000 MB of 0.000 MB uploaded (0.000 MB deduped)\\r'), FloatProgress(value=1.0, max…"
            ]
          },
          "metadata": {},
          "output_type": "display_data"
        },
        {
          "data": {
            "text/html": [
              "<style>\n",
              "    table.wandb td:nth-child(1) { padding: 0 10px; text-align: left ; width: auto;} td:nth-child(2) {text-align: left ; width: 100%}\n",
              "    .wandb-row { display: flex; flex-direction: row; flex-wrap: wrap; justify-content: flex-start; width: 100% }\n",
              "    .wandb-col { display: flex; flex-direction: column; flex-basis: 100%; flex: 1; padding: 10px; }\n",
              "    </style>\n",
              "<div class=\"wandb-row\"><div class=\"wandb-col\"><h3>Run history:</h3><br/><table class=\"wandb\"><tr><td>learning_rate</td><td>▁▁▁▁▁▁▁▁▁▁▁▁▁▁▁▁▁▁▁▁▁▁▁▁▁▁▁▁▁▁▁▁▁▁▁▁▁▁▁▁</td></tr><tr><td>loss</td><td>▁</td></tr><tr><td>num_epochs</td><td>▁</td></tr><tr><td>train_loss</td><td>█▅▃▃▃▃▃▃▂▃▃▂▄▃▂▂▂▃▂▃▁▂▄▁▂▄▂▂▂▂▂▁▂▂▂▂▁▃▂▂</td></tr><tr><td>val_loss</td><td>█▃▃▃▄▄▄▁▄▃▄▃▅▄▃▅▄▅▅▅▅▄▅▅▆▆▆▆▇▇█▆▇▇▅██▆▅▆</td></tr></table><br/></div><div class=\"wandb-col\"><h3>Run summary:</h3><br/><table class=\"wandb\"><tr><td>learning_rate</td><td>0.01</td></tr><tr><td>loss</td><td>0.34754</td></tr><tr><td>num_epochs</td><td>245</td></tr><tr><td>train_loss</td><td>0.03889</td></tr><tr><td>val_loss</td><td>0.21709</td></tr></table><br/></div></div>"
            ],
            "text/plain": [
              "<IPython.core.display.HTML object>"
            ]
          },
          "metadata": {},
          "output_type": "display_data"
        },
        {
          "data": {
            "text/html": [
              "Synced <strong style=\"color:#cdcd00\">cerulean-sweep-1</strong>: <a href=\"https://wandb.ai/data-bigwig/Hydrogen-Oxidation-Models-Optimization/runs/oqkc9w5c\" target=\"_blank\">https://wandb.ai/data-bigwig/Hydrogen-Oxidation-Models-Optimization/runs/oqkc9w5c</a><br/>Synced 4 W&B file(s), 0 media file(s), 0 artifact file(s) and 0 other file(s)"
            ],
            "text/plain": [
              "<IPython.core.display.HTML object>"
            ]
          },
          "metadata": {},
          "output_type": "display_data"
        },
        {
          "data": {
            "text/html": [
              "Find logs at: <code>./wandb/run-20220930_160915-oqkc9w5c/logs</code>"
            ],
            "text/plain": [
              "<IPython.core.display.HTML object>"
            ]
          },
          "metadata": {},
          "output_type": "display_data"
        },
        {
          "metadata": {
            "tags": null
          },
          "name": "stderr",
          "output_type": "stream",
          "text": [
            "\u001b[34m\u001b[1mwandb\u001b[0m: Agent Starting Run: 8y6k78uh with config:\n",
            "\u001b[34m\u001b[1mwandb\u001b[0m: \tbatch_size: 64\n",
            "\u001b[34m\u001b[1mwandb\u001b[0m: \tbeta1: 0.95\n",
            "\u001b[34m\u001b[1mwandb\u001b[0m: \tbeta2: 0.9\n",
            "\u001b[34m\u001b[1mwandb\u001b[0m: \tdict_path: None\n",
            "\u001b[34m\u001b[1mwandb\u001b[0m: \tdropout: 0.05\n",
            "\u001b[34m\u001b[1mwandb\u001b[0m: \tepochs: 2500\n",
            "\u001b[34m\u001b[1mwandb\u001b[0m: \thidden_size: [32, 256]\n",
            "\u001b[34m\u001b[1mwandb\u001b[0m: \tin_conc: True\n",
            "\u001b[34m\u001b[1mwandb\u001b[0m: \tin_h2_o2: True\n",
            "\u001b[34m\u001b[1mwandb\u001b[0m: \tin_pres: False\n",
            "\u001b[34m\u001b[1mwandb\u001b[0m: \tinput_size: 9\n",
            "\u001b[34m\u001b[1mwandb\u001b[0m: \tinputs_path: input_98660.npy\n",
            "\u001b[34m\u001b[1mwandb\u001b[0m: \tlr: 0.05\n",
            "\u001b[34m\u001b[1mwandb\u001b[0m: \tmb_coeff: 0\n",
            "\u001b[34m\u001b[1mwandb\u001b[0m: \tmean_std_path: ConcInputs_NoH2O2(taraget_only)_NoPressure_mean_std_laststep.json\n",
            "\u001b[34m\u001b[1mwandb\u001b[0m: \tmodel: FNN\n",
            "\u001b[34m\u001b[1mwandb\u001b[0m: \tnsample: 1500\n",
            "\u001b[34m\u001b[1mwandb\u001b[0m: \tnum_layers: 2\n",
            "\u001b[34m\u001b[1mwandb\u001b[0m: \toptimizer: Adam\n",
            "\u001b[34m\u001b[1mwandb\u001b[0m: \tout_h2_o2: False\n",
            "\u001b[34m\u001b[1mwandb\u001b[0m: \toutput_size: 7\n",
            "\u001b[34m\u001b[1mwandb\u001b[0m: \toutputs_dir: ./Out_files_npy\n",
            "\u001b[34m\u001b[1mwandb\u001b[0m: \treturn_1d_input: True\n",
            "\u001b[34m\u001b[1mwandb\u001b[0m: \tscheduling: False\n",
            "\u001b[34m\u001b[1mwandb\u001b[0m: \tsplit: [0.7, 0.2, 0.1]\n",
            "\u001b[34m\u001b[1mwandb\u001b[0m: \ttimesteps: [-1]\n",
            "\u001b[34m\u001b[1mwandb\u001b[0m: \tweight_decay: 0\n",
            "Failed to detect the name of this notebook, you can set it manually with the WANDB_NOTEBOOK_NAME environment variable to enable code saving.\n"
          ]
        },
        {
          "data": {
            "text/html": [
              "Tracking run with wandb version 0.13.3"
            ],
            "text/plain": [
              "<IPython.core.display.HTML object>"
            ]
          },
          "metadata": {},
          "output_type": "display_data"
        },
        {
          "data": {
            "text/html": [
              "Run data is saved locally in <code>/content/drive/MyDrive/Skoltech/Research/Hydrogen Oxidation/wandb/run-20220930_162603-8y6k78uh</code>"
            ],
            "text/plain": [
              "<IPython.core.display.HTML object>"
            ]
          },
          "metadata": {},
          "output_type": "display_data"
        },
        {
          "data": {
            "text/html": [
              "Syncing run <strong><a href=\"https://wandb.ai/data-bigwig/Hydrogen-Oxidation-Models-Optimization/runs/8y6k78uh\" target=\"_blank\">pleasant-sweep-2</a></strong> to <a href=\"https://wandb.ai/data-bigwig/Hydrogen-Oxidation-Models-Optimization\" target=\"_blank\">Weights & Biases</a> (<a href=\"https://wandb.me/run\" target=\"_blank\">docs</a>)<br/>Sweep page:  <a href=\"https://wandb.ai/data-bigwig/Hydrogen-Oxidation-Models-Optimization/sweeps/iwmnhlen\" target=\"_blank\">https://wandb.ai/data-bigwig/Hydrogen-Oxidation-Models-Optimization/sweeps/iwmnhlen</a>"
            ],
            "text/plain": [
              "<IPython.core.display.HTML object>"
            ]
          },
          "metadata": {},
          "output_type": "display_data"
        },
        {
          "output_type": "display_data",
          "data": {
            "text/plain": [
              "<IPython.core.display.HTML object>"
            ],
            "text/html": [
              "Waiting for W&B process to finish... <strong style=\"color:green\">(success).</strong>"
            ]
          },
          "metadata": {}
        },
        {
          "output_type": "display_data",
          "data": {
            "text/plain": [
              "VBox(children=(Label(value='0.000 MB of 0.000 MB uploaded (0.000 MB deduped)\\r'), FloatProgress(value=1.0, max…"
            ],
            "application/vnd.jupyter.widget-view+json": {
              "version_major": 2,
              "version_minor": 0,
              "model_id": "b960f6f230e74844b8fc6d1595ce01b1"
            }
          },
          "metadata": {}
        },
        {
          "output_type": "display_data",
          "data": {
            "text/plain": [
              "<IPython.core.display.HTML object>"
            ],
            "text/html": [
              "<style>\n",
              "    table.wandb td:nth-child(1) { padding: 0 10px; text-align: left ; width: auto;} td:nth-child(2) {text-align: left ; width: 100%}\n",
              "    .wandb-row { display: flex; flex-direction: row; flex-wrap: wrap; justify-content: flex-start; width: 100% }\n",
              "    .wandb-col { display: flex; flex-direction: column; flex-basis: 100%; flex: 1; padding: 10px; }\n",
              "    </style>\n",
              "<div class=\"wandb-row\"><div class=\"wandb-col\"><h3>Run history:</h3><br/><table class=\"wandb\"><tr><td>learning_rate</td><td>▁▁▁▁▁▁▁▁▁▁▁▁▁▁▁▁▁▁▁▁▁▁▁▁▁▁▁▁▁▁▁▁▁▁▁▁▁▁▁▁</td></tr><tr><td>loss</td><td>▁</td></tr><tr><td>num_epochs</td><td>▁</td></tr><tr><td>train_loss</td><td>▆▄▆▃▆▆▇█▄▃▂▄▅▃▄▃▃▄▁▂▁▃▂▃▄▄▃▁▄▄▂▂▃▅▂▂▂▃▁▃</td></tr><tr><td>val_loss</td><td>▅▃▇▇█▂▆█▂▁▃▄▃▁▅▂▂▇▁▄▂▅▃▂▃▃▁▂▂▄▁▂▃▄▁▁▁▂▃▁</td></tr></table><br/></div><div class=\"wandb-col\"><h3>Run summary:</h3><br/><table class=\"wandb\"><tr><td>learning_rate</td><td>0.05</td></tr><tr><td>loss</td><td>0.04383</td></tr><tr><td>num_epochs</td><td>548</td></tr><tr><td>train_loss</td><td>0.05742</td></tr><tr><td>val_loss</td><td>0.02081</td></tr></table><br/></div></div>"
            ]
          },
          "metadata": {}
        },
        {
          "output_type": "display_data",
          "data": {
            "text/plain": [
              "<IPython.core.display.HTML object>"
            ],
            "text/html": [
              "Synced <strong style=\"color:#cdcd00\">pleasant-sweep-2</strong>: <a href=\"https://wandb.ai/data-bigwig/Hydrogen-Oxidation-Models-Optimization/runs/8y6k78uh\" target=\"_blank\">https://wandb.ai/data-bigwig/Hydrogen-Oxidation-Models-Optimization/runs/8y6k78uh</a><br/>Synced 4 W&B file(s), 0 media file(s), 0 artifact file(s) and 0 other file(s)"
            ]
          },
          "metadata": {}
        },
        {
          "output_type": "display_data",
          "data": {
            "text/plain": [
              "<IPython.core.display.HTML object>"
            ],
            "text/html": [
              "Find logs at: <code>./wandb/run-20220930_162603-8y6k78uh/logs</code>"
            ]
          },
          "metadata": {}
        },
        {
          "output_type": "stream",
          "name": "stderr",
          "text": [
            "\u001b[34m\u001b[1mwandb\u001b[0m: Agent Starting Run: d4sjhb41 with config:\n",
            "\u001b[34m\u001b[1mwandb\u001b[0m: \tbatch_size: 128\n",
            "\u001b[34m\u001b[1mwandb\u001b[0m: \tbeta1: 0.85\n",
            "\u001b[34m\u001b[1mwandb\u001b[0m: \tbeta2: 0.9\n",
            "\u001b[34m\u001b[1mwandb\u001b[0m: \tdict_path: None\n",
            "\u001b[34m\u001b[1mwandb\u001b[0m: \tdropout: 0.2\n",
            "\u001b[34m\u001b[1mwandb\u001b[0m: \tepochs: 2500\n",
            "\u001b[34m\u001b[1mwandb\u001b[0m: \thidden_size: [32, 256]\n",
            "\u001b[34m\u001b[1mwandb\u001b[0m: \tin_conc: True\n",
            "\u001b[34m\u001b[1mwandb\u001b[0m: \tin_h2_o2: True\n",
            "\u001b[34m\u001b[1mwandb\u001b[0m: \tin_pres: False\n",
            "\u001b[34m\u001b[1mwandb\u001b[0m: \tinput_size: 9\n",
            "\u001b[34m\u001b[1mwandb\u001b[0m: \tinputs_path: input_98660.npy\n",
            "\u001b[34m\u001b[1mwandb\u001b[0m: \tlr: 0.01\n",
            "\u001b[34m\u001b[1mwandb\u001b[0m: \tmb_coeff: 0\n",
            "\u001b[34m\u001b[1mwandb\u001b[0m: \tmean_std_path: ConcInputs_NoH2O2(taraget_only)_NoPressure_mean_std_laststep.json\n",
            "\u001b[34m\u001b[1mwandb\u001b[0m: \tmodel: FNN\n",
            "\u001b[34m\u001b[1mwandb\u001b[0m: \tnsample: 1500\n",
            "\u001b[34m\u001b[1mwandb\u001b[0m: \tnum_layers: 2\n",
            "\u001b[34m\u001b[1mwandb\u001b[0m: \toptimizer: Adam\n",
            "\u001b[34m\u001b[1mwandb\u001b[0m: \tout_h2_o2: False\n",
            "\u001b[34m\u001b[1mwandb\u001b[0m: \toutput_size: 7\n",
            "\u001b[34m\u001b[1mwandb\u001b[0m: \toutputs_dir: ./Out_files_npy\n",
            "\u001b[34m\u001b[1mwandb\u001b[0m: \treturn_1d_input: True\n",
            "\u001b[34m\u001b[1mwandb\u001b[0m: \tscheduling: False\n",
            "\u001b[34m\u001b[1mwandb\u001b[0m: \tsplit: [0.7, 0.2, 0.1]\n",
            "\u001b[34m\u001b[1mwandb\u001b[0m: \ttimesteps: [-1]\n",
            "\u001b[34m\u001b[1mwandb\u001b[0m: \tweight_decay: 0.01\n"
          ]
        },
        {
          "output_type": "display_data",
          "data": {
            "text/plain": [
              "<IPython.core.display.HTML object>"
            ],
            "text/html": [
              "Tracking run with wandb version 0.13.3"
            ]
          },
          "metadata": {}
        },
        {
          "output_type": "display_data",
          "data": {
            "text/plain": [
              "<IPython.core.display.HTML object>"
            ],
            "text/html": [
              "Run data is saved locally in <code>/content/drive/MyDrive/Skoltech/Research/Hydrogen Oxidation/wandb/run-20220930_164301-d4sjhb41</code>"
            ]
          },
          "metadata": {}
        },
        {
          "output_type": "display_data",
          "data": {
            "text/plain": [
              "<IPython.core.display.HTML object>"
            ],
            "text/html": [
              "Syncing run <strong><a href=\"https://wandb.ai/data-bigwig/Hydrogen-Oxidation-Models-Optimization/runs/d4sjhb41\" target=\"_blank\">fluent-sweep-5</a></strong> to <a href=\"https://wandb.ai/data-bigwig/Hydrogen-Oxidation-Models-Optimization\" target=\"_blank\">Weights & Biases</a> (<a href=\"https://wandb.me/run\" target=\"_blank\">docs</a>)<br/>Sweep page:  <a href=\"https://wandb.ai/data-bigwig/Hydrogen-Oxidation-Models-Optimization/sweeps/iwmnhlen\" target=\"_blank\">https://wandb.ai/data-bigwig/Hydrogen-Oxidation-Models-Optimization/sweeps/iwmnhlen</a>"
            ]
          },
          "metadata": {}
        },
        {
          "output_type": "display_data",
          "data": {
            "text/plain": [
              "<IPython.core.display.HTML object>"
            ],
            "text/html": [
              "Waiting for W&B process to finish... <strong style=\"color:green\">(success).</strong>"
            ]
          },
          "metadata": {}
        },
        {
          "output_type": "display_data",
          "data": {
            "text/plain": [
              "VBox(children=(Label(value='0.001 MB of 0.001 MB uploaded (0.000 MB deduped)\\r'), FloatProgress(value=1.0, max…"
            ],
            "application/vnd.jupyter.widget-view+json": {
              "version_major": 2,
              "version_minor": 0,
              "model_id": "36bbeaed9d7e4e2b9c8f98e48c99cab0"
            }
          },
          "metadata": {}
        },
        {
          "output_type": "display_data",
          "data": {
            "text/plain": [
              "<IPython.core.display.HTML object>"
            ],
            "text/html": [
              "<style>\n",
              "    table.wandb td:nth-child(1) { padding: 0 10px; text-align: left ; width: auto;} td:nth-child(2) {text-align: left ; width: 100%}\n",
              "    .wandb-row { display: flex; flex-direction: row; flex-wrap: wrap; justify-content: flex-start; width: 100% }\n",
              "    .wandb-col { display: flex; flex-direction: column; flex-basis: 100%; flex: 1; padding: 10px; }\n",
              "    </style>\n",
              "<div class=\"wandb-row\"><div class=\"wandb-col\"><h3>Run history:</h3><br/><table class=\"wandb\"><tr><td>learning_rate</td><td>▁▁▁▁▁▁▁▁▁▁▁▁▁▁▁▁▁▁▁▁▁▁▁▁▁▁▁▁▁▁▁▁▁▁▁▁▁▁▁▁</td></tr><tr><td>loss</td><td>▁</td></tr><tr><td>num_epochs</td><td>▁</td></tr><tr><td>train_loss</td><td>▆▄▂▁▃▄▃▅▁▅▂▄▅▂█▂▃▄▂▄▃▄▅▅▄▃▃▃▄▆▄▆▅▁▃▄█▃▂▂</td></tr><tr><td>val_loss</td><td>█▅▃▂▂▂▃▂▁▁▁▂▁▁▂▂▁▂▃▁▂▂▁▂▂▁▂▁▃▂▂▂▁▂▂▁▂▂▂▃</td></tr></table><br/></div><div class=\"wandb-col\"><h3>Run summary:</h3><br/><table class=\"wandb\"><tr><td>learning_rate</td><td>0.01</td></tr><tr><td>loss</td><td>0.13035</td></tr><tr><td>num_epochs</td><td>299</td></tr><tr><td>train_loss</td><td>0.10815</td></tr><tr><td>val_loss</td><td>0.14241</td></tr></table><br/></div></div>"
            ]
          },
          "metadata": {}
        },
        {
          "output_type": "display_data",
          "data": {
            "text/plain": [
              "<IPython.core.display.HTML object>"
            ],
            "text/html": [
              "Synced <strong style=\"color:#cdcd00\">fluent-sweep-5</strong>: <a href=\"https://wandb.ai/data-bigwig/Hydrogen-Oxidation-Models-Optimization/runs/d4sjhb41\" target=\"_blank\">https://wandb.ai/data-bigwig/Hydrogen-Oxidation-Models-Optimization/runs/d4sjhb41</a><br/>Synced 4 W&B file(s), 0 media file(s), 0 artifact file(s) and 0 other file(s)"
            ]
          },
          "metadata": {}
        },
        {
          "output_type": "display_data",
          "data": {
            "text/plain": [
              "<IPython.core.display.HTML object>"
            ],
            "text/html": [
              "Find logs at: <code>./wandb/run-20220930_164301-d4sjhb41/logs</code>"
            ]
          },
          "metadata": {}
        },
        {
          "output_type": "stream",
          "name": "stderr",
          "text": [
            "\u001b[34m\u001b[1mwandb\u001b[0m: Agent Starting Run: mozd1aom with config:\n",
            "\u001b[34m\u001b[1mwandb\u001b[0m: \tbatch_size: 128\n",
            "\u001b[34m\u001b[1mwandb\u001b[0m: \tbeta1: 0.85\n",
            "\u001b[34m\u001b[1mwandb\u001b[0m: \tbeta2: 0.9\n",
            "\u001b[34m\u001b[1mwandb\u001b[0m: \tdict_path: None\n",
            "\u001b[34m\u001b[1mwandb\u001b[0m: \tdropout: 0.2\n",
            "\u001b[34m\u001b[1mwandb\u001b[0m: \tepochs: 2500\n",
            "\u001b[34m\u001b[1mwandb\u001b[0m: \thidden_size: [64, 256]\n",
            "\u001b[34m\u001b[1mwandb\u001b[0m: \tin_conc: True\n",
            "\u001b[34m\u001b[1mwandb\u001b[0m: \tin_h2_o2: True\n",
            "\u001b[34m\u001b[1mwandb\u001b[0m: \tin_pres: False\n",
            "\u001b[34m\u001b[1mwandb\u001b[0m: \tinput_size: 9\n",
            "\u001b[34m\u001b[1mwandb\u001b[0m: \tinputs_path: input_98660.npy\n",
            "\u001b[34m\u001b[1mwandb\u001b[0m: \tlr: 0.05\n",
            "\u001b[34m\u001b[1mwandb\u001b[0m: \tmb_coeff: 0\n",
            "\u001b[34m\u001b[1mwandb\u001b[0m: \tmean_std_path: ConcInputs_NoH2O2(taraget_only)_NoPressure_mean_std_laststep.json\n",
            "\u001b[34m\u001b[1mwandb\u001b[0m: \tmodel: FNN\n",
            "\u001b[34m\u001b[1mwandb\u001b[0m: \tnsample: 1500\n",
            "\u001b[34m\u001b[1mwandb\u001b[0m: \tnum_layers: 3\n",
            "\u001b[34m\u001b[1mwandb\u001b[0m: \toptimizer: Adam\n",
            "\u001b[34m\u001b[1mwandb\u001b[0m: \tout_h2_o2: False\n",
            "\u001b[34m\u001b[1mwandb\u001b[0m: \toutput_size: 7\n",
            "\u001b[34m\u001b[1mwandb\u001b[0m: \toutputs_dir: ./Out_files_npy\n",
            "\u001b[34m\u001b[1mwandb\u001b[0m: \treturn_1d_input: True\n",
            "\u001b[34m\u001b[1mwandb\u001b[0m: \tscheduling: False\n",
            "\u001b[34m\u001b[1mwandb\u001b[0m: \tsplit: [0.7, 0.2, 0.1]\n",
            "\u001b[34m\u001b[1mwandb\u001b[0m: \ttimesteps: [-1]\n",
            "\u001b[34m\u001b[1mwandb\u001b[0m: \tweight_decay: 0\n"
          ]
        },
        {
          "output_type": "display_data",
          "data": {
            "text/plain": [
              "<IPython.core.display.HTML object>"
            ],
            "text/html": [
              "Tracking run with wandb version 0.13.3"
            ]
          },
          "metadata": {}
        },
        {
          "output_type": "display_data",
          "data": {
            "text/plain": [
              "<IPython.core.display.HTML object>"
            ],
            "text/html": [
              "Run data is saved locally in <code>/content/drive/MyDrive/Skoltech/Research/Hydrogen Oxidation/wandb/run-20220930_165212-mozd1aom</code>"
            ]
          },
          "metadata": {}
        },
        {
          "output_type": "display_data",
          "data": {
            "text/plain": [
              "<IPython.core.display.HTML object>"
            ],
            "text/html": [
              "Syncing run <strong><a href=\"https://wandb.ai/data-bigwig/Hydrogen-Oxidation-Models-Optimization/runs/mozd1aom\" target=\"_blank\">gallant-sweep-6</a></strong> to <a href=\"https://wandb.ai/data-bigwig/Hydrogen-Oxidation-Models-Optimization\" target=\"_blank\">Weights & Biases</a> (<a href=\"https://wandb.me/run\" target=\"_blank\">docs</a>)<br/>Sweep page:  <a href=\"https://wandb.ai/data-bigwig/Hydrogen-Oxidation-Models-Optimization/sweeps/iwmnhlen\" target=\"_blank\">https://wandb.ai/data-bigwig/Hydrogen-Oxidation-Models-Optimization/sweeps/iwmnhlen</a>"
            ]
          },
          "metadata": {}
        },
        {
          "output_type": "display_data",
          "data": {
            "text/plain": [
              "<IPython.core.display.HTML object>"
            ],
            "text/html": [
              "Waiting for W&B process to finish... <strong style=\"color:green\">(success).</strong>"
            ]
          },
          "metadata": {}
        },
        {
          "output_type": "display_data",
          "data": {
            "text/plain": [
              "VBox(children=(Label(value='0.001 MB of 0.001 MB uploaded (0.000 MB deduped)\\r'), FloatProgress(value=1.0, max…"
            ],
            "application/vnd.jupyter.widget-view+json": {
              "version_major": 2,
              "version_minor": 0,
              "model_id": "07607b3a2d4b4ccc85f730bf10838eea"
            }
          },
          "metadata": {}
        },
        {
          "output_type": "display_data",
          "data": {
            "text/plain": [
              "<IPython.core.display.HTML object>"
            ],
            "text/html": [
              "<style>\n",
              "    table.wandb td:nth-child(1) { padding: 0 10px; text-align: left ; width: auto;} td:nth-child(2) {text-align: left ; width: 100%}\n",
              "    .wandb-row { display: flex; flex-direction: row; flex-wrap: wrap; justify-content: flex-start; width: 100% }\n",
              "    .wandb-col { display: flex; flex-direction: column; flex-basis: 100%; flex: 1; padding: 10px; }\n",
              "    </style>\n",
              "<div class=\"wandb-row\"><div class=\"wandb-col\"><h3>Run history:</h3><br/><table class=\"wandb\"><tr><td>learning_rate</td><td>▁▁▁▁▁▁▁▁▁▁▁▁▁▁▁▁▁▁▁▁▁▁▁▁▁▁▁▁▁▁▁▁▁▁▁▁▁▁▁▁</td></tr><tr><td>loss</td><td>▁</td></tr><tr><td>num_epochs</td><td>▁</td></tr><tr><td>train_loss</td><td>█▃▃▂▂▂▂▂▂▂▂▂▂▂▂▂▁▃▁▂▂▁▂▂▂▁▂▂▂▂▁▂▁▁▃▂▂▂▂▁</td></tr><tr><td>val_loss</td><td>▁▁▁▁▁▁▁▁▁▁▁▁▁▁▁▁▁▁▁▁▁▁▁▁▁▁▁▁▁▁▁▁▁▁▁▁▁▁▁█</td></tr></table><br/></div><div class=\"wandb-col\"><h3>Run summary:</h3><br/><table class=\"wandb\"><tr><td>learning_rate</td><td>0.05</td></tr><tr><td>loss</td><td>0.29191</td></tr><tr><td>num_epochs</td><td>209</td></tr><tr><td>train_loss</td><td>0.07542</td></tr><tr><td>val_loss</td><td>438.32478</td></tr></table><br/></div></div>"
            ]
          },
          "metadata": {}
        },
        {
          "output_type": "display_data",
          "data": {
            "text/plain": [
              "<IPython.core.display.HTML object>"
            ],
            "text/html": [
              "Synced <strong style=\"color:#cdcd00\">gallant-sweep-6</strong>: <a href=\"https://wandb.ai/data-bigwig/Hydrogen-Oxidation-Models-Optimization/runs/mozd1aom\" target=\"_blank\">https://wandb.ai/data-bigwig/Hydrogen-Oxidation-Models-Optimization/runs/mozd1aom</a><br/>Synced 4 W&B file(s), 0 media file(s), 0 artifact file(s) and 0 other file(s)"
            ]
          },
          "metadata": {}
        },
        {
          "output_type": "display_data",
          "data": {
            "text/plain": [
              "<IPython.core.display.HTML object>"
            ],
            "text/html": [
              "Find logs at: <code>./wandb/run-20220930_165212-mozd1aom/logs</code>"
            ]
          },
          "metadata": {}
        },
        {
          "output_type": "stream",
          "name": "stderr",
          "text": [
            "\u001b[34m\u001b[1mwandb\u001b[0m: Agent Starting Run: fpgl2h9d with config:\n",
            "\u001b[34m\u001b[1mwandb\u001b[0m: \tbatch_size: 64\n",
            "\u001b[34m\u001b[1mwandb\u001b[0m: \tbeta1: 0.9\n",
            "\u001b[34m\u001b[1mwandb\u001b[0m: \tbeta2: 0.9\n",
            "\u001b[34m\u001b[1mwandb\u001b[0m: \tdict_path: None\n",
            "\u001b[34m\u001b[1mwandb\u001b[0m: \tdropout: 0.15\n",
            "\u001b[34m\u001b[1mwandb\u001b[0m: \tepochs: 2500\n",
            "\u001b[34m\u001b[1mwandb\u001b[0m: \thidden_size: [64, 512]\n",
            "\u001b[34m\u001b[1mwandb\u001b[0m: \tin_conc: True\n",
            "\u001b[34m\u001b[1mwandb\u001b[0m: \tin_h2_o2: True\n",
            "\u001b[34m\u001b[1mwandb\u001b[0m: \tin_pres: False\n",
            "\u001b[34m\u001b[1mwandb\u001b[0m: \tinput_size: 9\n",
            "\u001b[34m\u001b[1mwandb\u001b[0m: \tinputs_path: input_98660.npy\n",
            "\u001b[34m\u001b[1mwandb\u001b[0m: \tlr: 0.001\n",
            "\u001b[34m\u001b[1mwandb\u001b[0m: \tmb_coeff: 0\n",
            "\u001b[34m\u001b[1mwandb\u001b[0m: \tmean_std_path: ConcInputs_NoH2O2(taraget_only)_NoPressure_mean_std_laststep.json\n",
            "\u001b[34m\u001b[1mwandb\u001b[0m: \tmodel: FNN\n",
            "\u001b[34m\u001b[1mwandb\u001b[0m: \tnsample: 1500\n",
            "\u001b[34m\u001b[1mwandb\u001b[0m: \tnum_layers: 4\n",
            "\u001b[34m\u001b[1mwandb\u001b[0m: \toptimizer: Adam\n",
            "\u001b[34m\u001b[1mwandb\u001b[0m: \tout_h2_o2: False\n",
            "\u001b[34m\u001b[1mwandb\u001b[0m: \toutput_size: 7\n",
            "\u001b[34m\u001b[1mwandb\u001b[0m: \toutputs_dir: ./Out_files_npy\n",
            "\u001b[34m\u001b[1mwandb\u001b[0m: \treturn_1d_input: True\n",
            "\u001b[34m\u001b[1mwandb\u001b[0m: \tscheduling: True\n",
            "\u001b[34m\u001b[1mwandb\u001b[0m: \tsplit: [0.7, 0.2, 0.1]\n",
            "\u001b[34m\u001b[1mwandb\u001b[0m: \ttimesteps: [-1]\n",
            "\u001b[34m\u001b[1mwandb\u001b[0m: \tweight_decay: 0.05\n"
          ]
        },
        {
          "output_type": "display_data",
          "data": {
            "text/plain": [
              "<IPython.core.display.HTML object>"
            ],
            "text/html": [
              "Tracking run with wandb version 0.13.3"
            ]
          },
          "metadata": {}
        },
        {
          "output_type": "display_data",
          "data": {
            "text/plain": [
              "<IPython.core.display.HTML object>"
            ],
            "text/html": [
              "Run data is saved locally in <code>/content/drive/MyDrive/Skoltech/Research/Hydrogen Oxidation/wandb/run-20220930_165849-fpgl2h9d</code>"
            ]
          },
          "metadata": {}
        },
        {
          "output_type": "display_data",
          "data": {
            "text/plain": [
              "<IPython.core.display.HTML object>"
            ],
            "text/html": [
              "Syncing run <strong><a href=\"https://wandb.ai/data-bigwig/Hydrogen-Oxidation-Models-Optimization/runs/fpgl2h9d\" target=\"_blank\">hardy-sweep-7</a></strong> to <a href=\"https://wandb.ai/data-bigwig/Hydrogen-Oxidation-Models-Optimization\" target=\"_blank\">Weights & Biases</a> (<a href=\"https://wandb.me/run\" target=\"_blank\">docs</a>)<br/>Sweep page:  <a href=\"https://wandb.ai/data-bigwig/Hydrogen-Oxidation-Models-Optimization/sweeps/iwmnhlen\" target=\"_blank\">https://wandb.ai/data-bigwig/Hydrogen-Oxidation-Models-Optimization/sweeps/iwmnhlen</a>"
            ]
          },
          "metadata": {}
        },
        {
          "output_type": "display_data",
          "data": {
            "text/plain": [
              "<IPython.core.display.HTML object>"
            ],
            "text/html": [
              "Waiting for W&B process to finish... <strong style=\"color:green\">(success).</strong>"
            ]
          },
          "metadata": {}
        },
        {
          "output_type": "display_data",
          "data": {
            "text/plain": [
              "VBox(children=(Label(value='0.001 MB of 0.001 MB uploaded (0.000 MB deduped)\\r'), FloatProgress(value=1.0, max…"
            ],
            "application/vnd.jupyter.widget-view+json": {
              "version_major": 2,
              "version_minor": 0,
              "model_id": "5a23c4655aa64cc08af7370890bc0db7"
            }
          },
          "metadata": {}
        },
        {
          "output_type": "display_data",
          "data": {
            "text/plain": [
              "<IPython.core.display.HTML object>"
            ],
            "text/html": [
              "<style>\n",
              "    table.wandb td:nth-child(1) { padding: 0 10px; text-align: left ; width: auto;} td:nth-child(2) {text-align: left ; width: 100%}\n",
              "    .wandb-row { display: flex; flex-direction: row; flex-wrap: wrap; justify-content: flex-start; width: 100% }\n",
              "    .wandb-col { display: flex; flex-direction: column; flex-basis: 100%; flex: 1; padding: 10px; }\n",
              "    </style>\n",
              "<div class=\"wandb-row\"><div class=\"wandb-col\"><h3>Run history:</h3><br/><table class=\"wandb\"><tr><td>learning_rate</td><td>██████████████▃▃▃▃▃▃▃▃▃▃▃▃▃▃▁▁▁▁▁▁▁▁▁▁▁▁</td></tr><tr><td>loss</td><td>▁</td></tr><tr><td>num_epochs</td><td>▁</td></tr><tr><td>train_loss</td><td>█▆▃▃▄▄▃▄▃▃▃▅▅▃▃▂▅▄▂▃▁▂▃▂▃▂▃▃▁▂▂▃▂▁▁▁▁▂▂▂</td></tr><tr><td>val_loss</td><td>▁▄▃▃▄▄▄▃▂▂▂▁▂▂▃▃▄▃▅▅▅▄▇▅▆▅▅▇▅▆▆▆▇▆▅▅▆█▅▄</td></tr></table><br/></div><div class=\"wandb-col\"><h3>Run summary:</h3><br/><table class=\"wandb\"><tr><td>learning_rate</td><td>0.00025</td></tr><tr><td>loss</td><td>0.427</td></tr><tr><td>num_epochs</td><td>285</td></tr><tr><td>train_loss</td><td>0.09377</td></tr><tr><td>val_loss</td><td>0.72343</td></tr></table><br/></div></div>"
            ]
          },
          "metadata": {}
        },
        {
          "output_type": "display_data",
          "data": {
            "text/plain": [
              "<IPython.core.display.HTML object>"
            ],
            "text/html": [
              "Synced <strong style=\"color:#cdcd00\">hardy-sweep-7</strong>: <a href=\"https://wandb.ai/data-bigwig/Hydrogen-Oxidation-Models-Optimization/runs/fpgl2h9d\" target=\"_blank\">https://wandb.ai/data-bigwig/Hydrogen-Oxidation-Models-Optimization/runs/fpgl2h9d</a><br/>Synced 4 W&B file(s), 0 media file(s), 0 artifact file(s) and 0 other file(s)"
            ]
          },
          "metadata": {}
        },
        {
          "output_type": "display_data",
          "data": {
            "text/plain": [
              "<IPython.core.display.HTML object>"
            ],
            "text/html": [
              "Find logs at: <code>./wandb/run-20220930_165849-fpgl2h9d/logs</code>"
            ]
          },
          "metadata": {}
        },
        {
          "output_type": "stream",
          "name": "stderr",
          "text": [
            "\u001b[34m\u001b[1mwandb\u001b[0m: Agent Starting Run: 40uhfvk1 with config:\n",
            "\u001b[34m\u001b[1mwandb\u001b[0m: \tbatch_size: 64\n",
            "\u001b[34m\u001b[1mwandb\u001b[0m: \tbeta1: 0.9\n",
            "\u001b[34m\u001b[1mwandb\u001b[0m: \tbeta2: 0.95\n",
            "\u001b[34m\u001b[1mwandb\u001b[0m: \tdict_path: None\n",
            "\u001b[34m\u001b[1mwandb\u001b[0m: \tdropout: 0.15\n",
            "\u001b[34m\u001b[1mwandb\u001b[0m: \tepochs: 2500\n",
            "\u001b[34m\u001b[1mwandb\u001b[0m: \thidden_size: [64, 512]\n",
            "\u001b[34m\u001b[1mwandb\u001b[0m: \tin_conc: True\n",
            "\u001b[34m\u001b[1mwandb\u001b[0m: \tin_h2_o2: True\n",
            "\u001b[34m\u001b[1mwandb\u001b[0m: \tin_pres: False\n",
            "\u001b[34m\u001b[1mwandb\u001b[0m: \tinput_size: 9\n",
            "\u001b[34m\u001b[1mwandb\u001b[0m: \tinputs_path: input_98660.npy\n",
            "\u001b[34m\u001b[1mwandb\u001b[0m: \tlr: 0.0005\n",
            "\u001b[34m\u001b[1mwandb\u001b[0m: \tmb_coeff: 0\n",
            "\u001b[34m\u001b[1mwandb\u001b[0m: \tmean_std_path: ConcInputs_NoH2O2(taraget_only)_NoPressure_mean_std_laststep.json\n",
            "\u001b[34m\u001b[1mwandb\u001b[0m: \tmodel: FNN\n",
            "\u001b[34m\u001b[1mwandb\u001b[0m: \tnsample: 1500\n",
            "\u001b[34m\u001b[1mwandb\u001b[0m: \tnum_layers: 3\n",
            "\u001b[34m\u001b[1mwandb\u001b[0m: \toptimizer: Adam\n",
            "\u001b[34m\u001b[1mwandb\u001b[0m: \tout_h2_o2: False\n",
            "\u001b[34m\u001b[1mwandb\u001b[0m: \toutput_size: 7\n",
            "\u001b[34m\u001b[1mwandb\u001b[0m: \toutputs_dir: ./Out_files_npy\n",
            "\u001b[34m\u001b[1mwandb\u001b[0m: \treturn_1d_input: True\n",
            "\u001b[34m\u001b[1mwandb\u001b[0m: \tscheduling: False\n",
            "\u001b[34m\u001b[1mwandb\u001b[0m: \tsplit: [0.7, 0.2, 0.1]\n",
            "\u001b[34m\u001b[1mwandb\u001b[0m: \ttimesteps: [-1]\n",
            "\u001b[34m\u001b[1mwandb\u001b[0m: \tweight_decay: 0\n"
          ]
        },
        {
          "output_type": "display_data",
          "data": {
            "text/plain": [
              "<IPython.core.display.HTML object>"
            ],
            "text/html": [
              "Tracking run with wandb version 0.13.3"
            ]
          },
          "metadata": {}
        },
        {
          "output_type": "display_data",
          "data": {
            "text/plain": [
              "<IPython.core.display.HTML object>"
            ],
            "text/html": [
              "Run data is saved locally in <code>/content/drive/MyDrive/Skoltech/Research/Hydrogen Oxidation/wandb/run-20220930_170801-40uhfvk1</code>"
            ]
          },
          "metadata": {}
        },
        {
          "output_type": "display_data",
          "data": {
            "text/plain": [
              "<IPython.core.display.HTML object>"
            ],
            "text/html": [
              "Syncing run <strong><a href=\"https://wandb.ai/data-bigwig/Hydrogen-Oxidation-Models-Optimization/runs/40uhfvk1\" target=\"_blank\">sage-sweep-8</a></strong> to <a href=\"https://wandb.ai/data-bigwig/Hydrogen-Oxidation-Models-Optimization\" target=\"_blank\">Weights & Biases</a> (<a href=\"https://wandb.me/run\" target=\"_blank\">docs</a>)<br/>Sweep page:  <a href=\"https://wandb.ai/data-bigwig/Hydrogen-Oxidation-Models-Optimization/sweeps/iwmnhlen\" target=\"_blank\">https://wandb.ai/data-bigwig/Hydrogen-Oxidation-Models-Optimization/sweeps/iwmnhlen</a>"
            ]
          },
          "metadata": {}
        },
        {
          "output_type": "display_data",
          "data": {
            "text/plain": [
              "<IPython.core.display.HTML object>"
            ],
            "text/html": [
              "Waiting for W&B process to finish... <strong style=\"color:green\">(success).</strong>"
            ]
          },
          "metadata": {}
        },
        {
          "output_type": "display_data",
          "data": {
            "text/plain": [
              "VBox(children=(Label(value='0.001 MB of 0.001 MB uploaded (0.000 MB deduped)\\r'), FloatProgress(value=1.0, max…"
            ],
            "application/vnd.jupyter.widget-view+json": {
              "version_major": 2,
              "version_minor": 0,
              "model_id": "007ea204dfe349ffa5f1fe586223242f"
            }
          },
          "metadata": {}
        },
        {
          "output_type": "display_data",
          "data": {
            "text/plain": [
              "<IPython.core.display.HTML object>"
            ],
            "text/html": [
              "<style>\n",
              "    table.wandb td:nth-child(1) { padding: 0 10px; text-align: left ; width: auto;} td:nth-child(2) {text-align: left ; width: 100%}\n",
              "    .wandb-row { display: flex; flex-direction: row; flex-wrap: wrap; justify-content: flex-start; width: 100% }\n",
              "    .wandb-col { display: flex; flex-direction: column; flex-basis: 100%; flex: 1; padding: 10px; }\n",
              "    </style>\n",
              "<div class=\"wandb-row\"><div class=\"wandb-col\"><h3>Run history:</h3><br/><table class=\"wandb\"><tr><td>learning_rate</td><td>▁▁▁▁▁▁▁▁▁▁▁▁▁▁▁▁▁▁▁▁▁▁▁▁▁▁▁▁▁▁▁▁▁▁▁▁▁▁▁▁</td></tr><tr><td>loss</td><td>▁</td></tr><tr><td>num_epochs</td><td>▁</td></tr><tr><td>train_loss</td><td>█▆▄▃▃▃▃▂▂▂▂▂▂▂▂▂▂▂▂▁▁▂▁▁▁▁▁▁▁▁▁▁▁▂▁▁▁▁▁▁</td></tr><tr><td>val_loss</td><td>▃▂▁▂▂▂▃▃▃▄▄▅▅▅▅▅▅▅▆▆▆▆▆▆▆▇▇▇▇▇▇▇▇███▇▇██</td></tr></table><br/></div><div class=\"wandb-col\"><h3>Run summary:</h3><br/><table class=\"wandb\"><tr><td>learning_rate</td><td>0.0005</td></tr><tr><td>loss</td><td>0.19825</td></tr><tr><td>num_epochs</td><td>211</td></tr><tr><td>train_loss</td><td>0.05036</td></tr><tr><td>val_loss</td><td>0.32326</td></tr></table><br/></div></div>"
            ]
          },
          "metadata": {}
        },
        {
          "output_type": "display_data",
          "data": {
            "text/plain": [
              "<IPython.core.display.HTML object>"
            ],
            "text/html": [
              "Synced <strong style=\"color:#cdcd00\">sage-sweep-8</strong>: <a href=\"https://wandb.ai/data-bigwig/Hydrogen-Oxidation-Models-Optimization/runs/40uhfvk1\" target=\"_blank\">https://wandb.ai/data-bigwig/Hydrogen-Oxidation-Models-Optimization/runs/40uhfvk1</a><br/>Synced 4 W&B file(s), 0 media file(s), 0 artifact file(s) and 0 other file(s)"
            ]
          },
          "metadata": {}
        },
        {
          "output_type": "display_data",
          "data": {
            "text/plain": [
              "<IPython.core.display.HTML object>"
            ],
            "text/html": [
              "Find logs at: <code>./wandb/run-20220930_170801-40uhfvk1/logs</code>"
            ]
          },
          "metadata": {}
        },
        {
          "output_type": "stream",
          "name": "stderr",
          "text": [
            "\u001b[34m\u001b[1mwandb\u001b[0m: Agent Starting Run: u82nin29 with config:\n",
            "\u001b[34m\u001b[1mwandb\u001b[0m: \tbatch_size: 16\n",
            "\u001b[34m\u001b[1mwandb\u001b[0m: \tbeta1: 0.95\n",
            "\u001b[34m\u001b[1mwandb\u001b[0m: \tbeta2: 0.9\n",
            "\u001b[34m\u001b[1mwandb\u001b[0m: \tdict_path: None\n",
            "\u001b[34m\u001b[1mwandb\u001b[0m: \tdropout: 0.1\n",
            "\u001b[34m\u001b[1mwandb\u001b[0m: \tepochs: 2500\n",
            "\u001b[34m\u001b[1mwandb\u001b[0m: \thidden_size: [64, 512]\n",
            "\u001b[34m\u001b[1mwandb\u001b[0m: \tin_conc: True\n",
            "\u001b[34m\u001b[1mwandb\u001b[0m: \tin_h2_o2: True\n",
            "\u001b[34m\u001b[1mwandb\u001b[0m: \tin_pres: False\n",
            "\u001b[34m\u001b[1mwandb\u001b[0m: \tinput_size: 9\n",
            "\u001b[34m\u001b[1mwandb\u001b[0m: \tinputs_path: input_98660.npy\n",
            "\u001b[34m\u001b[1mwandb\u001b[0m: \tlr: 0.05\n",
            "\u001b[34m\u001b[1mwandb\u001b[0m: \tmb_coeff: 0\n",
            "\u001b[34m\u001b[1mwandb\u001b[0m: \tmean_std_path: ConcInputs_NoH2O2(taraget_only)_NoPressure_mean_std_laststep.json\n",
            "\u001b[34m\u001b[1mwandb\u001b[0m: \tmodel: FNN\n",
            "\u001b[34m\u001b[1mwandb\u001b[0m: \tnsample: 1500\n",
            "\u001b[34m\u001b[1mwandb\u001b[0m: \tnum_layers: 4\n",
            "\u001b[34m\u001b[1mwandb\u001b[0m: \toptimizer: Adam\n",
            "\u001b[34m\u001b[1mwandb\u001b[0m: \tout_h2_o2: False\n",
            "\u001b[34m\u001b[1mwandb\u001b[0m: \toutput_size: 7\n",
            "\u001b[34m\u001b[1mwandb\u001b[0m: \toutputs_dir: ./Out_files_npy\n",
            "\u001b[34m\u001b[1mwandb\u001b[0m: \treturn_1d_input: True\n",
            "\u001b[34m\u001b[1mwandb\u001b[0m: \tscheduling: True\n",
            "\u001b[34m\u001b[1mwandb\u001b[0m: \tsplit: [0.7, 0.2, 0.1]\n",
            "\u001b[34m\u001b[1mwandb\u001b[0m: \ttimesteps: [-1]\n",
            "\u001b[34m\u001b[1mwandb\u001b[0m: \tweight_decay: 0.01\n"
          ]
        },
        {
          "output_type": "display_data",
          "data": {
            "text/plain": [
              "<IPython.core.display.HTML object>"
            ],
            "text/html": [
              "Tracking run with wandb version 0.13.3"
            ]
          },
          "metadata": {}
        },
        {
          "output_type": "display_data",
          "data": {
            "text/plain": [
              "<IPython.core.display.HTML object>"
            ],
            "text/html": [
              "Run data is saved locally in <code>/content/drive/MyDrive/Skoltech/Research/Hydrogen Oxidation/wandb/run-20220930_171454-u82nin29</code>"
            ]
          },
          "metadata": {}
        },
        {
          "output_type": "display_data",
          "data": {
            "text/plain": [
              "<IPython.core.display.HTML object>"
            ],
            "text/html": [
              "Syncing run <strong><a href=\"https://wandb.ai/data-bigwig/Hydrogen-Oxidation-Models-Optimization/runs/u82nin29\" target=\"_blank\">clean-sweep-9</a></strong> to <a href=\"https://wandb.ai/data-bigwig/Hydrogen-Oxidation-Models-Optimization\" target=\"_blank\">Weights & Biases</a> (<a href=\"https://wandb.me/run\" target=\"_blank\">docs</a>)<br/>Sweep page:  <a href=\"https://wandb.ai/data-bigwig/Hydrogen-Oxidation-Models-Optimization/sweeps/iwmnhlen\" target=\"_blank\">https://wandb.ai/data-bigwig/Hydrogen-Oxidation-Models-Optimization/sweeps/iwmnhlen</a>"
            ]
          },
          "metadata": {}
        },
        {
          "output_type": "display_data",
          "data": {
            "text/plain": [
              "<IPython.core.display.HTML object>"
            ],
            "text/html": [
              "Waiting for W&B process to finish... <strong style=\"color:green\">(success).</strong>"
            ]
          },
          "metadata": {}
        },
        {
          "output_type": "display_data",
          "data": {
            "text/plain": [
              "VBox(children=(Label(value='0.001 MB of 0.001 MB uploaded (0.000 MB deduped)\\r'), FloatProgress(value=1.0, max…"
            ],
            "application/vnd.jupyter.widget-view+json": {
              "version_major": 2,
              "version_minor": 0,
              "model_id": "85fb8fe2c9354e03baffc67a176442f6"
            }
          },
          "metadata": {}
        },
        {
          "output_type": "display_data",
          "data": {
            "text/plain": [
              "<IPython.core.display.HTML object>"
            ],
            "text/html": [
              "<style>\n",
              "    table.wandb td:nth-child(1) { padding: 0 10px; text-align: left ; width: auto;} td:nth-child(2) {text-align: left ; width: 100%}\n",
              "    .wandb-row { display: flex; flex-direction: row; flex-wrap: wrap; justify-content: flex-start; width: 100% }\n",
              "    .wandb-col { display: flex; flex-direction: column; flex-basis: 100%; flex: 1; padding: 10px; }\n",
              "    </style>\n",
              "<div class=\"wandb-row\"><div class=\"wandb-col\"><h3>Run history:</h3><br/><table class=\"wandb\"><tr><td>learning_rate</td><td>███████▄▄▄▄▄▄▃▃▃▃▃▃▂▂▂▂▂▂▂▁▁▁▁▁▁▁▁▁▁▁▁▁▁</td></tr><tr><td>loss</td><td>▁</td></tr><tr><td>num_epochs</td><td>▁</td></tr><tr><td>train_loss</td><td>▇▇█▇█▇▇▆▆▆▆▆▆▅▄▄▄▅▄▄▄▃▃▃▃▃▂▂▂▃▂▂▂▁▂▃▃▂▁▂</td></tr><tr><td>val_loss</td><td>▂▄▃▅█▅▂▄▂▃▂▆▅▁▂▅▃▂▂▄▁▄▃▁▂▃▁▂▂▃▁▂▃▄▄▂▂▃▂▁</td></tr></table><br/></div><div class=\"wandb-col\"><h3>Run summary:</h3><br/><table class=\"wandb\"><tr><td>learning_rate</td><td>0.00078</td></tr><tr><td>loss</td><td>3.24347</td></tr><tr><td>num_epochs</td><td>617</td></tr><tr><td>train_loss</td><td>0.21909</td></tr><tr><td>val_loss</td><td>0.58534</td></tr></table><br/></div></div>"
            ]
          },
          "metadata": {}
        },
        {
          "output_type": "display_data",
          "data": {
            "text/plain": [
              "<IPython.core.display.HTML object>"
            ],
            "text/html": [
              "Synced <strong style=\"color:#cdcd00\">clean-sweep-9</strong>: <a href=\"https://wandb.ai/data-bigwig/Hydrogen-Oxidation-Models-Optimization/runs/u82nin29\" target=\"_blank\">https://wandb.ai/data-bigwig/Hydrogen-Oxidation-Models-Optimization/runs/u82nin29</a><br/>Synced 4 W&B file(s), 0 media file(s), 0 artifact file(s) and 0 other file(s)"
            ]
          },
          "metadata": {}
        },
        {
          "output_type": "display_data",
          "data": {
            "text/plain": [
              "<IPython.core.display.HTML object>"
            ],
            "text/html": [
              "Find logs at: <code>./wandb/run-20220930_171454-u82nin29/logs</code>"
            ]
          },
          "metadata": {}
        },
        {
          "output_type": "stream",
          "name": "stderr",
          "text": [
            "\u001b[34m\u001b[1mwandb\u001b[0m: Agent Starting Run: 7lkxj7zn with config:\n",
            "\u001b[34m\u001b[1mwandb\u001b[0m: \tbatch_size: 128\n",
            "\u001b[34m\u001b[1mwandb\u001b[0m: \tbeta1: 0.95\n",
            "\u001b[34m\u001b[1mwandb\u001b[0m: \tbeta2: 0.99\n",
            "\u001b[34m\u001b[1mwandb\u001b[0m: \tdict_path: None\n",
            "\u001b[34m\u001b[1mwandb\u001b[0m: \tdropout: 0.1\n",
            "\u001b[34m\u001b[1mwandb\u001b[0m: \tepochs: 2500\n",
            "\u001b[34m\u001b[1mwandb\u001b[0m: \thidden_size: [32, 256]\n",
            "\u001b[34m\u001b[1mwandb\u001b[0m: \tin_conc: True\n",
            "\u001b[34m\u001b[1mwandb\u001b[0m: \tin_h2_o2: True\n",
            "\u001b[34m\u001b[1mwandb\u001b[0m: \tin_pres: False\n",
            "\u001b[34m\u001b[1mwandb\u001b[0m: \tinput_size: 9\n",
            "\u001b[34m\u001b[1mwandb\u001b[0m: \tinputs_path: input_98660.npy\n",
            "\u001b[34m\u001b[1mwandb\u001b[0m: \tlr: 0.005\n",
            "\u001b[34m\u001b[1mwandb\u001b[0m: \tmb_coeff: 0\n",
            "\u001b[34m\u001b[1mwandb\u001b[0m: \tmean_std_path: ConcInputs_NoH2O2(taraget_only)_NoPressure_mean_std_laststep.json\n",
            "\u001b[34m\u001b[1mwandb\u001b[0m: \tmodel: FNN\n",
            "\u001b[34m\u001b[1mwandb\u001b[0m: \tnsample: 1500\n",
            "\u001b[34m\u001b[1mwandb\u001b[0m: \tnum_layers: 3\n",
            "\u001b[34m\u001b[1mwandb\u001b[0m: \toptimizer: Adam\n",
            "\u001b[34m\u001b[1mwandb\u001b[0m: \tout_h2_o2: False\n",
            "\u001b[34m\u001b[1mwandb\u001b[0m: \toutput_size: 7\n",
            "\u001b[34m\u001b[1mwandb\u001b[0m: \toutputs_dir: ./Out_files_npy\n",
            "\u001b[34m\u001b[1mwandb\u001b[0m: \treturn_1d_input: True\n",
            "\u001b[34m\u001b[1mwandb\u001b[0m: \tscheduling: False\n",
            "\u001b[34m\u001b[1mwandb\u001b[0m: \tsplit: [0.7, 0.2, 0.1]\n",
            "\u001b[34m\u001b[1mwandb\u001b[0m: \ttimesteps: [-1]\n",
            "\u001b[34m\u001b[1mwandb\u001b[0m: \tweight_decay: 0\n"
          ]
        },
        {
          "output_type": "display_data",
          "data": {
            "text/plain": [
              "<IPython.core.display.HTML object>"
            ],
            "text/html": [
              "Tracking run with wandb version 0.13.3"
            ]
          },
          "metadata": {}
        },
        {
          "output_type": "display_data",
          "data": {
            "text/plain": [
              "<IPython.core.display.HTML object>"
            ],
            "text/html": [
              "Run data is saved locally in <code>/content/drive/MyDrive/Skoltech/Research/Hydrogen Oxidation/wandb/run-20220930_173740-7lkxj7zn</code>"
            ]
          },
          "metadata": {}
        },
        {
          "output_type": "display_data",
          "data": {
            "text/plain": [
              "<IPython.core.display.HTML object>"
            ],
            "text/html": [
              "Syncing run <strong><a href=\"https://wandb.ai/data-bigwig/Hydrogen-Oxidation-Models-Optimization/runs/7lkxj7zn\" target=\"_blank\">ancient-sweep-12</a></strong> to <a href=\"https://wandb.ai/data-bigwig/Hydrogen-Oxidation-Models-Optimization\" target=\"_blank\">Weights & Biases</a> (<a href=\"https://wandb.me/run\" target=\"_blank\">docs</a>)<br/>Sweep page:  <a href=\"https://wandb.ai/data-bigwig/Hydrogen-Oxidation-Models-Optimization/sweeps/iwmnhlen\" target=\"_blank\">https://wandb.ai/data-bigwig/Hydrogen-Oxidation-Models-Optimization/sweeps/iwmnhlen</a>"
            ]
          },
          "metadata": {}
        },
        {
          "output_type": "display_data",
          "data": {
            "text/plain": [
              "<IPython.core.display.HTML object>"
            ],
            "text/html": [
              "Waiting for W&B process to finish... <strong style=\"color:green\">(success).</strong>"
            ]
          },
          "metadata": {}
        },
        {
          "output_type": "display_data",
          "data": {
            "text/plain": [
              "VBox(children=(Label(value='0.001 MB of 0.001 MB uploaded (0.000 MB deduped)\\r'), FloatProgress(value=1.0, max…"
            ],
            "application/vnd.jupyter.widget-view+json": {
              "version_major": 2,
              "version_minor": 0,
              "model_id": "73e37c9cb8df4799944335541c93b442"
            }
          },
          "metadata": {}
        },
        {
          "output_type": "display_data",
          "data": {
            "text/plain": [
              "<IPython.core.display.HTML object>"
            ],
            "text/html": [
              "<style>\n",
              "    table.wandb td:nth-child(1) { padding: 0 10px; text-align: left ; width: auto;} td:nth-child(2) {text-align: left ; width: 100%}\n",
              "    .wandb-row { display: flex; flex-direction: row; flex-wrap: wrap; justify-content: flex-start; width: 100% }\n",
              "    .wandb-col { display: flex; flex-direction: column; flex-basis: 100%; flex: 1; padding: 10px; }\n",
              "    </style>\n",
              "<div class=\"wandb-row\"><div class=\"wandb-col\"><h3>Run history:</h3><br/><table class=\"wandb\"><tr><td>learning_rate</td><td>▁▁▁▁▁▁▁▁▁▁▁▁▁▁▁▁▁▁▁▁▁▁▁▁▁▁▁▁▁▁▁▁▁▁▁▁▁▁▁▁</td></tr><tr><td>loss</td><td>▁</td></tr><tr><td>num_epochs</td><td>▁</td></tr><tr><td>train_loss</td><td>█▄▃▂▃▃▂▂▂▂▂▂▁▂▂▂▂▂▂▂▁▂▁▁▁▁▁▁▁▁▁▂▂▂▁▁▁▁▁▁</td></tr><tr><td>val_loss</td><td>▂▁▂▂▁▂▁▁▂▂▃▂▃▂▂▄▄▃▄▄▅▆▅▅▅▆▆▅▇▇█▆▇▇▇▆▆▇▇▇</td></tr></table><br/></div><div class=\"wandb-col\"><h3>Run summary:</h3><br/><table class=\"wandb\"><tr><td>learning_rate</td><td>0.005</td></tr><tr><td>loss</td><td>0.57062</td></tr><tr><td>num_epochs</td><td>202</td></tr><tr><td>train_loss</td><td>0.04235</td></tr><tr><td>val_loss</td><td>0.4822</td></tr></table><br/></div></div>"
            ]
          },
          "metadata": {}
        },
        {
          "output_type": "display_data",
          "data": {
            "text/plain": [
              "<IPython.core.display.HTML object>"
            ],
            "text/html": [
              "Synced <strong style=\"color:#cdcd00\">ancient-sweep-12</strong>: <a href=\"https://wandb.ai/data-bigwig/Hydrogen-Oxidation-Models-Optimization/runs/7lkxj7zn\" target=\"_blank\">https://wandb.ai/data-bigwig/Hydrogen-Oxidation-Models-Optimization/runs/7lkxj7zn</a><br/>Synced 4 W&B file(s), 0 media file(s), 0 artifact file(s) and 0 other file(s)"
            ]
          },
          "metadata": {}
        },
        {
          "output_type": "display_data",
          "data": {
            "text/plain": [
              "<IPython.core.display.HTML object>"
            ],
            "text/html": [
              "Find logs at: <code>./wandb/run-20220930_173740-7lkxj7zn/logs</code>"
            ]
          },
          "metadata": {}
        },
        {
          "output_type": "stream",
          "name": "stderr",
          "text": [
            "\u001b[34m\u001b[1mwandb\u001b[0m: Agent Starting Run: t73rjvnd with config:\n",
            "\u001b[34m\u001b[1mwandb\u001b[0m: \tbatch_size: 128\n",
            "\u001b[34m\u001b[1mwandb\u001b[0m: \tbeta1: 0.9\n",
            "\u001b[34m\u001b[1mwandb\u001b[0m: \tbeta2: 0.95\n",
            "\u001b[34m\u001b[1mwandb\u001b[0m: \tdict_path: None\n",
            "\u001b[34m\u001b[1mwandb\u001b[0m: \tdropout: 0.1\n",
            "\u001b[34m\u001b[1mwandb\u001b[0m: \tepochs: 2500\n",
            "\u001b[34m\u001b[1mwandb\u001b[0m: \thidden_size: [32, 256]\n",
            "\u001b[34m\u001b[1mwandb\u001b[0m: \tin_conc: True\n",
            "\u001b[34m\u001b[1mwandb\u001b[0m: \tin_h2_o2: True\n",
            "\u001b[34m\u001b[1mwandb\u001b[0m: \tin_pres: False\n",
            "\u001b[34m\u001b[1mwandb\u001b[0m: \tinput_size: 9\n",
            "\u001b[34m\u001b[1mwandb\u001b[0m: \tinputs_path: input_98660.npy\n",
            "\u001b[34m\u001b[1mwandb\u001b[0m: \tlr: 0.05\n",
            "\u001b[34m\u001b[1mwandb\u001b[0m: \tmb_coeff: 0\n",
            "\u001b[34m\u001b[1mwandb\u001b[0m: \tmean_std_path: ConcInputs_NoH2O2(taraget_only)_NoPressure_mean_std_laststep.json\n",
            "\u001b[34m\u001b[1mwandb\u001b[0m: \tmodel: FNN\n",
            "\u001b[34m\u001b[1mwandb\u001b[0m: \tnsample: 1500\n",
            "\u001b[34m\u001b[1mwandb\u001b[0m: \tnum_layers: 3\n",
            "\u001b[34m\u001b[1mwandb\u001b[0m: \toptimizer: Adam\n",
            "\u001b[34m\u001b[1mwandb\u001b[0m: \tout_h2_o2: False\n",
            "\u001b[34m\u001b[1mwandb\u001b[0m: \toutput_size: 7\n",
            "\u001b[34m\u001b[1mwandb\u001b[0m: \toutputs_dir: ./Out_files_npy\n",
            "\u001b[34m\u001b[1mwandb\u001b[0m: \treturn_1d_input: True\n",
            "\u001b[34m\u001b[1mwandb\u001b[0m: \tscheduling: False\n",
            "\u001b[34m\u001b[1mwandb\u001b[0m: \tsplit: [0.7, 0.2, 0.1]\n",
            "\u001b[34m\u001b[1mwandb\u001b[0m: \ttimesteps: [-1]\n",
            "\u001b[34m\u001b[1mwandb\u001b[0m: \tweight_decay: 0\n"
          ]
        },
        {
          "output_type": "display_data",
          "data": {
            "text/plain": [
              "<IPython.core.display.HTML object>"
            ],
            "text/html": [
              "Tracking run with wandb version 0.13.3"
            ]
          },
          "metadata": {}
        },
        {
          "output_type": "display_data",
          "data": {
            "text/plain": [
              "<IPython.core.display.HTML object>"
            ],
            "text/html": [
              "Run data is saved locally in <code>/content/drive/MyDrive/Skoltech/Research/Hydrogen Oxidation/wandb/run-20220930_174411-t73rjvnd</code>"
            ]
          },
          "metadata": {}
        },
        {
          "output_type": "display_data",
          "data": {
            "text/plain": [
              "<IPython.core.display.HTML object>"
            ],
            "text/html": [
              "Syncing run <strong><a href=\"https://wandb.ai/data-bigwig/Hydrogen-Oxidation-Models-Optimization/runs/t73rjvnd\" target=\"_blank\">prime-sweep-13</a></strong> to <a href=\"https://wandb.ai/data-bigwig/Hydrogen-Oxidation-Models-Optimization\" target=\"_blank\">Weights & Biases</a> (<a href=\"https://wandb.me/run\" target=\"_blank\">docs</a>)<br/>Sweep page:  <a href=\"https://wandb.ai/data-bigwig/Hydrogen-Oxidation-Models-Optimization/sweeps/iwmnhlen\" target=\"_blank\">https://wandb.ai/data-bigwig/Hydrogen-Oxidation-Models-Optimization/sweeps/iwmnhlen</a>"
            ]
          },
          "metadata": {}
        },
        {
          "output_type": "display_data",
          "data": {
            "text/plain": [
              "<IPython.core.display.HTML object>"
            ],
            "text/html": [
              "Waiting for W&B process to finish... <strong style=\"color:green\">(success).</strong>"
            ]
          },
          "metadata": {}
        },
        {
          "output_type": "display_data",
          "data": {
            "text/plain": [
              "VBox(children=(Label(value='0.001 MB of 0.001 MB uploaded (0.000 MB deduped)\\r'), FloatProgress(value=1.0, max…"
            ],
            "application/vnd.jupyter.widget-view+json": {
              "version_major": 2,
              "version_minor": 0,
              "model_id": "f45e4236530a4deea6ce70dfa48f981c"
            }
          },
          "metadata": {}
        },
        {
          "output_type": "display_data",
          "data": {
            "text/plain": [
              "<IPython.core.display.HTML object>"
            ],
            "text/html": [
              "<style>\n",
              "    table.wandb td:nth-child(1) { padding: 0 10px; text-align: left ; width: auto;} td:nth-child(2) {text-align: left ; width: 100%}\n",
              "    .wandb-row { display: flex; flex-direction: row; flex-wrap: wrap; justify-content: flex-start; width: 100% }\n",
              "    .wandb-col { display: flex; flex-direction: column; flex-basis: 100%; flex: 1; padding: 10px; }\n",
              "    </style>\n",
              "<div class=\"wandb-row\"><div class=\"wandb-col\"><h3>Run history:</h3><br/><table class=\"wandb\"><tr><td>learning_rate</td><td>▁▁▁▁▁▁▁▁▁▁▁▁▁▁▁▁▁▁▁▁▁▁▁▁▁▁▁▁▁▁▁▁▁▁▁▁▁▁▁▁</td></tr><tr><td>loss</td><td>▁</td></tr><tr><td>num_epochs</td><td>▁</td></tr><tr><td>train_loss</td><td>█▃▂▂▃▂▂▂▃▂▂▃▁▁▁▂▂▂▂▂▁▂▁▂▁▂▃▂▁▂▂▂▁▁▁▁▂▂▂▂</td></tr><tr><td>val_loss</td><td>▁▂▃▄▄▃▅▄▅▆▆▆▅▆▆▆▇█▇▇▆▅▅█▄▅▅▅▆▆▇▅▆▅▄▄▄▆▇▆</td></tr></table><br/></div><div class=\"wandb-col\"><h3>Run summary:</h3><br/><table class=\"wandb\"><tr><td>learning_rate</td><td>0.05</td></tr><tr><td>loss</td><td>0.6465</td></tr><tr><td>num_epochs</td><td>201</td></tr><tr><td>train_loss</td><td>0.0865</td></tr><tr><td>val_loss</td><td>0.52953</td></tr></table><br/></div></div>"
            ]
          },
          "metadata": {}
        },
        {
          "output_type": "display_data",
          "data": {
            "text/plain": [
              "<IPython.core.display.HTML object>"
            ],
            "text/html": [
              "Synced <strong style=\"color:#cdcd00\">prime-sweep-13</strong>: <a href=\"https://wandb.ai/data-bigwig/Hydrogen-Oxidation-Models-Optimization/runs/t73rjvnd\" target=\"_blank\">https://wandb.ai/data-bigwig/Hydrogen-Oxidation-Models-Optimization/runs/t73rjvnd</a><br/>Synced 4 W&B file(s), 0 media file(s), 0 artifact file(s) and 0 other file(s)"
            ]
          },
          "metadata": {}
        },
        {
          "output_type": "display_data",
          "data": {
            "text/plain": [
              "<IPython.core.display.HTML object>"
            ],
            "text/html": [
              "Find logs at: <code>./wandb/run-20220930_174411-t73rjvnd/logs</code>"
            ]
          },
          "metadata": {}
        },
        {
          "output_type": "stream",
          "name": "stderr",
          "text": [
            "\u001b[34m\u001b[1mwandb\u001b[0m: Agent Starting Run: 2aky6rhs with config:\n",
            "\u001b[34m\u001b[1mwandb\u001b[0m: \tbatch_size: 32\n",
            "\u001b[34m\u001b[1mwandb\u001b[0m: \tbeta1: 0.9\n",
            "\u001b[34m\u001b[1mwandb\u001b[0m: \tbeta2: 0.95\n",
            "\u001b[34m\u001b[1mwandb\u001b[0m: \tdict_path: None\n",
            "\u001b[34m\u001b[1mwandb\u001b[0m: \tdropout: 0.1\n",
            "\u001b[34m\u001b[1mwandb\u001b[0m: \tepochs: 2500\n",
            "\u001b[34m\u001b[1mwandb\u001b[0m: \thidden_size: [64, 256]\n",
            "\u001b[34m\u001b[1mwandb\u001b[0m: \tin_conc: True\n",
            "\u001b[34m\u001b[1mwandb\u001b[0m: \tin_h2_o2: True\n",
            "\u001b[34m\u001b[1mwandb\u001b[0m: \tin_pres: False\n",
            "\u001b[34m\u001b[1mwandb\u001b[0m: \tinput_size: 9\n",
            "\u001b[34m\u001b[1mwandb\u001b[0m: \tinputs_path: input_98660.npy\n",
            "\u001b[34m\u001b[1mwandb\u001b[0m: \tlr: 0.0005\n",
            "\u001b[34m\u001b[1mwandb\u001b[0m: \tmb_coeff: 0\n",
            "\u001b[34m\u001b[1mwandb\u001b[0m: \tmean_std_path: ConcInputs_NoH2O2(taraget_only)_NoPressure_mean_std_laststep.json\n",
            "\u001b[34m\u001b[1mwandb\u001b[0m: \tmodel: FNN\n",
            "\u001b[34m\u001b[1mwandb\u001b[0m: \tnsample: 1500\n",
            "\u001b[34m\u001b[1mwandb\u001b[0m: \tnum_layers: 2\n",
            "\u001b[34m\u001b[1mwandb\u001b[0m: \toptimizer: Adam\n",
            "\u001b[34m\u001b[1mwandb\u001b[0m: \tout_h2_o2: False\n",
            "\u001b[34m\u001b[1mwandb\u001b[0m: \toutput_size: 7\n",
            "\u001b[34m\u001b[1mwandb\u001b[0m: \toutputs_dir: ./Out_files_npy\n",
            "\u001b[34m\u001b[1mwandb\u001b[0m: \treturn_1d_input: True\n",
            "\u001b[34m\u001b[1mwandb\u001b[0m: \tscheduling: False\n",
            "\u001b[34m\u001b[1mwandb\u001b[0m: \tsplit: [0.7, 0.2, 0.1]\n",
            "\u001b[34m\u001b[1mwandb\u001b[0m: \ttimesteps: [-1]\n",
            "\u001b[34m\u001b[1mwandb\u001b[0m: \tweight_decay: 0\n"
          ]
        },
        {
          "output_type": "display_data",
          "data": {
            "text/plain": [
              "<IPython.core.display.HTML object>"
            ],
            "text/html": [
              "Tracking run with wandb version 0.13.3"
            ]
          },
          "metadata": {}
        },
        {
          "output_type": "display_data",
          "data": {
            "text/plain": [
              "<IPython.core.display.HTML object>"
            ],
            "text/html": [
              "Run data is saved locally in <code>/content/drive/MyDrive/Skoltech/Research/Hydrogen Oxidation/wandb/run-20220930_175043-2aky6rhs</code>"
            ]
          },
          "metadata": {}
        },
        {
          "output_type": "display_data",
          "data": {
            "text/plain": [
              "<IPython.core.display.HTML object>"
            ],
            "text/html": [
              "Syncing run <strong><a href=\"https://wandb.ai/data-bigwig/Hydrogen-Oxidation-Models-Optimization/runs/2aky6rhs\" target=\"_blank\">cool-sweep-15</a></strong> to <a href=\"https://wandb.ai/data-bigwig/Hydrogen-Oxidation-Models-Optimization\" target=\"_blank\">Weights & Biases</a> (<a href=\"https://wandb.me/run\" target=\"_blank\">docs</a>)<br/>Sweep page:  <a href=\"https://wandb.ai/data-bigwig/Hydrogen-Oxidation-Models-Optimization/sweeps/iwmnhlen\" target=\"_blank\">https://wandb.ai/data-bigwig/Hydrogen-Oxidation-Models-Optimization/sweeps/iwmnhlen</a>"
            ]
          },
          "metadata": {}
        },
        {
          "output_type": "display_data",
          "data": {
            "text/plain": [
              "<IPython.core.display.HTML object>"
            ],
            "text/html": [
              "Waiting for W&B process to finish... <strong style=\"color:green\">(success).</strong>"
            ]
          },
          "metadata": {}
        },
        {
          "output_type": "display_data",
          "data": {
            "text/plain": [
              "VBox(children=(Label(value='0.001 MB of 0.001 MB uploaded (0.000 MB deduped)\\r'), FloatProgress(value=1.0, max…"
            ],
            "application/vnd.jupyter.widget-view+json": {
              "version_major": 2,
              "version_minor": 0,
              "model_id": "0d11db0754c74d56b5f2e28962016c14"
            }
          },
          "metadata": {}
        },
        {
          "output_type": "display_data",
          "data": {
            "text/plain": [
              "<IPython.core.display.HTML object>"
            ],
            "text/html": [
              "<style>\n",
              "    table.wandb td:nth-child(1) { padding: 0 10px; text-align: left ; width: auto;} td:nth-child(2) {text-align: left ; width: 100%}\n",
              "    .wandb-row { display: flex; flex-direction: row; flex-wrap: wrap; justify-content: flex-start; width: 100% }\n",
              "    .wandb-col { display: flex; flex-direction: column; flex-basis: 100%; flex: 1; padding: 10px; }\n",
              "    </style>\n",
              "<div class=\"wandb-row\"><div class=\"wandb-col\"><h3>Run history:</h3><br/><table class=\"wandb\"><tr><td>learning_rate</td><td>▁▁▁▁▁▁▁▁▁▁▁▁▁▁▁▁▁▁▁▁▁▁▁▁▁▁▁▁▁▁▁▁▁▁▁▁▁▁▁▁</td></tr><tr><td>loss</td><td>▁</td></tr><tr><td>num_epochs</td><td>▁</td></tr><tr><td>train_loss</td><td>█▅▃▃▃▃▂▂▃▂▂▁▂▁▁▂▁▁▂▂▁▁▁▁▂▂▁▂▂▃▂▁▂▁▁▁▁▁▂▁</td></tr><tr><td>val_loss</td><td>█▆▃▃▃▂▂▂▂▂▂▂▁▁▁▂▁▂▂▁▁▂▁▂▃▁▂▂▂▂▁▁▄▁▂▂▁▂▁▂</td></tr></table><br/></div><div class=\"wandb-col\"><h3>Run summary:</h3><br/><table class=\"wandb\"><tr><td>learning_rate</td><td>0.0005</td></tr><tr><td>loss</td><td>0.08545</td></tr><tr><td>num_epochs</td><td>367</td></tr><tr><td>train_loss</td><td>0.05792</td></tr><tr><td>val_loss</td><td>0.01395</td></tr></table><br/></div></div>"
            ]
          },
          "metadata": {}
        },
        {
          "output_type": "display_data",
          "data": {
            "text/plain": [
              "<IPython.core.display.HTML object>"
            ],
            "text/html": [
              "Synced <strong style=\"color:#cdcd00\">cool-sweep-15</strong>: <a href=\"https://wandb.ai/data-bigwig/Hydrogen-Oxidation-Models-Optimization/runs/2aky6rhs\" target=\"_blank\">https://wandb.ai/data-bigwig/Hydrogen-Oxidation-Models-Optimization/runs/2aky6rhs</a><br/>Synced 4 W&B file(s), 0 media file(s), 0 artifact file(s) and 0 other file(s)"
            ]
          },
          "metadata": {}
        },
        {
          "output_type": "display_data",
          "data": {
            "text/plain": [
              "<IPython.core.display.HTML object>"
            ],
            "text/html": [
              "Find logs at: <code>./wandb/run-20220930_175043-2aky6rhs/logs</code>"
            ]
          },
          "metadata": {}
        },
        {
          "output_type": "stream",
          "name": "stderr",
          "text": [
            "\u001b[34m\u001b[1mwandb\u001b[0m: Agent Starting Run: l0uwehqh with config:\n",
            "\u001b[34m\u001b[1mwandb\u001b[0m: \tbatch_size: 64\n",
            "\u001b[34m\u001b[1mwandb\u001b[0m: \tbeta1: 0.95\n",
            "\u001b[34m\u001b[1mwandb\u001b[0m: \tbeta2: 0.95\n",
            "\u001b[34m\u001b[1mwandb\u001b[0m: \tdict_path: None\n",
            "\u001b[34m\u001b[1mwandb\u001b[0m: \tdropout: 0.05\n",
            "\u001b[34m\u001b[1mwandb\u001b[0m: \tepochs: 2500\n",
            "\u001b[34m\u001b[1mwandb\u001b[0m: \thidden_size: [32, 128]\n",
            "\u001b[34m\u001b[1mwandb\u001b[0m: \tin_conc: True\n",
            "\u001b[34m\u001b[1mwandb\u001b[0m: \tin_h2_o2: True\n",
            "\u001b[34m\u001b[1mwandb\u001b[0m: \tin_pres: False\n",
            "\u001b[34m\u001b[1mwandb\u001b[0m: \tinput_size: 9\n",
            "\u001b[34m\u001b[1mwandb\u001b[0m: \tinputs_path: input_98660.npy\n",
            "\u001b[34m\u001b[1mwandb\u001b[0m: \tlr: 0.01\n",
            "\u001b[34m\u001b[1mwandb\u001b[0m: \tmb_coeff: 0\n",
            "\u001b[34m\u001b[1mwandb\u001b[0m: \tmean_std_path: ConcInputs_NoH2O2(taraget_only)_NoPressure_mean_std_laststep.json\n",
            "\u001b[34m\u001b[1mwandb\u001b[0m: \tmodel: FNN\n",
            "\u001b[34m\u001b[1mwandb\u001b[0m: \tnsample: 1500\n",
            "\u001b[34m\u001b[1mwandb\u001b[0m: \tnum_layers: 2\n",
            "\u001b[34m\u001b[1mwandb\u001b[0m: \toptimizer: Adam\n",
            "\u001b[34m\u001b[1mwandb\u001b[0m: \tout_h2_o2: False\n",
            "\u001b[34m\u001b[1mwandb\u001b[0m: \toutput_size: 7\n",
            "\u001b[34m\u001b[1mwandb\u001b[0m: \toutputs_dir: ./Out_files_npy\n",
            "\u001b[34m\u001b[1mwandb\u001b[0m: \treturn_1d_input: True\n",
            "\u001b[34m\u001b[1mwandb\u001b[0m: \tscheduling: False\n",
            "\u001b[34m\u001b[1mwandb\u001b[0m: \tsplit: [0.7, 0.2, 0.1]\n",
            "\u001b[34m\u001b[1mwandb\u001b[0m: \ttimesteps: [-1]\n",
            "\u001b[34m\u001b[1mwandb\u001b[0m: \tweight_decay: 0\n"
          ]
        },
        {
          "output_type": "display_data",
          "data": {
            "text/plain": [
              "<IPython.core.display.HTML object>"
            ],
            "text/html": [
              "Tracking run with wandb version 0.13.3"
            ]
          },
          "metadata": {}
        },
        {
          "output_type": "display_data",
          "data": {
            "text/plain": [
              "<IPython.core.display.HTML object>"
            ],
            "text/html": [
              "Run data is saved locally in <code>/content/drive/MyDrive/Skoltech/Research/Hydrogen Oxidation/wandb/run-20220930_180244-l0uwehqh</code>"
            ]
          },
          "metadata": {}
        },
        {
          "output_type": "display_data",
          "data": {
            "text/plain": [
              "<IPython.core.display.HTML object>"
            ],
            "text/html": [
              "Syncing run <strong><a href=\"https://wandb.ai/data-bigwig/Hydrogen-Oxidation-Models-Optimization/runs/l0uwehqh\" target=\"_blank\">crimson-sweep-18</a></strong> to <a href=\"https://wandb.ai/data-bigwig/Hydrogen-Oxidation-Models-Optimization\" target=\"_blank\">Weights & Biases</a> (<a href=\"https://wandb.me/run\" target=\"_blank\">docs</a>)<br/>Sweep page:  <a href=\"https://wandb.ai/data-bigwig/Hydrogen-Oxidation-Models-Optimization/sweeps/iwmnhlen\" target=\"_blank\">https://wandb.ai/data-bigwig/Hydrogen-Oxidation-Models-Optimization/sweeps/iwmnhlen</a>"
            ]
          },
          "metadata": {}
        },
        {
          "output_type": "display_data",
          "data": {
            "text/plain": [
              "<IPython.core.display.HTML object>"
            ],
            "text/html": [
              "Waiting for W&B process to finish... <strong style=\"color:green\">(success).</strong>"
            ]
          },
          "metadata": {}
        },
        {
          "output_type": "display_data",
          "data": {
            "text/plain": [
              "VBox(children=(Label(value='0.001 MB of 0.001 MB uploaded (0.000 MB deduped)\\r'), FloatProgress(value=1.0, max…"
            ],
            "application/vnd.jupyter.widget-view+json": {
              "version_major": 2,
              "version_minor": 0,
              "model_id": "7c425014dc054409bdcdb68a520135f9"
            }
          },
          "metadata": {}
        },
        {
          "output_type": "display_data",
          "data": {
            "text/plain": [
              "<IPython.core.display.HTML object>"
            ],
            "text/html": [
              "<style>\n",
              "    table.wandb td:nth-child(1) { padding: 0 10px; text-align: left ; width: auto;} td:nth-child(2) {text-align: left ; width: 100%}\n",
              "    .wandb-row { display: flex; flex-direction: row; flex-wrap: wrap; justify-content: flex-start; width: 100% }\n",
              "    .wandb-col { display: flex; flex-direction: column; flex-basis: 100%; flex: 1; padding: 10px; }\n",
              "    </style>\n",
              "<div class=\"wandb-row\"><div class=\"wandb-col\"><h3>Run history:</h3><br/><table class=\"wandb\"><tr><td>learning_rate</td><td>▁▁▁▁▁▁▁▁▁▁▁▁▁▁▁▁▁▁▁▁▁▁▁▁▁▁▁▁▁▁▁▁▁▁▁▁▁▁▁▁</td></tr><tr><td>loss</td><td>▁</td></tr><tr><td>num_epochs</td><td>▁</td></tr><tr><td>train_loss</td><td>▆█▅▃▄▄▅▄▄▃▄▅▃▄▄▃▂▄▄▃▄▂▄▄▂▃▂▂▃▁▂▃▄▃▂▃▃▂▁▃</td></tr><tr><td>val_loss</td><td>█▅▄▃▂▄▆▄▂▃▃▄▄▃▅▃▅▂▃▃▂▃▅▃▁▃▇▂▄▂▂▂▃▂▂▄▂▁▂▃</td></tr></table><br/></div><div class=\"wandb-col\"><h3>Run summary:</h3><br/><table class=\"wandb\"><tr><td>learning_rate</td><td>0.01</td></tr><tr><td>loss</td><td>0.02484</td></tr><tr><td>num_epochs</td><td>511</td></tr><tr><td>train_loss</td><td>0.04142</td></tr><tr><td>val_loss</td><td>0.01349</td></tr></table><br/></div></div>"
            ]
          },
          "metadata": {}
        },
        {
          "output_type": "display_data",
          "data": {
            "text/plain": [
              "<IPython.core.display.HTML object>"
            ],
            "text/html": [
              "Synced <strong style=\"color:#cdcd00\">crimson-sweep-18</strong>: <a href=\"https://wandb.ai/data-bigwig/Hydrogen-Oxidation-Models-Optimization/runs/l0uwehqh\" target=\"_blank\">https://wandb.ai/data-bigwig/Hydrogen-Oxidation-Models-Optimization/runs/l0uwehqh</a><br/>Synced 4 W&B file(s), 0 media file(s), 0 artifact file(s) and 0 other file(s)"
            ]
          },
          "metadata": {}
        },
        {
          "output_type": "display_data",
          "data": {
            "text/plain": [
              "<IPython.core.display.HTML object>"
            ],
            "text/html": [
              "Find logs at: <code>./wandb/run-20220930_180244-l0uwehqh/logs</code>"
            ]
          },
          "metadata": {}
        },
        {
          "output_type": "stream",
          "name": "stderr",
          "text": [
            "\u001b[34m\u001b[1mwandb\u001b[0m: Agent Starting Run: wg4j8j5a with config:\n",
            "\u001b[34m\u001b[1mwandb\u001b[0m: \tbatch_size: 64\n",
            "\u001b[34m\u001b[1mwandb\u001b[0m: \tbeta1: 0.95\n",
            "\u001b[34m\u001b[1mwandb\u001b[0m: \tbeta2: 0.95\n",
            "\u001b[34m\u001b[1mwandb\u001b[0m: \tdict_path: None\n",
            "\u001b[34m\u001b[1mwandb\u001b[0m: \tdropout: 0\n",
            "\u001b[34m\u001b[1mwandb\u001b[0m: \tepochs: 2500\n",
            "\u001b[34m\u001b[1mwandb\u001b[0m: \thidden_size: [32, 256]\n",
            "\u001b[34m\u001b[1mwandb\u001b[0m: \tin_conc: True\n",
            "\u001b[34m\u001b[1mwandb\u001b[0m: \tin_h2_o2: True\n",
            "\u001b[34m\u001b[1mwandb\u001b[0m: \tin_pres: False\n",
            "\u001b[34m\u001b[1mwandb\u001b[0m: \tinput_size: 9\n",
            "\u001b[34m\u001b[1mwandb\u001b[0m: \tinputs_path: input_98660.npy\n",
            "\u001b[34m\u001b[1mwandb\u001b[0m: \tlr: 0.01\n",
            "\u001b[34m\u001b[1mwandb\u001b[0m: \tmb_coeff: 0\n",
            "\u001b[34m\u001b[1mwandb\u001b[0m: \tmean_std_path: ConcInputs_NoH2O2(taraget_only)_NoPressure_mean_std_laststep.json\n",
            "\u001b[34m\u001b[1mwandb\u001b[0m: \tmodel: FNN\n",
            "\u001b[34m\u001b[1mwandb\u001b[0m: \tnsample: 1500\n",
            "\u001b[34m\u001b[1mwandb\u001b[0m: \tnum_layers: 2\n",
            "\u001b[34m\u001b[1mwandb\u001b[0m: \toptimizer: Adam\n",
            "\u001b[34m\u001b[1mwandb\u001b[0m: \tout_h2_o2: False\n",
            "\u001b[34m\u001b[1mwandb\u001b[0m: \toutput_size: 7\n",
            "\u001b[34m\u001b[1mwandb\u001b[0m: \toutputs_dir: ./Out_files_npy\n",
            "\u001b[34m\u001b[1mwandb\u001b[0m: \treturn_1d_input: True\n",
            "\u001b[34m\u001b[1mwandb\u001b[0m: \tscheduling: False\n",
            "\u001b[34m\u001b[1mwandb\u001b[0m: \tsplit: [0.7, 0.2, 0.1]\n",
            "\u001b[34m\u001b[1mwandb\u001b[0m: \ttimesteps: [-1]\n",
            "\u001b[34m\u001b[1mwandb\u001b[0m: \tweight_decay: 0\n"
          ]
        },
        {
          "output_type": "display_data",
          "data": {
            "text/plain": [
              "<IPython.core.display.HTML object>"
            ],
            "text/html": [
              "Tracking run with wandb version 0.13.3"
            ]
          },
          "metadata": {}
        },
        {
          "output_type": "display_data",
          "data": {
            "text/plain": [
              "<IPython.core.display.HTML object>"
            ],
            "text/html": [
              "Run data is saved locally in <code>/content/drive/MyDrive/Skoltech/Research/Hydrogen Oxidation/wandb/run-20220930_181827-wg4j8j5a</code>"
            ]
          },
          "metadata": {}
        },
        {
          "output_type": "display_data",
          "data": {
            "text/plain": [
              "<IPython.core.display.HTML object>"
            ],
            "text/html": [
              "Syncing run <strong><a href=\"https://wandb.ai/data-bigwig/Hydrogen-Oxidation-Models-Optimization/runs/wg4j8j5a\" target=\"_blank\">proud-sweep-20</a></strong> to <a href=\"https://wandb.ai/data-bigwig/Hydrogen-Oxidation-Models-Optimization\" target=\"_blank\">Weights & Biases</a> (<a href=\"https://wandb.me/run\" target=\"_blank\">docs</a>)<br/>Sweep page:  <a href=\"https://wandb.ai/data-bigwig/Hydrogen-Oxidation-Models-Optimization/sweeps/iwmnhlen\" target=\"_blank\">https://wandb.ai/data-bigwig/Hydrogen-Oxidation-Models-Optimization/sweeps/iwmnhlen</a>"
            ]
          },
          "metadata": {}
        },
        {
          "output_type": "display_data",
          "data": {
            "text/plain": [
              "<IPython.core.display.HTML object>"
            ],
            "text/html": [
              "Waiting for W&B process to finish... <strong style=\"color:green\">(success).</strong>"
            ]
          },
          "metadata": {}
        },
        {
          "output_type": "display_data",
          "data": {
            "text/plain": [
              "VBox(children=(Label(value='0.001 MB of 0.001 MB uploaded (0.000 MB deduped)\\r'), FloatProgress(value=1.0, max…"
            ],
            "application/vnd.jupyter.widget-view+json": {
              "version_major": 2,
              "version_minor": 0,
              "model_id": "16c1af6e184e4199aa6f889c133215c6"
            }
          },
          "metadata": {}
        },
        {
          "output_type": "display_data",
          "data": {
            "text/plain": [
              "<IPython.core.display.HTML object>"
            ],
            "text/html": [
              "<style>\n",
              "    table.wandb td:nth-child(1) { padding: 0 10px; text-align: left ; width: auto;} td:nth-child(2) {text-align: left ; width: 100%}\n",
              "    .wandb-row { display: flex; flex-direction: row; flex-wrap: wrap; justify-content: flex-start; width: 100% }\n",
              "    .wandb-col { display: flex; flex-direction: column; flex-basis: 100%; flex: 1; padding: 10px; }\n",
              "    </style>\n",
              "<div class=\"wandb-row\"><div class=\"wandb-col\"><h3>Run history:</h3><br/><table class=\"wandb\"><tr><td>learning_rate</td><td>▁▁▁▁▁▁▁▁▁▁▁▁▁▁▁▁▁▁▁▁▁▁▁▁▁▁▁▁▁▁▁▁▁▁▁▁▁▁▁▁</td></tr><tr><td>loss</td><td>▁</td></tr><tr><td>num_epochs</td><td>▁</td></tr><tr><td>train_loss</td><td>█▅▅▅▃▄▄▃▄▅▂▃▂▃▂▂▃▃▅▂▄▃▂▃▃▁▂▃▂▁▁▂▂▁▂▅▁▁▂▂</td></tr><tr><td>val_loss</td><td>▁▁▁▁▁▁▁▁▁▁▁▁▁▁▁▁▁▁█▂▂▁▁▁▁▁▁▁▁▁▁▁▁▁▁▁▁▁▁▁</td></tr></table><br/></div><div class=\"wandb-col\"><h3>Run summary:</h3><br/><table class=\"wandb\"><tr><td>learning_rate</td><td>0.01</td></tr><tr><td>loss</td><td>0.01302</td></tr><tr><td>num_epochs</td><td>740</td></tr><tr><td>train_loss</td><td>0.02765</td></tr><tr><td>val_loss</td><td>0.00569</td></tr></table><br/></div></div>"
            ]
          },
          "metadata": {}
        },
        {
          "output_type": "display_data",
          "data": {
            "text/plain": [
              "<IPython.core.display.HTML object>"
            ],
            "text/html": [
              "Synced <strong style=\"color:#cdcd00\">proud-sweep-20</strong>: <a href=\"https://wandb.ai/data-bigwig/Hydrogen-Oxidation-Models-Optimization/runs/wg4j8j5a\" target=\"_blank\">https://wandb.ai/data-bigwig/Hydrogen-Oxidation-Models-Optimization/runs/wg4j8j5a</a><br/>Synced 4 W&B file(s), 0 media file(s), 0 artifact file(s) and 0 other file(s)"
            ]
          },
          "metadata": {}
        },
        {
          "output_type": "display_data",
          "data": {
            "text/plain": [
              "<IPython.core.display.HTML object>"
            ],
            "text/html": [
              "Find logs at: <code>./wandb/run-20220930_181827-wg4j8j5a/logs</code>"
            ]
          },
          "metadata": {}
        },
        {
          "output_type": "stream",
          "name": "stderr",
          "text": [
            "\u001b[34m\u001b[1mwandb\u001b[0m: Agent Starting Run: nh1pvwzx with config:\n",
            "\u001b[34m\u001b[1mwandb\u001b[0m: \tbatch_size: 64\n",
            "\u001b[34m\u001b[1mwandb\u001b[0m: \tbeta1: 0.95\n",
            "\u001b[34m\u001b[1mwandb\u001b[0m: \tbeta2: 0.99\n",
            "\u001b[34m\u001b[1mwandb\u001b[0m: \tdict_path: None\n",
            "\u001b[34m\u001b[1mwandb\u001b[0m: \tdropout: 0.05\n",
            "\u001b[34m\u001b[1mwandb\u001b[0m: \tepochs: 2500\n",
            "\u001b[34m\u001b[1mwandb\u001b[0m: \thidden_size: [32, 256]\n",
            "\u001b[34m\u001b[1mwandb\u001b[0m: \tin_conc: True\n",
            "\u001b[34m\u001b[1mwandb\u001b[0m: \tin_h2_o2: True\n",
            "\u001b[34m\u001b[1mwandb\u001b[0m: \tin_pres: False\n",
            "\u001b[34m\u001b[1mwandb\u001b[0m: \tinput_size: 9\n",
            "\u001b[34m\u001b[1mwandb\u001b[0m: \tinputs_path: input_98660.npy\n",
            "\u001b[34m\u001b[1mwandb\u001b[0m: \tlr: 0.05\n",
            "\u001b[34m\u001b[1mwandb\u001b[0m: \tmb_coeff: 0\n",
            "\u001b[34m\u001b[1mwandb\u001b[0m: \tmean_std_path: ConcInputs_NoH2O2(taraget_only)_NoPressure_mean_std_laststep.json\n",
            "\u001b[34m\u001b[1mwandb\u001b[0m: \tmodel: FNN\n",
            "\u001b[34m\u001b[1mwandb\u001b[0m: \tnsample: 1500\n",
            "\u001b[34m\u001b[1mwandb\u001b[0m: \tnum_layers: 2\n",
            "\u001b[34m\u001b[1mwandb\u001b[0m: \toptimizer: Adam\n",
            "\u001b[34m\u001b[1mwandb\u001b[0m: \tout_h2_o2: False\n",
            "\u001b[34m\u001b[1mwandb\u001b[0m: \toutput_size: 7\n",
            "\u001b[34m\u001b[1mwandb\u001b[0m: \toutputs_dir: ./Out_files_npy\n",
            "\u001b[34m\u001b[1mwandb\u001b[0m: \treturn_1d_input: True\n",
            "\u001b[34m\u001b[1mwandb\u001b[0m: \tscheduling: False\n",
            "\u001b[34m\u001b[1mwandb\u001b[0m: \tsplit: [0.7, 0.2, 0.1]\n",
            "\u001b[34m\u001b[1mwandb\u001b[0m: \ttimesteps: [-1]\n",
            "\u001b[34m\u001b[1mwandb\u001b[0m: \tweight_decay: 0\n"
          ]
        },
        {
          "output_type": "display_data",
          "data": {
            "text/plain": [
              "<IPython.core.display.HTML object>"
            ],
            "text/html": [
              "Tracking run with wandb version 0.13.3"
            ]
          },
          "metadata": {}
        },
        {
          "output_type": "display_data",
          "data": {
            "text/plain": [
              "<IPython.core.display.HTML object>"
            ],
            "text/html": [
              "Run data is saved locally in <code>/content/drive/MyDrive/Skoltech/Research/Hydrogen Oxidation/wandb/run-20220930_184114-nh1pvwzx</code>"
            ]
          },
          "metadata": {}
        },
        {
          "output_type": "display_data",
          "data": {
            "text/plain": [
              "<IPython.core.display.HTML object>"
            ],
            "text/html": [
              "Syncing run <strong><a href=\"https://wandb.ai/data-bigwig/Hydrogen-Oxidation-Models-Optimization/runs/nh1pvwzx\" target=\"_blank\">desert-sweep-22</a></strong> to <a href=\"https://wandb.ai/data-bigwig/Hydrogen-Oxidation-Models-Optimization\" target=\"_blank\">Weights & Biases</a> (<a href=\"https://wandb.me/run\" target=\"_blank\">docs</a>)<br/>Sweep page:  <a href=\"https://wandb.ai/data-bigwig/Hydrogen-Oxidation-Models-Optimization/sweeps/iwmnhlen\" target=\"_blank\">https://wandb.ai/data-bigwig/Hydrogen-Oxidation-Models-Optimization/sweeps/iwmnhlen</a>"
            ]
          },
          "metadata": {}
        },
        {
          "output_type": "display_data",
          "data": {
            "text/plain": [
              "<IPython.core.display.HTML object>"
            ],
            "text/html": [
              "Waiting for W&B process to finish... <strong style=\"color:green\">(success).</strong>"
            ]
          },
          "metadata": {}
        },
        {
          "output_type": "display_data",
          "data": {
            "text/plain": [
              "VBox(children=(Label(value='0.001 MB of 0.001 MB uploaded (0.000 MB deduped)\\r'), FloatProgress(value=1.0, max…"
            ],
            "application/vnd.jupyter.widget-view+json": {
              "version_major": 2,
              "version_minor": 0,
              "model_id": "1869ee006f0c4c8da49f6cc4acab7951"
            }
          },
          "metadata": {}
        },
        {
          "output_type": "display_data",
          "data": {
            "text/plain": [
              "<IPython.core.display.HTML object>"
            ],
            "text/html": [
              "<style>\n",
              "    table.wandb td:nth-child(1) { padding: 0 10px; text-align: left ; width: auto;} td:nth-child(2) {text-align: left ; width: 100%}\n",
              "    .wandb-row { display: flex; flex-direction: row; flex-wrap: wrap; justify-content: flex-start; width: 100% }\n",
              "    .wandb-col { display: flex; flex-direction: column; flex-basis: 100%; flex: 1; padding: 10px; }\n",
              "    </style>\n",
              "<div class=\"wandb-row\"><div class=\"wandb-col\"><h3>Run history:</h3><br/><table class=\"wandb\"><tr><td>learning_rate</td><td>▁▁▁▁▁▁▁▁▁▁▁▁▁▁▁▁▁▁▁▁▁▁▁▁▁▁▁▁▁▁▁▁▁▁▁▁▁▁▁▁</td></tr><tr><td>loss</td><td>▁</td></tr><tr><td>num_epochs</td><td>▁</td></tr><tr><td>train_loss</td><td>█▆▅▇▄▃▄▄▅▃▆▂▄▂▄▃▁▅▂▄▂▃▄▃▄▃▅▃▃▃▂▅▃▄▁▁▃▃▃▂</td></tr><tr><td>val_loss</td><td>▆▃▄▄▅▂▅█▃▃▆▃▁▂▂▂▂▃▂▃▂▂▂▃▇▅▂▂▄▃▁▂▁▂▂▁▅▁▂▃</td></tr></table><br/></div><div class=\"wandb-col\"><h3>Run summary:</h3><br/><table class=\"wandb\"><tr><td>learning_rate</td><td>0.05</td></tr><tr><td>loss</td><td>0.04943</td></tr><tr><td>num_epochs</td><td>413</td></tr><tr><td>train_loss</td><td>0.05354</td></tr><tr><td>val_loss</td><td>0.01707</td></tr></table><br/></div></div>"
            ]
          },
          "metadata": {}
        },
        {
          "output_type": "display_data",
          "data": {
            "text/plain": [
              "<IPython.core.display.HTML object>"
            ],
            "text/html": [
              "Synced <strong style=\"color:#cdcd00\">desert-sweep-22</strong>: <a href=\"https://wandb.ai/data-bigwig/Hydrogen-Oxidation-Models-Optimization/runs/nh1pvwzx\" target=\"_blank\">https://wandb.ai/data-bigwig/Hydrogen-Oxidation-Models-Optimization/runs/nh1pvwzx</a><br/>Synced 4 W&B file(s), 0 media file(s), 0 artifact file(s) and 0 other file(s)"
            ]
          },
          "metadata": {}
        },
        {
          "output_type": "display_data",
          "data": {
            "text/plain": [
              "<IPython.core.display.HTML object>"
            ],
            "text/html": [
              "Find logs at: <code>./wandb/run-20220930_184114-nh1pvwzx/logs</code>"
            ]
          },
          "metadata": {}
        },
        {
          "output_type": "stream",
          "name": "stderr",
          "text": [
            "\u001b[34m\u001b[1mwandb\u001b[0m: Agent Starting Run: g9b9g07f with config:\n",
            "\u001b[34m\u001b[1mwandb\u001b[0m: \tbatch_size: 128\n",
            "\u001b[34m\u001b[1mwandb\u001b[0m: \tbeta1: 0.85\n",
            "\u001b[34m\u001b[1mwandb\u001b[0m: \tbeta2: 0.95\n",
            "\u001b[34m\u001b[1mwandb\u001b[0m: \tdict_path: None\n",
            "\u001b[34m\u001b[1mwandb\u001b[0m: \tdropout: 0.05\n",
            "\u001b[34m\u001b[1mwandb\u001b[0m: \tepochs: 2500\n",
            "\u001b[34m\u001b[1mwandb\u001b[0m: \thidden_size: [64, 256]\n",
            "\u001b[34m\u001b[1mwandb\u001b[0m: \tin_conc: True\n",
            "\u001b[34m\u001b[1mwandb\u001b[0m: \tin_h2_o2: True\n",
            "\u001b[34m\u001b[1mwandb\u001b[0m: \tin_pres: False\n",
            "\u001b[34m\u001b[1mwandb\u001b[0m: \tinput_size: 9\n",
            "\u001b[34m\u001b[1mwandb\u001b[0m: \tinputs_path: input_98660.npy\n",
            "\u001b[34m\u001b[1mwandb\u001b[0m: \tlr: 0.005\n",
            "\u001b[34m\u001b[1mwandb\u001b[0m: \tmb_coeff: 0\n",
            "\u001b[34m\u001b[1mwandb\u001b[0m: \tmean_std_path: ConcInputs_NoH2O2(taraget_only)_NoPressure_mean_std_laststep.json\n",
            "\u001b[34m\u001b[1mwandb\u001b[0m: \tmodel: FNN\n",
            "\u001b[34m\u001b[1mwandb\u001b[0m: \tnsample: 1500\n",
            "\u001b[34m\u001b[1mwandb\u001b[0m: \tnum_layers: 2\n",
            "\u001b[34m\u001b[1mwandb\u001b[0m: \toptimizer: Adam\n",
            "\u001b[34m\u001b[1mwandb\u001b[0m: \tout_h2_o2: False\n",
            "\u001b[34m\u001b[1mwandb\u001b[0m: \toutput_size: 7\n",
            "\u001b[34m\u001b[1mwandb\u001b[0m: \toutputs_dir: ./Out_files_npy\n",
            "\u001b[34m\u001b[1mwandb\u001b[0m: \treturn_1d_input: True\n",
            "\u001b[34m\u001b[1mwandb\u001b[0m: \tscheduling: False\n",
            "\u001b[34m\u001b[1mwandb\u001b[0m: \tsplit: [0.7, 0.2, 0.1]\n",
            "\u001b[34m\u001b[1mwandb\u001b[0m: \ttimesteps: [-1]\n",
            "\u001b[34m\u001b[1mwandb\u001b[0m: \tweight_decay: 0\n"
          ]
        },
        {
          "output_type": "display_data",
          "data": {
            "text/plain": [
              "<IPython.core.display.HTML object>"
            ],
            "text/html": [
              "Tracking run with wandb version 0.13.3"
            ]
          },
          "metadata": {}
        },
        {
          "output_type": "display_data",
          "data": {
            "text/plain": [
              "<IPython.core.display.HTML object>"
            ],
            "text/html": [
              "Run data is saved locally in <code>/content/drive/MyDrive/Skoltech/Research/Hydrogen Oxidation/wandb/run-20220930_185402-g9b9g07f</code>"
            ]
          },
          "metadata": {}
        },
        {
          "output_type": "display_data",
          "data": {
            "text/plain": [
              "<IPython.core.display.HTML object>"
            ],
            "text/html": [
              "Syncing run <strong><a href=\"https://wandb.ai/data-bigwig/Hydrogen-Oxidation-Models-Optimization/runs/g9b9g07f\" target=\"_blank\">prime-sweep-26</a></strong> to <a href=\"https://wandb.ai/data-bigwig/Hydrogen-Oxidation-Models-Optimization\" target=\"_blank\">Weights & Biases</a> (<a href=\"https://wandb.me/run\" target=\"_blank\">docs</a>)<br/>Sweep page:  <a href=\"https://wandb.ai/data-bigwig/Hydrogen-Oxidation-Models-Optimization/sweeps/iwmnhlen\" target=\"_blank\">https://wandb.ai/data-bigwig/Hydrogen-Oxidation-Models-Optimization/sweeps/iwmnhlen</a>"
            ]
          },
          "metadata": {}
        },
        {
          "output_type": "display_data",
          "data": {
            "text/plain": [
              "<IPython.core.display.HTML object>"
            ],
            "text/html": [
              "Waiting for W&B process to finish... <strong style=\"color:green\">(success).</strong>"
            ]
          },
          "metadata": {}
        },
        {
          "output_type": "display_data",
          "data": {
            "text/plain": [
              "VBox(children=(Label(value='0.001 MB of 0.001 MB uploaded (0.000 MB deduped)\\r'), FloatProgress(value=1.0, max…"
            ],
            "application/vnd.jupyter.widget-view+json": {
              "version_major": 2,
              "version_minor": 0,
              "model_id": "7f92c2ddcb844720bbd145e458bdbd5e"
            }
          },
          "metadata": {}
        },
        {
          "output_type": "display_data",
          "data": {
            "text/plain": [
              "<IPython.core.display.HTML object>"
            ],
            "text/html": [
              "<style>\n",
              "    table.wandb td:nth-child(1) { padding: 0 10px; text-align: left ; width: auto;} td:nth-child(2) {text-align: left ; width: 100%}\n",
              "    .wandb-row { display: flex; flex-direction: row; flex-wrap: wrap; justify-content: flex-start; width: 100% }\n",
              "    .wandb-col { display: flex; flex-direction: column; flex-basis: 100%; flex: 1; padding: 10px; }\n",
              "    </style>\n",
              "<div class=\"wandb-row\"><div class=\"wandb-col\"><h3>Run history:</h3><br/><table class=\"wandb\"><tr><td>learning_rate</td><td>▁▁▁▁▁▁▁▁▁▁▁▁▁▁▁▁▁▁▁▁▁▁▁▁▁▁▁▁▁▁▁▁▁▁▁▁▁▁▁▁</td></tr><tr><td>loss</td><td>▁</td></tr><tr><td>num_epochs</td><td>▁</td></tr><tr><td>train_loss</td><td>█▄▅▃▃▄▄▃▃▂▃▁▂▃▄▄▃▂▂▁▃▂▂▂▃▂▂▄▂▂▄▂▂▂▃▅▁▂▂▁</td></tr><tr><td>val_loss</td><td>█▂▃▃▂▂▂▂▂▂▁▁▂▂▂▂▁▁▁▁▁▂▁▁▁▂▁▁▁▂▁▁▁▁▁▁▁▁▁▁</td></tr></table><br/></div><div class=\"wandb-col\"><h3>Run summary:</h3><br/><table class=\"wandb\"><tr><td>learning_rate</td><td>0.005</td></tr><tr><td>loss</td><td>0.00766</td></tr><tr><td>num_epochs</td><td>931</td></tr><tr><td>train_loss</td><td>0.01872</td></tr><tr><td>val_loss</td><td>0.00391</td></tr></table><br/></div></div>"
            ]
          },
          "metadata": {}
        },
        {
          "output_type": "display_data",
          "data": {
            "text/plain": [
              "<IPython.core.display.HTML object>"
            ],
            "text/html": [
              "Synced <strong style=\"color:#cdcd00\">prime-sweep-26</strong>: <a href=\"https://wandb.ai/data-bigwig/Hydrogen-Oxidation-Models-Optimization/runs/g9b9g07f\" target=\"_blank\">https://wandb.ai/data-bigwig/Hydrogen-Oxidation-Models-Optimization/runs/g9b9g07f</a><br/>Synced 4 W&B file(s), 0 media file(s), 0 artifact file(s) and 0 other file(s)"
            ]
          },
          "metadata": {}
        },
        {
          "output_type": "display_data",
          "data": {
            "text/plain": [
              "<IPython.core.display.HTML object>"
            ],
            "text/html": [
              "Find logs at: <code>./wandb/run-20220930_185402-g9b9g07f/logs</code>"
            ]
          },
          "metadata": {}
        },
        {
          "output_type": "stream",
          "name": "stderr",
          "text": [
            "\u001b[34m\u001b[1mwandb\u001b[0m: Agent Starting Run: fo47hukf with config:\n",
            "\u001b[34m\u001b[1mwandb\u001b[0m: \tbatch_size: 128\n",
            "\u001b[34m\u001b[1mwandb\u001b[0m: \tbeta1: 0.95\n",
            "\u001b[34m\u001b[1mwandb\u001b[0m: \tbeta2: 0.9\n",
            "\u001b[34m\u001b[1mwandb\u001b[0m: \tdict_path: None\n",
            "\u001b[34m\u001b[1mwandb\u001b[0m: \tdropout: 0\n",
            "\u001b[34m\u001b[1mwandb\u001b[0m: \tepochs: 2500\n",
            "\u001b[34m\u001b[1mwandb\u001b[0m: \thidden_size: [64, 256]\n",
            "\u001b[34m\u001b[1mwandb\u001b[0m: \tin_conc: True\n",
            "\u001b[34m\u001b[1mwandb\u001b[0m: \tin_h2_o2: True\n",
            "\u001b[34m\u001b[1mwandb\u001b[0m: \tin_pres: False\n",
            "\u001b[34m\u001b[1mwandb\u001b[0m: \tinput_size: 9\n",
            "\u001b[34m\u001b[1mwandb\u001b[0m: \tinputs_path: input_98660.npy\n",
            "\u001b[34m\u001b[1mwandb\u001b[0m: \tlr: 0.001\n",
            "\u001b[34m\u001b[1mwandb\u001b[0m: \tmb_coeff: 0\n",
            "\u001b[34m\u001b[1mwandb\u001b[0m: \tmean_std_path: ConcInputs_NoH2O2(taraget_only)_NoPressure_mean_std_laststep.json\n",
            "\u001b[34m\u001b[1mwandb\u001b[0m: \tmodel: FNN\n",
            "\u001b[34m\u001b[1mwandb\u001b[0m: \tnsample: 1500\n",
            "\u001b[34m\u001b[1mwandb\u001b[0m: \tnum_layers: 2\n",
            "\u001b[34m\u001b[1mwandb\u001b[0m: \toptimizer: Adam\n",
            "\u001b[34m\u001b[1mwandb\u001b[0m: \tout_h2_o2: False\n",
            "\u001b[34m\u001b[1mwandb\u001b[0m: \toutput_size: 7\n",
            "\u001b[34m\u001b[1mwandb\u001b[0m: \toutputs_dir: ./Out_files_npy\n",
            "\u001b[34m\u001b[1mwandb\u001b[0m: \treturn_1d_input: True\n",
            "\u001b[34m\u001b[1mwandb\u001b[0m: \tscheduling: False\n",
            "\u001b[34m\u001b[1mwandb\u001b[0m: \tsplit: [0.7, 0.2, 0.1]\n",
            "\u001b[34m\u001b[1mwandb\u001b[0m: \ttimesteps: [-1]\n",
            "\u001b[34m\u001b[1mwandb\u001b[0m: \tweight_decay: 0\n"
          ]
        },
        {
          "output_type": "display_data",
          "data": {
            "text/plain": [
              "<IPython.core.display.HTML object>"
            ],
            "text/html": [
              "Tracking run with wandb version 0.13.3"
            ]
          },
          "metadata": {}
        },
        {
          "output_type": "display_data",
          "data": {
            "text/plain": [
              "<IPython.core.display.HTML object>"
            ],
            "text/html": [
              "Run data is saved locally in <code>/content/drive/MyDrive/Skoltech/Research/Hydrogen Oxidation/wandb/run-20220930_192205-fo47hukf</code>"
            ]
          },
          "metadata": {}
        },
        {
          "output_type": "display_data",
          "data": {
            "text/plain": [
              "<IPython.core.display.HTML object>"
            ],
            "text/html": [
              "Syncing run <strong><a href=\"https://wandb.ai/data-bigwig/Hydrogen-Oxidation-Models-Optimization/runs/fo47hukf\" target=\"_blank\">fearless-sweep-27</a></strong> to <a href=\"https://wandb.ai/data-bigwig/Hydrogen-Oxidation-Models-Optimization\" target=\"_blank\">Weights & Biases</a> (<a href=\"https://wandb.me/run\" target=\"_blank\">docs</a>)<br/>Sweep page:  <a href=\"https://wandb.ai/data-bigwig/Hydrogen-Oxidation-Models-Optimization/sweeps/iwmnhlen\" target=\"_blank\">https://wandb.ai/data-bigwig/Hydrogen-Oxidation-Models-Optimization/sweeps/iwmnhlen</a>"
            ]
          },
          "metadata": {}
        },
        {
          "output_type": "display_data",
          "data": {
            "text/plain": [
              "<IPython.core.display.HTML object>"
            ],
            "text/html": [
              "Waiting for W&B process to finish... <strong style=\"color:green\">(success).</strong>"
            ]
          },
          "metadata": {}
        },
        {
          "output_type": "display_data",
          "data": {
            "text/plain": [
              "VBox(children=(Label(value='0.001 MB of 0.001 MB uploaded (0.000 MB deduped)\\r'), FloatProgress(value=1.0, max…"
            ],
            "application/vnd.jupyter.widget-view+json": {
              "version_major": 2,
              "version_minor": 0,
              "model_id": "4e101fe5d27741ffad6f32907fd421c2"
            }
          },
          "metadata": {}
        },
        {
          "output_type": "display_data",
          "data": {
            "text/plain": [
              "<IPython.core.display.HTML object>"
            ],
            "text/html": [
              "<style>\n",
              "    table.wandb td:nth-child(1) { padding: 0 10px; text-align: left ; width: auto;} td:nth-child(2) {text-align: left ; width: 100%}\n",
              "    .wandb-row { display: flex; flex-direction: row; flex-wrap: wrap; justify-content: flex-start; width: 100% }\n",
              "    .wandb-col { display: flex; flex-direction: column; flex-basis: 100%; flex: 1; padding: 10px; }\n",
              "    </style>\n",
              "<div class=\"wandb-row\"><div class=\"wandb-col\"><h3>Run history:</h3><br/><table class=\"wandb\"><tr><td>learning_rate</td><td>▁▁▁▁▁▁▁▁▁▁▁▁▁▁▁▁▁▁▁▁▁▁▁▁▁▁▁▁▁▁▁▁▁▁▁▁▁▁▁▁</td></tr><tr><td>loss</td><td>▁</td></tr><tr><td>num_epochs</td><td>▁</td></tr><tr><td>train_loss</td><td>▇█▅▄▄█▄▄▆▃▃▂▄▃▂▃▂▁▄▂▂▃▂▃▂▃▂▂▄▃▃▂▄▂▂▃▂▃▁▄</td></tr><tr><td>val_loss</td><td>█▃▃▂▂▂▃▂▂▂▂▂▂▁▂▁▂▁▁▁▂▁▂▂▁▁▂▂▁▁▂▁▁▁▁▂▁▁▁▂</td></tr></table><br/></div><div class=\"wandb-col\"><h3>Run summary:</h3><br/><table class=\"wandb\"><tr><td>learning_rate</td><td>0.001</td></tr><tr><td>loss</td><td>0.01381</td></tr><tr><td>num_epochs</td><td>611</td></tr><tr><td>train_loss</td><td>0.02293</td></tr><tr><td>val_loss</td><td>0.00766</td></tr></table><br/></div></div>"
            ]
          },
          "metadata": {}
        },
        {
          "output_type": "display_data",
          "data": {
            "text/plain": [
              "<IPython.core.display.HTML object>"
            ],
            "text/html": [
              "Synced <strong style=\"color:#cdcd00\">fearless-sweep-27</strong>: <a href=\"https://wandb.ai/data-bigwig/Hydrogen-Oxidation-Models-Optimization/runs/fo47hukf\" target=\"_blank\">https://wandb.ai/data-bigwig/Hydrogen-Oxidation-Models-Optimization/runs/fo47hukf</a><br/>Synced 4 W&B file(s), 0 media file(s), 0 artifact file(s) and 0 other file(s)"
            ]
          },
          "metadata": {}
        },
        {
          "output_type": "display_data",
          "data": {
            "text/plain": [
              "<IPython.core.display.HTML object>"
            ],
            "text/html": [
              "Find logs at: <code>./wandb/run-20220930_192205-fo47hukf/logs</code>"
            ]
          },
          "metadata": {}
        },
        {
          "output_type": "stream",
          "name": "stderr",
          "text": [
            "\u001b[34m\u001b[1mwandb\u001b[0m: Agent Starting Run: 18isj0zp with config:\n",
            "\u001b[34m\u001b[1mwandb\u001b[0m: \tbatch_size: 128\n",
            "\u001b[34m\u001b[1mwandb\u001b[0m: \tbeta1: 0.85\n",
            "\u001b[34m\u001b[1mwandb\u001b[0m: \tbeta2: 0.9\n",
            "\u001b[34m\u001b[1mwandb\u001b[0m: \tdict_path: None\n",
            "\u001b[34m\u001b[1mwandb\u001b[0m: \tdropout: 0.1\n",
            "\u001b[34m\u001b[1mwandb\u001b[0m: \tepochs: 2500\n",
            "\u001b[34m\u001b[1mwandb\u001b[0m: \thidden_size: [32, 256]\n",
            "\u001b[34m\u001b[1mwandb\u001b[0m: \tin_conc: True\n",
            "\u001b[34m\u001b[1mwandb\u001b[0m: \tin_h2_o2: True\n",
            "\u001b[34m\u001b[1mwandb\u001b[0m: \tin_pres: False\n",
            "\u001b[34m\u001b[1mwandb\u001b[0m: \tinput_size: 9\n",
            "\u001b[34m\u001b[1mwandb\u001b[0m: \tinputs_path: input_98660.npy\n",
            "\u001b[34m\u001b[1mwandb\u001b[0m: \tlr: 0.0001\n",
            "\u001b[34m\u001b[1mwandb\u001b[0m: \tmb_coeff: 0\n",
            "\u001b[34m\u001b[1mwandb\u001b[0m: \tmean_std_path: ConcInputs_NoH2O2(taraget_only)_NoPressure_mean_std_laststep.json\n",
            "\u001b[34m\u001b[1mwandb\u001b[0m: \tmodel: FNN\n",
            "\u001b[34m\u001b[1mwandb\u001b[0m: \tnsample: 1500\n",
            "\u001b[34m\u001b[1mwandb\u001b[0m: \tnum_layers: 2\n",
            "\u001b[34m\u001b[1mwandb\u001b[0m: \toptimizer: Adam\n",
            "\u001b[34m\u001b[1mwandb\u001b[0m: \tout_h2_o2: False\n",
            "\u001b[34m\u001b[1mwandb\u001b[0m: \toutput_size: 7\n",
            "\u001b[34m\u001b[1mwandb\u001b[0m: \toutputs_dir: ./Out_files_npy\n",
            "\u001b[34m\u001b[1mwandb\u001b[0m: \treturn_1d_input: True\n",
            "\u001b[34m\u001b[1mwandb\u001b[0m: \tscheduling: False\n",
            "\u001b[34m\u001b[1mwandb\u001b[0m: \tsplit: [0.7, 0.2, 0.1]\n",
            "\u001b[34m\u001b[1mwandb\u001b[0m: \ttimesteps: [-1]\n",
            "\u001b[34m\u001b[1mwandb\u001b[0m: \tweight_decay: 0.05\n"
          ]
        },
        {
          "output_type": "display_data",
          "data": {
            "text/plain": [
              "<IPython.core.display.HTML object>"
            ],
            "text/html": [
              "Tracking run with wandb version 0.13.3"
            ]
          },
          "metadata": {}
        },
        {
          "output_type": "display_data",
          "data": {
            "text/plain": [
              "<IPython.core.display.HTML object>"
            ],
            "text/html": [
              "Run data is saved locally in <code>/content/drive/MyDrive/Skoltech/Research/Hydrogen Oxidation/wandb/run-20220930_194038-18isj0zp</code>"
            ]
          },
          "metadata": {}
        },
        {
          "output_type": "display_data",
          "data": {
            "text/plain": [
              "<IPython.core.display.HTML object>"
            ],
            "text/html": [
              "Syncing run <strong><a href=\"https://wandb.ai/data-bigwig/Hydrogen-Oxidation-Models-Optimization/runs/18isj0zp\" target=\"_blank\">jumping-sweep-29</a></strong> to <a href=\"https://wandb.ai/data-bigwig/Hydrogen-Oxidation-Models-Optimization\" target=\"_blank\">Weights & Biases</a> (<a href=\"https://wandb.me/run\" target=\"_blank\">docs</a>)<br/>Sweep page:  <a href=\"https://wandb.ai/data-bigwig/Hydrogen-Oxidation-Models-Optimization/sweeps/iwmnhlen\" target=\"_blank\">https://wandb.ai/data-bigwig/Hydrogen-Oxidation-Models-Optimization/sweeps/iwmnhlen</a>"
            ]
          },
          "metadata": {}
        },
        {
          "output_type": "display_data",
          "data": {
            "text/plain": [
              "<IPython.core.display.HTML object>"
            ],
            "text/html": [
              "Waiting for W&B process to finish... <strong style=\"color:green\">(success).</strong>"
            ]
          },
          "metadata": {}
        },
        {
          "output_type": "display_data",
          "data": {
            "text/plain": [
              "VBox(children=(Label(value='0.001 MB of 0.001 MB uploaded (0.000 MB deduped)\\r'), FloatProgress(value=1.0, max…"
            ],
            "application/vnd.jupyter.widget-view+json": {
              "version_major": 2,
              "version_minor": 0,
              "model_id": "0282b98e613c42dfb330ee0849336d33"
            }
          },
          "metadata": {}
        },
        {
          "output_type": "display_data",
          "data": {
            "text/plain": [
              "<IPython.core.display.HTML object>"
            ],
            "text/html": [
              "<style>\n",
              "    table.wandb td:nth-child(1) { padding: 0 10px; text-align: left ; width: auto;} td:nth-child(2) {text-align: left ; width: 100%}\n",
              "    .wandb-row { display: flex; flex-direction: row; flex-wrap: wrap; justify-content: flex-start; width: 100% }\n",
              "    .wandb-col { display: flex; flex-direction: column; flex-basis: 100%; flex: 1; padding: 10px; }\n",
              "    </style>\n",
              "<div class=\"wandb-row\"><div class=\"wandb-col\"><h3>Run history:</h3><br/><table class=\"wandb\"><tr><td>learning_rate</td><td>▁▁▁▁▁▁▁▁▁▁▁▁▁▁▁▁▁▁▁▁▁▁▁▁▁▁▁▁▁▁▁▁▁▁▁▁▁▁▁▁</td></tr><tr><td>loss</td><td>▁</td></tr><tr><td>num_epochs</td><td>▁</td></tr><tr><td>train_loss</td><td>█▅▃▃▂▂▂▂▂▂▂▁▂▂▁▁▁▁▁▁▁▁▁▁▁▁▁▁▁▁▁▁▁▁▁▁▁▁▁▁</td></tr><tr><td>val_loss</td><td>█▅▃▂▂▁▁▁▁▁▁▁▁▁▁▁▁▁▁▁▁▁▁▁▁▁▁▁▁▁▁▁▁▁▁▁▁▁▁▁</td></tr></table><br/></div><div class=\"wandb-col\"><h3>Run summary:</h3><br/><table class=\"wandb\"><tr><td>learning_rate</td><td>0.0001</td></tr><tr><td>loss</td><td>0.07253</td></tr><tr><td>num_epochs</td><td>586</td></tr><tr><td>train_loss</td><td>0.07722</td></tr><tr><td>val_loss</td><td>0.05076</td></tr></table><br/></div></div>"
            ]
          },
          "metadata": {}
        },
        {
          "output_type": "display_data",
          "data": {
            "text/plain": [
              "<IPython.core.display.HTML object>"
            ],
            "text/html": [
              "Synced <strong style=\"color:#cdcd00\">jumping-sweep-29</strong>: <a href=\"https://wandb.ai/data-bigwig/Hydrogen-Oxidation-Models-Optimization/runs/18isj0zp\" target=\"_blank\">https://wandb.ai/data-bigwig/Hydrogen-Oxidation-Models-Optimization/runs/18isj0zp</a><br/>Synced 4 W&B file(s), 0 media file(s), 0 artifact file(s) and 0 other file(s)"
            ]
          },
          "metadata": {}
        },
        {
          "output_type": "display_data",
          "data": {
            "text/plain": [
              "<IPython.core.display.HTML object>"
            ],
            "text/html": [
              "Find logs at: <code>./wandb/run-20220930_194038-18isj0zp/logs</code>"
            ]
          },
          "metadata": {}
        },
        {
          "output_type": "stream",
          "name": "stderr",
          "text": [
            "\u001b[34m\u001b[1mwandb\u001b[0m: Sweep Agent: Waiting for job.\n",
            "\u001b[34m\u001b[1mwandb\u001b[0m: Job received.\n",
            "\u001b[34m\u001b[1mwandb\u001b[0m: Agent Starting Run: 7fe6ltst with config:\n",
            "\u001b[34m\u001b[1mwandb\u001b[0m: \tbatch_size: 128\n",
            "\u001b[34m\u001b[1mwandb\u001b[0m: \tbeta1: 0.85\n",
            "\u001b[34m\u001b[1mwandb\u001b[0m: \tbeta2: 0.95\n",
            "\u001b[34m\u001b[1mwandb\u001b[0m: \tdict_path: None\n",
            "\u001b[34m\u001b[1mwandb\u001b[0m: \tdropout: 0.2\n",
            "\u001b[34m\u001b[1mwandb\u001b[0m: \tepochs: 2500\n",
            "\u001b[34m\u001b[1mwandb\u001b[0m: \thidden_size: [64, 512]\n",
            "\u001b[34m\u001b[1mwandb\u001b[0m: \tin_conc: True\n",
            "\u001b[34m\u001b[1mwandb\u001b[0m: \tin_h2_o2: True\n",
            "\u001b[34m\u001b[1mwandb\u001b[0m: \tin_pres: False\n",
            "\u001b[34m\u001b[1mwandb\u001b[0m: \tinput_size: 9\n",
            "\u001b[34m\u001b[1mwandb\u001b[0m: \tinputs_path: input_98660.npy\n",
            "\u001b[34m\u001b[1mwandb\u001b[0m: \tlr: 0.0001\n",
            "\u001b[34m\u001b[1mwandb\u001b[0m: \tmb_coeff: 0\n",
            "\u001b[34m\u001b[1mwandb\u001b[0m: \tmean_std_path: ConcInputs_NoH2O2(taraget_only)_NoPressure_mean_std_laststep.json\n",
            "\u001b[34m\u001b[1mwandb\u001b[0m: \tmodel: FNN\n",
            "\u001b[34m\u001b[1mwandb\u001b[0m: \tnsample: 1500\n",
            "\u001b[34m\u001b[1mwandb\u001b[0m: \tnum_layers: 4\n",
            "\u001b[34m\u001b[1mwandb\u001b[0m: \toptimizer: Adam\n",
            "\u001b[34m\u001b[1mwandb\u001b[0m: \tout_h2_o2: False\n",
            "\u001b[34m\u001b[1mwandb\u001b[0m: \toutput_size: 7\n",
            "\u001b[34m\u001b[1mwandb\u001b[0m: \toutputs_dir: ./Out_files_npy\n",
            "\u001b[34m\u001b[1mwandb\u001b[0m: \treturn_1d_input: True\n",
            "\u001b[34m\u001b[1mwandb\u001b[0m: \tscheduling: False\n",
            "\u001b[34m\u001b[1mwandb\u001b[0m: \tsplit: [0.7, 0.2, 0.1]\n",
            "\u001b[34m\u001b[1mwandb\u001b[0m: \ttimesteps: [-1]\n",
            "\u001b[34m\u001b[1mwandb\u001b[0m: \tweight_decay: 0.05\n"
          ]
        },
        {
          "output_type": "display_data",
          "data": {
            "text/plain": [
              "<IPython.core.display.HTML object>"
            ],
            "text/html": [
              "Tracking run with wandb version 0.13.3"
            ]
          },
          "metadata": {}
        },
        {
          "output_type": "display_data",
          "data": {
            "text/plain": [
              "<IPython.core.display.HTML object>"
            ],
            "text/html": [
              "Run data is saved locally in <code>/content/drive/MyDrive/Skoltech/Research/Hydrogen Oxidation/wandb/run-20220930_195834-7fe6ltst</code>"
            ]
          },
          "metadata": {}
        },
        {
          "output_type": "display_data",
          "data": {
            "text/plain": [
              "<IPython.core.display.HTML object>"
            ],
            "text/html": [
              "Syncing run <strong><a href=\"https://wandb.ai/data-bigwig/Hydrogen-Oxidation-Models-Optimization/runs/7fe6ltst\" target=\"_blank\">lilac-sweep-32</a></strong> to <a href=\"https://wandb.ai/data-bigwig/Hydrogen-Oxidation-Models-Optimization\" target=\"_blank\">Weights & Biases</a> (<a href=\"https://wandb.me/run\" target=\"_blank\">docs</a>)<br/>Sweep page:  <a href=\"https://wandb.ai/data-bigwig/Hydrogen-Oxidation-Models-Optimization/sweeps/iwmnhlen\" target=\"_blank\">https://wandb.ai/data-bigwig/Hydrogen-Oxidation-Models-Optimization/sweeps/iwmnhlen</a>"
            ]
          },
          "metadata": {}
        },
        {
          "output_type": "display_data",
          "data": {
            "text/plain": [
              "<IPython.core.display.HTML object>"
            ],
            "text/html": [
              "Waiting for W&B process to finish... <strong style=\"color:green\">(success).</strong>"
            ]
          },
          "metadata": {}
        },
        {
          "output_type": "display_data",
          "data": {
            "text/plain": [
              "VBox(children=(Label(value='0.001 MB of 0.001 MB uploaded (0.000 MB deduped)\\r'), FloatProgress(value=1.0, max…"
            ],
            "application/vnd.jupyter.widget-view+json": {
              "version_major": 2,
              "version_minor": 0,
              "model_id": "671363e68ff74dfa8290e1b00836dddd"
            }
          },
          "metadata": {}
        },
        {
          "output_type": "display_data",
          "data": {
            "text/plain": [
              "<IPython.core.display.HTML object>"
            ],
            "text/html": [
              "<style>\n",
              "    table.wandb td:nth-child(1) { padding: 0 10px; text-align: left ; width: auto;} td:nth-child(2) {text-align: left ; width: 100%}\n",
              "    .wandb-row { display: flex; flex-direction: row; flex-wrap: wrap; justify-content: flex-start; width: 100% }\n",
              "    .wandb-col { display: flex; flex-direction: column; flex-basis: 100%; flex: 1; padding: 10px; }\n",
              "    </style>\n",
              "<div class=\"wandb-row\"><div class=\"wandb-col\"><h3>Run history:</h3><br/><table class=\"wandb\"><tr><td>learning_rate</td><td>▁▁▁▁▁▁▁▁▁▁▁▁▁▁▁▁▁▁▁▁▁▁▁▁▁▁▁▁▁▁▁▁▁▁▁▁▁▁▁▁</td></tr><tr><td>loss</td><td>▁</td></tr><tr><td>num_epochs</td><td>▁</td></tr><tr><td>train_loss</td><td>█▆▄▄▃▃▃▂▂▂▂▂▂▂▂▂▂▁▂▂▂▂▁▁▂▂▁▁▁▁▁▁▁▁▁▁▁▂▁▂</td></tr><tr><td>val_loss</td><td>▆▄▂▂▂▁▁▁▂▁▁▂▁▂▂▁▁▂▁▁▁▂▁▂▂▂▂▃▄▄▄▅▅▆▆▅▇█▆▇</td></tr></table><br/></div><div class=\"wandb-col\"><h3>Run summary:</h3><br/><table class=\"wandb\"><tr><td>learning_rate</td><td>0.0001</td></tr><tr><td>loss</td><td>0.16695</td></tr><tr><td>num_epochs</td><td>261</td></tr><tr><td>train_loss</td><td>0.07469</td></tr><tr><td>val_loss</td><td>0.29131</td></tr></table><br/></div></div>"
            ]
          },
          "metadata": {}
        },
        {
          "output_type": "display_data",
          "data": {
            "text/plain": [
              "<IPython.core.display.HTML object>"
            ],
            "text/html": [
              "Synced <strong style=\"color:#cdcd00\">lilac-sweep-32</strong>: <a href=\"https://wandb.ai/data-bigwig/Hydrogen-Oxidation-Models-Optimization/runs/7fe6ltst\" target=\"_blank\">https://wandb.ai/data-bigwig/Hydrogen-Oxidation-Models-Optimization/runs/7fe6ltst</a><br/>Synced 4 W&B file(s), 0 media file(s), 0 artifact file(s) and 0 other file(s)"
            ]
          },
          "metadata": {}
        },
        {
          "output_type": "display_data",
          "data": {
            "text/plain": [
              "<IPython.core.display.HTML object>"
            ],
            "text/html": [
              "Find logs at: <code>./wandb/run-20220930_195834-7fe6ltst/logs</code>"
            ]
          },
          "metadata": {}
        },
        {
          "output_type": "stream",
          "name": "stderr",
          "text": [
            "\u001b[34m\u001b[1mwandb\u001b[0m: Sweep Agent: Waiting for job.\n",
            "\u001b[34m\u001b[1mwandb\u001b[0m: Job received.\n",
            "\u001b[34m\u001b[1mwandb\u001b[0m: Agent Starting Run: yvxbt13b with config:\n",
            "\u001b[34m\u001b[1mwandb\u001b[0m: \tbatch_size: 128\n",
            "\u001b[34m\u001b[1mwandb\u001b[0m: \tbeta1: 0.9\n",
            "\u001b[34m\u001b[1mwandb\u001b[0m: \tbeta2: 0.99\n",
            "\u001b[34m\u001b[1mwandb\u001b[0m: \tdict_path: None\n",
            "\u001b[34m\u001b[1mwandb\u001b[0m: \tdropout: 0.05\n",
            "\u001b[34m\u001b[1mwandb\u001b[0m: \tepochs: 2500\n",
            "\u001b[34m\u001b[1mwandb\u001b[0m: \thidden_size: [64, 512]\n",
            "\u001b[34m\u001b[1mwandb\u001b[0m: \tin_conc: True\n",
            "\u001b[34m\u001b[1mwandb\u001b[0m: \tin_h2_o2: True\n",
            "\u001b[34m\u001b[1mwandb\u001b[0m: \tin_pres: False\n",
            "\u001b[34m\u001b[1mwandb\u001b[0m: \tinput_size: 9\n",
            "\u001b[34m\u001b[1mwandb\u001b[0m: \tinputs_path: input_98660.npy\n",
            "\u001b[34m\u001b[1mwandb\u001b[0m: \tlr: 0.0001\n",
            "\u001b[34m\u001b[1mwandb\u001b[0m: \tmb_coeff: 0\n",
            "\u001b[34m\u001b[1mwandb\u001b[0m: \tmean_std_path: ConcInputs_NoH2O2(taraget_only)_NoPressure_mean_std_laststep.json\n",
            "\u001b[34m\u001b[1mwandb\u001b[0m: \tmodel: FNN\n",
            "\u001b[34m\u001b[1mwandb\u001b[0m: \tnsample: 1500\n",
            "\u001b[34m\u001b[1mwandb\u001b[0m: \tnum_layers: 2\n",
            "\u001b[34m\u001b[1mwandb\u001b[0m: \toptimizer: Adam\n",
            "\u001b[34m\u001b[1mwandb\u001b[0m: \tout_h2_o2: False\n",
            "\u001b[34m\u001b[1mwandb\u001b[0m: \toutput_size: 7\n",
            "\u001b[34m\u001b[1mwandb\u001b[0m: \toutputs_dir: ./Out_files_npy\n",
            "\u001b[34m\u001b[1mwandb\u001b[0m: \treturn_1d_input: True\n",
            "\u001b[34m\u001b[1mwandb\u001b[0m: \tscheduling: False\n",
            "\u001b[34m\u001b[1mwandb\u001b[0m: \tsplit: [0.7, 0.2, 0.1]\n",
            "\u001b[34m\u001b[1mwandb\u001b[0m: \ttimesteps: [-1]\n",
            "\u001b[34m\u001b[1mwandb\u001b[0m: \tweight_decay: 0.01\n"
          ]
        },
        {
          "output_type": "display_data",
          "data": {
            "text/plain": [
              "<IPython.core.display.HTML object>"
            ],
            "text/html": [
              "Tracking run with wandb version 0.13.3"
            ]
          },
          "metadata": {}
        },
        {
          "output_type": "display_data",
          "data": {
            "text/plain": [
              "<IPython.core.display.HTML object>"
            ],
            "text/html": [
              "Run data is saved locally in <code>/content/drive/MyDrive/Skoltech/Research/Hydrogen Oxidation/wandb/run-20220930_200658-yvxbt13b</code>"
            ]
          },
          "metadata": {}
        },
        {
          "output_type": "display_data",
          "data": {
            "text/plain": [
              "<IPython.core.display.HTML object>"
            ],
            "text/html": [
              "Syncing run <strong><a href=\"https://wandb.ai/data-bigwig/Hydrogen-Oxidation-Models-Optimization/runs/yvxbt13b\" target=\"_blank\">fiery-sweep-33</a></strong> to <a href=\"https://wandb.ai/data-bigwig/Hydrogen-Oxidation-Models-Optimization\" target=\"_blank\">Weights & Biases</a> (<a href=\"https://wandb.me/run\" target=\"_blank\">docs</a>)<br/>Sweep page:  <a href=\"https://wandb.ai/data-bigwig/Hydrogen-Oxidation-Models-Optimization/sweeps/iwmnhlen\" target=\"_blank\">https://wandb.ai/data-bigwig/Hydrogen-Oxidation-Models-Optimization/sweeps/iwmnhlen</a>"
            ]
          },
          "metadata": {}
        },
        {
          "output_type": "display_data",
          "data": {
            "text/plain": [
              "<IPython.core.display.HTML object>"
            ],
            "text/html": [
              "Waiting for W&B process to finish... <strong style=\"color:green\">(success).</strong>"
            ]
          },
          "metadata": {}
        },
        {
          "output_type": "display_data",
          "data": {
            "text/plain": [
              "VBox(children=(Label(value='0.001 MB of 0.001 MB uploaded (0.000 MB deduped)\\r'), FloatProgress(value=1.0, max…"
            ],
            "application/vnd.jupyter.widget-view+json": {
              "version_major": 2,
              "version_minor": 0,
              "model_id": "c796e404f2cc4bb6bd3834691db31fe0"
            }
          },
          "metadata": {}
        },
        {
          "output_type": "display_data",
          "data": {
            "text/plain": [
              "<IPython.core.display.HTML object>"
            ],
            "text/html": [
              "<style>\n",
              "    table.wandb td:nth-child(1) { padding: 0 10px; text-align: left ; width: auto;} td:nth-child(2) {text-align: left ; width: 100%}\n",
              "    .wandb-row { display: flex; flex-direction: row; flex-wrap: wrap; justify-content: flex-start; width: 100% }\n",
              "    .wandb-col { display: flex; flex-direction: column; flex-basis: 100%; flex: 1; padding: 10px; }\n",
              "    </style>\n",
              "<div class=\"wandb-row\"><div class=\"wandb-col\"><h3>Run history:</h3><br/><table class=\"wandb\"><tr><td>learning_rate</td><td>▁▁▁▁▁▁▁▁▁▁▁▁▁▁▁▁▁▁▁▁▁▁▁▁▁▁▁▁▁▁▁▁▁▁▁▁▁▁▁▁</td></tr><tr><td>loss</td><td>▁</td></tr><tr><td>num_epochs</td><td>▁</td></tr><tr><td>train_loss</td><td>█▃▂▂▂▂▂▁▂▂▁▁▁▁▁▂▁▁▁▁▁▁▁▁▁▁▁▁▁▁▁▁▁▁▁▁▁▁▁▁</td></tr><tr><td>val_loss</td><td>█▃▂▂▁▁▁▁▁▁▁▁▁▁▁▁▁▁▁▁▁▁▁▁▁▁▁▁▁▁▁▁▁▁▁▁▁▁▁▁</td></tr></table><br/></div><div class=\"wandb-col\"><h3>Run summary:</h3><br/><table class=\"wandb\"><tr><td>learning_rate</td><td>0.0001</td></tr><tr><td>loss</td><td>0.02307</td></tr><tr><td>num_epochs</td><td>482</td></tr><tr><td>train_loss</td><td>0.02244</td></tr><tr><td>val_loss</td><td>0.01158</td></tr></table><br/></div></div>"
            ]
          },
          "metadata": {}
        },
        {
          "output_type": "display_data",
          "data": {
            "text/plain": [
              "<IPython.core.display.HTML object>"
            ],
            "text/html": [
              "Synced <strong style=\"color:#cdcd00\">fiery-sweep-33</strong>: <a href=\"https://wandb.ai/data-bigwig/Hydrogen-Oxidation-Models-Optimization/runs/yvxbt13b\" target=\"_blank\">https://wandb.ai/data-bigwig/Hydrogen-Oxidation-Models-Optimization/runs/yvxbt13b</a><br/>Synced 4 W&B file(s), 0 media file(s), 0 artifact file(s) and 0 other file(s)"
            ]
          },
          "metadata": {}
        },
        {
          "output_type": "display_data",
          "data": {
            "text/plain": [
              "<IPython.core.display.HTML object>"
            ],
            "text/html": [
              "Find logs at: <code>./wandb/run-20220930_200658-yvxbt13b/logs</code>"
            ]
          },
          "metadata": {}
        },
        {
          "output_type": "stream",
          "name": "stderr",
          "text": [
            "\u001b[34m\u001b[1mwandb\u001b[0m: Agent Starting Run: zupm8o7y with config:\n",
            "\u001b[34m\u001b[1mwandb\u001b[0m: \tbatch_size: 128\n",
            "\u001b[34m\u001b[1mwandb\u001b[0m: \tbeta1: 0.95\n",
            "\u001b[34m\u001b[1mwandb\u001b[0m: \tbeta2: 0.95\n",
            "\u001b[34m\u001b[1mwandb\u001b[0m: \tdict_path: None\n",
            "\u001b[34m\u001b[1mwandb\u001b[0m: \tdropout: 0.05\n",
            "\u001b[34m\u001b[1mwandb\u001b[0m: \tepochs: 2500\n",
            "\u001b[34m\u001b[1mwandb\u001b[0m: \thidden_size: [64, 512]\n",
            "\u001b[34m\u001b[1mwandb\u001b[0m: \tin_conc: True\n",
            "\u001b[34m\u001b[1mwandb\u001b[0m: \tin_h2_o2: True\n",
            "\u001b[34m\u001b[1mwandb\u001b[0m: \tin_pres: False\n",
            "\u001b[34m\u001b[1mwandb\u001b[0m: \tinput_size: 9\n",
            "\u001b[34m\u001b[1mwandb\u001b[0m: \tinputs_path: input_98660.npy\n",
            "\u001b[34m\u001b[1mwandb\u001b[0m: \tlr: 0.0001\n",
            "\u001b[34m\u001b[1mwandb\u001b[0m: \tmb_coeff: 0\n",
            "\u001b[34m\u001b[1mwandb\u001b[0m: \tmean_std_path: ConcInputs_NoH2O2(taraget_only)_NoPressure_mean_std_laststep.json\n",
            "\u001b[34m\u001b[1mwandb\u001b[0m: \tmodel: FNN\n",
            "\u001b[34m\u001b[1mwandb\u001b[0m: \tnsample: 1500\n",
            "\u001b[34m\u001b[1mwandb\u001b[0m: \tnum_layers: 2\n",
            "\u001b[34m\u001b[1mwandb\u001b[0m: \toptimizer: Adam\n",
            "\u001b[34m\u001b[1mwandb\u001b[0m: \tout_h2_o2: False\n",
            "\u001b[34m\u001b[1mwandb\u001b[0m: \toutput_size: 7\n",
            "\u001b[34m\u001b[1mwandb\u001b[0m: \toutputs_dir: ./Out_files_npy\n",
            "\u001b[34m\u001b[1mwandb\u001b[0m: \treturn_1d_input: True\n",
            "\u001b[34m\u001b[1mwandb\u001b[0m: \tscheduling: True\n",
            "\u001b[34m\u001b[1mwandb\u001b[0m: \tsplit: [0.7, 0.2, 0.1]\n",
            "\u001b[34m\u001b[1mwandb\u001b[0m: \ttimesteps: [-1]\n",
            "\u001b[34m\u001b[1mwandb\u001b[0m: \tweight_decay: 0\n"
          ]
        },
        {
          "output_type": "display_data",
          "data": {
            "text/plain": [
              "<IPython.core.display.HTML object>"
            ],
            "text/html": [
              "Tracking run with wandb version 0.13.3"
            ]
          },
          "metadata": {}
        },
        {
          "output_type": "display_data",
          "data": {
            "text/plain": [
              "<IPython.core.display.HTML object>"
            ],
            "text/html": [
              "Run data is saved locally in <code>/content/drive/MyDrive/Skoltech/Research/Hydrogen Oxidation/wandb/run-20220930_202135-zupm8o7y</code>"
            ]
          },
          "metadata": {}
        },
        {
          "output_type": "display_data",
          "data": {
            "text/plain": [
              "<IPython.core.display.HTML object>"
            ],
            "text/html": [
              "Syncing run <strong><a href=\"https://wandb.ai/data-bigwig/Hydrogen-Oxidation-Models-Optimization/runs/zupm8o7y\" target=\"_blank\">wobbly-sweep-34</a></strong> to <a href=\"https://wandb.ai/data-bigwig/Hydrogen-Oxidation-Models-Optimization\" target=\"_blank\">Weights & Biases</a> (<a href=\"https://wandb.me/run\" target=\"_blank\">docs</a>)<br/>Sweep page:  <a href=\"https://wandb.ai/data-bigwig/Hydrogen-Oxidation-Models-Optimization/sweeps/iwmnhlen\" target=\"_blank\">https://wandb.ai/data-bigwig/Hydrogen-Oxidation-Models-Optimization/sweeps/iwmnhlen</a>"
            ]
          },
          "metadata": {}
        },
        {
          "output_type": "display_data",
          "data": {
            "text/plain": [
              "<IPython.core.display.HTML object>"
            ],
            "text/html": [
              "Waiting for W&B process to finish... <strong style=\"color:green\">(success).</strong>"
            ]
          },
          "metadata": {}
        },
        {
          "output_type": "display_data",
          "data": {
            "text/plain": [
              "VBox(children=(Label(value='0.001 MB of 0.001 MB uploaded (0.000 MB deduped)\\r'), FloatProgress(value=1.0, max…"
            ],
            "application/vnd.jupyter.widget-view+json": {
              "version_major": 2,
              "version_minor": 0,
              "model_id": "e321e01a015e4f7b96ead80466eda514"
            }
          },
          "metadata": {}
        },
        {
          "output_type": "display_data",
          "data": {
            "text/plain": [
              "<IPython.core.display.HTML object>"
            ],
            "text/html": [
              "<style>\n",
              "    table.wandb td:nth-child(1) { padding: 0 10px; text-align: left ; width: auto;} td:nth-child(2) {text-align: left ; width: 100%}\n",
              "    .wandb-row { display: flex; flex-direction: row; flex-wrap: wrap; justify-content: flex-start; width: 100% }\n",
              "    .wandb-col { display: flex; flex-direction: column; flex-basis: 100%; flex: 1; padding: 10px; }\n",
              "    </style>\n",
              "<div class=\"wandb-row\"><div class=\"wandb-col\"><h3>Run history:</h3><br/><table class=\"wandb\"><tr><td>learning_rate</td><td>████▄▄▄▄▃▃▃▃▂▂▂▂▁▁▁▁▁▁▁▁▁▁▁▁▁▁▁▁▁▁▁▁▁▁▁▁</td></tr><tr><td>loss</td><td>▁</td></tr><tr><td>num_epochs</td><td>▁</td></tr><tr><td>train_loss</td><td>█▃▂▂▂▂▂▂▂▁▁▂▂▁▁▁▂▁▂▂▂▂▁▁▁▂▁▁▂▁▁▁▃▁▁▁▁▁▁▁</td></tr><tr><td>val_loss</td><td>█▂▂▁▁▁▁▁▁▁▁▁▁▁▁▁▁▁▁▁▁▁▁▁▁▁▁▁▁▁▁▁▁▁▁▁▁▁▁▁</td></tr></table><br/></div><div class=\"wandb-col\"><h3>Run summary:</h3><br/><table class=\"wandb\"><tr><td>learning_rate</td><td>0.0</td></tr><tr><td>loss</td><td>0.02162</td></tr><tr><td>num_epochs</td><td>1006</td></tr><tr><td>train_loss</td><td>0.0493</td></tr><tr><td>val_loss</td><td>0.00984</td></tr></table><br/></div></div>"
            ]
          },
          "metadata": {}
        },
        {
          "output_type": "display_data",
          "data": {
            "text/plain": [
              "<IPython.core.display.HTML object>"
            ],
            "text/html": [
              "Synced <strong style=\"color:#cdcd00\">wobbly-sweep-34</strong>: <a href=\"https://wandb.ai/data-bigwig/Hydrogen-Oxidation-Models-Optimization/runs/zupm8o7y\" target=\"_blank\">https://wandb.ai/data-bigwig/Hydrogen-Oxidation-Models-Optimization/runs/zupm8o7y</a><br/>Synced 4 W&B file(s), 0 media file(s), 0 artifact file(s) and 0 other file(s)"
            ]
          },
          "metadata": {}
        },
        {
          "output_type": "display_data",
          "data": {
            "text/plain": [
              "<IPython.core.display.HTML object>"
            ],
            "text/html": [
              "Find logs at: <code>./wandb/run-20220930_202135-zupm8o7y/logs</code>"
            ]
          },
          "metadata": {}
        },
        {
          "output_type": "stream",
          "name": "stderr",
          "text": [
            "\u001b[34m\u001b[1mwandb\u001b[0m: Agent Starting Run: 5krk32nn with config:\n",
            "\u001b[34m\u001b[1mwandb\u001b[0m: \tbatch_size: 128\n",
            "\u001b[34m\u001b[1mwandb\u001b[0m: \tbeta1: 0.9\n",
            "\u001b[34m\u001b[1mwandb\u001b[0m: \tbeta2: 0.99\n",
            "\u001b[34m\u001b[1mwandb\u001b[0m: \tdict_path: None\n",
            "\u001b[34m\u001b[1mwandb\u001b[0m: \tdropout: 0\n",
            "\u001b[34m\u001b[1mwandb\u001b[0m: \tepochs: 2500\n",
            "\u001b[34m\u001b[1mwandb\u001b[0m: \thidden_size: [32, 128]\n",
            "\u001b[34m\u001b[1mwandb\u001b[0m: \tin_conc: True\n",
            "\u001b[34m\u001b[1mwandb\u001b[0m: \tin_h2_o2: True\n",
            "\u001b[34m\u001b[1mwandb\u001b[0m: \tin_pres: False\n",
            "\u001b[34m\u001b[1mwandb\u001b[0m: \tinput_size: 9\n",
            "\u001b[34m\u001b[1mwandb\u001b[0m: \tinputs_path: input_98660.npy\n",
            "\u001b[34m\u001b[1mwandb\u001b[0m: \tlr: 0.005\n",
            "\u001b[34m\u001b[1mwandb\u001b[0m: \tmb_coeff: 0\n",
            "\u001b[34m\u001b[1mwandb\u001b[0m: \tmean_std_path: ConcInputs_NoH2O2(taraget_only)_NoPressure_mean_std_laststep.json\n",
            "\u001b[34m\u001b[1mwandb\u001b[0m: \tmodel: FNN\n",
            "\u001b[34m\u001b[1mwandb\u001b[0m: \tnsample: 1500\n",
            "\u001b[34m\u001b[1mwandb\u001b[0m: \tnum_layers: 2\n",
            "\u001b[34m\u001b[1mwandb\u001b[0m: \toptimizer: Adam\n",
            "\u001b[34m\u001b[1mwandb\u001b[0m: \tout_h2_o2: False\n",
            "\u001b[34m\u001b[1mwandb\u001b[0m: \toutput_size: 7\n",
            "\u001b[34m\u001b[1mwandb\u001b[0m: \toutputs_dir: ./Out_files_npy\n",
            "\u001b[34m\u001b[1mwandb\u001b[0m: \treturn_1d_input: True\n",
            "\u001b[34m\u001b[1mwandb\u001b[0m: \tscheduling: True\n",
            "\u001b[34m\u001b[1mwandb\u001b[0m: \tsplit: [0.7, 0.2, 0.1]\n",
            "\u001b[34m\u001b[1mwandb\u001b[0m: \ttimesteps: [-1]\n",
            "\u001b[34m\u001b[1mwandb\u001b[0m: \tweight_decay: 0\n"
          ]
        },
        {
          "output_type": "display_data",
          "data": {
            "text/plain": [
              "<IPython.core.display.HTML object>"
            ],
            "text/html": [
              "Tracking run with wandb version 0.13.3"
            ]
          },
          "metadata": {}
        },
        {
          "output_type": "display_data",
          "data": {
            "text/plain": [
              "<IPython.core.display.HTML object>"
            ],
            "text/html": [
              "Run data is saved locally in <code>/content/drive/MyDrive/Skoltech/Research/Hydrogen Oxidation/wandb/run-20220930_205121-5krk32nn</code>"
            ]
          },
          "metadata": {}
        },
        {
          "output_type": "display_data",
          "data": {
            "text/plain": [
              "<IPython.core.display.HTML object>"
            ],
            "text/html": [
              "Syncing run <strong><a href=\"https://wandb.ai/data-bigwig/Hydrogen-Oxidation-Models-Optimization/runs/5krk32nn\" target=\"_blank\">faithful-sweep-37</a></strong> to <a href=\"https://wandb.ai/data-bigwig/Hydrogen-Oxidation-Models-Optimization\" target=\"_blank\">Weights & Biases</a> (<a href=\"https://wandb.me/run\" target=\"_blank\">docs</a>)<br/>Sweep page:  <a href=\"https://wandb.ai/data-bigwig/Hydrogen-Oxidation-Models-Optimization/sweeps/iwmnhlen\" target=\"_blank\">https://wandb.ai/data-bigwig/Hydrogen-Oxidation-Models-Optimization/sweeps/iwmnhlen</a>"
            ]
          },
          "metadata": {}
        },
        {
          "output_type": "display_data",
          "data": {
            "text/plain": [
              "<IPython.core.display.HTML object>"
            ],
            "text/html": [
              "Waiting for W&B process to finish... <strong style=\"color:green\">(success).</strong>"
            ]
          },
          "metadata": {}
        },
        {
          "output_type": "display_data",
          "data": {
            "text/plain": [
              "VBox(children=(Label(value='0.001 MB of 0.001 MB uploaded (0.000 MB deduped)\\r'), FloatProgress(value=1.0, max…"
            ],
            "application/vnd.jupyter.widget-view+json": {
              "version_major": 2,
              "version_minor": 0,
              "model_id": "15fce62e45b041499589c1f861f62514"
            }
          },
          "metadata": {}
        },
        {
          "output_type": "display_data",
          "data": {
            "text/plain": [
              "<IPython.core.display.HTML object>"
            ],
            "text/html": [
              "<style>\n",
              "    table.wandb td:nth-child(1) { padding: 0 10px; text-align: left ; width: auto;} td:nth-child(2) {text-align: left ; width: 100%}\n",
              "    .wandb-row { display: flex; flex-direction: row; flex-wrap: wrap; justify-content: flex-start; width: 100% }\n",
              "    .wandb-col { display: flex; flex-direction: column; flex-basis: 100%; flex: 1; padding: 10px; }\n",
              "    </style>\n",
              "<div class=\"wandb-row\"><div class=\"wandb-col\"><h3>Run history:</h3><br/><table class=\"wandb\"><tr><td>learning_rate</td><td>█████▄▄▄▄▃▃▃▃▂▂▂▂▂▁▁▁▁▁▁▁▁▁▁▁▁▁▁▁▁▁▁▁▁▁▁</td></tr><tr><td>loss</td><td>▁</td></tr><tr><td>num_epochs</td><td>▁</td></tr><tr><td>train_loss</td><td>█▆▆▆▆▆▃▂▃▃▂▃▂▁▃▄▄▃▂▁▁▁▄▃▃▂▃▃▂▂▃▂▂▂▂▁▁▂▂▂</td></tr><tr><td>val_loss</td><td>█▆▂▄▃▂▂▂▂▁▁▂▁▁▁▂▁▁▂▁▁▁▁▂▂▁▁▂▂▁▁▁▁▁▁▁▁▁▁▁</td></tr></table><br/></div><div class=\"wandb-col\"><h3>Run summary:</h3><br/><table class=\"wandb\"><tr><td>learning_rate</td><td>1e-05</td></tr><tr><td>loss</td><td>0.00721</td></tr><tr><td>num_epochs</td><td>901</td></tr><tr><td>train_loss</td><td>0.01262</td></tr><tr><td>val_loss</td><td>0.00354</td></tr></table><br/></div></div>"
            ]
          },
          "metadata": {}
        },
        {
          "output_type": "display_data",
          "data": {
            "text/plain": [
              "<IPython.core.display.HTML object>"
            ],
            "text/html": [
              "Synced <strong style=\"color:#cdcd00\">faithful-sweep-37</strong>: <a href=\"https://wandb.ai/data-bigwig/Hydrogen-Oxidation-Models-Optimization/runs/5krk32nn\" target=\"_blank\">https://wandb.ai/data-bigwig/Hydrogen-Oxidation-Models-Optimization/runs/5krk32nn</a><br/>Synced 4 W&B file(s), 0 media file(s), 0 artifact file(s) and 0 other file(s)"
            ]
          },
          "metadata": {}
        },
        {
          "output_type": "display_data",
          "data": {
            "text/plain": [
              "<IPython.core.display.HTML object>"
            ],
            "text/html": [
              "Find logs at: <code>./wandb/run-20220930_205121-5krk32nn/logs</code>"
            ]
          },
          "metadata": {}
        }
      ]
    }
  ],
  "metadata": {
    "accelerator": "GPU",
    "colab": {
      "collapsed_sections": [],
      "provenance": [],
      "include_colab_link": true
    },
    "kernelspec": {
      "display_name": "Python 3 (ipykernel)",
      "language": "python",
      "name": "python3"
    },
    "language_info": {
      "codemirror_mode": {
        "name": "ipython",
        "version": 3
      },
      "file_extension": ".py",
      "mimetype": "text/x-python",
      "name": "python",
      "nbconvert_exporter": "python",
      "pygments_lexer": "ipython3",
      "version": "3.8.13"
    },
    "widgets": {
      "application/vnd.jupyter.widget-state+json": {
        "a907211276c94005a350cb9450af7821": {
          "model_module": "@jupyter-widgets/controls",
          "model_name": "VBoxModel",
          "model_module_version": "1.5.0",
          "state": {
            "_dom_classes": [],
            "_model_module": "@jupyter-widgets/controls",
            "_model_module_version": "1.5.0",
            "_model_name": "VBoxModel",
            "_view_count": null,
            "_view_module": "@jupyter-widgets/controls",
            "_view_module_version": "1.5.0",
            "_view_name": "VBoxView",
            "box_style": "",
            "children": [
              "IPY_MODEL_2d3f4a415af143868bb79dc85b6aa2cc",
              "IPY_MODEL_851c5bbed28946cda8bf31d42d3bd4ae"
            ],
            "layout": "IPY_MODEL_8d00180261944efd8a3a5920c5afa198"
          }
        },
        "2d3f4a415af143868bb79dc85b6aa2cc": {
          "model_module": "@jupyter-widgets/controls",
          "model_name": "LabelModel",
          "model_module_version": "1.5.0",
          "state": {
            "_dom_classes": [],
            "_model_module": "@jupyter-widgets/controls",
            "_model_module_version": "1.5.0",
            "_model_name": "LabelModel",
            "_view_count": null,
            "_view_module": "@jupyter-widgets/controls",
            "_view_module_version": "1.5.0",
            "_view_name": "LabelView",
            "description": "",
            "description_tooltip": null,
            "layout": "IPY_MODEL_a8d5d2ce96d4440b857aaa744b369c5d",
            "placeholder": "​",
            "style": "IPY_MODEL_a1ced0c2c1de4bb1a8d8b2af3ec3011b",
            "value": "0.009 MB of 0.009 MB uploaded (0.000 MB deduped)\r"
          }
        },
        "851c5bbed28946cda8bf31d42d3bd4ae": {
          "model_module": "@jupyter-widgets/controls",
          "model_name": "FloatProgressModel",
          "model_module_version": "1.5.0",
          "state": {
            "_dom_classes": [],
            "_model_module": "@jupyter-widgets/controls",
            "_model_module_version": "1.5.0",
            "_model_name": "FloatProgressModel",
            "_view_count": null,
            "_view_module": "@jupyter-widgets/controls",
            "_view_module_version": "1.5.0",
            "_view_name": "ProgressView",
            "bar_style": "",
            "description": "",
            "description_tooltip": null,
            "layout": "IPY_MODEL_1eeff61513b847c3899ec8528e1abc65",
            "max": 1,
            "min": 0,
            "orientation": "horizontal",
            "style": "IPY_MODEL_aab4f2939e9c431c85dc6fc4399bb00b",
            "value": 1
          }
        },
        "8d00180261944efd8a3a5920c5afa198": {
          "model_module": "@jupyter-widgets/base",
          "model_name": "LayoutModel",
          "model_module_version": "1.2.0",
          "state": {
            "_model_module": "@jupyter-widgets/base",
            "_model_module_version": "1.2.0",
            "_model_name": "LayoutModel",
            "_view_count": null,
            "_view_module": "@jupyter-widgets/base",
            "_view_module_version": "1.2.0",
            "_view_name": "LayoutView",
            "align_content": null,
            "align_items": null,
            "align_self": null,
            "border": null,
            "bottom": null,
            "display": null,
            "flex": null,
            "flex_flow": null,
            "grid_area": null,
            "grid_auto_columns": null,
            "grid_auto_flow": null,
            "grid_auto_rows": null,
            "grid_column": null,
            "grid_gap": null,
            "grid_row": null,
            "grid_template_areas": null,
            "grid_template_columns": null,
            "grid_template_rows": null,
            "height": null,
            "justify_content": null,
            "justify_items": null,
            "left": null,
            "margin": null,
            "max_height": null,
            "max_width": null,
            "min_height": null,
            "min_width": null,
            "object_fit": null,
            "object_position": null,
            "order": null,
            "overflow": null,
            "overflow_x": null,
            "overflow_y": null,
            "padding": null,
            "right": null,
            "top": null,
            "visibility": null,
            "width": null
          }
        },
        "a8d5d2ce96d4440b857aaa744b369c5d": {
          "model_module": "@jupyter-widgets/base",
          "model_name": "LayoutModel",
          "model_module_version": "1.2.0",
          "state": {
            "_model_module": "@jupyter-widgets/base",
            "_model_module_version": "1.2.0",
            "_model_name": "LayoutModel",
            "_view_count": null,
            "_view_module": "@jupyter-widgets/base",
            "_view_module_version": "1.2.0",
            "_view_name": "LayoutView",
            "align_content": null,
            "align_items": null,
            "align_self": null,
            "border": null,
            "bottom": null,
            "display": null,
            "flex": null,
            "flex_flow": null,
            "grid_area": null,
            "grid_auto_columns": null,
            "grid_auto_flow": null,
            "grid_auto_rows": null,
            "grid_column": null,
            "grid_gap": null,
            "grid_row": null,
            "grid_template_areas": null,
            "grid_template_columns": null,
            "grid_template_rows": null,
            "height": null,
            "justify_content": null,
            "justify_items": null,
            "left": null,
            "margin": null,
            "max_height": null,
            "max_width": null,
            "min_height": null,
            "min_width": null,
            "object_fit": null,
            "object_position": null,
            "order": null,
            "overflow": null,
            "overflow_x": null,
            "overflow_y": null,
            "padding": null,
            "right": null,
            "top": null,
            "visibility": null,
            "width": null
          }
        },
        "a1ced0c2c1de4bb1a8d8b2af3ec3011b": {
          "model_module": "@jupyter-widgets/controls",
          "model_name": "DescriptionStyleModel",
          "model_module_version": "1.5.0",
          "state": {
            "_model_module": "@jupyter-widgets/controls",
            "_model_module_version": "1.5.0",
            "_model_name": "DescriptionStyleModel",
            "_view_count": null,
            "_view_module": "@jupyter-widgets/base",
            "_view_module_version": "1.2.0",
            "_view_name": "StyleView",
            "description_width": ""
          }
        },
        "1eeff61513b847c3899ec8528e1abc65": {
          "model_module": "@jupyter-widgets/base",
          "model_name": "LayoutModel",
          "model_module_version": "1.2.0",
          "state": {
            "_model_module": "@jupyter-widgets/base",
            "_model_module_version": "1.2.0",
            "_model_name": "LayoutModel",
            "_view_count": null,
            "_view_module": "@jupyter-widgets/base",
            "_view_module_version": "1.2.0",
            "_view_name": "LayoutView",
            "align_content": null,
            "align_items": null,
            "align_self": null,
            "border": null,
            "bottom": null,
            "display": null,
            "flex": null,
            "flex_flow": null,
            "grid_area": null,
            "grid_auto_columns": null,
            "grid_auto_flow": null,
            "grid_auto_rows": null,
            "grid_column": null,
            "grid_gap": null,
            "grid_row": null,
            "grid_template_areas": null,
            "grid_template_columns": null,
            "grid_template_rows": null,
            "height": null,
            "justify_content": null,
            "justify_items": null,
            "left": null,
            "margin": null,
            "max_height": null,
            "max_width": null,
            "min_height": null,
            "min_width": null,
            "object_fit": null,
            "object_position": null,
            "order": null,
            "overflow": null,
            "overflow_x": null,
            "overflow_y": null,
            "padding": null,
            "right": null,
            "top": null,
            "visibility": null,
            "width": null
          }
        },
        "aab4f2939e9c431c85dc6fc4399bb00b": {
          "model_module": "@jupyter-widgets/controls",
          "model_name": "ProgressStyleModel",
          "model_module_version": "1.5.0",
          "state": {
            "_model_module": "@jupyter-widgets/controls",
            "_model_module_version": "1.5.0",
            "_model_name": "ProgressStyleModel",
            "_view_count": null,
            "_view_module": "@jupyter-widgets/base",
            "_view_module_version": "1.2.0",
            "_view_name": "StyleView",
            "bar_color": null,
            "description_width": ""
          }
        },
        "36bbeaed9d7e4e2b9c8f98e48c99cab0": {
          "model_module": "@jupyter-widgets/controls",
          "model_name": "VBoxModel",
          "model_module_version": "1.5.0",
          "state": {
            "_dom_classes": [],
            "_model_module": "@jupyter-widgets/controls",
            "_model_module_version": "1.5.0",
            "_model_name": "VBoxModel",
            "_view_count": null,
            "_view_module": "@jupyter-widgets/controls",
            "_view_module_version": "1.5.0",
            "_view_name": "VBoxView",
            "box_style": "",
            "children": [
              "IPY_MODEL_36aa561dd1e7494ab219e13430f0fc12",
              "IPY_MODEL_db8a022f61724703ac7dc8cf3f5a27c0"
            ],
            "layout": "IPY_MODEL_5cbe5477c01d40fe85f4efec0977ff00"
          }
        },
        "36aa561dd1e7494ab219e13430f0fc12": {
          "model_module": "@jupyter-widgets/controls",
          "model_name": "LabelModel",
          "model_module_version": "1.5.0",
          "state": {
            "_dom_classes": [],
            "_model_module": "@jupyter-widgets/controls",
            "_model_module_version": "1.5.0",
            "_model_name": "LabelModel",
            "_view_count": null,
            "_view_module": "@jupyter-widgets/controls",
            "_view_module_version": "1.5.0",
            "_view_name": "LabelView",
            "description": "",
            "description_tooltip": null,
            "layout": "IPY_MODEL_da7f55c8e08048ba895029ee3763a7a3",
            "placeholder": "​",
            "style": "IPY_MODEL_1016df75661144f9b0fc005b5cb6bdbe",
            "value": "0.009 MB of 0.009 MB uploaded (0.000 MB deduped)\r"
          }
        },
        "db8a022f61724703ac7dc8cf3f5a27c0": {
          "model_module": "@jupyter-widgets/controls",
          "model_name": "FloatProgressModel",
          "model_module_version": "1.5.0",
          "state": {
            "_dom_classes": [],
            "_model_module": "@jupyter-widgets/controls",
            "_model_module_version": "1.5.0",
            "_model_name": "FloatProgressModel",
            "_view_count": null,
            "_view_module": "@jupyter-widgets/controls",
            "_view_module_version": "1.5.0",
            "_view_name": "ProgressView",
            "bar_style": "",
            "description": "",
            "description_tooltip": null,
            "layout": "IPY_MODEL_5a15bda0ea404bfdbc1593e6cf219447",
            "max": 1,
            "min": 0,
            "orientation": "horizontal",
            "style": "IPY_MODEL_30e3bc108a1b4da9886e9d6aa6600c9d",
            "value": 1
          }
        },
        "5cbe5477c01d40fe85f4efec0977ff00": {
          "model_module": "@jupyter-widgets/base",
          "model_name": "LayoutModel",
          "model_module_version": "1.2.0",
          "state": {
            "_model_module": "@jupyter-widgets/base",
            "_model_module_version": "1.2.0",
            "_model_name": "LayoutModel",
            "_view_count": null,
            "_view_module": "@jupyter-widgets/base",
            "_view_module_version": "1.2.0",
            "_view_name": "LayoutView",
            "align_content": null,
            "align_items": null,
            "align_self": null,
            "border": null,
            "bottom": null,
            "display": null,
            "flex": null,
            "flex_flow": null,
            "grid_area": null,
            "grid_auto_columns": null,
            "grid_auto_flow": null,
            "grid_auto_rows": null,
            "grid_column": null,
            "grid_gap": null,
            "grid_row": null,
            "grid_template_areas": null,
            "grid_template_columns": null,
            "grid_template_rows": null,
            "height": null,
            "justify_content": null,
            "justify_items": null,
            "left": null,
            "margin": null,
            "max_height": null,
            "max_width": null,
            "min_height": null,
            "min_width": null,
            "object_fit": null,
            "object_position": null,
            "order": null,
            "overflow": null,
            "overflow_x": null,
            "overflow_y": null,
            "padding": null,
            "right": null,
            "top": null,
            "visibility": null,
            "width": null
          }
        },
        "da7f55c8e08048ba895029ee3763a7a3": {
          "model_module": "@jupyter-widgets/base",
          "model_name": "LayoutModel",
          "model_module_version": "1.2.0",
          "state": {
            "_model_module": "@jupyter-widgets/base",
            "_model_module_version": "1.2.0",
            "_model_name": "LayoutModel",
            "_view_count": null,
            "_view_module": "@jupyter-widgets/base",
            "_view_module_version": "1.2.0",
            "_view_name": "LayoutView",
            "align_content": null,
            "align_items": null,
            "align_self": null,
            "border": null,
            "bottom": null,
            "display": null,
            "flex": null,
            "flex_flow": null,
            "grid_area": null,
            "grid_auto_columns": null,
            "grid_auto_flow": null,
            "grid_auto_rows": null,
            "grid_column": null,
            "grid_gap": null,
            "grid_row": null,
            "grid_template_areas": null,
            "grid_template_columns": null,
            "grid_template_rows": null,
            "height": null,
            "justify_content": null,
            "justify_items": null,
            "left": null,
            "margin": null,
            "max_height": null,
            "max_width": null,
            "min_height": null,
            "min_width": null,
            "object_fit": null,
            "object_position": null,
            "order": null,
            "overflow": null,
            "overflow_x": null,
            "overflow_y": null,
            "padding": null,
            "right": null,
            "top": null,
            "visibility": null,
            "width": null
          }
        },
        "1016df75661144f9b0fc005b5cb6bdbe": {
          "model_module": "@jupyter-widgets/controls",
          "model_name": "DescriptionStyleModel",
          "model_module_version": "1.5.0",
          "state": {
            "_model_module": "@jupyter-widgets/controls",
            "_model_module_version": "1.5.0",
            "_model_name": "DescriptionStyleModel",
            "_view_count": null,
            "_view_module": "@jupyter-widgets/base",
            "_view_module_version": "1.2.0",
            "_view_name": "StyleView",
            "description_width": ""
          }
        },
        "5a15bda0ea404bfdbc1593e6cf219447": {
          "model_module": "@jupyter-widgets/base",
          "model_name": "LayoutModel",
          "model_module_version": "1.2.0",
          "state": {
            "_model_module": "@jupyter-widgets/base",
            "_model_module_version": "1.2.0",
            "_model_name": "LayoutModel",
            "_view_count": null,
            "_view_module": "@jupyter-widgets/base",
            "_view_module_version": "1.2.0",
            "_view_name": "LayoutView",
            "align_content": null,
            "align_items": null,
            "align_self": null,
            "border": null,
            "bottom": null,
            "display": null,
            "flex": null,
            "flex_flow": null,
            "grid_area": null,
            "grid_auto_columns": null,
            "grid_auto_flow": null,
            "grid_auto_rows": null,
            "grid_column": null,
            "grid_gap": null,
            "grid_row": null,
            "grid_template_areas": null,
            "grid_template_columns": null,
            "grid_template_rows": null,
            "height": null,
            "justify_content": null,
            "justify_items": null,
            "left": null,
            "margin": null,
            "max_height": null,
            "max_width": null,
            "min_height": null,
            "min_width": null,
            "object_fit": null,
            "object_position": null,
            "order": null,
            "overflow": null,
            "overflow_x": null,
            "overflow_y": null,
            "padding": null,
            "right": null,
            "top": null,
            "visibility": null,
            "width": null
          }
        },
        "30e3bc108a1b4da9886e9d6aa6600c9d": {
          "model_module": "@jupyter-widgets/controls",
          "model_name": "ProgressStyleModel",
          "model_module_version": "1.5.0",
          "state": {
            "_model_module": "@jupyter-widgets/controls",
            "_model_module_version": "1.5.0",
            "_model_name": "ProgressStyleModel",
            "_view_count": null,
            "_view_module": "@jupyter-widgets/base",
            "_view_module_version": "1.2.0",
            "_view_name": "StyleView",
            "bar_color": null,
            "description_width": ""
          }
        },
        "07607b3a2d4b4ccc85f730bf10838eea": {
          "model_module": "@jupyter-widgets/controls",
          "model_name": "VBoxModel",
          "model_module_version": "1.5.0",
          "state": {
            "_dom_classes": [],
            "_model_module": "@jupyter-widgets/controls",
            "_model_module_version": "1.5.0",
            "_model_name": "VBoxModel",
            "_view_count": null,
            "_view_module": "@jupyter-widgets/controls",
            "_view_module_version": "1.5.0",
            "_view_name": "VBoxView",
            "box_style": "",
            "children": [
              "IPY_MODEL_e5c2c9d7f5e64f2db377397432ecb40e",
              "IPY_MODEL_1379765f7a714cad90ab3cdf0bb2ef29"
            ],
            "layout": "IPY_MODEL_02c25ecb0ec244a2a6cd5bf9d2b0bb5b"
          }
        },
        "e5c2c9d7f5e64f2db377397432ecb40e": {
          "model_module": "@jupyter-widgets/controls",
          "model_name": "LabelModel",
          "model_module_version": "1.5.0",
          "state": {
            "_dom_classes": [],
            "_model_module": "@jupyter-widgets/controls",
            "_model_module_version": "1.5.0",
            "_model_name": "LabelModel",
            "_view_count": null,
            "_view_module": "@jupyter-widgets/controls",
            "_view_module_version": "1.5.0",
            "_view_name": "LabelView",
            "description": "",
            "description_tooltip": null,
            "layout": "IPY_MODEL_0fb66f2f7fa3473b8b44b679b80d3a36",
            "placeholder": "​",
            "style": "IPY_MODEL_2ef2a0d56abe45618c099fcbb620c346",
            "value": "0.009 MB of 0.009 MB uploaded (0.000 MB deduped)\r"
          }
        },
        "1379765f7a714cad90ab3cdf0bb2ef29": {
          "model_module": "@jupyter-widgets/controls",
          "model_name": "FloatProgressModel",
          "model_module_version": "1.5.0",
          "state": {
            "_dom_classes": [],
            "_model_module": "@jupyter-widgets/controls",
            "_model_module_version": "1.5.0",
            "_model_name": "FloatProgressModel",
            "_view_count": null,
            "_view_module": "@jupyter-widgets/controls",
            "_view_module_version": "1.5.0",
            "_view_name": "ProgressView",
            "bar_style": "",
            "description": "",
            "description_tooltip": null,
            "layout": "IPY_MODEL_5ff183d10640429fa387032997e73f13",
            "max": 1,
            "min": 0,
            "orientation": "horizontal",
            "style": "IPY_MODEL_9821b9f6d60c4d17ad340c4958ff6750",
            "value": 1
          }
        },
        "02c25ecb0ec244a2a6cd5bf9d2b0bb5b": {
          "model_module": "@jupyter-widgets/base",
          "model_name": "LayoutModel",
          "model_module_version": "1.2.0",
          "state": {
            "_model_module": "@jupyter-widgets/base",
            "_model_module_version": "1.2.0",
            "_model_name": "LayoutModel",
            "_view_count": null,
            "_view_module": "@jupyter-widgets/base",
            "_view_module_version": "1.2.0",
            "_view_name": "LayoutView",
            "align_content": null,
            "align_items": null,
            "align_self": null,
            "border": null,
            "bottom": null,
            "display": null,
            "flex": null,
            "flex_flow": null,
            "grid_area": null,
            "grid_auto_columns": null,
            "grid_auto_flow": null,
            "grid_auto_rows": null,
            "grid_column": null,
            "grid_gap": null,
            "grid_row": null,
            "grid_template_areas": null,
            "grid_template_columns": null,
            "grid_template_rows": null,
            "height": null,
            "justify_content": null,
            "justify_items": null,
            "left": null,
            "margin": null,
            "max_height": null,
            "max_width": null,
            "min_height": null,
            "min_width": null,
            "object_fit": null,
            "object_position": null,
            "order": null,
            "overflow": null,
            "overflow_x": null,
            "overflow_y": null,
            "padding": null,
            "right": null,
            "top": null,
            "visibility": null,
            "width": null
          }
        },
        "0fb66f2f7fa3473b8b44b679b80d3a36": {
          "model_module": "@jupyter-widgets/base",
          "model_name": "LayoutModel",
          "model_module_version": "1.2.0",
          "state": {
            "_model_module": "@jupyter-widgets/base",
            "_model_module_version": "1.2.0",
            "_model_name": "LayoutModel",
            "_view_count": null,
            "_view_module": "@jupyter-widgets/base",
            "_view_module_version": "1.2.0",
            "_view_name": "LayoutView",
            "align_content": null,
            "align_items": null,
            "align_self": null,
            "border": null,
            "bottom": null,
            "display": null,
            "flex": null,
            "flex_flow": null,
            "grid_area": null,
            "grid_auto_columns": null,
            "grid_auto_flow": null,
            "grid_auto_rows": null,
            "grid_column": null,
            "grid_gap": null,
            "grid_row": null,
            "grid_template_areas": null,
            "grid_template_columns": null,
            "grid_template_rows": null,
            "height": null,
            "justify_content": null,
            "justify_items": null,
            "left": null,
            "margin": null,
            "max_height": null,
            "max_width": null,
            "min_height": null,
            "min_width": null,
            "object_fit": null,
            "object_position": null,
            "order": null,
            "overflow": null,
            "overflow_x": null,
            "overflow_y": null,
            "padding": null,
            "right": null,
            "top": null,
            "visibility": null,
            "width": null
          }
        },
        "2ef2a0d56abe45618c099fcbb620c346": {
          "model_module": "@jupyter-widgets/controls",
          "model_name": "DescriptionStyleModel",
          "model_module_version": "1.5.0",
          "state": {
            "_model_module": "@jupyter-widgets/controls",
            "_model_module_version": "1.5.0",
            "_model_name": "DescriptionStyleModel",
            "_view_count": null,
            "_view_module": "@jupyter-widgets/base",
            "_view_module_version": "1.2.0",
            "_view_name": "StyleView",
            "description_width": ""
          }
        },
        "5ff183d10640429fa387032997e73f13": {
          "model_module": "@jupyter-widgets/base",
          "model_name": "LayoutModel",
          "model_module_version": "1.2.0",
          "state": {
            "_model_module": "@jupyter-widgets/base",
            "_model_module_version": "1.2.0",
            "_model_name": "LayoutModel",
            "_view_count": null,
            "_view_module": "@jupyter-widgets/base",
            "_view_module_version": "1.2.0",
            "_view_name": "LayoutView",
            "align_content": null,
            "align_items": null,
            "align_self": null,
            "border": null,
            "bottom": null,
            "display": null,
            "flex": null,
            "flex_flow": null,
            "grid_area": null,
            "grid_auto_columns": null,
            "grid_auto_flow": null,
            "grid_auto_rows": null,
            "grid_column": null,
            "grid_gap": null,
            "grid_row": null,
            "grid_template_areas": null,
            "grid_template_columns": null,
            "grid_template_rows": null,
            "height": null,
            "justify_content": null,
            "justify_items": null,
            "left": null,
            "margin": null,
            "max_height": null,
            "max_width": null,
            "min_height": null,
            "min_width": null,
            "object_fit": null,
            "object_position": null,
            "order": null,
            "overflow": null,
            "overflow_x": null,
            "overflow_y": null,
            "padding": null,
            "right": null,
            "top": null,
            "visibility": null,
            "width": null
          }
        },
        "9821b9f6d60c4d17ad340c4958ff6750": {
          "model_module": "@jupyter-widgets/controls",
          "model_name": "ProgressStyleModel",
          "model_module_version": "1.5.0",
          "state": {
            "_model_module": "@jupyter-widgets/controls",
            "_model_module_version": "1.5.0",
            "_model_name": "ProgressStyleModel",
            "_view_count": null,
            "_view_module": "@jupyter-widgets/base",
            "_view_module_version": "1.2.0",
            "_view_name": "StyleView",
            "bar_color": null,
            "description_width": ""
          }
        },
        "5a23c4655aa64cc08af7370890bc0db7": {
          "model_module": "@jupyter-widgets/controls",
          "model_name": "VBoxModel",
          "model_module_version": "1.5.0",
          "state": {
            "_dom_classes": [],
            "_model_module": "@jupyter-widgets/controls",
            "_model_module_version": "1.5.0",
            "_model_name": "VBoxModel",
            "_view_count": null,
            "_view_module": "@jupyter-widgets/controls",
            "_view_module_version": "1.5.0",
            "_view_name": "VBoxView",
            "box_style": "",
            "children": [
              "IPY_MODEL_3d9e2b84115e4fe9afd7d134fd2dd116",
              "IPY_MODEL_138fac336fc74b3298568ad81b92305f"
            ],
            "layout": "IPY_MODEL_dfb0aa1330684a038cc23d304789734f"
          }
        },
        "3d9e2b84115e4fe9afd7d134fd2dd116": {
          "model_module": "@jupyter-widgets/controls",
          "model_name": "LabelModel",
          "model_module_version": "1.5.0",
          "state": {
            "_dom_classes": [],
            "_model_module": "@jupyter-widgets/controls",
            "_model_module_version": "1.5.0",
            "_model_name": "LabelModel",
            "_view_count": null,
            "_view_module": "@jupyter-widgets/controls",
            "_view_module_version": "1.5.0",
            "_view_name": "LabelView",
            "description": "",
            "description_tooltip": null,
            "layout": "IPY_MODEL_5c0bfb5263404efb8a114495a79d7350",
            "placeholder": "​",
            "style": "IPY_MODEL_72fd9c2881924c3b81961f82e2daa1a1",
            "value": "0.009 MB of 0.009 MB uploaded (0.000 MB deduped)\r"
          }
        },
        "138fac336fc74b3298568ad81b92305f": {
          "model_module": "@jupyter-widgets/controls",
          "model_name": "FloatProgressModel",
          "model_module_version": "1.5.0",
          "state": {
            "_dom_classes": [],
            "_model_module": "@jupyter-widgets/controls",
            "_model_module_version": "1.5.0",
            "_model_name": "FloatProgressModel",
            "_view_count": null,
            "_view_module": "@jupyter-widgets/controls",
            "_view_module_version": "1.5.0",
            "_view_name": "ProgressView",
            "bar_style": "",
            "description": "",
            "description_tooltip": null,
            "layout": "IPY_MODEL_b746113323bc44e0bd6f61179f7c740a",
            "max": 1,
            "min": 0,
            "orientation": "horizontal",
            "style": "IPY_MODEL_f6cf9741712349418d75a5b9e8786f2f",
            "value": 1
          }
        },
        "dfb0aa1330684a038cc23d304789734f": {
          "model_module": "@jupyter-widgets/base",
          "model_name": "LayoutModel",
          "model_module_version": "1.2.0",
          "state": {
            "_model_module": "@jupyter-widgets/base",
            "_model_module_version": "1.2.0",
            "_model_name": "LayoutModel",
            "_view_count": null,
            "_view_module": "@jupyter-widgets/base",
            "_view_module_version": "1.2.0",
            "_view_name": "LayoutView",
            "align_content": null,
            "align_items": null,
            "align_self": null,
            "border": null,
            "bottom": null,
            "display": null,
            "flex": null,
            "flex_flow": null,
            "grid_area": null,
            "grid_auto_columns": null,
            "grid_auto_flow": null,
            "grid_auto_rows": null,
            "grid_column": null,
            "grid_gap": null,
            "grid_row": null,
            "grid_template_areas": null,
            "grid_template_columns": null,
            "grid_template_rows": null,
            "height": null,
            "justify_content": null,
            "justify_items": null,
            "left": null,
            "margin": null,
            "max_height": null,
            "max_width": null,
            "min_height": null,
            "min_width": null,
            "object_fit": null,
            "object_position": null,
            "order": null,
            "overflow": null,
            "overflow_x": null,
            "overflow_y": null,
            "padding": null,
            "right": null,
            "top": null,
            "visibility": null,
            "width": null
          }
        },
        "5c0bfb5263404efb8a114495a79d7350": {
          "model_module": "@jupyter-widgets/base",
          "model_name": "LayoutModel",
          "model_module_version": "1.2.0",
          "state": {
            "_model_module": "@jupyter-widgets/base",
            "_model_module_version": "1.2.0",
            "_model_name": "LayoutModel",
            "_view_count": null,
            "_view_module": "@jupyter-widgets/base",
            "_view_module_version": "1.2.0",
            "_view_name": "LayoutView",
            "align_content": null,
            "align_items": null,
            "align_self": null,
            "border": null,
            "bottom": null,
            "display": null,
            "flex": null,
            "flex_flow": null,
            "grid_area": null,
            "grid_auto_columns": null,
            "grid_auto_flow": null,
            "grid_auto_rows": null,
            "grid_column": null,
            "grid_gap": null,
            "grid_row": null,
            "grid_template_areas": null,
            "grid_template_columns": null,
            "grid_template_rows": null,
            "height": null,
            "justify_content": null,
            "justify_items": null,
            "left": null,
            "margin": null,
            "max_height": null,
            "max_width": null,
            "min_height": null,
            "min_width": null,
            "object_fit": null,
            "object_position": null,
            "order": null,
            "overflow": null,
            "overflow_x": null,
            "overflow_y": null,
            "padding": null,
            "right": null,
            "top": null,
            "visibility": null,
            "width": null
          }
        },
        "72fd9c2881924c3b81961f82e2daa1a1": {
          "model_module": "@jupyter-widgets/controls",
          "model_name": "DescriptionStyleModel",
          "model_module_version": "1.5.0",
          "state": {
            "_model_module": "@jupyter-widgets/controls",
            "_model_module_version": "1.5.0",
            "_model_name": "DescriptionStyleModel",
            "_view_count": null,
            "_view_module": "@jupyter-widgets/base",
            "_view_module_version": "1.2.0",
            "_view_name": "StyleView",
            "description_width": ""
          }
        },
        "b746113323bc44e0bd6f61179f7c740a": {
          "model_module": "@jupyter-widgets/base",
          "model_name": "LayoutModel",
          "model_module_version": "1.2.0",
          "state": {
            "_model_module": "@jupyter-widgets/base",
            "_model_module_version": "1.2.0",
            "_model_name": "LayoutModel",
            "_view_count": null,
            "_view_module": "@jupyter-widgets/base",
            "_view_module_version": "1.2.0",
            "_view_name": "LayoutView",
            "align_content": null,
            "align_items": null,
            "align_self": null,
            "border": null,
            "bottom": null,
            "display": null,
            "flex": null,
            "flex_flow": null,
            "grid_area": null,
            "grid_auto_columns": null,
            "grid_auto_flow": null,
            "grid_auto_rows": null,
            "grid_column": null,
            "grid_gap": null,
            "grid_row": null,
            "grid_template_areas": null,
            "grid_template_columns": null,
            "grid_template_rows": null,
            "height": null,
            "justify_content": null,
            "justify_items": null,
            "left": null,
            "margin": null,
            "max_height": null,
            "max_width": null,
            "min_height": null,
            "min_width": null,
            "object_fit": null,
            "object_position": null,
            "order": null,
            "overflow": null,
            "overflow_x": null,
            "overflow_y": null,
            "padding": null,
            "right": null,
            "top": null,
            "visibility": null,
            "width": null
          }
        },
        "f6cf9741712349418d75a5b9e8786f2f": {
          "model_module": "@jupyter-widgets/controls",
          "model_name": "ProgressStyleModel",
          "model_module_version": "1.5.0",
          "state": {
            "_model_module": "@jupyter-widgets/controls",
            "_model_module_version": "1.5.0",
            "_model_name": "ProgressStyleModel",
            "_view_count": null,
            "_view_module": "@jupyter-widgets/base",
            "_view_module_version": "1.2.0",
            "_view_name": "StyleView",
            "bar_color": null,
            "description_width": ""
          }
        },
        "007ea204dfe349ffa5f1fe586223242f": {
          "model_module": "@jupyter-widgets/controls",
          "model_name": "VBoxModel",
          "model_module_version": "1.5.0",
          "state": {
            "_dom_classes": [],
            "_model_module": "@jupyter-widgets/controls",
            "_model_module_version": "1.5.0",
            "_model_name": "VBoxModel",
            "_view_count": null,
            "_view_module": "@jupyter-widgets/controls",
            "_view_module_version": "1.5.0",
            "_view_name": "VBoxView",
            "box_style": "",
            "children": [
              "IPY_MODEL_9a0b9daff6dd4a36a88f588e82b7fcb9",
              "IPY_MODEL_e8c4098665a44440944cd4b625b58009"
            ],
            "layout": "IPY_MODEL_75ed14a2e93d421dbffc1141a2bb834f"
          }
        },
        "9a0b9daff6dd4a36a88f588e82b7fcb9": {
          "model_module": "@jupyter-widgets/controls",
          "model_name": "LabelModel",
          "model_module_version": "1.5.0",
          "state": {
            "_dom_classes": [],
            "_model_module": "@jupyter-widgets/controls",
            "_model_module_version": "1.5.0",
            "_model_name": "LabelModel",
            "_view_count": null,
            "_view_module": "@jupyter-widgets/controls",
            "_view_module_version": "1.5.0",
            "_view_name": "LabelView",
            "description": "",
            "description_tooltip": null,
            "layout": "IPY_MODEL_071a63ad4d13423391db0674c890f3b0",
            "placeholder": "​",
            "style": "IPY_MODEL_11557ff3cd264bf39c756a2344453be1",
            "value": "0.009 MB of 0.009 MB uploaded (0.000 MB deduped)\r"
          }
        },
        "e8c4098665a44440944cd4b625b58009": {
          "model_module": "@jupyter-widgets/controls",
          "model_name": "FloatProgressModel",
          "model_module_version": "1.5.0",
          "state": {
            "_dom_classes": [],
            "_model_module": "@jupyter-widgets/controls",
            "_model_module_version": "1.5.0",
            "_model_name": "FloatProgressModel",
            "_view_count": null,
            "_view_module": "@jupyter-widgets/controls",
            "_view_module_version": "1.5.0",
            "_view_name": "ProgressView",
            "bar_style": "",
            "description": "",
            "description_tooltip": null,
            "layout": "IPY_MODEL_0a68743058224943988b84118373fe88",
            "max": 1,
            "min": 0,
            "orientation": "horizontal",
            "style": "IPY_MODEL_3381942555b440f5a9ac5c166198446d",
            "value": 1
          }
        },
        "75ed14a2e93d421dbffc1141a2bb834f": {
          "model_module": "@jupyter-widgets/base",
          "model_name": "LayoutModel",
          "model_module_version": "1.2.0",
          "state": {
            "_model_module": "@jupyter-widgets/base",
            "_model_module_version": "1.2.0",
            "_model_name": "LayoutModel",
            "_view_count": null,
            "_view_module": "@jupyter-widgets/base",
            "_view_module_version": "1.2.0",
            "_view_name": "LayoutView",
            "align_content": null,
            "align_items": null,
            "align_self": null,
            "border": null,
            "bottom": null,
            "display": null,
            "flex": null,
            "flex_flow": null,
            "grid_area": null,
            "grid_auto_columns": null,
            "grid_auto_flow": null,
            "grid_auto_rows": null,
            "grid_column": null,
            "grid_gap": null,
            "grid_row": null,
            "grid_template_areas": null,
            "grid_template_columns": null,
            "grid_template_rows": null,
            "height": null,
            "justify_content": null,
            "justify_items": null,
            "left": null,
            "margin": null,
            "max_height": null,
            "max_width": null,
            "min_height": null,
            "min_width": null,
            "object_fit": null,
            "object_position": null,
            "order": null,
            "overflow": null,
            "overflow_x": null,
            "overflow_y": null,
            "padding": null,
            "right": null,
            "top": null,
            "visibility": null,
            "width": null
          }
        },
        "071a63ad4d13423391db0674c890f3b0": {
          "model_module": "@jupyter-widgets/base",
          "model_name": "LayoutModel",
          "model_module_version": "1.2.0",
          "state": {
            "_model_module": "@jupyter-widgets/base",
            "_model_module_version": "1.2.0",
            "_model_name": "LayoutModel",
            "_view_count": null,
            "_view_module": "@jupyter-widgets/base",
            "_view_module_version": "1.2.0",
            "_view_name": "LayoutView",
            "align_content": null,
            "align_items": null,
            "align_self": null,
            "border": null,
            "bottom": null,
            "display": null,
            "flex": null,
            "flex_flow": null,
            "grid_area": null,
            "grid_auto_columns": null,
            "grid_auto_flow": null,
            "grid_auto_rows": null,
            "grid_column": null,
            "grid_gap": null,
            "grid_row": null,
            "grid_template_areas": null,
            "grid_template_columns": null,
            "grid_template_rows": null,
            "height": null,
            "justify_content": null,
            "justify_items": null,
            "left": null,
            "margin": null,
            "max_height": null,
            "max_width": null,
            "min_height": null,
            "min_width": null,
            "object_fit": null,
            "object_position": null,
            "order": null,
            "overflow": null,
            "overflow_x": null,
            "overflow_y": null,
            "padding": null,
            "right": null,
            "top": null,
            "visibility": null,
            "width": null
          }
        },
        "11557ff3cd264bf39c756a2344453be1": {
          "model_module": "@jupyter-widgets/controls",
          "model_name": "DescriptionStyleModel",
          "model_module_version": "1.5.0",
          "state": {
            "_model_module": "@jupyter-widgets/controls",
            "_model_module_version": "1.5.0",
            "_model_name": "DescriptionStyleModel",
            "_view_count": null,
            "_view_module": "@jupyter-widgets/base",
            "_view_module_version": "1.2.0",
            "_view_name": "StyleView",
            "description_width": ""
          }
        },
        "0a68743058224943988b84118373fe88": {
          "model_module": "@jupyter-widgets/base",
          "model_name": "LayoutModel",
          "model_module_version": "1.2.0",
          "state": {
            "_model_module": "@jupyter-widgets/base",
            "_model_module_version": "1.2.0",
            "_model_name": "LayoutModel",
            "_view_count": null,
            "_view_module": "@jupyter-widgets/base",
            "_view_module_version": "1.2.0",
            "_view_name": "LayoutView",
            "align_content": null,
            "align_items": null,
            "align_self": null,
            "border": null,
            "bottom": null,
            "display": null,
            "flex": null,
            "flex_flow": null,
            "grid_area": null,
            "grid_auto_columns": null,
            "grid_auto_flow": null,
            "grid_auto_rows": null,
            "grid_column": null,
            "grid_gap": null,
            "grid_row": null,
            "grid_template_areas": null,
            "grid_template_columns": null,
            "grid_template_rows": null,
            "height": null,
            "justify_content": null,
            "justify_items": null,
            "left": null,
            "margin": null,
            "max_height": null,
            "max_width": null,
            "min_height": null,
            "min_width": null,
            "object_fit": null,
            "object_position": null,
            "order": null,
            "overflow": null,
            "overflow_x": null,
            "overflow_y": null,
            "padding": null,
            "right": null,
            "top": null,
            "visibility": null,
            "width": null
          }
        },
        "3381942555b440f5a9ac5c166198446d": {
          "model_module": "@jupyter-widgets/controls",
          "model_name": "ProgressStyleModel",
          "model_module_version": "1.5.0",
          "state": {
            "_model_module": "@jupyter-widgets/controls",
            "_model_module_version": "1.5.0",
            "_model_name": "ProgressStyleModel",
            "_view_count": null,
            "_view_module": "@jupyter-widgets/base",
            "_view_module_version": "1.2.0",
            "_view_name": "StyleView",
            "bar_color": null,
            "description_width": ""
          }
        },
        "85fb8fe2c9354e03baffc67a176442f6": {
          "model_module": "@jupyter-widgets/controls",
          "model_name": "VBoxModel",
          "model_module_version": "1.5.0",
          "state": {
            "_dom_classes": [],
            "_model_module": "@jupyter-widgets/controls",
            "_model_module_version": "1.5.0",
            "_model_name": "VBoxModel",
            "_view_count": null,
            "_view_module": "@jupyter-widgets/controls",
            "_view_module_version": "1.5.0",
            "_view_name": "VBoxView",
            "box_style": "",
            "children": [
              "IPY_MODEL_65a1a37f09bc4b538e378073d24d64ca",
              "IPY_MODEL_44c3a116264647ed862c1272cbcc174c"
            ],
            "layout": "IPY_MODEL_98ce87361e664c638a186db8afdcfb31"
          }
        },
        "65a1a37f09bc4b538e378073d24d64ca": {
          "model_module": "@jupyter-widgets/controls",
          "model_name": "LabelModel",
          "model_module_version": "1.5.0",
          "state": {
            "_dom_classes": [],
            "_model_module": "@jupyter-widgets/controls",
            "_model_module_version": "1.5.0",
            "_model_name": "LabelModel",
            "_view_count": null,
            "_view_module": "@jupyter-widgets/controls",
            "_view_module_version": "1.5.0",
            "_view_name": "LabelView",
            "description": "",
            "description_tooltip": null,
            "layout": "IPY_MODEL_5236a7aee4d54e28a8469c1f8c0b75a7",
            "placeholder": "​",
            "style": "IPY_MODEL_3caf57e29c5f4ba285499e133d0adc2e",
            "value": "0.009 MB of 0.009 MB uploaded (0.000 MB deduped)\r"
          }
        },
        "44c3a116264647ed862c1272cbcc174c": {
          "model_module": "@jupyter-widgets/controls",
          "model_name": "FloatProgressModel",
          "model_module_version": "1.5.0",
          "state": {
            "_dom_classes": [],
            "_model_module": "@jupyter-widgets/controls",
            "_model_module_version": "1.5.0",
            "_model_name": "FloatProgressModel",
            "_view_count": null,
            "_view_module": "@jupyter-widgets/controls",
            "_view_module_version": "1.5.0",
            "_view_name": "ProgressView",
            "bar_style": "",
            "description": "",
            "description_tooltip": null,
            "layout": "IPY_MODEL_222af38f61ae48468d35ba4eeda0cf8f",
            "max": 1,
            "min": 0,
            "orientation": "horizontal",
            "style": "IPY_MODEL_28a21b307f7f48dc9b858880e0c72e60",
            "value": 1
          }
        },
        "98ce87361e664c638a186db8afdcfb31": {
          "model_module": "@jupyter-widgets/base",
          "model_name": "LayoutModel",
          "model_module_version": "1.2.0",
          "state": {
            "_model_module": "@jupyter-widgets/base",
            "_model_module_version": "1.2.0",
            "_model_name": "LayoutModel",
            "_view_count": null,
            "_view_module": "@jupyter-widgets/base",
            "_view_module_version": "1.2.0",
            "_view_name": "LayoutView",
            "align_content": null,
            "align_items": null,
            "align_self": null,
            "border": null,
            "bottom": null,
            "display": null,
            "flex": null,
            "flex_flow": null,
            "grid_area": null,
            "grid_auto_columns": null,
            "grid_auto_flow": null,
            "grid_auto_rows": null,
            "grid_column": null,
            "grid_gap": null,
            "grid_row": null,
            "grid_template_areas": null,
            "grid_template_columns": null,
            "grid_template_rows": null,
            "height": null,
            "justify_content": null,
            "justify_items": null,
            "left": null,
            "margin": null,
            "max_height": null,
            "max_width": null,
            "min_height": null,
            "min_width": null,
            "object_fit": null,
            "object_position": null,
            "order": null,
            "overflow": null,
            "overflow_x": null,
            "overflow_y": null,
            "padding": null,
            "right": null,
            "top": null,
            "visibility": null,
            "width": null
          }
        },
        "5236a7aee4d54e28a8469c1f8c0b75a7": {
          "model_module": "@jupyter-widgets/base",
          "model_name": "LayoutModel",
          "model_module_version": "1.2.0",
          "state": {
            "_model_module": "@jupyter-widgets/base",
            "_model_module_version": "1.2.0",
            "_model_name": "LayoutModel",
            "_view_count": null,
            "_view_module": "@jupyter-widgets/base",
            "_view_module_version": "1.2.0",
            "_view_name": "LayoutView",
            "align_content": null,
            "align_items": null,
            "align_self": null,
            "border": null,
            "bottom": null,
            "display": null,
            "flex": null,
            "flex_flow": null,
            "grid_area": null,
            "grid_auto_columns": null,
            "grid_auto_flow": null,
            "grid_auto_rows": null,
            "grid_column": null,
            "grid_gap": null,
            "grid_row": null,
            "grid_template_areas": null,
            "grid_template_columns": null,
            "grid_template_rows": null,
            "height": null,
            "justify_content": null,
            "justify_items": null,
            "left": null,
            "margin": null,
            "max_height": null,
            "max_width": null,
            "min_height": null,
            "min_width": null,
            "object_fit": null,
            "object_position": null,
            "order": null,
            "overflow": null,
            "overflow_x": null,
            "overflow_y": null,
            "padding": null,
            "right": null,
            "top": null,
            "visibility": null,
            "width": null
          }
        },
        "3caf57e29c5f4ba285499e133d0adc2e": {
          "model_module": "@jupyter-widgets/controls",
          "model_name": "DescriptionStyleModel",
          "model_module_version": "1.5.0",
          "state": {
            "_model_module": "@jupyter-widgets/controls",
            "_model_module_version": "1.5.0",
            "_model_name": "DescriptionStyleModel",
            "_view_count": null,
            "_view_module": "@jupyter-widgets/base",
            "_view_module_version": "1.2.0",
            "_view_name": "StyleView",
            "description_width": ""
          }
        },
        "222af38f61ae48468d35ba4eeda0cf8f": {
          "model_module": "@jupyter-widgets/base",
          "model_name": "LayoutModel",
          "model_module_version": "1.2.0",
          "state": {
            "_model_module": "@jupyter-widgets/base",
            "_model_module_version": "1.2.0",
            "_model_name": "LayoutModel",
            "_view_count": null,
            "_view_module": "@jupyter-widgets/base",
            "_view_module_version": "1.2.0",
            "_view_name": "LayoutView",
            "align_content": null,
            "align_items": null,
            "align_self": null,
            "border": null,
            "bottom": null,
            "display": null,
            "flex": null,
            "flex_flow": null,
            "grid_area": null,
            "grid_auto_columns": null,
            "grid_auto_flow": null,
            "grid_auto_rows": null,
            "grid_column": null,
            "grid_gap": null,
            "grid_row": null,
            "grid_template_areas": null,
            "grid_template_columns": null,
            "grid_template_rows": null,
            "height": null,
            "justify_content": null,
            "justify_items": null,
            "left": null,
            "margin": null,
            "max_height": null,
            "max_width": null,
            "min_height": null,
            "min_width": null,
            "object_fit": null,
            "object_position": null,
            "order": null,
            "overflow": null,
            "overflow_x": null,
            "overflow_y": null,
            "padding": null,
            "right": null,
            "top": null,
            "visibility": null,
            "width": null
          }
        },
        "28a21b307f7f48dc9b858880e0c72e60": {
          "model_module": "@jupyter-widgets/controls",
          "model_name": "ProgressStyleModel",
          "model_module_version": "1.5.0",
          "state": {
            "_model_module": "@jupyter-widgets/controls",
            "_model_module_version": "1.5.0",
            "_model_name": "ProgressStyleModel",
            "_view_count": null,
            "_view_module": "@jupyter-widgets/base",
            "_view_module_version": "1.2.0",
            "_view_name": "StyleView",
            "bar_color": null,
            "description_width": ""
          }
        },
        "73e37c9cb8df4799944335541c93b442": {
          "model_module": "@jupyter-widgets/controls",
          "model_name": "VBoxModel",
          "model_module_version": "1.5.0",
          "state": {
            "_dom_classes": [],
            "_model_module": "@jupyter-widgets/controls",
            "_model_module_version": "1.5.0",
            "_model_name": "VBoxModel",
            "_view_count": null,
            "_view_module": "@jupyter-widgets/controls",
            "_view_module_version": "1.5.0",
            "_view_name": "VBoxView",
            "box_style": "",
            "children": [
              "IPY_MODEL_2e0a2f59cbb7455792f702948a220221",
              "IPY_MODEL_d14dc72ead8c49219b01b3e54d9d8f27"
            ],
            "layout": "IPY_MODEL_dc267e9beb2446e59effac8fe7c40c1e"
          }
        },
        "2e0a2f59cbb7455792f702948a220221": {
          "model_module": "@jupyter-widgets/controls",
          "model_name": "LabelModel",
          "model_module_version": "1.5.0",
          "state": {
            "_dom_classes": [],
            "_model_module": "@jupyter-widgets/controls",
            "_model_module_version": "1.5.0",
            "_model_name": "LabelModel",
            "_view_count": null,
            "_view_module": "@jupyter-widgets/controls",
            "_view_module_version": "1.5.0",
            "_view_name": "LabelView",
            "description": "",
            "description_tooltip": null,
            "layout": "IPY_MODEL_2963ce4aa93940408b400d244db160e7",
            "placeholder": "​",
            "style": "IPY_MODEL_07468a1e35814ca08fa9f04035f05ca3",
            "value": "0.009 MB of 0.009 MB uploaded (0.000 MB deduped)\r"
          }
        },
        "d14dc72ead8c49219b01b3e54d9d8f27": {
          "model_module": "@jupyter-widgets/controls",
          "model_name": "FloatProgressModel",
          "model_module_version": "1.5.0",
          "state": {
            "_dom_classes": [],
            "_model_module": "@jupyter-widgets/controls",
            "_model_module_version": "1.5.0",
            "_model_name": "FloatProgressModel",
            "_view_count": null,
            "_view_module": "@jupyter-widgets/controls",
            "_view_module_version": "1.5.0",
            "_view_name": "ProgressView",
            "bar_style": "",
            "description": "",
            "description_tooltip": null,
            "layout": "IPY_MODEL_728c7c720b514fc1b0bc0ea854738c59",
            "max": 1,
            "min": 0,
            "orientation": "horizontal",
            "style": "IPY_MODEL_6e328fa06caf4038842e1ada5e9e37c3",
            "value": 1
          }
        },
        "dc267e9beb2446e59effac8fe7c40c1e": {
          "model_module": "@jupyter-widgets/base",
          "model_name": "LayoutModel",
          "model_module_version": "1.2.0",
          "state": {
            "_model_module": "@jupyter-widgets/base",
            "_model_module_version": "1.2.0",
            "_model_name": "LayoutModel",
            "_view_count": null,
            "_view_module": "@jupyter-widgets/base",
            "_view_module_version": "1.2.0",
            "_view_name": "LayoutView",
            "align_content": null,
            "align_items": null,
            "align_self": null,
            "border": null,
            "bottom": null,
            "display": null,
            "flex": null,
            "flex_flow": null,
            "grid_area": null,
            "grid_auto_columns": null,
            "grid_auto_flow": null,
            "grid_auto_rows": null,
            "grid_column": null,
            "grid_gap": null,
            "grid_row": null,
            "grid_template_areas": null,
            "grid_template_columns": null,
            "grid_template_rows": null,
            "height": null,
            "justify_content": null,
            "justify_items": null,
            "left": null,
            "margin": null,
            "max_height": null,
            "max_width": null,
            "min_height": null,
            "min_width": null,
            "object_fit": null,
            "object_position": null,
            "order": null,
            "overflow": null,
            "overflow_x": null,
            "overflow_y": null,
            "padding": null,
            "right": null,
            "top": null,
            "visibility": null,
            "width": null
          }
        },
        "2963ce4aa93940408b400d244db160e7": {
          "model_module": "@jupyter-widgets/base",
          "model_name": "LayoutModel",
          "model_module_version": "1.2.0",
          "state": {
            "_model_module": "@jupyter-widgets/base",
            "_model_module_version": "1.2.0",
            "_model_name": "LayoutModel",
            "_view_count": null,
            "_view_module": "@jupyter-widgets/base",
            "_view_module_version": "1.2.0",
            "_view_name": "LayoutView",
            "align_content": null,
            "align_items": null,
            "align_self": null,
            "border": null,
            "bottom": null,
            "display": null,
            "flex": null,
            "flex_flow": null,
            "grid_area": null,
            "grid_auto_columns": null,
            "grid_auto_flow": null,
            "grid_auto_rows": null,
            "grid_column": null,
            "grid_gap": null,
            "grid_row": null,
            "grid_template_areas": null,
            "grid_template_columns": null,
            "grid_template_rows": null,
            "height": null,
            "justify_content": null,
            "justify_items": null,
            "left": null,
            "margin": null,
            "max_height": null,
            "max_width": null,
            "min_height": null,
            "min_width": null,
            "object_fit": null,
            "object_position": null,
            "order": null,
            "overflow": null,
            "overflow_x": null,
            "overflow_y": null,
            "padding": null,
            "right": null,
            "top": null,
            "visibility": null,
            "width": null
          }
        },
        "07468a1e35814ca08fa9f04035f05ca3": {
          "model_module": "@jupyter-widgets/controls",
          "model_name": "DescriptionStyleModel",
          "model_module_version": "1.5.0",
          "state": {
            "_model_module": "@jupyter-widgets/controls",
            "_model_module_version": "1.5.0",
            "_model_name": "DescriptionStyleModel",
            "_view_count": null,
            "_view_module": "@jupyter-widgets/base",
            "_view_module_version": "1.2.0",
            "_view_name": "StyleView",
            "description_width": ""
          }
        },
        "728c7c720b514fc1b0bc0ea854738c59": {
          "model_module": "@jupyter-widgets/base",
          "model_name": "LayoutModel",
          "model_module_version": "1.2.0",
          "state": {
            "_model_module": "@jupyter-widgets/base",
            "_model_module_version": "1.2.0",
            "_model_name": "LayoutModel",
            "_view_count": null,
            "_view_module": "@jupyter-widgets/base",
            "_view_module_version": "1.2.0",
            "_view_name": "LayoutView",
            "align_content": null,
            "align_items": null,
            "align_self": null,
            "border": null,
            "bottom": null,
            "display": null,
            "flex": null,
            "flex_flow": null,
            "grid_area": null,
            "grid_auto_columns": null,
            "grid_auto_flow": null,
            "grid_auto_rows": null,
            "grid_column": null,
            "grid_gap": null,
            "grid_row": null,
            "grid_template_areas": null,
            "grid_template_columns": null,
            "grid_template_rows": null,
            "height": null,
            "justify_content": null,
            "justify_items": null,
            "left": null,
            "margin": null,
            "max_height": null,
            "max_width": null,
            "min_height": null,
            "min_width": null,
            "object_fit": null,
            "object_position": null,
            "order": null,
            "overflow": null,
            "overflow_x": null,
            "overflow_y": null,
            "padding": null,
            "right": null,
            "top": null,
            "visibility": null,
            "width": null
          }
        },
        "6e328fa06caf4038842e1ada5e9e37c3": {
          "model_module": "@jupyter-widgets/controls",
          "model_name": "ProgressStyleModel",
          "model_module_version": "1.5.0",
          "state": {
            "_model_module": "@jupyter-widgets/controls",
            "_model_module_version": "1.5.0",
            "_model_name": "ProgressStyleModel",
            "_view_count": null,
            "_view_module": "@jupyter-widgets/base",
            "_view_module_version": "1.2.0",
            "_view_name": "StyleView",
            "bar_color": null,
            "description_width": ""
          }
        },
        "f45e4236530a4deea6ce70dfa48f981c": {
          "model_module": "@jupyter-widgets/controls",
          "model_name": "VBoxModel",
          "model_module_version": "1.5.0",
          "state": {
            "_dom_classes": [],
            "_model_module": "@jupyter-widgets/controls",
            "_model_module_version": "1.5.0",
            "_model_name": "VBoxModel",
            "_view_count": null,
            "_view_module": "@jupyter-widgets/controls",
            "_view_module_version": "1.5.0",
            "_view_name": "VBoxView",
            "box_style": "",
            "children": [
              "IPY_MODEL_f91dddb646794439b3db7eecb6510e53",
              "IPY_MODEL_3b50762b482f486f9143dbb3d7a132b8"
            ],
            "layout": "IPY_MODEL_0e287311b97b4779818dc86d254da0e6"
          }
        },
        "f91dddb646794439b3db7eecb6510e53": {
          "model_module": "@jupyter-widgets/controls",
          "model_name": "LabelModel",
          "model_module_version": "1.5.0",
          "state": {
            "_dom_classes": [],
            "_model_module": "@jupyter-widgets/controls",
            "_model_module_version": "1.5.0",
            "_model_name": "LabelModel",
            "_view_count": null,
            "_view_module": "@jupyter-widgets/controls",
            "_view_module_version": "1.5.0",
            "_view_name": "LabelView",
            "description": "",
            "description_tooltip": null,
            "layout": "IPY_MODEL_6c2a83ddc52e4aa998839f4bcde5cc0a",
            "placeholder": "​",
            "style": "IPY_MODEL_35708c68cc70457c8db4736585988641",
            "value": "0.009 MB of 0.009 MB uploaded (0.000 MB deduped)\r"
          }
        },
        "3b50762b482f486f9143dbb3d7a132b8": {
          "model_module": "@jupyter-widgets/controls",
          "model_name": "FloatProgressModel",
          "model_module_version": "1.5.0",
          "state": {
            "_dom_classes": [],
            "_model_module": "@jupyter-widgets/controls",
            "_model_module_version": "1.5.0",
            "_model_name": "FloatProgressModel",
            "_view_count": null,
            "_view_module": "@jupyter-widgets/controls",
            "_view_module_version": "1.5.0",
            "_view_name": "ProgressView",
            "bar_style": "",
            "description": "",
            "description_tooltip": null,
            "layout": "IPY_MODEL_91cad3752dce4ed182e3344f965482cb",
            "max": 1,
            "min": 0,
            "orientation": "horizontal",
            "style": "IPY_MODEL_e1a606469e44457fb349b6ebec41a9ae",
            "value": 1
          }
        },
        "0e287311b97b4779818dc86d254da0e6": {
          "model_module": "@jupyter-widgets/base",
          "model_name": "LayoutModel",
          "model_module_version": "1.2.0",
          "state": {
            "_model_module": "@jupyter-widgets/base",
            "_model_module_version": "1.2.0",
            "_model_name": "LayoutModel",
            "_view_count": null,
            "_view_module": "@jupyter-widgets/base",
            "_view_module_version": "1.2.0",
            "_view_name": "LayoutView",
            "align_content": null,
            "align_items": null,
            "align_self": null,
            "border": null,
            "bottom": null,
            "display": null,
            "flex": null,
            "flex_flow": null,
            "grid_area": null,
            "grid_auto_columns": null,
            "grid_auto_flow": null,
            "grid_auto_rows": null,
            "grid_column": null,
            "grid_gap": null,
            "grid_row": null,
            "grid_template_areas": null,
            "grid_template_columns": null,
            "grid_template_rows": null,
            "height": null,
            "justify_content": null,
            "justify_items": null,
            "left": null,
            "margin": null,
            "max_height": null,
            "max_width": null,
            "min_height": null,
            "min_width": null,
            "object_fit": null,
            "object_position": null,
            "order": null,
            "overflow": null,
            "overflow_x": null,
            "overflow_y": null,
            "padding": null,
            "right": null,
            "top": null,
            "visibility": null,
            "width": null
          }
        },
        "6c2a83ddc52e4aa998839f4bcde5cc0a": {
          "model_module": "@jupyter-widgets/base",
          "model_name": "LayoutModel",
          "model_module_version": "1.2.0",
          "state": {
            "_model_module": "@jupyter-widgets/base",
            "_model_module_version": "1.2.0",
            "_model_name": "LayoutModel",
            "_view_count": null,
            "_view_module": "@jupyter-widgets/base",
            "_view_module_version": "1.2.0",
            "_view_name": "LayoutView",
            "align_content": null,
            "align_items": null,
            "align_self": null,
            "border": null,
            "bottom": null,
            "display": null,
            "flex": null,
            "flex_flow": null,
            "grid_area": null,
            "grid_auto_columns": null,
            "grid_auto_flow": null,
            "grid_auto_rows": null,
            "grid_column": null,
            "grid_gap": null,
            "grid_row": null,
            "grid_template_areas": null,
            "grid_template_columns": null,
            "grid_template_rows": null,
            "height": null,
            "justify_content": null,
            "justify_items": null,
            "left": null,
            "margin": null,
            "max_height": null,
            "max_width": null,
            "min_height": null,
            "min_width": null,
            "object_fit": null,
            "object_position": null,
            "order": null,
            "overflow": null,
            "overflow_x": null,
            "overflow_y": null,
            "padding": null,
            "right": null,
            "top": null,
            "visibility": null,
            "width": null
          }
        },
        "35708c68cc70457c8db4736585988641": {
          "model_module": "@jupyter-widgets/controls",
          "model_name": "DescriptionStyleModel",
          "model_module_version": "1.5.0",
          "state": {
            "_model_module": "@jupyter-widgets/controls",
            "_model_module_version": "1.5.0",
            "_model_name": "DescriptionStyleModel",
            "_view_count": null,
            "_view_module": "@jupyter-widgets/base",
            "_view_module_version": "1.2.0",
            "_view_name": "StyleView",
            "description_width": ""
          }
        },
        "91cad3752dce4ed182e3344f965482cb": {
          "model_module": "@jupyter-widgets/base",
          "model_name": "LayoutModel",
          "model_module_version": "1.2.0",
          "state": {
            "_model_module": "@jupyter-widgets/base",
            "_model_module_version": "1.2.0",
            "_model_name": "LayoutModel",
            "_view_count": null,
            "_view_module": "@jupyter-widgets/base",
            "_view_module_version": "1.2.0",
            "_view_name": "LayoutView",
            "align_content": null,
            "align_items": null,
            "align_self": null,
            "border": null,
            "bottom": null,
            "display": null,
            "flex": null,
            "flex_flow": null,
            "grid_area": null,
            "grid_auto_columns": null,
            "grid_auto_flow": null,
            "grid_auto_rows": null,
            "grid_column": null,
            "grid_gap": null,
            "grid_row": null,
            "grid_template_areas": null,
            "grid_template_columns": null,
            "grid_template_rows": null,
            "height": null,
            "justify_content": null,
            "justify_items": null,
            "left": null,
            "margin": null,
            "max_height": null,
            "max_width": null,
            "min_height": null,
            "min_width": null,
            "object_fit": null,
            "object_position": null,
            "order": null,
            "overflow": null,
            "overflow_x": null,
            "overflow_y": null,
            "padding": null,
            "right": null,
            "top": null,
            "visibility": null,
            "width": null
          }
        },
        "e1a606469e44457fb349b6ebec41a9ae": {
          "model_module": "@jupyter-widgets/controls",
          "model_name": "ProgressStyleModel",
          "model_module_version": "1.5.0",
          "state": {
            "_model_module": "@jupyter-widgets/controls",
            "_model_module_version": "1.5.0",
            "_model_name": "ProgressStyleModel",
            "_view_count": null,
            "_view_module": "@jupyter-widgets/base",
            "_view_module_version": "1.2.0",
            "_view_name": "StyleView",
            "bar_color": null,
            "description_width": ""
          }
        },
        "0d11db0754c74d56b5f2e28962016c14": {
          "model_module": "@jupyter-widgets/controls",
          "model_name": "VBoxModel",
          "model_module_version": "1.5.0",
          "state": {
            "_dom_classes": [],
            "_model_module": "@jupyter-widgets/controls",
            "_model_module_version": "1.5.0",
            "_model_name": "VBoxModel",
            "_view_count": null,
            "_view_module": "@jupyter-widgets/controls",
            "_view_module_version": "1.5.0",
            "_view_name": "VBoxView",
            "box_style": "",
            "children": [
              "IPY_MODEL_9442f53d276545c0ba94473fe0359c20",
              "IPY_MODEL_9adbd7a6400444f89b62191a5b8c190f"
            ],
            "layout": "IPY_MODEL_3ee14c0a025947d5ba29c8836c44ded5"
          }
        },
        "9442f53d276545c0ba94473fe0359c20": {
          "model_module": "@jupyter-widgets/controls",
          "model_name": "LabelModel",
          "model_module_version": "1.5.0",
          "state": {
            "_dom_classes": [],
            "_model_module": "@jupyter-widgets/controls",
            "_model_module_version": "1.5.0",
            "_model_name": "LabelModel",
            "_view_count": null,
            "_view_module": "@jupyter-widgets/controls",
            "_view_module_version": "1.5.0",
            "_view_name": "LabelView",
            "description": "",
            "description_tooltip": null,
            "layout": "IPY_MODEL_67d65038c8ab4713b2cba5187645d7a7",
            "placeholder": "​",
            "style": "IPY_MODEL_e74bc1eb761648de939dfeb478d765a6",
            "value": "0.009 MB of 0.009 MB uploaded (0.000 MB deduped)\r"
          }
        },
        "9adbd7a6400444f89b62191a5b8c190f": {
          "model_module": "@jupyter-widgets/controls",
          "model_name": "FloatProgressModel",
          "model_module_version": "1.5.0",
          "state": {
            "_dom_classes": [],
            "_model_module": "@jupyter-widgets/controls",
            "_model_module_version": "1.5.0",
            "_model_name": "FloatProgressModel",
            "_view_count": null,
            "_view_module": "@jupyter-widgets/controls",
            "_view_module_version": "1.5.0",
            "_view_name": "ProgressView",
            "bar_style": "",
            "description": "",
            "description_tooltip": null,
            "layout": "IPY_MODEL_028f1eb4979c41b0ae921850e1d9e3d6",
            "max": 1,
            "min": 0,
            "orientation": "horizontal",
            "style": "IPY_MODEL_2ff8d465b03f43a39f5f6bbce6b32728",
            "value": 1
          }
        },
        "3ee14c0a025947d5ba29c8836c44ded5": {
          "model_module": "@jupyter-widgets/base",
          "model_name": "LayoutModel",
          "model_module_version": "1.2.0",
          "state": {
            "_model_module": "@jupyter-widgets/base",
            "_model_module_version": "1.2.0",
            "_model_name": "LayoutModel",
            "_view_count": null,
            "_view_module": "@jupyter-widgets/base",
            "_view_module_version": "1.2.0",
            "_view_name": "LayoutView",
            "align_content": null,
            "align_items": null,
            "align_self": null,
            "border": null,
            "bottom": null,
            "display": null,
            "flex": null,
            "flex_flow": null,
            "grid_area": null,
            "grid_auto_columns": null,
            "grid_auto_flow": null,
            "grid_auto_rows": null,
            "grid_column": null,
            "grid_gap": null,
            "grid_row": null,
            "grid_template_areas": null,
            "grid_template_columns": null,
            "grid_template_rows": null,
            "height": null,
            "justify_content": null,
            "justify_items": null,
            "left": null,
            "margin": null,
            "max_height": null,
            "max_width": null,
            "min_height": null,
            "min_width": null,
            "object_fit": null,
            "object_position": null,
            "order": null,
            "overflow": null,
            "overflow_x": null,
            "overflow_y": null,
            "padding": null,
            "right": null,
            "top": null,
            "visibility": null,
            "width": null
          }
        },
        "67d65038c8ab4713b2cba5187645d7a7": {
          "model_module": "@jupyter-widgets/base",
          "model_name": "LayoutModel",
          "model_module_version": "1.2.0",
          "state": {
            "_model_module": "@jupyter-widgets/base",
            "_model_module_version": "1.2.0",
            "_model_name": "LayoutModel",
            "_view_count": null,
            "_view_module": "@jupyter-widgets/base",
            "_view_module_version": "1.2.0",
            "_view_name": "LayoutView",
            "align_content": null,
            "align_items": null,
            "align_self": null,
            "border": null,
            "bottom": null,
            "display": null,
            "flex": null,
            "flex_flow": null,
            "grid_area": null,
            "grid_auto_columns": null,
            "grid_auto_flow": null,
            "grid_auto_rows": null,
            "grid_column": null,
            "grid_gap": null,
            "grid_row": null,
            "grid_template_areas": null,
            "grid_template_columns": null,
            "grid_template_rows": null,
            "height": null,
            "justify_content": null,
            "justify_items": null,
            "left": null,
            "margin": null,
            "max_height": null,
            "max_width": null,
            "min_height": null,
            "min_width": null,
            "object_fit": null,
            "object_position": null,
            "order": null,
            "overflow": null,
            "overflow_x": null,
            "overflow_y": null,
            "padding": null,
            "right": null,
            "top": null,
            "visibility": null,
            "width": null
          }
        },
        "e74bc1eb761648de939dfeb478d765a6": {
          "model_module": "@jupyter-widgets/controls",
          "model_name": "DescriptionStyleModel",
          "model_module_version": "1.5.0",
          "state": {
            "_model_module": "@jupyter-widgets/controls",
            "_model_module_version": "1.5.0",
            "_model_name": "DescriptionStyleModel",
            "_view_count": null,
            "_view_module": "@jupyter-widgets/base",
            "_view_module_version": "1.2.0",
            "_view_name": "StyleView",
            "description_width": ""
          }
        },
        "028f1eb4979c41b0ae921850e1d9e3d6": {
          "model_module": "@jupyter-widgets/base",
          "model_name": "LayoutModel",
          "model_module_version": "1.2.0",
          "state": {
            "_model_module": "@jupyter-widgets/base",
            "_model_module_version": "1.2.0",
            "_model_name": "LayoutModel",
            "_view_count": null,
            "_view_module": "@jupyter-widgets/base",
            "_view_module_version": "1.2.0",
            "_view_name": "LayoutView",
            "align_content": null,
            "align_items": null,
            "align_self": null,
            "border": null,
            "bottom": null,
            "display": null,
            "flex": null,
            "flex_flow": null,
            "grid_area": null,
            "grid_auto_columns": null,
            "grid_auto_flow": null,
            "grid_auto_rows": null,
            "grid_column": null,
            "grid_gap": null,
            "grid_row": null,
            "grid_template_areas": null,
            "grid_template_columns": null,
            "grid_template_rows": null,
            "height": null,
            "justify_content": null,
            "justify_items": null,
            "left": null,
            "margin": null,
            "max_height": null,
            "max_width": null,
            "min_height": null,
            "min_width": null,
            "object_fit": null,
            "object_position": null,
            "order": null,
            "overflow": null,
            "overflow_x": null,
            "overflow_y": null,
            "padding": null,
            "right": null,
            "top": null,
            "visibility": null,
            "width": null
          }
        },
        "2ff8d465b03f43a39f5f6bbce6b32728": {
          "model_module": "@jupyter-widgets/controls",
          "model_name": "ProgressStyleModel",
          "model_module_version": "1.5.0",
          "state": {
            "_model_module": "@jupyter-widgets/controls",
            "_model_module_version": "1.5.0",
            "_model_name": "ProgressStyleModel",
            "_view_count": null,
            "_view_module": "@jupyter-widgets/base",
            "_view_module_version": "1.2.0",
            "_view_name": "StyleView",
            "bar_color": null,
            "description_width": ""
          }
        },
        "7c425014dc054409bdcdb68a520135f9": {
          "model_module": "@jupyter-widgets/controls",
          "model_name": "VBoxModel",
          "model_module_version": "1.5.0",
          "state": {
            "_dom_classes": [],
            "_model_module": "@jupyter-widgets/controls",
            "_model_module_version": "1.5.0",
            "_model_name": "VBoxModel",
            "_view_count": null,
            "_view_module": "@jupyter-widgets/controls",
            "_view_module_version": "1.5.0",
            "_view_name": "VBoxView",
            "box_style": "",
            "children": [
              "IPY_MODEL_e06da9f5068f4082baca0ea326089d0d",
              "IPY_MODEL_3ab7c0f9c45840faab578f3b94f696d2"
            ],
            "layout": "IPY_MODEL_53d887aeb7e043eabeb2dddfe24612fa"
          }
        },
        "e06da9f5068f4082baca0ea326089d0d": {
          "model_module": "@jupyter-widgets/controls",
          "model_name": "LabelModel",
          "model_module_version": "1.5.0",
          "state": {
            "_dom_classes": [],
            "_model_module": "@jupyter-widgets/controls",
            "_model_module_version": "1.5.0",
            "_model_name": "LabelModel",
            "_view_count": null,
            "_view_module": "@jupyter-widgets/controls",
            "_view_module_version": "1.5.0",
            "_view_name": "LabelView",
            "description": "",
            "description_tooltip": null,
            "layout": "IPY_MODEL_b445b7eb78254752b0587247ed84678d",
            "placeholder": "​",
            "style": "IPY_MODEL_eb92812c18b34229a6552d872b2994dd",
            "value": "0.009 MB of 0.009 MB uploaded (0.000 MB deduped)\r"
          }
        },
        "3ab7c0f9c45840faab578f3b94f696d2": {
          "model_module": "@jupyter-widgets/controls",
          "model_name": "FloatProgressModel",
          "model_module_version": "1.5.0",
          "state": {
            "_dom_classes": [],
            "_model_module": "@jupyter-widgets/controls",
            "_model_module_version": "1.5.0",
            "_model_name": "FloatProgressModel",
            "_view_count": null,
            "_view_module": "@jupyter-widgets/controls",
            "_view_module_version": "1.5.0",
            "_view_name": "ProgressView",
            "bar_style": "",
            "description": "",
            "description_tooltip": null,
            "layout": "IPY_MODEL_3753c926222d4b14871cfa9fc52cfde2",
            "max": 1,
            "min": 0,
            "orientation": "horizontal",
            "style": "IPY_MODEL_cb4b6d4879744cea9ffd5f0163119794",
            "value": 1
          }
        },
        "53d887aeb7e043eabeb2dddfe24612fa": {
          "model_module": "@jupyter-widgets/base",
          "model_name": "LayoutModel",
          "model_module_version": "1.2.0",
          "state": {
            "_model_module": "@jupyter-widgets/base",
            "_model_module_version": "1.2.0",
            "_model_name": "LayoutModel",
            "_view_count": null,
            "_view_module": "@jupyter-widgets/base",
            "_view_module_version": "1.2.0",
            "_view_name": "LayoutView",
            "align_content": null,
            "align_items": null,
            "align_self": null,
            "border": null,
            "bottom": null,
            "display": null,
            "flex": null,
            "flex_flow": null,
            "grid_area": null,
            "grid_auto_columns": null,
            "grid_auto_flow": null,
            "grid_auto_rows": null,
            "grid_column": null,
            "grid_gap": null,
            "grid_row": null,
            "grid_template_areas": null,
            "grid_template_columns": null,
            "grid_template_rows": null,
            "height": null,
            "justify_content": null,
            "justify_items": null,
            "left": null,
            "margin": null,
            "max_height": null,
            "max_width": null,
            "min_height": null,
            "min_width": null,
            "object_fit": null,
            "object_position": null,
            "order": null,
            "overflow": null,
            "overflow_x": null,
            "overflow_y": null,
            "padding": null,
            "right": null,
            "top": null,
            "visibility": null,
            "width": null
          }
        },
        "b445b7eb78254752b0587247ed84678d": {
          "model_module": "@jupyter-widgets/base",
          "model_name": "LayoutModel",
          "model_module_version": "1.2.0",
          "state": {
            "_model_module": "@jupyter-widgets/base",
            "_model_module_version": "1.2.0",
            "_model_name": "LayoutModel",
            "_view_count": null,
            "_view_module": "@jupyter-widgets/base",
            "_view_module_version": "1.2.0",
            "_view_name": "LayoutView",
            "align_content": null,
            "align_items": null,
            "align_self": null,
            "border": null,
            "bottom": null,
            "display": null,
            "flex": null,
            "flex_flow": null,
            "grid_area": null,
            "grid_auto_columns": null,
            "grid_auto_flow": null,
            "grid_auto_rows": null,
            "grid_column": null,
            "grid_gap": null,
            "grid_row": null,
            "grid_template_areas": null,
            "grid_template_columns": null,
            "grid_template_rows": null,
            "height": null,
            "justify_content": null,
            "justify_items": null,
            "left": null,
            "margin": null,
            "max_height": null,
            "max_width": null,
            "min_height": null,
            "min_width": null,
            "object_fit": null,
            "object_position": null,
            "order": null,
            "overflow": null,
            "overflow_x": null,
            "overflow_y": null,
            "padding": null,
            "right": null,
            "top": null,
            "visibility": null,
            "width": null
          }
        },
        "eb92812c18b34229a6552d872b2994dd": {
          "model_module": "@jupyter-widgets/controls",
          "model_name": "DescriptionStyleModel",
          "model_module_version": "1.5.0",
          "state": {
            "_model_module": "@jupyter-widgets/controls",
            "_model_module_version": "1.5.0",
            "_model_name": "DescriptionStyleModel",
            "_view_count": null,
            "_view_module": "@jupyter-widgets/base",
            "_view_module_version": "1.2.0",
            "_view_name": "StyleView",
            "description_width": ""
          }
        },
        "3753c926222d4b14871cfa9fc52cfde2": {
          "model_module": "@jupyter-widgets/base",
          "model_name": "LayoutModel",
          "model_module_version": "1.2.0",
          "state": {
            "_model_module": "@jupyter-widgets/base",
            "_model_module_version": "1.2.0",
            "_model_name": "LayoutModel",
            "_view_count": null,
            "_view_module": "@jupyter-widgets/base",
            "_view_module_version": "1.2.0",
            "_view_name": "LayoutView",
            "align_content": null,
            "align_items": null,
            "align_self": null,
            "border": null,
            "bottom": null,
            "display": null,
            "flex": null,
            "flex_flow": null,
            "grid_area": null,
            "grid_auto_columns": null,
            "grid_auto_flow": null,
            "grid_auto_rows": null,
            "grid_column": null,
            "grid_gap": null,
            "grid_row": null,
            "grid_template_areas": null,
            "grid_template_columns": null,
            "grid_template_rows": null,
            "height": null,
            "justify_content": null,
            "justify_items": null,
            "left": null,
            "margin": null,
            "max_height": null,
            "max_width": null,
            "min_height": null,
            "min_width": null,
            "object_fit": null,
            "object_position": null,
            "order": null,
            "overflow": null,
            "overflow_x": null,
            "overflow_y": null,
            "padding": null,
            "right": null,
            "top": null,
            "visibility": null,
            "width": null
          }
        },
        "cb4b6d4879744cea9ffd5f0163119794": {
          "model_module": "@jupyter-widgets/controls",
          "model_name": "ProgressStyleModel",
          "model_module_version": "1.5.0",
          "state": {
            "_model_module": "@jupyter-widgets/controls",
            "_model_module_version": "1.5.0",
            "_model_name": "ProgressStyleModel",
            "_view_count": null,
            "_view_module": "@jupyter-widgets/base",
            "_view_module_version": "1.2.0",
            "_view_name": "StyleView",
            "bar_color": null,
            "description_width": ""
          }
        },
        "16c1af6e184e4199aa6f889c133215c6": {
          "model_module": "@jupyter-widgets/controls",
          "model_name": "VBoxModel",
          "model_module_version": "1.5.0",
          "state": {
            "_dom_classes": [],
            "_model_module": "@jupyter-widgets/controls",
            "_model_module_version": "1.5.0",
            "_model_name": "VBoxModel",
            "_view_count": null,
            "_view_module": "@jupyter-widgets/controls",
            "_view_module_version": "1.5.0",
            "_view_name": "VBoxView",
            "box_style": "",
            "children": [
              "IPY_MODEL_4376b99ad9df4bfd9df7c3daee08e879",
              "IPY_MODEL_3d8ecf74c2a8492fb260af4c8213b7a3"
            ],
            "layout": "IPY_MODEL_c895e2fd376a41aa9c93951f17eea6f7"
          }
        },
        "4376b99ad9df4bfd9df7c3daee08e879": {
          "model_module": "@jupyter-widgets/controls",
          "model_name": "LabelModel",
          "model_module_version": "1.5.0",
          "state": {
            "_dom_classes": [],
            "_model_module": "@jupyter-widgets/controls",
            "_model_module_version": "1.5.0",
            "_model_name": "LabelModel",
            "_view_count": null,
            "_view_module": "@jupyter-widgets/controls",
            "_view_module_version": "1.5.0",
            "_view_name": "LabelView",
            "description": "",
            "description_tooltip": null,
            "layout": "IPY_MODEL_228e38e0a2a0401c89a80cebb517058b",
            "placeholder": "​",
            "style": "IPY_MODEL_236270a196d347b58f4c1f95434a4ecf",
            "value": "0.009 MB of 0.009 MB uploaded (0.000 MB deduped)\r"
          }
        },
        "3d8ecf74c2a8492fb260af4c8213b7a3": {
          "model_module": "@jupyter-widgets/controls",
          "model_name": "FloatProgressModel",
          "model_module_version": "1.5.0",
          "state": {
            "_dom_classes": [],
            "_model_module": "@jupyter-widgets/controls",
            "_model_module_version": "1.5.0",
            "_model_name": "FloatProgressModel",
            "_view_count": null,
            "_view_module": "@jupyter-widgets/controls",
            "_view_module_version": "1.5.0",
            "_view_name": "ProgressView",
            "bar_style": "",
            "description": "",
            "description_tooltip": null,
            "layout": "IPY_MODEL_9cf7b8c458334157b54cdfac80d89766",
            "max": 1,
            "min": 0,
            "orientation": "horizontal",
            "style": "IPY_MODEL_5ea70c214e0d43f3a78ca9013df01f0f",
            "value": 1
          }
        },
        "c895e2fd376a41aa9c93951f17eea6f7": {
          "model_module": "@jupyter-widgets/base",
          "model_name": "LayoutModel",
          "model_module_version": "1.2.0",
          "state": {
            "_model_module": "@jupyter-widgets/base",
            "_model_module_version": "1.2.0",
            "_model_name": "LayoutModel",
            "_view_count": null,
            "_view_module": "@jupyter-widgets/base",
            "_view_module_version": "1.2.0",
            "_view_name": "LayoutView",
            "align_content": null,
            "align_items": null,
            "align_self": null,
            "border": null,
            "bottom": null,
            "display": null,
            "flex": null,
            "flex_flow": null,
            "grid_area": null,
            "grid_auto_columns": null,
            "grid_auto_flow": null,
            "grid_auto_rows": null,
            "grid_column": null,
            "grid_gap": null,
            "grid_row": null,
            "grid_template_areas": null,
            "grid_template_columns": null,
            "grid_template_rows": null,
            "height": null,
            "justify_content": null,
            "justify_items": null,
            "left": null,
            "margin": null,
            "max_height": null,
            "max_width": null,
            "min_height": null,
            "min_width": null,
            "object_fit": null,
            "object_position": null,
            "order": null,
            "overflow": null,
            "overflow_x": null,
            "overflow_y": null,
            "padding": null,
            "right": null,
            "top": null,
            "visibility": null,
            "width": null
          }
        },
        "228e38e0a2a0401c89a80cebb517058b": {
          "model_module": "@jupyter-widgets/base",
          "model_name": "LayoutModel",
          "model_module_version": "1.2.0",
          "state": {
            "_model_module": "@jupyter-widgets/base",
            "_model_module_version": "1.2.0",
            "_model_name": "LayoutModel",
            "_view_count": null,
            "_view_module": "@jupyter-widgets/base",
            "_view_module_version": "1.2.0",
            "_view_name": "LayoutView",
            "align_content": null,
            "align_items": null,
            "align_self": null,
            "border": null,
            "bottom": null,
            "display": null,
            "flex": null,
            "flex_flow": null,
            "grid_area": null,
            "grid_auto_columns": null,
            "grid_auto_flow": null,
            "grid_auto_rows": null,
            "grid_column": null,
            "grid_gap": null,
            "grid_row": null,
            "grid_template_areas": null,
            "grid_template_columns": null,
            "grid_template_rows": null,
            "height": null,
            "justify_content": null,
            "justify_items": null,
            "left": null,
            "margin": null,
            "max_height": null,
            "max_width": null,
            "min_height": null,
            "min_width": null,
            "object_fit": null,
            "object_position": null,
            "order": null,
            "overflow": null,
            "overflow_x": null,
            "overflow_y": null,
            "padding": null,
            "right": null,
            "top": null,
            "visibility": null,
            "width": null
          }
        },
        "236270a196d347b58f4c1f95434a4ecf": {
          "model_module": "@jupyter-widgets/controls",
          "model_name": "DescriptionStyleModel",
          "model_module_version": "1.5.0",
          "state": {
            "_model_module": "@jupyter-widgets/controls",
            "_model_module_version": "1.5.0",
            "_model_name": "DescriptionStyleModel",
            "_view_count": null,
            "_view_module": "@jupyter-widgets/base",
            "_view_module_version": "1.2.0",
            "_view_name": "StyleView",
            "description_width": ""
          }
        },
        "9cf7b8c458334157b54cdfac80d89766": {
          "model_module": "@jupyter-widgets/base",
          "model_name": "LayoutModel",
          "model_module_version": "1.2.0",
          "state": {
            "_model_module": "@jupyter-widgets/base",
            "_model_module_version": "1.2.0",
            "_model_name": "LayoutModel",
            "_view_count": null,
            "_view_module": "@jupyter-widgets/base",
            "_view_module_version": "1.2.0",
            "_view_name": "LayoutView",
            "align_content": null,
            "align_items": null,
            "align_self": null,
            "border": null,
            "bottom": null,
            "display": null,
            "flex": null,
            "flex_flow": null,
            "grid_area": null,
            "grid_auto_columns": null,
            "grid_auto_flow": null,
            "grid_auto_rows": null,
            "grid_column": null,
            "grid_gap": null,
            "grid_row": null,
            "grid_template_areas": null,
            "grid_template_columns": null,
            "grid_template_rows": null,
            "height": null,
            "justify_content": null,
            "justify_items": null,
            "left": null,
            "margin": null,
            "max_height": null,
            "max_width": null,
            "min_height": null,
            "min_width": null,
            "object_fit": null,
            "object_position": null,
            "order": null,
            "overflow": null,
            "overflow_x": null,
            "overflow_y": null,
            "padding": null,
            "right": null,
            "top": null,
            "visibility": null,
            "width": null
          }
        },
        "5ea70c214e0d43f3a78ca9013df01f0f": {
          "model_module": "@jupyter-widgets/controls",
          "model_name": "ProgressStyleModel",
          "model_module_version": "1.5.0",
          "state": {
            "_model_module": "@jupyter-widgets/controls",
            "_model_module_version": "1.5.0",
            "_model_name": "ProgressStyleModel",
            "_view_count": null,
            "_view_module": "@jupyter-widgets/base",
            "_view_module_version": "1.2.0",
            "_view_name": "StyleView",
            "bar_color": null,
            "description_width": ""
          }
        },
        "1869ee006f0c4c8da49f6cc4acab7951": {
          "model_module": "@jupyter-widgets/controls",
          "model_name": "VBoxModel",
          "model_module_version": "1.5.0",
          "state": {
            "_dom_classes": [],
            "_model_module": "@jupyter-widgets/controls",
            "_model_module_version": "1.5.0",
            "_model_name": "VBoxModel",
            "_view_count": null,
            "_view_module": "@jupyter-widgets/controls",
            "_view_module_version": "1.5.0",
            "_view_name": "VBoxView",
            "box_style": "",
            "children": [
              "IPY_MODEL_174c33ed3aa04197a9271edc6122985c",
              "IPY_MODEL_cb71e9ce850f4c89bf1b9b9e9187ab73"
            ],
            "layout": "IPY_MODEL_7b461f885ac0409ab23e7ecca5d23631"
          }
        },
        "174c33ed3aa04197a9271edc6122985c": {
          "model_module": "@jupyter-widgets/controls",
          "model_name": "LabelModel",
          "model_module_version": "1.5.0",
          "state": {
            "_dom_classes": [],
            "_model_module": "@jupyter-widgets/controls",
            "_model_module_version": "1.5.0",
            "_model_name": "LabelModel",
            "_view_count": null,
            "_view_module": "@jupyter-widgets/controls",
            "_view_module_version": "1.5.0",
            "_view_name": "LabelView",
            "description": "",
            "description_tooltip": null,
            "layout": "IPY_MODEL_fcfe88fea2b940e8be83e29d26c3c180",
            "placeholder": "​",
            "style": "IPY_MODEL_9ec0cbfc48e248b98a495d439de87b2a",
            "value": "0.009 MB of 0.009 MB uploaded (0.000 MB deduped)\r"
          }
        },
        "cb71e9ce850f4c89bf1b9b9e9187ab73": {
          "model_module": "@jupyter-widgets/controls",
          "model_name": "FloatProgressModel",
          "model_module_version": "1.5.0",
          "state": {
            "_dom_classes": [],
            "_model_module": "@jupyter-widgets/controls",
            "_model_module_version": "1.5.0",
            "_model_name": "FloatProgressModel",
            "_view_count": null,
            "_view_module": "@jupyter-widgets/controls",
            "_view_module_version": "1.5.0",
            "_view_name": "ProgressView",
            "bar_style": "",
            "description": "",
            "description_tooltip": null,
            "layout": "IPY_MODEL_98d4d9f499054a7a8b2901fc7494fcef",
            "max": 1,
            "min": 0,
            "orientation": "horizontal",
            "style": "IPY_MODEL_7204e8c7c21545bda54127b1b6597b1b",
            "value": 1
          }
        },
        "7b461f885ac0409ab23e7ecca5d23631": {
          "model_module": "@jupyter-widgets/base",
          "model_name": "LayoutModel",
          "model_module_version": "1.2.0",
          "state": {
            "_model_module": "@jupyter-widgets/base",
            "_model_module_version": "1.2.0",
            "_model_name": "LayoutModel",
            "_view_count": null,
            "_view_module": "@jupyter-widgets/base",
            "_view_module_version": "1.2.0",
            "_view_name": "LayoutView",
            "align_content": null,
            "align_items": null,
            "align_self": null,
            "border": null,
            "bottom": null,
            "display": null,
            "flex": null,
            "flex_flow": null,
            "grid_area": null,
            "grid_auto_columns": null,
            "grid_auto_flow": null,
            "grid_auto_rows": null,
            "grid_column": null,
            "grid_gap": null,
            "grid_row": null,
            "grid_template_areas": null,
            "grid_template_columns": null,
            "grid_template_rows": null,
            "height": null,
            "justify_content": null,
            "justify_items": null,
            "left": null,
            "margin": null,
            "max_height": null,
            "max_width": null,
            "min_height": null,
            "min_width": null,
            "object_fit": null,
            "object_position": null,
            "order": null,
            "overflow": null,
            "overflow_x": null,
            "overflow_y": null,
            "padding": null,
            "right": null,
            "top": null,
            "visibility": null,
            "width": null
          }
        },
        "fcfe88fea2b940e8be83e29d26c3c180": {
          "model_module": "@jupyter-widgets/base",
          "model_name": "LayoutModel",
          "model_module_version": "1.2.0",
          "state": {
            "_model_module": "@jupyter-widgets/base",
            "_model_module_version": "1.2.0",
            "_model_name": "LayoutModel",
            "_view_count": null,
            "_view_module": "@jupyter-widgets/base",
            "_view_module_version": "1.2.0",
            "_view_name": "LayoutView",
            "align_content": null,
            "align_items": null,
            "align_self": null,
            "border": null,
            "bottom": null,
            "display": null,
            "flex": null,
            "flex_flow": null,
            "grid_area": null,
            "grid_auto_columns": null,
            "grid_auto_flow": null,
            "grid_auto_rows": null,
            "grid_column": null,
            "grid_gap": null,
            "grid_row": null,
            "grid_template_areas": null,
            "grid_template_columns": null,
            "grid_template_rows": null,
            "height": null,
            "justify_content": null,
            "justify_items": null,
            "left": null,
            "margin": null,
            "max_height": null,
            "max_width": null,
            "min_height": null,
            "min_width": null,
            "object_fit": null,
            "object_position": null,
            "order": null,
            "overflow": null,
            "overflow_x": null,
            "overflow_y": null,
            "padding": null,
            "right": null,
            "top": null,
            "visibility": null,
            "width": null
          }
        },
        "9ec0cbfc48e248b98a495d439de87b2a": {
          "model_module": "@jupyter-widgets/controls",
          "model_name": "DescriptionStyleModel",
          "model_module_version": "1.5.0",
          "state": {
            "_model_module": "@jupyter-widgets/controls",
            "_model_module_version": "1.5.0",
            "_model_name": "DescriptionStyleModel",
            "_view_count": null,
            "_view_module": "@jupyter-widgets/base",
            "_view_module_version": "1.2.0",
            "_view_name": "StyleView",
            "description_width": ""
          }
        },
        "98d4d9f499054a7a8b2901fc7494fcef": {
          "model_module": "@jupyter-widgets/base",
          "model_name": "LayoutModel",
          "model_module_version": "1.2.0",
          "state": {
            "_model_module": "@jupyter-widgets/base",
            "_model_module_version": "1.2.0",
            "_model_name": "LayoutModel",
            "_view_count": null,
            "_view_module": "@jupyter-widgets/base",
            "_view_module_version": "1.2.0",
            "_view_name": "LayoutView",
            "align_content": null,
            "align_items": null,
            "align_self": null,
            "border": null,
            "bottom": null,
            "display": null,
            "flex": null,
            "flex_flow": null,
            "grid_area": null,
            "grid_auto_columns": null,
            "grid_auto_flow": null,
            "grid_auto_rows": null,
            "grid_column": null,
            "grid_gap": null,
            "grid_row": null,
            "grid_template_areas": null,
            "grid_template_columns": null,
            "grid_template_rows": null,
            "height": null,
            "justify_content": null,
            "justify_items": null,
            "left": null,
            "margin": null,
            "max_height": null,
            "max_width": null,
            "min_height": null,
            "min_width": null,
            "object_fit": null,
            "object_position": null,
            "order": null,
            "overflow": null,
            "overflow_x": null,
            "overflow_y": null,
            "padding": null,
            "right": null,
            "top": null,
            "visibility": null,
            "width": null
          }
        },
        "7204e8c7c21545bda54127b1b6597b1b": {
          "model_module": "@jupyter-widgets/controls",
          "model_name": "ProgressStyleModel",
          "model_module_version": "1.5.0",
          "state": {
            "_model_module": "@jupyter-widgets/controls",
            "_model_module_version": "1.5.0",
            "_model_name": "ProgressStyleModel",
            "_view_count": null,
            "_view_module": "@jupyter-widgets/base",
            "_view_module_version": "1.2.0",
            "_view_name": "StyleView",
            "bar_color": null,
            "description_width": ""
          }
        },
        "7f92c2ddcb844720bbd145e458bdbd5e": {
          "model_module": "@jupyter-widgets/controls",
          "model_name": "VBoxModel",
          "model_module_version": "1.5.0",
          "state": {
            "_dom_classes": [],
            "_model_module": "@jupyter-widgets/controls",
            "_model_module_version": "1.5.0",
            "_model_name": "VBoxModel",
            "_view_count": null,
            "_view_module": "@jupyter-widgets/controls",
            "_view_module_version": "1.5.0",
            "_view_name": "VBoxView",
            "box_style": "",
            "children": [
              "IPY_MODEL_5aa33223209d46baa211c9db89a69d8e",
              "IPY_MODEL_3e47993d41744d44a22ade979551998c"
            ],
            "layout": "IPY_MODEL_a95e9c2935f340a38ec8462635c32d01"
          }
        },
        "5aa33223209d46baa211c9db89a69d8e": {
          "model_module": "@jupyter-widgets/controls",
          "model_name": "LabelModel",
          "model_module_version": "1.5.0",
          "state": {
            "_dom_classes": [],
            "_model_module": "@jupyter-widgets/controls",
            "_model_module_version": "1.5.0",
            "_model_name": "LabelModel",
            "_view_count": null,
            "_view_module": "@jupyter-widgets/controls",
            "_view_module_version": "1.5.0",
            "_view_name": "LabelView",
            "description": "",
            "description_tooltip": null,
            "layout": "IPY_MODEL_ee1550672492474d90e40364d412290a",
            "placeholder": "​",
            "style": "IPY_MODEL_a68f914d6d6c4c1cab40a5114ed1cbd4",
            "value": "0.009 MB of 0.009 MB uploaded (0.000 MB deduped)\r"
          }
        },
        "3e47993d41744d44a22ade979551998c": {
          "model_module": "@jupyter-widgets/controls",
          "model_name": "FloatProgressModel",
          "model_module_version": "1.5.0",
          "state": {
            "_dom_classes": [],
            "_model_module": "@jupyter-widgets/controls",
            "_model_module_version": "1.5.0",
            "_model_name": "FloatProgressModel",
            "_view_count": null,
            "_view_module": "@jupyter-widgets/controls",
            "_view_module_version": "1.5.0",
            "_view_name": "ProgressView",
            "bar_style": "",
            "description": "",
            "description_tooltip": null,
            "layout": "IPY_MODEL_6730aca2307f485a818924666914cc45",
            "max": 1,
            "min": 0,
            "orientation": "horizontal",
            "style": "IPY_MODEL_2e543590540e4025b9695751ebd1ffff",
            "value": 1
          }
        },
        "a95e9c2935f340a38ec8462635c32d01": {
          "model_module": "@jupyter-widgets/base",
          "model_name": "LayoutModel",
          "model_module_version": "1.2.0",
          "state": {
            "_model_module": "@jupyter-widgets/base",
            "_model_module_version": "1.2.0",
            "_model_name": "LayoutModel",
            "_view_count": null,
            "_view_module": "@jupyter-widgets/base",
            "_view_module_version": "1.2.0",
            "_view_name": "LayoutView",
            "align_content": null,
            "align_items": null,
            "align_self": null,
            "border": null,
            "bottom": null,
            "display": null,
            "flex": null,
            "flex_flow": null,
            "grid_area": null,
            "grid_auto_columns": null,
            "grid_auto_flow": null,
            "grid_auto_rows": null,
            "grid_column": null,
            "grid_gap": null,
            "grid_row": null,
            "grid_template_areas": null,
            "grid_template_columns": null,
            "grid_template_rows": null,
            "height": null,
            "justify_content": null,
            "justify_items": null,
            "left": null,
            "margin": null,
            "max_height": null,
            "max_width": null,
            "min_height": null,
            "min_width": null,
            "object_fit": null,
            "object_position": null,
            "order": null,
            "overflow": null,
            "overflow_x": null,
            "overflow_y": null,
            "padding": null,
            "right": null,
            "top": null,
            "visibility": null,
            "width": null
          }
        },
        "ee1550672492474d90e40364d412290a": {
          "model_module": "@jupyter-widgets/base",
          "model_name": "LayoutModel",
          "model_module_version": "1.2.0",
          "state": {
            "_model_module": "@jupyter-widgets/base",
            "_model_module_version": "1.2.0",
            "_model_name": "LayoutModel",
            "_view_count": null,
            "_view_module": "@jupyter-widgets/base",
            "_view_module_version": "1.2.0",
            "_view_name": "LayoutView",
            "align_content": null,
            "align_items": null,
            "align_self": null,
            "border": null,
            "bottom": null,
            "display": null,
            "flex": null,
            "flex_flow": null,
            "grid_area": null,
            "grid_auto_columns": null,
            "grid_auto_flow": null,
            "grid_auto_rows": null,
            "grid_column": null,
            "grid_gap": null,
            "grid_row": null,
            "grid_template_areas": null,
            "grid_template_columns": null,
            "grid_template_rows": null,
            "height": null,
            "justify_content": null,
            "justify_items": null,
            "left": null,
            "margin": null,
            "max_height": null,
            "max_width": null,
            "min_height": null,
            "min_width": null,
            "object_fit": null,
            "object_position": null,
            "order": null,
            "overflow": null,
            "overflow_x": null,
            "overflow_y": null,
            "padding": null,
            "right": null,
            "top": null,
            "visibility": null,
            "width": null
          }
        },
        "a68f914d6d6c4c1cab40a5114ed1cbd4": {
          "model_module": "@jupyter-widgets/controls",
          "model_name": "DescriptionStyleModel",
          "model_module_version": "1.5.0",
          "state": {
            "_model_module": "@jupyter-widgets/controls",
            "_model_module_version": "1.5.0",
            "_model_name": "DescriptionStyleModel",
            "_view_count": null,
            "_view_module": "@jupyter-widgets/base",
            "_view_module_version": "1.2.0",
            "_view_name": "StyleView",
            "description_width": ""
          }
        },
        "6730aca2307f485a818924666914cc45": {
          "model_module": "@jupyter-widgets/base",
          "model_name": "LayoutModel",
          "model_module_version": "1.2.0",
          "state": {
            "_model_module": "@jupyter-widgets/base",
            "_model_module_version": "1.2.0",
            "_model_name": "LayoutModel",
            "_view_count": null,
            "_view_module": "@jupyter-widgets/base",
            "_view_module_version": "1.2.0",
            "_view_name": "LayoutView",
            "align_content": null,
            "align_items": null,
            "align_self": null,
            "border": null,
            "bottom": null,
            "display": null,
            "flex": null,
            "flex_flow": null,
            "grid_area": null,
            "grid_auto_columns": null,
            "grid_auto_flow": null,
            "grid_auto_rows": null,
            "grid_column": null,
            "grid_gap": null,
            "grid_row": null,
            "grid_template_areas": null,
            "grid_template_columns": null,
            "grid_template_rows": null,
            "height": null,
            "justify_content": null,
            "justify_items": null,
            "left": null,
            "margin": null,
            "max_height": null,
            "max_width": null,
            "min_height": null,
            "min_width": null,
            "object_fit": null,
            "object_position": null,
            "order": null,
            "overflow": null,
            "overflow_x": null,
            "overflow_y": null,
            "padding": null,
            "right": null,
            "top": null,
            "visibility": null,
            "width": null
          }
        },
        "2e543590540e4025b9695751ebd1ffff": {
          "model_module": "@jupyter-widgets/controls",
          "model_name": "ProgressStyleModel",
          "model_module_version": "1.5.0",
          "state": {
            "_model_module": "@jupyter-widgets/controls",
            "_model_module_version": "1.5.0",
            "_model_name": "ProgressStyleModel",
            "_view_count": null,
            "_view_module": "@jupyter-widgets/base",
            "_view_module_version": "1.2.0",
            "_view_name": "StyleView",
            "bar_color": null,
            "description_width": ""
          }
        },
        "4e101fe5d27741ffad6f32907fd421c2": {
          "model_module": "@jupyter-widgets/controls",
          "model_name": "VBoxModel",
          "model_module_version": "1.5.0",
          "state": {
            "_dom_classes": [],
            "_model_module": "@jupyter-widgets/controls",
            "_model_module_version": "1.5.0",
            "_model_name": "VBoxModel",
            "_view_count": null,
            "_view_module": "@jupyter-widgets/controls",
            "_view_module_version": "1.5.0",
            "_view_name": "VBoxView",
            "box_style": "",
            "children": [
              "IPY_MODEL_1b73a08dc7914a0e8e401dd0106bbb00",
              "IPY_MODEL_3b0e71b465d649d19dd66ef8cb96264a"
            ],
            "layout": "IPY_MODEL_d44282322cd44a8aafd9fc85e084415f"
          }
        },
        "1b73a08dc7914a0e8e401dd0106bbb00": {
          "model_module": "@jupyter-widgets/controls",
          "model_name": "LabelModel",
          "model_module_version": "1.5.0",
          "state": {
            "_dom_classes": [],
            "_model_module": "@jupyter-widgets/controls",
            "_model_module_version": "1.5.0",
            "_model_name": "LabelModel",
            "_view_count": null,
            "_view_module": "@jupyter-widgets/controls",
            "_view_module_version": "1.5.0",
            "_view_name": "LabelView",
            "description": "",
            "description_tooltip": null,
            "layout": "IPY_MODEL_1ee61dd2fa18461a9e89b4d103822193",
            "placeholder": "​",
            "style": "IPY_MODEL_1fea7288ced642aab3e7cd6e95e91c0a",
            "value": "0.009 MB of 0.009 MB uploaded (0.000 MB deduped)\r"
          }
        },
        "3b0e71b465d649d19dd66ef8cb96264a": {
          "model_module": "@jupyter-widgets/controls",
          "model_name": "FloatProgressModel",
          "model_module_version": "1.5.0",
          "state": {
            "_dom_classes": [],
            "_model_module": "@jupyter-widgets/controls",
            "_model_module_version": "1.5.0",
            "_model_name": "FloatProgressModel",
            "_view_count": null,
            "_view_module": "@jupyter-widgets/controls",
            "_view_module_version": "1.5.0",
            "_view_name": "ProgressView",
            "bar_style": "",
            "description": "",
            "description_tooltip": null,
            "layout": "IPY_MODEL_dc33731e7b4d429c886e9091b13541ce",
            "max": 1,
            "min": 0,
            "orientation": "horizontal",
            "style": "IPY_MODEL_4c46c5f9bc524f2e87d707cf77fd544b",
            "value": 1
          }
        },
        "d44282322cd44a8aafd9fc85e084415f": {
          "model_module": "@jupyter-widgets/base",
          "model_name": "LayoutModel",
          "model_module_version": "1.2.0",
          "state": {
            "_model_module": "@jupyter-widgets/base",
            "_model_module_version": "1.2.0",
            "_model_name": "LayoutModel",
            "_view_count": null,
            "_view_module": "@jupyter-widgets/base",
            "_view_module_version": "1.2.0",
            "_view_name": "LayoutView",
            "align_content": null,
            "align_items": null,
            "align_self": null,
            "border": null,
            "bottom": null,
            "display": null,
            "flex": null,
            "flex_flow": null,
            "grid_area": null,
            "grid_auto_columns": null,
            "grid_auto_flow": null,
            "grid_auto_rows": null,
            "grid_column": null,
            "grid_gap": null,
            "grid_row": null,
            "grid_template_areas": null,
            "grid_template_columns": null,
            "grid_template_rows": null,
            "height": null,
            "justify_content": null,
            "justify_items": null,
            "left": null,
            "margin": null,
            "max_height": null,
            "max_width": null,
            "min_height": null,
            "min_width": null,
            "object_fit": null,
            "object_position": null,
            "order": null,
            "overflow": null,
            "overflow_x": null,
            "overflow_y": null,
            "padding": null,
            "right": null,
            "top": null,
            "visibility": null,
            "width": null
          }
        },
        "1ee61dd2fa18461a9e89b4d103822193": {
          "model_module": "@jupyter-widgets/base",
          "model_name": "LayoutModel",
          "model_module_version": "1.2.0",
          "state": {
            "_model_module": "@jupyter-widgets/base",
            "_model_module_version": "1.2.0",
            "_model_name": "LayoutModel",
            "_view_count": null,
            "_view_module": "@jupyter-widgets/base",
            "_view_module_version": "1.2.0",
            "_view_name": "LayoutView",
            "align_content": null,
            "align_items": null,
            "align_self": null,
            "border": null,
            "bottom": null,
            "display": null,
            "flex": null,
            "flex_flow": null,
            "grid_area": null,
            "grid_auto_columns": null,
            "grid_auto_flow": null,
            "grid_auto_rows": null,
            "grid_column": null,
            "grid_gap": null,
            "grid_row": null,
            "grid_template_areas": null,
            "grid_template_columns": null,
            "grid_template_rows": null,
            "height": null,
            "justify_content": null,
            "justify_items": null,
            "left": null,
            "margin": null,
            "max_height": null,
            "max_width": null,
            "min_height": null,
            "min_width": null,
            "object_fit": null,
            "object_position": null,
            "order": null,
            "overflow": null,
            "overflow_x": null,
            "overflow_y": null,
            "padding": null,
            "right": null,
            "top": null,
            "visibility": null,
            "width": null
          }
        },
        "1fea7288ced642aab3e7cd6e95e91c0a": {
          "model_module": "@jupyter-widgets/controls",
          "model_name": "DescriptionStyleModel",
          "model_module_version": "1.5.0",
          "state": {
            "_model_module": "@jupyter-widgets/controls",
            "_model_module_version": "1.5.0",
            "_model_name": "DescriptionStyleModel",
            "_view_count": null,
            "_view_module": "@jupyter-widgets/base",
            "_view_module_version": "1.2.0",
            "_view_name": "StyleView",
            "description_width": ""
          }
        },
        "dc33731e7b4d429c886e9091b13541ce": {
          "model_module": "@jupyter-widgets/base",
          "model_name": "LayoutModel",
          "model_module_version": "1.2.0",
          "state": {
            "_model_module": "@jupyter-widgets/base",
            "_model_module_version": "1.2.0",
            "_model_name": "LayoutModel",
            "_view_count": null,
            "_view_module": "@jupyter-widgets/base",
            "_view_module_version": "1.2.0",
            "_view_name": "LayoutView",
            "align_content": null,
            "align_items": null,
            "align_self": null,
            "border": null,
            "bottom": null,
            "display": null,
            "flex": null,
            "flex_flow": null,
            "grid_area": null,
            "grid_auto_columns": null,
            "grid_auto_flow": null,
            "grid_auto_rows": null,
            "grid_column": null,
            "grid_gap": null,
            "grid_row": null,
            "grid_template_areas": null,
            "grid_template_columns": null,
            "grid_template_rows": null,
            "height": null,
            "justify_content": null,
            "justify_items": null,
            "left": null,
            "margin": null,
            "max_height": null,
            "max_width": null,
            "min_height": null,
            "min_width": null,
            "object_fit": null,
            "object_position": null,
            "order": null,
            "overflow": null,
            "overflow_x": null,
            "overflow_y": null,
            "padding": null,
            "right": null,
            "top": null,
            "visibility": null,
            "width": null
          }
        },
        "4c46c5f9bc524f2e87d707cf77fd544b": {
          "model_module": "@jupyter-widgets/controls",
          "model_name": "ProgressStyleModel",
          "model_module_version": "1.5.0",
          "state": {
            "_model_module": "@jupyter-widgets/controls",
            "_model_module_version": "1.5.0",
            "_model_name": "ProgressStyleModel",
            "_view_count": null,
            "_view_module": "@jupyter-widgets/base",
            "_view_module_version": "1.2.0",
            "_view_name": "StyleView",
            "bar_color": null,
            "description_width": ""
          }
        },
        "0282b98e613c42dfb330ee0849336d33": {
          "model_module": "@jupyter-widgets/controls",
          "model_name": "VBoxModel",
          "model_module_version": "1.5.0",
          "state": {
            "_dom_classes": [],
            "_model_module": "@jupyter-widgets/controls",
            "_model_module_version": "1.5.0",
            "_model_name": "VBoxModel",
            "_view_count": null,
            "_view_module": "@jupyter-widgets/controls",
            "_view_module_version": "1.5.0",
            "_view_name": "VBoxView",
            "box_style": "",
            "children": [
              "IPY_MODEL_8ddfaf84e46341559c9324fb04d7b3d9",
              "IPY_MODEL_cb2e0749ec904c229defeab5ac1cff94"
            ],
            "layout": "IPY_MODEL_d4d2ec18971c48a49ae258f68985afff"
          }
        },
        "8ddfaf84e46341559c9324fb04d7b3d9": {
          "model_module": "@jupyter-widgets/controls",
          "model_name": "LabelModel",
          "model_module_version": "1.5.0",
          "state": {
            "_dom_classes": [],
            "_model_module": "@jupyter-widgets/controls",
            "_model_module_version": "1.5.0",
            "_model_name": "LabelModel",
            "_view_count": null,
            "_view_module": "@jupyter-widgets/controls",
            "_view_module_version": "1.5.0",
            "_view_name": "LabelView",
            "description": "",
            "description_tooltip": null,
            "layout": "IPY_MODEL_d2eea11464ef4a5587c15acbdb586709",
            "placeholder": "​",
            "style": "IPY_MODEL_2a5bbe642a424983805a7c1c372557c6",
            "value": "0.009 MB of 0.009 MB uploaded (0.000 MB deduped)\r"
          }
        },
        "cb2e0749ec904c229defeab5ac1cff94": {
          "model_module": "@jupyter-widgets/controls",
          "model_name": "FloatProgressModel",
          "model_module_version": "1.5.0",
          "state": {
            "_dom_classes": [],
            "_model_module": "@jupyter-widgets/controls",
            "_model_module_version": "1.5.0",
            "_model_name": "FloatProgressModel",
            "_view_count": null,
            "_view_module": "@jupyter-widgets/controls",
            "_view_module_version": "1.5.0",
            "_view_name": "ProgressView",
            "bar_style": "",
            "description": "",
            "description_tooltip": null,
            "layout": "IPY_MODEL_42952d9fbd2c44b99ca69996b6caa3ff",
            "max": 1,
            "min": 0,
            "orientation": "horizontal",
            "style": "IPY_MODEL_557bff9a7aee41cfa7452a0f02b83bd1",
            "value": 1
          }
        },
        "d4d2ec18971c48a49ae258f68985afff": {
          "model_module": "@jupyter-widgets/base",
          "model_name": "LayoutModel",
          "model_module_version": "1.2.0",
          "state": {
            "_model_module": "@jupyter-widgets/base",
            "_model_module_version": "1.2.0",
            "_model_name": "LayoutModel",
            "_view_count": null,
            "_view_module": "@jupyter-widgets/base",
            "_view_module_version": "1.2.0",
            "_view_name": "LayoutView",
            "align_content": null,
            "align_items": null,
            "align_self": null,
            "border": null,
            "bottom": null,
            "display": null,
            "flex": null,
            "flex_flow": null,
            "grid_area": null,
            "grid_auto_columns": null,
            "grid_auto_flow": null,
            "grid_auto_rows": null,
            "grid_column": null,
            "grid_gap": null,
            "grid_row": null,
            "grid_template_areas": null,
            "grid_template_columns": null,
            "grid_template_rows": null,
            "height": null,
            "justify_content": null,
            "justify_items": null,
            "left": null,
            "margin": null,
            "max_height": null,
            "max_width": null,
            "min_height": null,
            "min_width": null,
            "object_fit": null,
            "object_position": null,
            "order": null,
            "overflow": null,
            "overflow_x": null,
            "overflow_y": null,
            "padding": null,
            "right": null,
            "top": null,
            "visibility": null,
            "width": null
          }
        },
        "d2eea11464ef4a5587c15acbdb586709": {
          "model_module": "@jupyter-widgets/base",
          "model_name": "LayoutModel",
          "model_module_version": "1.2.0",
          "state": {
            "_model_module": "@jupyter-widgets/base",
            "_model_module_version": "1.2.0",
            "_model_name": "LayoutModel",
            "_view_count": null,
            "_view_module": "@jupyter-widgets/base",
            "_view_module_version": "1.2.0",
            "_view_name": "LayoutView",
            "align_content": null,
            "align_items": null,
            "align_self": null,
            "border": null,
            "bottom": null,
            "display": null,
            "flex": null,
            "flex_flow": null,
            "grid_area": null,
            "grid_auto_columns": null,
            "grid_auto_flow": null,
            "grid_auto_rows": null,
            "grid_column": null,
            "grid_gap": null,
            "grid_row": null,
            "grid_template_areas": null,
            "grid_template_columns": null,
            "grid_template_rows": null,
            "height": null,
            "justify_content": null,
            "justify_items": null,
            "left": null,
            "margin": null,
            "max_height": null,
            "max_width": null,
            "min_height": null,
            "min_width": null,
            "object_fit": null,
            "object_position": null,
            "order": null,
            "overflow": null,
            "overflow_x": null,
            "overflow_y": null,
            "padding": null,
            "right": null,
            "top": null,
            "visibility": null,
            "width": null
          }
        },
        "2a5bbe642a424983805a7c1c372557c6": {
          "model_module": "@jupyter-widgets/controls",
          "model_name": "DescriptionStyleModel",
          "model_module_version": "1.5.0",
          "state": {
            "_model_module": "@jupyter-widgets/controls",
            "_model_module_version": "1.5.0",
            "_model_name": "DescriptionStyleModel",
            "_view_count": null,
            "_view_module": "@jupyter-widgets/base",
            "_view_module_version": "1.2.0",
            "_view_name": "StyleView",
            "description_width": ""
          }
        },
        "42952d9fbd2c44b99ca69996b6caa3ff": {
          "model_module": "@jupyter-widgets/base",
          "model_name": "LayoutModel",
          "model_module_version": "1.2.0",
          "state": {
            "_model_module": "@jupyter-widgets/base",
            "_model_module_version": "1.2.0",
            "_model_name": "LayoutModel",
            "_view_count": null,
            "_view_module": "@jupyter-widgets/base",
            "_view_module_version": "1.2.0",
            "_view_name": "LayoutView",
            "align_content": null,
            "align_items": null,
            "align_self": null,
            "border": null,
            "bottom": null,
            "display": null,
            "flex": null,
            "flex_flow": null,
            "grid_area": null,
            "grid_auto_columns": null,
            "grid_auto_flow": null,
            "grid_auto_rows": null,
            "grid_column": null,
            "grid_gap": null,
            "grid_row": null,
            "grid_template_areas": null,
            "grid_template_columns": null,
            "grid_template_rows": null,
            "height": null,
            "justify_content": null,
            "justify_items": null,
            "left": null,
            "margin": null,
            "max_height": null,
            "max_width": null,
            "min_height": null,
            "min_width": null,
            "object_fit": null,
            "object_position": null,
            "order": null,
            "overflow": null,
            "overflow_x": null,
            "overflow_y": null,
            "padding": null,
            "right": null,
            "top": null,
            "visibility": null,
            "width": null
          }
        },
        "557bff9a7aee41cfa7452a0f02b83bd1": {
          "model_module": "@jupyter-widgets/controls",
          "model_name": "ProgressStyleModel",
          "model_module_version": "1.5.0",
          "state": {
            "_model_module": "@jupyter-widgets/controls",
            "_model_module_version": "1.5.0",
            "_model_name": "ProgressStyleModel",
            "_view_count": null,
            "_view_module": "@jupyter-widgets/base",
            "_view_module_version": "1.2.0",
            "_view_name": "StyleView",
            "bar_color": null,
            "description_width": ""
          }
        },
        "671363e68ff74dfa8290e1b00836dddd": {
          "model_module": "@jupyter-widgets/controls",
          "model_name": "VBoxModel",
          "model_module_version": "1.5.0",
          "state": {
            "_dom_classes": [],
            "_model_module": "@jupyter-widgets/controls",
            "_model_module_version": "1.5.0",
            "_model_name": "VBoxModel",
            "_view_count": null,
            "_view_module": "@jupyter-widgets/controls",
            "_view_module_version": "1.5.0",
            "_view_name": "VBoxView",
            "box_style": "",
            "children": [
              "IPY_MODEL_1e75fbb0a4f945e8ab822a39ccbb1ac3",
              "IPY_MODEL_b9a54e15c70e4ca080eb546bc5eaa720"
            ],
            "layout": "IPY_MODEL_d25650afa6394cf79130809c6338c55c"
          }
        },
        "1e75fbb0a4f945e8ab822a39ccbb1ac3": {
          "model_module": "@jupyter-widgets/controls",
          "model_name": "LabelModel",
          "model_module_version": "1.5.0",
          "state": {
            "_dom_classes": [],
            "_model_module": "@jupyter-widgets/controls",
            "_model_module_version": "1.5.0",
            "_model_name": "LabelModel",
            "_view_count": null,
            "_view_module": "@jupyter-widgets/controls",
            "_view_module_version": "1.5.0",
            "_view_name": "LabelView",
            "description": "",
            "description_tooltip": null,
            "layout": "IPY_MODEL_c8daa4ff8aee4162a0ce13a45d8e8084",
            "placeholder": "​",
            "style": "IPY_MODEL_9aad62d33b1b48d4aaac507c65abbc63",
            "value": "0.009 MB of 0.009 MB uploaded (0.000 MB deduped)\r"
          }
        },
        "b9a54e15c70e4ca080eb546bc5eaa720": {
          "model_module": "@jupyter-widgets/controls",
          "model_name": "FloatProgressModel",
          "model_module_version": "1.5.0",
          "state": {
            "_dom_classes": [],
            "_model_module": "@jupyter-widgets/controls",
            "_model_module_version": "1.5.0",
            "_model_name": "FloatProgressModel",
            "_view_count": null,
            "_view_module": "@jupyter-widgets/controls",
            "_view_module_version": "1.5.0",
            "_view_name": "ProgressView",
            "bar_style": "",
            "description": "",
            "description_tooltip": null,
            "layout": "IPY_MODEL_4f03852f378a41c58ebc497ac9479cf4",
            "max": 1,
            "min": 0,
            "orientation": "horizontal",
            "style": "IPY_MODEL_a896f5c083554033b7fbe0fc1e345d5b",
            "value": 1
          }
        },
        "d25650afa6394cf79130809c6338c55c": {
          "model_module": "@jupyter-widgets/base",
          "model_name": "LayoutModel",
          "model_module_version": "1.2.0",
          "state": {
            "_model_module": "@jupyter-widgets/base",
            "_model_module_version": "1.2.0",
            "_model_name": "LayoutModel",
            "_view_count": null,
            "_view_module": "@jupyter-widgets/base",
            "_view_module_version": "1.2.0",
            "_view_name": "LayoutView",
            "align_content": null,
            "align_items": null,
            "align_self": null,
            "border": null,
            "bottom": null,
            "display": null,
            "flex": null,
            "flex_flow": null,
            "grid_area": null,
            "grid_auto_columns": null,
            "grid_auto_flow": null,
            "grid_auto_rows": null,
            "grid_column": null,
            "grid_gap": null,
            "grid_row": null,
            "grid_template_areas": null,
            "grid_template_columns": null,
            "grid_template_rows": null,
            "height": null,
            "justify_content": null,
            "justify_items": null,
            "left": null,
            "margin": null,
            "max_height": null,
            "max_width": null,
            "min_height": null,
            "min_width": null,
            "object_fit": null,
            "object_position": null,
            "order": null,
            "overflow": null,
            "overflow_x": null,
            "overflow_y": null,
            "padding": null,
            "right": null,
            "top": null,
            "visibility": null,
            "width": null
          }
        },
        "c8daa4ff8aee4162a0ce13a45d8e8084": {
          "model_module": "@jupyter-widgets/base",
          "model_name": "LayoutModel",
          "model_module_version": "1.2.0",
          "state": {
            "_model_module": "@jupyter-widgets/base",
            "_model_module_version": "1.2.0",
            "_model_name": "LayoutModel",
            "_view_count": null,
            "_view_module": "@jupyter-widgets/base",
            "_view_module_version": "1.2.0",
            "_view_name": "LayoutView",
            "align_content": null,
            "align_items": null,
            "align_self": null,
            "border": null,
            "bottom": null,
            "display": null,
            "flex": null,
            "flex_flow": null,
            "grid_area": null,
            "grid_auto_columns": null,
            "grid_auto_flow": null,
            "grid_auto_rows": null,
            "grid_column": null,
            "grid_gap": null,
            "grid_row": null,
            "grid_template_areas": null,
            "grid_template_columns": null,
            "grid_template_rows": null,
            "height": null,
            "justify_content": null,
            "justify_items": null,
            "left": null,
            "margin": null,
            "max_height": null,
            "max_width": null,
            "min_height": null,
            "min_width": null,
            "object_fit": null,
            "object_position": null,
            "order": null,
            "overflow": null,
            "overflow_x": null,
            "overflow_y": null,
            "padding": null,
            "right": null,
            "top": null,
            "visibility": null,
            "width": null
          }
        },
        "9aad62d33b1b48d4aaac507c65abbc63": {
          "model_module": "@jupyter-widgets/controls",
          "model_name": "DescriptionStyleModel",
          "model_module_version": "1.5.0",
          "state": {
            "_model_module": "@jupyter-widgets/controls",
            "_model_module_version": "1.5.0",
            "_model_name": "DescriptionStyleModel",
            "_view_count": null,
            "_view_module": "@jupyter-widgets/base",
            "_view_module_version": "1.2.0",
            "_view_name": "StyleView",
            "description_width": ""
          }
        },
        "4f03852f378a41c58ebc497ac9479cf4": {
          "model_module": "@jupyter-widgets/base",
          "model_name": "LayoutModel",
          "model_module_version": "1.2.0",
          "state": {
            "_model_module": "@jupyter-widgets/base",
            "_model_module_version": "1.2.0",
            "_model_name": "LayoutModel",
            "_view_count": null,
            "_view_module": "@jupyter-widgets/base",
            "_view_module_version": "1.2.0",
            "_view_name": "LayoutView",
            "align_content": null,
            "align_items": null,
            "align_self": null,
            "border": null,
            "bottom": null,
            "display": null,
            "flex": null,
            "flex_flow": null,
            "grid_area": null,
            "grid_auto_columns": null,
            "grid_auto_flow": null,
            "grid_auto_rows": null,
            "grid_column": null,
            "grid_gap": null,
            "grid_row": null,
            "grid_template_areas": null,
            "grid_template_columns": null,
            "grid_template_rows": null,
            "height": null,
            "justify_content": null,
            "justify_items": null,
            "left": null,
            "margin": null,
            "max_height": null,
            "max_width": null,
            "min_height": null,
            "min_width": null,
            "object_fit": null,
            "object_position": null,
            "order": null,
            "overflow": null,
            "overflow_x": null,
            "overflow_y": null,
            "padding": null,
            "right": null,
            "top": null,
            "visibility": null,
            "width": null
          }
        },
        "a896f5c083554033b7fbe0fc1e345d5b": {
          "model_module": "@jupyter-widgets/controls",
          "model_name": "ProgressStyleModel",
          "model_module_version": "1.5.0",
          "state": {
            "_model_module": "@jupyter-widgets/controls",
            "_model_module_version": "1.5.0",
            "_model_name": "ProgressStyleModel",
            "_view_count": null,
            "_view_module": "@jupyter-widgets/base",
            "_view_module_version": "1.2.0",
            "_view_name": "StyleView",
            "bar_color": null,
            "description_width": ""
          }
        },
        "c796e404f2cc4bb6bd3834691db31fe0": {
          "model_module": "@jupyter-widgets/controls",
          "model_name": "VBoxModel",
          "model_module_version": "1.5.0",
          "state": {
            "_dom_classes": [],
            "_model_module": "@jupyter-widgets/controls",
            "_model_module_version": "1.5.0",
            "_model_name": "VBoxModel",
            "_view_count": null,
            "_view_module": "@jupyter-widgets/controls",
            "_view_module_version": "1.5.0",
            "_view_name": "VBoxView",
            "box_style": "",
            "children": [
              "IPY_MODEL_998826f0890342198d24b2224f5eea92",
              "IPY_MODEL_516554a8cb3e43cca0a38736d83442cf"
            ],
            "layout": "IPY_MODEL_609a9bff675d466181432ddf7db61068"
          }
        },
        "998826f0890342198d24b2224f5eea92": {
          "model_module": "@jupyter-widgets/controls",
          "model_name": "LabelModel",
          "model_module_version": "1.5.0",
          "state": {
            "_dom_classes": [],
            "_model_module": "@jupyter-widgets/controls",
            "_model_module_version": "1.5.0",
            "_model_name": "LabelModel",
            "_view_count": null,
            "_view_module": "@jupyter-widgets/controls",
            "_view_module_version": "1.5.0",
            "_view_name": "LabelView",
            "description": "",
            "description_tooltip": null,
            "layout": "IPY_MODEL_9134cb323acb4c12b78ad1d645082582",
            "placeholder": "​",
            "style": "IPY_MODEL_525f4727057e42b6bfd75b515175c7a3",
            "value": "0.009 MB of 0.009 MB uploaded (0.000 MB deduped)\r"
          }
        },
        "516554a8cb3e43cca0a38736d83442cf": {
          "model_module": "@jupyter-widgets/controls",
          "model_name": "FloatProgressModel",
          "model_module_version": "1.5.0",
          "state": {
            "_dom_classes": [],
            "_model_module": "@jupyter-widgets/controls",
            "_model_module_version": "1.5.0",
            "_model_name": "FloatProgressModel",
            "_view_count": null,
            "_view_module": "@jupyter-widgets/controls",
            "_view_module_version": "1.5.0",
            "_view_name": "ProgressView",
            "bar_style": "",
            "description": "",
            "description_tooltip": null,
            "layout": "IPY_MODEL_a80bc2fbe84b4a539f78c9f2dcd1125b",
            "max": 1,
            "min": 0,
            "orientation": "horizontal",
            "style": "IPY_MODEL_48752663a20c4fe497b933a452d61cb3",
            "value": 1
          }
        },
        "609a9bff675d466181432ddf7db61068": {
          "model_module": "@jupyter-widgets/base",
          "model_name": "LayoutModel",
          "model_module_version": "1.2.0",
          "state": {
            "_model_module": "@jupyter-widgets/base",
            "_model_module_version": "1.2.0",
            "_model_name": "LayoutModel",
            "_view_count": null,
            "_view_module": "@jupyter-widgets/base",
            "_view_module_version": "1.2.0",
            "_view_name": "LayoutView",
            "align_content": null,
            "align_items": null,
            "align_self": null,
            "border": null,
            "bottom": null,
            "display": null,
            "flex": null,
            "flex_flow": null,
            "grid_area": null,
            "grid_auto_columns": null,
            "grid_auto_flow": null,
            "grid_auto_rows": null,
            "grid_column": null,
            "grid_gap": null,
            "grid_row": null,
            "grid_template_areas": null,
            "grid_template_columns": null,
            "grid_template_rows": null,
            "height": null,
            "justify_content": null,
            "justify_items": null,
            "left": null,
            "margin": null,
            "max_height": null,
            "max_width": null,
            "min_height": null,
            "min_width": null,
            "object_fit": null,
            "object_position": null,
            "order": null,
            "overflow": null,
            "overflow_x": null,
            "overflow_y": null,
            "padding": null,
            "right": null,
            "top": null,
            "visibility": null,
            "width": null
          }
        },
        "9134cb323acb4c12b78ad1d645082582": {
          "model_module": "@jupyter-widgets/base",
          "model_name": "LayoutModel",
          "model_module_version": "1.2.0",
          "state": {
            "_model_module": "@jupyter-widgets/base",
            "_model_module_version": "1.2.0",
            "_model_name": "LayoutModel",
            "_view_count": null,
            "_view_module": "@jupyter-widgets/base",
            "_view_module_version": "1.2.0",
            "_view_name": "LayoutView",
            "align_content": null,
            "align_items": null,
            "align_self": null,
            "border": null,
            "bottom": null,
            "display": null,
            "flex": null,
            "flex_flow": null,
            "grid_area": null,
            "grid_auto_columns": null,
            "grid_auto_flow": null,
            "grid_auto_rows": null,
            "grid_column": null,
            "grid_gap": null,
            "grid_row": null,
            "grid_template_areas": null,
            "grid_template_columns": null,
            "grid_template_rows": null,
            "height": null,
            "justify_content": null,
            "justify_items": null,
            "left": null,
            "margin": null,
            "max_height": null,
            "max_width": null,
            "min_height": null,
            "min_width": null,
            "object_fit": null,
            "object_position": null,
            "order": null,
            "overflow": null,
            "overflow_x": null,
            "overflow_y": null,
            "padding": null,
            "right": null,
            "top": null,
            "visibility": null,
            "width": null
          }
        },
        "525f4727057e42b6bfd75b515175c7a3": {
          "model_module": "@jupyter-widgets/controls",
          "model_name": "DescriptionStyleModel",
          "model_module_version": "1.5.0",
          "state": {
            "_model_module": "@jupyter-widgets/controls",
            "_model_module_version": "1.5.0",
            "_model_name": "DescriptionStyleModel",
            "_view_count": null,
            "_view_module": "@jupyter-widgets/base",
            "_view_module_version": "1.2.0",
            "_view_name": "StyleView",
            "description_width": ""
          }
        },
        "a80bc2fbe84b4a539f78c9f2dcd1125b": {
          "model_module": "@jupyter-widgets/base",
          "model_name": "LayoutModel",
          "model_module_version": "1.2.0",
          "state": {
            "_model_module": "@jupyter-widgets/base",
            "_model_module_version": "1.2.0",
            "_model_name": "LayoutModel",
            "_view_count": null,
            "_view_module": "@jupyter-widgets/base",
            "_view_module_version": "1.2.0",
            "_view_name": "LayoutView",
            "align_content": null,
            "align_items": null,
            "align_self": null,
            "border": null,
            "bottom": null,
            "display": null,
            "flex": null,
            "flex_flow": null,
            "grid_area": null,
            "grid_auto_columns": null,
            "grid_auto_flow": null,
            "grid_auto_rows": null,
            "grid_column": null,
            "grid_gap": null,
            "grid_row": null,
            "grid_template_areas": null,
            "grid_template_columns": null,
            "grid_template_rows": null,
            "height": null,
            "justify_content": null,
            "justify_items": null,
            "left": null,
            "margin": null,
            "max_height": null,
            "max_width": null,
            "min_height": null,
            "min_width": null,
            "object_fit": null,
            "object_position": null,
            "order": null,
            "overflow": null,
            "overflow_x": null,
            "overflow_y": null,
            "padding": null,
            "right": null,
            "top": null,
            "visibility": null,
            "width": null
          }
        },
        "48752663a20c4fe497b933a452d61cb3": {
          "model_module": "@jupyter-widgets/controls",
          "model_name": "ProgressStyleModel",
          "model_module_version": "1.5.0",
          "state": {
            "_model_module": "@jupyter-widgets/controls",
            "_model_module_version": "1.5.0",
            "_model_name": "ProgressStyleModel",
            "_view_count": null,
            "_view_module": "@jupyter-widgets/base",
            "_view_module_version": "1.2.0",
            "_view_name": "StyleView",
            "bar_color": null,
            "description_width": ""
          }
        },
        "e321e01a015e4f7b96ead80466eda514": {
          "model_module": "@jupyter-widgets/controls",
          "model_name": "VBoxModel",
          "model_module_version": "1.5.0",
          "state": {
            "_dom_classes": [],
            "_model_module": "@jupyter-widgets/controls",
            "_model_module_version": "1.5.0",
            "_model_name": "VBoxModel",
            "_view_count": null,
            "_view_module": "@jupyter-widgets/controls",
            "_view_module_version": "1.5.0",
            "_view_name": "VBoxView",
            "box_style": "",
            "children": [
              "IPY_MODEL_ae5b7a075df34b7eae77399c0cbdf3c9",
              "IPY_MODEL_4c7c570b04b346f3ad6e268d93be5bf4"
            ],
            "layout": "IPY_MODEL_6108723272df4c5bbd4e6921342fed56"
          }
        },
        "ae5b7a075df34b7eae77399c0cbdf3c9": {
          "model_module": "@jupyter-widgets/controls",
          "model_name": "LabelModel",
          "model_module_version": "1.5.0",
          "state": {
            "_dom_classes": [],
            "_model_module": "@jupyter-widgets/controls",
            "_model_module_version": "1.5.0",
            "_model_name": "LabelModel",
            "_view_count": null,
            "_view_module": "@jupyter-widgets/controls",
            "_view_module_version": "1.5.0",
            "_view_name": "LabelView",
            "description": "",
            "description_tooltip": null,
            "layout": "IPY_MODEL_5b1be5328bdd4d749879a1bd5e78e681",
            "placeholder": "​",
            "style": "IPY_MODEL_d19317f9c22341b69be5a5ef47a624cd",
            "value": "0.009 MB of 0.009 MB uploaded (0.000 MB deduped)\r"
          }
        },
        "4c7c570b04b346f3ad6e268d93be5bf4": {
          "model_module": "@jupyter-widgets/controls",
          "model_name": "FloatProgressModel",
          "model_module_version": "1.5.0",
          "state": {
            "_dom_classes": [],
            "_model_module": "@jupyter-widgets/controls",
            "_model_module_version": "1.5.0",
            "_model_name": "FloatProgressModel",
            "_view_count": null,
            "_view_module": "@jupyter-widgets/controls",
            "_view_module_version": "1.5.0",
            "_view_name": "ProgressView",
            "bar_style": "",
            "description": "",
            "description_tooltip": null,
            "layout": "IPY_MODEL_3f1fc48985d348ef96198ac5c1d8a718",
            "max": 1,
            "min": 0,
            "orientation": "horizontal",
            "style": "IPY_MODEL_6283057f2cbc4b1eb1307489f6f45ddf",
            "value": 1
          }
        },
        "6108723272df4c5bbd4e6921342fed56": {
          "model_module": "@jupyter-widgets/base",
          "model_name": "LayoutModel",
          "model_module_version": "1.2.0",
          "state": {
            "_model_module": "@jupyter-widgets/base",
            "_model_module_version": "1.2.0",
            "_model_name": "LayoutModel",
            "_view_count": null,
            "_view_module": "@jupyter-widgets/base",
            "_view_module_version": "1.2.0",
            "_view_name": "LayoutView",
            "align_content": null,
            "align_items": null,
            "align_self": null,
            "border": null,
            "bottom": null,
            "display": null,
            "flex": null,
            "flex_flow": null,
            "grid_area": null,
            "grid_auto_columns": null,
            "grid_auto_flow": null,
            "grid_auto_rows": null,
            "grid_column": null,
            "grid_gap": null,
            "grid_row": null,
            "grid_template_areas": null,
            "grid_template_columns": null,
            "grid_template_rows": null,
            "height": null,
            "justify_content": null,
            "justify_items": null,
            "left": null,
            "margin": null,
            "max_height": null,
            "max_width": null,
            "min_height": null,
            "min_width": null,
            "object_fit": null,
            "object_position": null,
            "order": null,
            "overflow": null,
            "overflow_x": null,
            "overflow_y": null,
            "padding": null,
            "right": null,
            "top": null,
            "visibility": null,
            "width": null
          }
        },
        "5b1be5328bdd4d749879a1bd5e78e681": {
          "model_module": "@jupyter-widgets/base",
          "model_name": "LayoutModel",
          "model_module_version": "1.2.0",
          "state": {
            "_model_module": "@jupyter-widgets/base",
            "_model_module_version": "1.2.0",
            "_model_name": "LayoutModel",
            "_view_count": null,
            "_view_module": "@jupyter-widgets/base",
            "_view_module_version": "1.2.0",
            "_view_name": "LayoutView",
            "align_content": null,
            "align_items": null,
            "align_self": null,
            "border": null,
            "bottom": null,
            "display": null,
            "flex": null,
            "flex_flow": null,
            "grid_area": null,
            "grid_auto_columns": null,
            "grid_auto_flow": null,
            "grid_auto_rows": null,
            "grid_column": null,
            "grid_gap": null,
            "grid_row": null,
            "grid_template_areas": null,
            "grid_template_columns": null,
            "grid_template_rows": null,
            "height": null,
            "justify_content": null,
            "justify_items": null,
            "left": null,
            "margin": null,
            "max_height": null,
            "max_width": null,
            "min_height": null,
            "min_width": null,
            "object_fit": null,
            "object_position": null,
            "order": null,
            "overflow": null,
            "overflow_x": null,
            "overflow_y": null,
            "padding": null,
            "right": null,
            "top": null,
            "visibility": null,
            "width": null
          }
        },
        "d19317f9c22341b69be5a5ef47a624cd": {
          "model_module": "@jupyter-widgets/controls",
          "model_name": "DescriptionStyleModel",
          "model_module_version": "1.5.0",
          "state": {
            "_model_module": "@jupyter-widgets/controls",
            "_model_module_version": "1.5.0",
            "_model_name": "DescriptionStyleModel",
            "_view_count": null,
            "_view_module": "@jupyter-widgets/base",
            "_view_module_version": "1.2.0",
            "_view_name": "StyleView",
            "description_width": ""
          }
        },
        "3f1fc48985d348ef96198ac5c1d8a718": {
          "model_module": "@jupyter-widgets/base",
          "model_name": "LayoutModel",
          "model_module_version": "1.2.0",
          "state": {
            "_model_module": "@jupyter-widgets/base",
            "_model_module_version": "1.2.0",
            "_model_name": "LayoutModel",
            "_view_count": null,
            "_view_module": "@jupyter-widgets/base",
            "_view_module_version": "1.2.0",
            "_view_name": "LayoutView",
            "align_content": null,
            "align_items": null,
            "align_self": null,
            "border": null,
            "bottom": null,
            "display": null,
            "flex": null,
            "flex_flow": null,
            "grid_area": null,
            "grid_auto_columns": null,
            "grid_auto_flow": null,
            "grid_auto_rows": null,
            "grid_column": null,
            "grid_gap": null,
            "grid_row": null,
            "grid_template_areas": null,
            "grid_template_columns": null,
            "grid_template_rows": null,
            "height": null,
            "justify_content": null,
            "justify_items": null,
            "left": null,
            "margin": null,
            "max_height": null,
            "max_width": null,
            "min_height": null,
            "min_width": null,
            "object_fit": null,
            "object_position": null,
            "order": null,
            "overflow": null,
            "overflow_x": null,
            "overflow_y": null,
            "padding": null,
            "right": null,
            "top": null,
            "visibility": null,
            "width": null
          }
        },
        "6283057f2cbc4b1eb1307489f6f45ddf": {
          "model_module": "@jupyter-widgets/controls",
          "model_name": "ProgressStyleModel",
          "model_module_version": "1.5.0",
          "state": {
            "_model_module": "@jupyter-widgets/controls",
            "_model_module_version": "1.5.0",
            "_model_name": "ProgressStyleModel",
            "_view_count": null,
            "_view_module": "@jupyter-widgets/base",
            "_view_module_version": "1.2.0",
            "_view_name": "StyleView",
            "bar_color": null,
            "description_width": ""
          }
        },
        "15fce62e45b041499589c1f861f62514": {
          "model_module": "@jupyter-widgets/controls",
          "model_name": "VBoxModel",
          "model_module_version": "1.5.0",
          "state": {
            "_dom_classes": [],
            "_model_module": "@jupyter-widgets/controls",
            "_model_module_version": "1.5.0",
            "_model_name": "VBoxModel",
            "_view_count": null,
            "_view_module": "@jupyter-widgets/controls",
            "_view_module_version": "1.5.0",
            "_view_name": "VBoxView",
            "box_style": "",
            "children": [
              "IPY_MODEL_1679a87c766d4dc896f9ddf11dfafe0f",
              "IPY_MODEL_8cb3e59946d24282887b440ff981dca2"
            ],
            "layout": "IPY_MODEL_090f96c32a174184a36cae922e60eab4"
          }
        },
        "1679a87c766d4dc896f9ddf11dfafe0f": {
          "model_module": "@jupyter-widgets/controls",
          "model_name": "LabelModel",
          "model_module_version": "1.5.0",
          "state": {
            "_dom_classes": [],
            "_model_module": "@jupyter-widgets/controls",
            "_model_module_version": "1.5.0",
            "_model_name": "LabelModel",
            "_view_count": null,
            "_view_module": "@jupyter-widgets/controls",
            "_view_module_version": "1.5.0",
            "_view_name": "LabelView",
            "description": "",
            "description_tooltip": null,
            "layout": "IPY_MODEL_cf5cdb9af2e446988d55461de7028ea3",
            "placeholder": "​",
            "style": "IPY_MODEL_ffd23f59f83b4c2ba740b974d632eb44",
            "value": "0.009 MB of 0.009 MB uploaded (0.000 MB deduped)\r"
          }
        },
        "8cb3e59946d24282887b440ff981dca2": {
          "model_module": "@jupyter-widgets/controls",
          "model_name": "FloatProgressModel",
          "model_module_version": "1.5.0",
          "state": {
            "_dom_classes": [],
            "_model_module": "@jupyter-widgets/controls",
            "_model_module_version": "1.5.0",
            "_model_name": "FloatProgressModel",
            "_view_count": null,
            "_view_module": "@jupyter-widgets/controls",
            "_view_module_version": "1.5.0",
            "_view_name": "ProgressView",
            "bar_style": "",
            "description": "",
            "description_tooltip": null,
            "layout": "IPY_MODEL_9bcbfe2c1e8c42f0b5a58fe9f1d49241",
            "max": 1,
            "min": 0,
            "orientation": "horizontal",
            "style": "IPY_MODEL_4f73c6f4720c4573a2f646bbed2c93c6",
            "value": 1
          }
        },
        "090f96c32a174184a36cae922e60eab4": {
          "model_module": "@jupyter-widgets/base",
          "model_name": "LayoutModel",
          "model_module_version": "1.2.0",
          "state": {
            "_model_module": "@jupyter-widgets/base",
            "_model_module_version": "1.2.0",
            "_model_name": "LayoutModel",
            "_view_count": null,
            "_view_module": "@jupyter-widgets/base",
            "_view_module_version": "1.2.0",
            "_view_name": "LayoutView",
            "align_content": null,
            "align_items": null,
            "align_self": null,
            "border": null,
            "bottom": null,
            "display": null,
            "flex": null,
            "flex_flow": null,
            "grid_area": null,
            "grid_auto_columns": null,
            "grid_auto_flow": null,
            "grid_auto_rows": null,
            "grid_column": null,
            "grid_gap": null,
            "grid_row": null,
            "grid_template_areas": null,
            "grid_template_columns": null,
            "grid_template_rows": null,
            "height": null,
            "justify_content": null,
            "justify_items": null,
            "left": null,
            "margin": null,
            "max_height": null,
            "max_width": null,
            "min_height": null,
            "min_width": null,
            "object_fit": null,
            "object_position": null,
            "order": null,
            "overflow": null,
            "overflow_x": null,
            "overflow_y": null,
            "padding": null,
            "right": null,
            "top": null,
            "visibility": null,
            "width": null
          }
        },
        "cf5cdb9af2e446988d55461de7028ea3": {
          "model_module": "@jupyter-widgets/base",
          "model_name": "LayoutModel",
          "model_module_version": "1.2.0",
          "state": {
            "_model_module": "@jupyter-widgets/base",
            "_model_module_version": "1.2.0",
            "_model_name": "LayoutModel",
            "_view_count": null,
            "_view_module": "@jupyter-widgets/base",
            "_view_module_version": "1.2.0",
            "_view_name": "LayoutView",
            "align_content": null,
            "align_items": null,
            "align_self": null,
            "border": null,
            "bottom": null,
            "display": null,
            "flex": null,
            "flex_flow": null,
            "grid_area": null,
            "grid_auto_columns": null,
            "grid_auto_flow": null,
            "grid_auto_rows": null,
            "grid_column": null,
            "grid_gap": null,
            "grid_row": null,
            "grid_template_areas": null,
            "grid_template_columns": null,
            "grid_template_rows": null,
            "height": null,
            "justify_content": null,
            "justify_items": null,
            "left": null,
            "margin": null,
            "max_height": null,
            "max_width": null,
            "min_height": null,
            "min_width": null,
            "object_fit": null,
            "object_position": null,
            "order": null,
            "overflow": null,
            "overflow_x": null,
            "overflow_y": null,
            "padding": null,
            "right": null,
            "top": null,
            "visibility": null,
            "width": null
          }
        },
        "ffd23f59f83b4c2ba740b974d632eb44": {
          "model_module": "@jupyter-widgets/controls",
          "model_name": "DescriptionStyleModel",
          "model_module_version": "1.5.0",
          "state": {
            "_model_module": "@jupyter-widgets/controls",
            "_model_module_version": "1.5.0",
            "_model_name": "DescriptionStyleModel",
            "_view_count": null,
            "_view_module": "@jupyter-widgets/base",
            "_view_module_version": "1.2.0",
            "_view_name": "StyleView",
            "description_width": ""
          }
        },
        "9bcbfe2c1e8c42f0b5a58fe9f1d49241": {
          "model_module": "@jupyter-widgets/base",
          "model_name": "LayoutModel",
          "model_module_version": "1.2.0",
          "state": {
            "_model_module": "@jupyter-widgets/base",
            "_model_module_version": "1.2.0",
            "_model_name": "LayoutModel",
            "_view_count": null,
            "_view_module": "@jupyter-widgets/base",
            "_view_module_version": "1.2.0",
            "_view_name": "LayoutView",
            "align_content": null,
            "align_items": null,
            "align_self": null,
            "border": null,
            "bottom": null,
            "display": null,
            "flex": null,
            "flex_flow": null,
            "grid_area": null,
            "grid_auto_columns": null,
            "grid_auto_flow": null,
            "grid_auto_rows": null,
            "grid_column": null,
            "grid_gap": null,
            "grid_row": null,
            "grid_template_areas": null,
            "grid_template_columns": null,
            "grid_template_rows": null,
            "height": null,
            "justify_content": null,
            "justify_items": null,
            "left": null,
            "margin": null,
            "max_height": null,
            "max_width": null,
            "min_height": null,
            "min_width": null,
            "object_fit": null,
            "object_position": null,
            "order": null,
            "overflow": null,
            "overflow_x": null,
            "overflow_y": null,
            "padding": null,
            "right": null,
            "top": null,
            "visibility": null,
            "width": null
          }
        },
        "4f73c6f4720c4573a2f646bbed2c93c6": {
          "model_module": "@jupyter-widgets/controls",
          "model_name": "ProgressStyleModel",
          "model_module_version": "1.5.0",
          "state": {
            "_model_module": "@jupyter-widgets/controls",
            "_model_module_version": "1.5.0",
            "_model_name": "ProgressStyleModel",
            "_view_count": null,
            "_view_module": "@jupyter-widgets/base",
            "_view_module_version": "1.2.0",
            "_view_name": "StyleView",
            "bar_color": null,
            "description_width": ""
          }
        }
      }
    }
  },
  "nbformat": 4,
  "nbformat_minor": 0
}