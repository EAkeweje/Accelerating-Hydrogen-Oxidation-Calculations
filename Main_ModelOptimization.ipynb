{
  "cells": [
    {
      "cell_type": "markdown",
      "metadata": {
        "id": "view-in-github",
        "colab_type": "text"
      },
      "source": [
        "<a href=\"https://colab.research.google.com/github/EAkeweje/Accelerating-Hydrogen-Oxidation-Calculations/blob/main/Main_ModelOptimization.ipynb\" target=\"_parent\"><img src=\"https://colab.research.google.com/assets/colab-badge.svg\" alt=\"Open In Colab\"/></a>"
      ]
    },
    {
      "cell_type": "code",
      "execution_count": null,
      "metadata": {
        "id": "xDny70xkh-nC"
      },
      "outputs": [],
      "source": [
        "!pip install wandb -Uq"
      ]
    },
    {
      "cell_type": "code",
      "execution_count": null,
      "metadata": {
        "colab": {
          "base_uri": "https://localhost:8080/"
        },
        "id": "Lbe0cJ-MiCyd",
        "outputId": "061427ba-3c22-450b-c54d-d7a94360fcb4"
      },
      "outputs": [
        {
          "name": "stderr",
          "output_type": "stream",
          "text": [
            "ERROR:wandb.jupyter:Failed to detect the name of this notebook, you can set it manually with the WANDB_NOTEBOOK_NAME environment variable to enable code saving.\n",
            "\u001b[34m\u001b[1mwandb\u001b[0m: Currently logged in as: \u001b[33mdata-bigwig\u001b[0m. Use \u001b[1m`wandb login --relogin`\u001b[0m to force relogin\n"
          ]
        },
        {
          "data": {
            "text/plain": [
              "True"
            ]
          },
          "execution_count": 2,
          "metadata": {},
          "output_type": "execute_result"
        }
      ],
      "source": [
        "#import and login\n",
        "import wandb\n",
        "\n",
        "wandb.login()"
      ]
    },
    {
      "cell_type": "code",
      "execution_count": null,
      "metadata": {
        "id": "1cuI4Qzbecga"
      },
      "outputs": [],
      "source": [
        "import numpy as np\n",
        "import matplotlib.pyplot as plt\n",
        "import networkx as nx\n",
        "\n",
        "import torch\n",
        "from torch.autograd import Variable\n",
        "import torch.optim as optim\n",
        "import torch.nn as nn\n",
        "import torch.nn.functional as F\n",
        "from torch.utils.data import Dataset, DataLoader\n",
        "from torch.utils.data.sampler import SubsetRandomSampler\n",
        "\n",
        "import PIL\n",
        "import pandas as pd\n",
        "from tqdm.notebook import tqdm\n",
        "import json\n",
        "import time\n",
        "import cv2\n",
        "import random\n",
        "import glob\n",
        "import os\n",
        "import copy\n",
        "from sklearn.metrics import r2_score"
      ]
    },
    {
      "cell_type": "markdown",
      "metadata": {
        "id": "RU7ouKqQud_s"
      },
      "source": [
        "## Utils"
      ]
    },
    {
      "cell_type": "code",
      "execution_count": null,
      "metadata": {
        "id": "EcwOnufhNPE_"
      },
      "outputs": [],
      "source": [
        "#Dataset object\n",
        "class OxidationDataset(Dataset):\n",
        "\n",
        "  def __init__(self, inputs_path, outputs_dir, nsample, ntimesteps, exclude_h2_o2 = False, return_conc = False):\n",
        "    \"\"\"\n",
        "    Args:\n",
        "        inputs_dir (string): input data path\n",
        "        outputs_dir (string): output data directory\n",
        "        nsample (int): data size\n",
        "        ntimesteps (int, list, or string): number of timesteps in target\n",
        "        exclude_h2_o2 (bool): To remove H2 and O2 features (from input and output)\n",
        "        return_conc (bool): To activate conversion of model inputs to concentrations, rather than proportions\n",
        "    returns:\n",
        "        Input data tensor\n",
        "        Output data tensor \n",
        "    \"\"\"\n",
        "    \n",
        "    # x = np.loadtxt(inputs_path, skiprows = 1, delimiter= ',')\n",
        "    # x = np.loadtxt(inputs_path, delimiter= ' ')\n",
        "    with open(inputs_path, 'rb') as f:\n",
        "      x = np.load(f)\n",
        "    self.exclude = exclude_h2_o2\n",
        "    #drop inert gases\n",
        "    if not self.exclude:\n",
        "      self.props = np.delete(x[ :nsample, :], [8,9], 1)\n",
        "    else:\n",
        "      self.props = np.delete(x[ :nsample, :], [0, 3, 8, 9], 1)\n",
        "    self.out_dir = outputs_dir\n",
        "    self.ntimesteps = ntimesteps\n",
        "    self.return_conc = return_conc\n",
        "\n",
        "  def get_total_material(self, Pressure, Temperature):\n",
        "    R = 8.31441642554361\n",
        "    return Pressure / (R * Temperature)\n",
        "\n",
        "  def __len__(self):\n",
        "    return len(self.props)\n",
        "\n",
        "  def __getitem__(self, idx):\n",
        "    #process input\n",
        "    if self.return_conc:\n",
        "      #get pressure and temperature\n",
        "      pres = self.props[idx, -2]\n",
        "      temp = self.props[idx, -1]\n",
        "      #compute total amount of all gases\n",
        "      total_amount_all = self.get_total_material(pres, temp)\n",
        "      #compute concentrations\n",
        "      concs = self.props[idx,:-2]*total_amount_all #c_i = x_i * \\nu\n",
        "      input = np.concatenate((concs, self.props[idx,-2:]))\n",
        "    else:\n",
        "      input = self.props[idx]\n",
        "    #get output\n",
        "    # Y = np.loadtxt(os.path.join(self.out_dir, f'out{idx}.txt'), delimiter= ';')\n",
        "    with open(os.path.join(self.out_dir, f'out{idx}.npy'), 'rb') as f:\n",
        "      Y = np.load(f)\n",
        "\n",
        "    #drop inert gases\n",
        "    if type(self.ntimesteps) == int:\n",
        "      if self.return_conc:\n",
        "        assert self.ntimesteps != 0, 'Ensure the target time step is different from zeroth timestep'\n",
        "      target = Y[:self.ntimesteps, 1:-2]\n",
        "    elif type(self.ntimesteps) == list:\n",
        "      if self.return_conc:\n",
        "        assert self.ntimesteps not in self.ntimesteps, 'Ensure the target time steps do not include the zeroth timestep'\n",
        "      target = Y[self.ntimesteps, 1:-2]\n",
        "    elif self.ntimesteps == 'all':\n",
        "      if self.return_conc:\n",
        "        target = Y[1:, 1:-2]\n",
        "      else:\n",
        "        target = Y[1:, 1:-2]\n",
        "    else:\n",
        "        raise ValueError(\"Invalid argument 'ntimestep' should an interger, a list or 'all' string\")\n",
        "\n",
        "    if self.exclude:\n",
        "      target = np.delete(target, [1,4], axis = 1)\n",
        "\n",
        "    return torch.from_numpy(input[np.newaxis,:]), torch.from_numpy(target)"
      ]
    },
    {
      "cell_type": "code",
      "execution_count": null,
      "metadata": {
        "id": "6Z0qixxwQ3-3"
      },
      "outputs": [],
      "source": [
        "#for data standardization\n",
        "def standardize(tensor, dim = 0, mean = None, std = None) -> torch.float64:\n",
        "  '''\n",
        "  Standardize tensor data,\n",
        "  Returns standardized tensor, mean and standard deviation\n",
        "  '''\n",
        "  tensor = tensor.float()\n",
        "\n",
        "  if mean is None:\n",
        "      mean = tensor.mean(dim = dim, keepdim = True)\n",
        "\n",
        "  if std is None:\n",
        "      std = tensor.std(dim = dim, keepdim = True)\n",
        "\n",
        "  standard_tensor = (tensor - mean) / std\n",
        "  return standard_tensor, mean, std\n",
        "\n",
        "def inverse_standardize(tensor, dim, mean, std):\n",
        "    tensor = tensor.float()\n",
        "    return tensor * std + mean"
      ]
    },
    {
      "cell_type": "code",
      "execution_count": null,
      "metadata": {
        "id": "UFzhT9hAIu8T"
      },
      "outputs": [],
      "source": [
        "def load_mean_std(path, loader = None):\n",
        "  '''\n",
        "  load mean and std of training data from local disk\n",
        "  '''\n",
        "  if os.path.exists(path):\n",
        "    #get means and stds\n",
        "    with open(path, 'r') as f:\n",
        "        mean_std_dict = json.load(f)\n",
        "    train_x_mean = torch.tensor(mean_std_dict['mean_x'])\n",
        "    train_x_std = torch.tensor(mean_std_dict['std_x'])\n",
        "    train_y_mean = torch.tensor(mean_std_dict['mean_y'])\n",
        "    train_y_std = torch.tensor(mean_std_dict['std_y'])\n",
        "    return train_x_mean, train_x_std, train_y_mean, train_y_std\n",
        "  else:\n",
        "    return save_mean_std(loader, path, output = True)\n",
        "  "
      ]
    },
    {
      "cell_type": "code",
      "execution_count": null,
      "metadata": {
        "id": "ZPtYcqUplFZu"
      },
      "outputs": [],
      "source": [
        "def save_mean_std(loader, path, output = False):\n",
        "  '''\n",
        "  Compute and saves the mean and std of data from dataloader.\n",
        "  \n",
        "  loader:: preferably train loader\n",
        "  path:: a json path\n",
        "  output:: bool: to output the means and stds\n",
        "  '''\n",
        "  #obtaining mean and std of training set\n",
        "  train_x = []\n",
        "  train_y = []\n",
        "  for x,y in loader:\n",
        "      train_x.append(x)\n",
        "      train_y.append(y)\n",
        "\n",
        "  _, train_x_mean, train_x_std = standardize(torch.concat(train_x), 0)\n",
        "  _, train_y_mean, train_y_std = standardize(torch.concat(train_y), 0)\n",
        "\n",
        "  #write to disc\n",
        "  mean_std_dict = {\n",
        "      'mean_x' : train_x_mean.tolist(),\n",
        "      'mean_y' : train_y_mean.tolist(),\n",
        "      'std_x' : train_x_std.tolist(),\n",
        "      'std_y' : train_y_std.tolist()\n",
        "  }\n",
        "\n",
        "  with open(path, 'w') as f:\n",
        "    json.dump(mean_std_dict, f)\n",
        "  \n",
        "  if output:\n",
        "    return train_x_mean, train_x_std, train_y_mean, train_y_std"
      ]
    },
    {
      "cell_type": "code",
      "execution_count": null,
      "metadata": {
        "id": "3o-JvRD4aDbF"
      },
      "outputs": [],
      "source": [
        "def train_step(model, optimizer, criterion, dataloader, mean_std, device, mb_coeff = 0):\n",
        "  '''\n",
        "  Do one training epoch.\n",
        "  mb_coeff is material balance weight. If mb_coeff == 0, then material balance is not considered.\n",
        "  '''\n",
        "  train_loss_ = 0.0\n",
        "  model.train()\n",
        "  for input, target in dataloader:\n",
        "    # Transfer Data to GPU if available\n",
        "    input, target = input.to(device), target.to(device)\n",
        "    # Standardize\n",
        "    if mean_std:\n",
        "      input, _, _ = standardize(input, 0, mean_std[0], mean_std[1])\n",
        "      target, _, _ = standardize(target, 0, mean_std[2], mean_std[3])\n",
        "    # Forward Pass\n",
        "    predict = model(input.float())\n",
        "    # Find loss\n",
        "    if mb_coeff != 0:\n",
        "      #Material Balance\n",
        "      T_H_true, T_H_pred, T_O_true, T_O_pred = total_material(target, predict)\n",
        "      loss = criterion(predict,target.float()) + mb_coeff * criterion(T_H_pred, T_H_true) + mb_coeff * criterion(T_O_pred, T_O_true)\n",
        "    else:\n",
        "      loss = criterion(predict, target.float())\n",
        "    # Clear the gradients\n",
        "    optimizer.zero_grad()\n",
        "    # Calculate gradients\n",
        "    loss.backward()\n",
        "    # Update Weights\n",
        "    optimizer.step()\n",
        "    # Calculate Loss\n",
        "    train_loss_ += loss.item() \n",
        "  return train_loss_\n",
        "\n",
        "def valid_step(model, criterion, dataloader, mean_std, device, mb_coeff = 0):\n",
        "  '''\n",
        "  One validation epoch\n",
        "  '''\n",
        "  valid_loss_ = 0.0\n",
        "  model.eval()     # Optional when not using Model Specific layer\n",
        "  for input, target in dataloader:\n",
        "    # Transfer Data to GPU if available\n",
        "    input, target = input.to(device), target.to(device)\n",
        "    #standardize\n",
        "    if mean_std:\n",
        "      input, _, _ = standardize(input, 0, mean_std[0], mean_std[1])\n",
        "      target, _, _ = standardize(target, 0, mean_std[2], mean_std[3])\n",
        "    # Forward Pass\n",
        "    predict = model(input.float())\n",
        "    # Find the Loss\n",
        "    if mb_coeff != 0:\n",
        "      #Material Balance\n",
        "      T_H_true, T_H_pred, T_O_true, T_O_pred = total_material(target, predict)\n",
        "      loss = criterion(predict,target.float()) + mb_coeff * criterion(T_H_pred, T_H_true) + mb_coeff * criterion(T_O_pred, T_O_true)\n",
        "    else:\n",
        "      loss = criterion(predict,target.float())\n",
        "    # Calculate Loss\n",
        "    valid_loss_ += loss.item()\n",
        "  return valid_loss_"
      ]
    },
    {
      "cell_type": "code",
      "execution_count": null,
      "metadata": {
        "id": "pJCPrVDSIrOI"
      },
      "outputs": [],
      "source": [
        "def total_material(y_true, y_pred):\n",
        "  '''\n",
        "  Computes the total material (moles) of Hydrogen and Oxygen in product.\n",
        "  y_true: ground truth\n",
        "  y_pred: (model) prediction\n",
        "  '''\n",
        "  assert y_true.ndim == y_pred.ndim, f'Tensors are of different dimensions: {y_true.ndim} and {y_pred.ndim}'\n",
        "  assert y_true.shape == y_pred.shape, f'Shape of tensor are different: {y_true.shape} and {y_pred.shape}'\n",
        "  assert y_true.ndim < 4, f'Tensor dimension must be less than 4: {y_true.ndim}'\n",
        "\n",
        "  if y_true.ndim == 1:\n",
        "    T_H_true = 2*y_true[1] + y_true[2] + y_true[5]+ 2*y_true[6] + y_true[7]+ 2*y_true[8]\n",
        "    T_H_pred = 2*y_pred[1] + y_pred[2] + y_pred[5]+ 2*y_pred[6] + y_pred[7]+ 2*y_pred[8]\n",
        "    T_O_true = y_true[3] + 2*y_true[4] + y_true[5]+ y_true[6] + 2*y_true[7]+ 2*y_true[8]\n",
        "    T_O_pred = y_pred[3] + 2*y_pred[4] + y_pred[5]+ y_pred[6] + 2*y_pred[7]+ 2*y_pred[8]\n",
        "\n",
        "  elif y_true.ndim == 2:\n",
        "    T_H_true = 2*y_true[:,1] + y_true[:,2] + y_true[:,5]+ 2*y_true[:,6] + y_true[:,7]+ 2*y_true[:,8]\n",
        "    T_H_pred = 2*y_pred[:,1] + y_pred[:,2] + y_pred[:,5]+ 2*y_pred[:,6] + y_pred[:,7]+ 2*y_pred[:,8]\n",
        "    T_O_true = y_true[:,3] + 2*y_true[:,4] + y_true[:,5]+ y_true[:,6] + 2*y_true[:,7]+ 2*y_true[:,8]\n",
        "    T_O_pred = y_pred[:,3] + 2*y_pred[:,4] + y_pred[:,5]+ y_pred[:,6] + 2*y_pred[:,7]+ 2*y_pred[:,8]\n",
        "  \n",
        "  elif y_true.ndim == 3:\n",
        "    T_H_true = 2*y_true[:,:,1] + y_true[:,:,2] + y_true[:,:,5]+ 2*y_true[:,:,6] + y_true[:,:,7]+ 2*y_true[:,:,8]\n",
        "    T_H_pred = 2*y_pred[:,:,1] + y_pred[:,:,2] + y_pred[:,:,5]+ 2*y_pred[:,:,6] + y_pred[:,:,7]+ 2*y_pred[:,:,8]\n",
        "    T_O_true = y_true[:,:,3] + 2*y_true[:,:,4] + y_true[:,:,5]+ y_true[:,:,6] + 2*y_true[:,:,7]+ 2*y_true[:,:,8]\n",
        "    T_O_pred = y_pred[:,:,3] + 2*y_pred[:,:,4] + y_pred[:,:,5]+ y_pred[:,:,6] + 2*y_pred[:,:,7]+ 2*y_pred[:,:,8]\n",
        "  \n",
        "  return T_H_true, T_H_pred, T_O_true, T_O_pred\n"
      ]
    },
    {
      "cell_type": "code",
      "execution_count": null,
      "metadata": {
        "id": "KDFbtxNO40wP"
      },
      "outputs": [],
      "source": [
        "###Networks\n",
        "#single step\n",
        "class RNN_Model(nn.Module):\n",
        "    def __init__(self, config):\n",
        "        super(RNN_Model, self).__init__()\n",
        "        self.input_size = config.input_size\n",
        "        self.hidden_size = config.hidden_size\n",
        "        self.output_size = config.output_size\n",
        "        self.num_layers = config.num_layers\n",
        "        self.rnn = nn.RNN(self.input_size, self.hidden_size, self.num_layers, dropout = 0.1, batch_first = True)\n",
        "        self.linear = nn.Linear(self.hidden_size, self.output_size)\n",
        "        \n",
        "    def forward(self, x):\n",
        "        out, _ = self.rnn(x)\n",
        "        out = self.linear(out)\n",
        "        return out\n",
        "    \n",
        "def init_weights(m):\n",
        "    if type(m) == nn.Linear:\n",
        "        nn.init.kaiming_uniform_(m.weight, nonlinearity= 'relu')\n",
        "        m.bias.data.fill_(0.0)\n",
        "\n",
        "###multiple time steps\n",
        "#one to many RNN architechture\n",
        "class Base_RNN(nn.Module):\n",
        "    def __init__(self, input_size, hidden_size, num_layers):\n",
        "        super(Base_RNN, self).__init__()\n",
        "        self.input_size = input_size\n",
        "        self.hidden_size = hidden_size\n",
        "        self.num_layers = num_layers\n",
        "        self.rnn = nn.RNN(self.input_size, self.hidden_size, self.num_layers, dropout = 0.1, batch_first = True)\n",
        "        self.linear = nn.Linear(self.hidden_size, self.input_size)\n",
        "        \n",
        "    def forward(self, x, in_hidden = None):\n",
        "        if in_hidden == None:\n",
        "            out, out_hidden = self.rnn(x)\n",
        "        else:\n",
        "            out, out_hidden = self.rnn(x, in_hidden)\n",
        "        out = self.linear(out)\n",
        "        return out, out_hidden\n",
        "\n",
        "class RNN_Model_Multiple(nn.Module):\n",
        "    def __init__(self, config):\n",
        "        super(RNN_Model_Multiple, self).__init__()\n",
        "        self.input_size = config.input_size\n",
        "        self.hidden_size = config.hidden_size\n",
        "        self.output_size = config.output_size\n",
        "        self.num_layers = config.num_layers\n",
        "        self.ntimesteps = config.ntimesteps\n",
        "        self.base_rnn = Base_RNN(self.input_size, self.hidden_size, self.num_layers)\n",
        "        self.relu = nn.ReLU()\n",
        "        self.linear = nn.Linear(self.input_size, self.output_size)\n",
        "        \n",
        "    def forward(self, x):\n",
        "        out = x\n",
        "        hidden = None\n",
        "        \n",
        "        #to store outputs\n",
        "        outputs = []\n",
        "        \n",
        "        for t in range(self.ntimesteps):                \n",
        "            #pass to rnn\n",
        "            out, hidden = self.base_rnn(out, hidden)\n",
        "            #pass to output layer\n",
        "            outputs.append(self.linear(self.relu(out)))\n",
        "            #skip connection\n",
        "            out += x\n",
        "\n",
        "        return torch.concat(outputs, 1)\n",
        "\n",
        "#one to many RNN architechture\n",
        "class Base_RNN_v2(nn.Module):\n",
        "    def __init__(self, output_size, hidden_size, num_layers):\n",
        "        super(Base_RNN_v2, self).__init__()\n",
        "        self.hidden_size = hidden_size\n",
        "        self.output_size = output_size\n",
        "        self.num_layers = num_layers\n",
        "        self.rnn = nn.RNN(self.output_size, self.hidden_size, self.num_layers, dropout = 0.1, batch_first = True)\n",
        "        self.linear = nn.Linear(self.hidden_size, self.output_size)\n",
        "\n",
        "    def forward(self, x, in_hidden = None):\n",
        "        if in_hidden == None:\n",
        "            out, out_hidden = self.rnn(x)\n",
        "        else:\n",
        "            out, out_hidden = self.rnn(x, in_hidden)\n",
        "        out = self.linear(out)\n",
        "        return out, out_hidden\n",
        "\n",
        "class RNN_Model_Multiple_v2(nn.Module):\n",
        "    def __init__(self, config):\n",
        "        super(RNN_Model_Multiple_v2, self).__init__()\n",
        "        self.input_size = config.input_size\n",
        "        self.hidden_size = config.hidden_size\n",
        "        self.output_size = config.output_size\n",
        "        self.num_layers = config.num_layers\n",
        "        self.ntimesteps = config.ntimesteps\n",
        "        self.base_rnn = Base_RNN_v2(self.output_size, self.hidden_size, self.num_layers)\n",
        "        self.relu = nn.ReLU()\n",
        "        self.linear = nn.Linear(self.input_size, self.output_size)\n",
        "\n",
        "    def forward(self, x):\n",
        "        #pass to first layer and activation\n",
        "        x = self.relu(self.linear(x))\n",
        "\n",
        "        #to store outputs\n",
        "        outputs = []\n",
        "\n",
        "        #set inputs to first RNN layer\n",
        "        out = x\n",
        "        hidden = None\n",
        "\n",
        "        #loop through rnn layers\n",
        "        for t in range(self.ntimesteps):                \n",
        "            #pass to rnn\n",
        "            out, hidden = self.base_rnn(out, hidden)\n",
        "            #pass to output layer\n",
        "            outputs.append(out)\n",
        "            #skip connection\n",
        "            out += x\n",
        "\n",
        "        return torch.concat(outputs, 1)"
      ]
    },
    {
      "cell_type": "code",
      "execution_count": null,
      "metadata": {
        "id": "8t5KrR8hEVJi"
      },
      "outputs": [],
      "source": [
        "def make_dataloaders(config):\n",
        "    '''\n",
        "    batch_size: int = batch size\n",
        "    ntimesteps: int or list = number/list of time steps in data\n",
        "    nsample: int = number of samples to use\n",
        "    split: list = list of train set to data ration and train+valid set to data ratio\n",
        "    '''\n",
        "    #initialize dataset object\n",
        "    dataset = OxidationDataset(inputs_path = 'input_98660.npy',\n",
        "                               outputs_dir = './Out_files_npy',\n",
        "                               nsample = config.nsample,\n",
        "                               ntimesteps = config.timesteps,\n",
        "                               exclude_h2_o2 = config.exclude,\n",
        "                               return_conc= config.return_conc)\n",
        "    # Creating Training, Validation, and Test dataloaders\n",
        "    # split Train : Val : Test = 0.7 : 0.2 : 0.1\n",
        "    dataset_size = len(dataset)\n",
        "    indices = list(range(dataset_size))\n",
        "    train_split = int(np.floor(config.split[0] * dataset_size))\n",
        "    val_split = int(np.floor(config.split[1] * dataset_size))\n",
        "    shuffle_dataset = True\n",
        "    random_seed = 42\n",
        "    if shuffle_dataset :\n",
        "        np.random.seed(random_seed)\n",
        "        np.random.shuffle(indices)\n",
        "    train_indices = indices[ : train_split]\n",
        "    val_indices = indices[train_split : train_split + val_split]\n",
        "    test_indices = indices[train_split + val_split : ]\n",
        "\n",
        "    # Creating PT data samplers and loaders:\n",
        "    train_sampler = SubsetRandomSampler(train_indices)\n",
        "    valid_sampler = SubsetRandomSampler(val_indices)\n",
        "    test_sampler = SubsetRandomSampler(test_indices)\n",
        "\n",
        "    train_loader = DataLoader(dataset, batch_size = config.batch_size, sampler=train_sampler)\n",
        "    validation_loader = DataLoader(dataset, batch_size = config.batch_size, sampler=valid_sampler)\n",
        "    test_loader = DataLoader(dataset, batch_size = config.batch_size, sampler=test_sampler)\n",
        "    \n",
        "    return train_loader, validation_loader, test_loader\n",
        "\n",
        "def to_device(model, train_x_mean, train_x_std, train_y_mean, train_y_std):\n",
        "  if torch.cuda.is_available():\n",
        "    model = model.cuda()\n",
        "    train_x_mean = train_x_mean.cuda()\n",
        "    train_x_std = train_x_std.cuda()\n",
        "    train_y_mean = train_y_mean.cuda()\n",
        "    train_y_std = train_y_std.cuda()"
      ]
    },
    {
      "cell_type": "code",
      "execution_count": null,
      "metadata": {
        "id": "4pJsQiLArxzk"
      },
      "outputs": [],
      "source": [
        "def training(model, train_loader, val_loader, config, criterion, mean_std, device):\n",
        "  '''\n",
        "  model:: Neural network\n",
        "  epoch:: \n",
        "  optimizer:: optimization algorithm. Default Adam\n",
        "  learning rate:: \n",
        "  dict_path:: path to save best model's state_dict\n",
        "  criterion:: loss function. Default = nn.MSELoss()\n",
        "  scheduler:: schedule learning rate. Default = False\n",
        "  mb_coeff :: Weight for material balance inclusion. Default = 0\n",
        "  '''\n",
        "  min_valid_loss = np.inf\n",
        "\n",
        "  if config.optimizer == 'Adam':\n",
        "    optimizer = torch.optim.Adam(model.parameters(), lr = config.lr, betas = (config.beta1, config.beta2))\n",
        "  elif config.optimizer == 'SGD':\n",
        "    optimizer = torch.optim.SGD(model.parameters(), lr = config.lr, momentum= config.SGD_momentum)\n",
        "  else:\n",
        "    raise ValueError(f\"Unknown optimizer ({config.optimizer})\")\n",
        "\n",
        "  scheduler = torch.optim.lr_scheduler.StepLR(optimizer, step_size=50, gamma=0.1)\n",
        "  no_save = 0 #for early stopping\n",
        "\n",
        "  for e in range(config.epochs):\n",
        "    train_loss_ = train_step(model, optimizer, criterion, train_loader, mean_std, device, config.mb_coeff)\n",
        "    valid_loss_ = valid_step(model, criterion, val_loader, mean_std, device, config.mb_coeff)\n",
        "\n",
        "    wandb.log({\"train_loss\": train_loss_/len(train_loader),\n",
        "               \"val_loss\": valid_loss_/len(val_loader)},\n",
        "               \"learning_rate\": optimizer.param_groups[0]['lr']})\n",
        "\n",
        "    if config.scheduling:\n",
        "      scheduler.step()\n",
        "\n",
        "    if min_valid_loss > valid_loss_:\n",
        "        min_valid_loss = valid_loss_\n",
        "\n",
        "        no_save = 0 #reset counter\n",
        "    else:\n",
        "      no_save += 1\n",
        "\n",
        "    # Early stopping\n",
        "    if no_save >= 200:\n",
        "      # print('Early stopping, no local minimum reach since last 200 epoches')\n",
        "      break\n",
        "\n",
        "  return e, min_valid_loss"
      ]
    },
    {
      "cell_type": "markdown",
      "metadata": {
        "id": "RKPa7CPLvjHI"
      },
      "source": [
        "# Model Optimization"
      ]
    },
    {
      "cell_type": "code",
      "execution_count": null,
      "metadata": {
        "colab": {
          "base_uri": "https://localhost:8080/"
        },
        "id": "NOE7vQpX-WR3",
        "outputId": "35e7c292-2701-4087-903b-745cd5a54715"
      },
      "outputs": [
        {
          "data": {
            "text/plain": [
              "{'name': 'Accelerating Hydrogen Oxidation Calculations (Concentration inputs, transformed data)',\n",
              " 'description': 'Model Optimization for Adam Optimizer',\n",
              " 'method': 'random',\n",
              " 'metric': {'name': 'loss', 'goal': 'minimize'}}"
            ]
          },
          "execution_count": 14,
          "metadata": {},
          "output_type": "execute_result"
        }
      ],
      "source": [
        "#Define the sweep\n",
        "sweep_config = {\n",
        "    'name': 'Accelerating Hydrogen Oxidation Calculations (Concentration inputs, transformed data)',\n",
        "    'description': 'Model Optimization for Adam Optimizer',\n",
        "    'method': 'random', #how sweep controller select hyperparameter\n",
        "    'metric': {'name': 'loss',\n",
        "               'goal': 'minimize'}\n",
        "                }\n",
        "sweep_config"
      ]
    },
    {
      "cell_type": "code",
      "execution_count": null,
      "metadata": {
        "id": "77mYRM_uv48S"
      },
      "outputs": [],
      "source": [
        "param_dict = {\n",
        "    'batch_size': {\n",
        "        'values': [8, 16, 32, 64]\n",
        "        },\n",
        "    'timesteps': {\n",
        "        'value': 'all'\n",
        "        },\n",
        "    'nsample': {\n",
        "        'value': 1500\n",
        "        },\n",
        "    'hidden_size': {\n",
        "        'values': [20, 40, 60, 80, 100]\n",
        "        },\n",
        "    'num_layers': {\n",
        "        'values': [2, 3, 4]\n",
        "        },\n",
        "    'ntimesteps': {\n",
        "        'value': 200\n",
        "        },\n",
        "    'epochs': {\n",
        "        'value': 1000\n",
        "        },\n",
        "    'optimizer': {\n",
        "        'value': 'Adam'\n",
        "        },\n",
        "    'lr': {\n",
        "      'values': [5e-2, 1e-2, 5e-3, 1e-3, 5e-4, 1e-4]\n",
        "        },\n",
        "    'beta1': {\n",
        "        'values': [0.85, 0.9, 0.95]\n",
        "        },\n",
        "    'beta2': {\n",
        "        'values': [0.9, 0.95, 0.99]\n",
        "        },\n",
        "    'mb_coeff': {\n",
        "        'value': 0\n",
        "        },\n",
        "    'scheduling': {\n",
        "        'values': [True, False]\n",
        "       },\n",
        "    'model': {\n",
        "        'values': ['v1', 'v2']\n",
        "    },\n",
        "    'split': {\n",
        "        'value': [0.7, 0.2, 0.1]\n",
        "    },\n",
        "    'dict_path':{\n",
        "        'value': './Models/rnn_ConcInputs_WANDB_transdata.pth'\n",
        "    },\n",
        "    'exclude': {\n",
        "        'value': False\n",
        "    },\n",
        "    'mean_std_path': {\n",
        "        'value': 'rnn_ConcInputs_mean_std.json'\n",
        "    },\n",
        "    'input_size':{\n",
        "        'value': 10\n",
        "    },\n",
        "    'output_size':{\n",
        "        'value': 9\n",
        "    },\n",
        "    'return_conc': {\n",
        "        'value': True\n",
        "    }\n",
        "    }\n",
        "\n",
        "sweep_config['parameters'] = param_dict"
      ]
    },
    {
      "cell_type": "code",
      "execution_count": null,
      "metadata": {
        "colab": {
          "base_uri": "https://localhost:8080/"
        },
        "id": "082S9eNN7Map",
        "outputId": "3aecd4ac-5590-4e35-a4d3-b096c4e02dd6"
      },
      "outputs": [
        {
          "data": {
            "text/plain": [
              "{'name': 'Accelerating Hydrogen Oxidation Calculations (Concentration inputs, transformed data)',\n",
              " 'description': 'Model Optimization for Adam Optimizer',\n",
              " 'method': 'random',\n",
              " 'metric': {'name': 'loss', 'goal': 'minimize'},\n",
              " 'parameters': {'batch_size': {'values': [8, 16, 32, 64]},\n",
              "  'timesteps': {'value': 'all'},\n",
              "  'nsample': {'value': 1500},\n",
              "  'hidden_size': {'values': [20, 40, 60, 80, 100]},\n",
              "  'num_layers': {'values': [2, 3, 4]},\n",
              "  'ntimesteps': {'value': 200},\n",
              "  'epochs': {'value': 1000},\n",
              "  'optimizer': {'value': 'Adam'},\n",
              "  'lr': {'values': [0.05, 0.01, 0.005, 0.001, 0.0005, 0.0001]},\n",
              "  'beta1': {'values': [0.85, 0.9, 0.95]},\n",
              "  'beta2': {'values': [0.9, 0.95, 0.99]},\n",
              "  'mb_coeff': {'value': 0},\n",
              "  'scheduling': {'values': [True, False]},\n",
              "  'model': {'values': ['v1', 'v2']},\n",
              "  'split': {'value': [0.7, 0.2, 0.1]},\n",
              "  'dict_path': {'value': './Models/rnn_ConcInputs_WANDB_transdata.pth'},\n",
              "  'exclude': {'value': False},\n",
              "  'mean_std_path': {'value': 'rnn_ConcInputs_mean_std.json'},\n",
              "  'input_size': {'value': 10},\n",
              "  'output_size': {'value': 9},\n",
              "  'return_conc': {'value': True}}}"
            ]
          },
          "execution_count": 16,
          "metadata": {},
          "output_type": "execute_result"
        }
      ],
      "source": [
        "sweep_config"
      ]
    },
    {
      "cell_type": "code",
      "execution_count": null,
      "metadata": {
        "colab": {
          "base_uri": "https://localhost:8080/"
        },
        "id": "uFVzZZMq7OCu",
        "outputId": "f0adab1e-a2f8-4f5a-d803-3e4fc542a694"
      },
      "outputs": [
        {
          "name": "stdout",
          "output_type": "stream",
          "text": [
            "Create sweep with ID: 0ctyj8nd\n",
            "Sweep URL: https://wandb.ai/data-bigwig/Hydrogen-Oxidation-Models-Optimization/sweeps/0ctyj8nd\n"
          ]
        }
      ],
      "source": [
        "# Initialize Sweep\n",
        "sweep_id = wandb.sweep(sweep_config, project=\"Hydrogen-Oxidation-Models-Optimization\")"
      ]
    },
    {
      "cell_type": "code",
      "execution_count": null,
      "metadata": {
        "id": "tnnFILnZ85RP"
      },
      "outputs": [],
      "source": [
        "def train_model(config = None):\n",
        "  # tell wandb to get started\n",
        "  with wandb.init(config=config):\n",
        "  # access all HPs through wandb.config, so logging matches execution!\n",
        "    config = wandb.config\n",
        "\n",
        "    device = torch.device(\"cuda\" if torch.cuda.is_available() else \"cpu\")\n",
        "\n",
        "    #Get data\n",
        "    train_loader, val_loader, test_loader = make_dataloaders(config)\n",
        "    #obtaining mean and std of training set\n",
        "    train_x_mean, train_x_std, train_y_mean, train_y_std = load_mean_std(config.mean_std_path, train_loader)\n",
        "    #initialize model\n",
        "    if config.model == 'v1':\n",
        "      model = RNN_Model_Multiple(config)\n",
        "    elif config.model == 'v2':\n",
        "      model = RNN_Model_Multiple_v2(config)\n",
        "\n",
        "    #training\n",
        "    model = model.to(device)\n",
        "    mean_std = [train_x_mean.to(device), train_x_std.to(device), train_y_mean.to(device), train_y_std.to(device)]\n",
        "    criterion  = nn.MSELoss()\n",
        "    epochs, val_loss = training(model, train_loader, val_loader, config, criterion, mean_std, device)\n",
        "    wandb.log({'loss': val_loss})\n",
        "    wandb.log({'num_epochs': epochs})\n",
        "\n",
        "    #saving best model from sweep\n",
        "    sweep_min_loss = wandb.Api().sweep(f'data-bigwig/Hydrogen-Oxidation-Models-Optimization/sweeps/{sweep_id}').best_run().summary_metrics['loss']\n",
        "    if val_loss <= sweep_min_loss:\n",
        "      # Saving State Dict\n",
        "      if config.dict_path != None:\n",
        "        torch.save(model.state_dict(), config.dict_path)\n",
        "        print('Model saving...')"
      ]
    },
    {
      "cell_type": "code",
      "execution_count": null,
      "metadata": {
        "colab": {
          "base_uri": "https://localhost:8080/",
          "height": 1000,
          "referenced_widgets": [
            "b76e7e440c11403e9b3760a82f1f1dc6",
            "391320c8e046423db0bc0f759037f1ab",
            "933308f0f55f4e7c8cb064cf6308ec67",
            "a0bd0709807f445bb71c19b72b848989",
            "f8cac2374e8749b0b8c5f22eae112bb2",
            "be81b9aa9e704bd7b89b7a8ccaf5b127",
            "a6f4c5436ef24f1c94ac0af48023f8b1",
            "1d60c7c29d914ff79fc9c7dca9cad79b",
            "e7f9235ffdc4470aa5aaaa82e73a1a0b",
            "3322bb20da56400ca2f7f858e3244418",
            "483b8078238943a7834d6a0542b39bd4",
            "5fe65dc65cdc42a0b20ccd3f47fb10b2",
            "6ef299b95d794588b9b491f01cae4551",
            "b09683343bbc4118a907c0bbc7c8162f",
            "9e03cbb8bb7347a695b0cf778f6095e4",
            "d54df6c053b44a728ba59e26b22fcd7a"
          ]
        },
        "id": "x4ceo-ErIF_X",
        "outputId": "7f80235f-f8ff-4f9f-b147-be048657e32b"
      },
      "outputs": [
        {
          "metadata": {
            "tags": null
          },
          "name": "stderr",
          "output_type": "stream",
          "text": [
            "\u001b[34m\u001b[1mwandb\u001b[0m: Agent Starting Run: f20met3j with config:\n",
            "\u001b[34m\u001b[1mwandb\u001b[0m: \tbatch_size: 32\n",
            "\u001b[34m\u001b[1mwandb\u001b[0m: \tbeta1: 0.95\n",
            "\u001b[34m\u001b[1mwandb\u001b[0m: \tbeta2: 0.9\n",
            "\u001b[34m\u001b[1mwandb\u001b[0m: \tdict_path: ./Models/rnn_ConcInputs_WANDB_transdata.pth\n",
            "\u001b[34m\u001b[1mwandb\u001b[0m: \tepochs: 1000\n",
            "\u001b[34m\u001b[1mwandb\u001b[0m: \texclude: False\n",
            "\u001b[34m\u001b[1mwandb\u001b[0m: \thidden_size: 40\n",
            "\u001b[34m\u001b[1mwandb\u001b[0m: \tinput_size: 10\n",
            "\u001b[34m\u001b[1mwandb\u001b[0m: \tlr: 0.05\n",
            "\u001b[34m\u001b[1mwandb\u001b[0m: \tmb_coeff: 0\n",
            "\u001b[34m\u001b[1mwandb\u001b[0m: \tmean_std_path: rnn_ConcInputs_mean_std.json\n",
            "\u001b[34m\u001b[1mwandb\u001b[0m: \tmodel: v2\n",
            "\u001b[34m\u001b[1mwandb\u001b[0m: \tnsample: 1500\n",
            "\u001b[34m\u001b[1mwandb\u001b[0m: \tntimesteps: 200\n",
            "\u001b[34m\u001b[1mwandb\u001b[0m: \tnum_layers: 4\n",
            "\u001b[34m\u001b[1mwandb\u001b[0m: \toptimizer: Adam\n",
            "\u001b[34m\u001b[1mwandb\u001b[0m: \toutput_size: 9\n",
            "\u001b[34m\u001b[1mwandb\u001b[0m: \treturn_conc: True\n",
            "\u001b[34m\u001b[1mwandb\u001b[0m: \tscheduling: True\n",
            "\u001b[34m\u001b[1mwandb\u001b[0m: \tsplit: [0.7, 0.2, 0.1]\n",
            "\u001b[34m\u001b[1mwandb\u001b[0m: \ttimesteps: all\n",
            "ERROR:wandb.jupyter:Failed to detect the name of this notebook, you can set it manually with the WANDB_NOTEBOOK_NAME environment variable to enable code saving.\n"
          ]
        },
        {
          "data": {
            "text/html": [
              "Tracking run with wandb version 0.13.3"
            ],
            "text/plain": [
              "<IPython.core.display.HTML object>"
            ]
          },
          "metadata": {},
          "output_type": "display_data"
        },
        {
          "data": {
            "text/html": [
              "Run data is saved locally in <code>/content/drive/MyDrive/Skoltech/Research/Hydrogen Oxidation/wandb/run-20220921_115226-f20met3j</code>"
            ],
            "text/plain": [
              "<IPython.core.display.HTML object>"
            ]
          },
          "metadata": {},
          "output_type": "display_data"
        },
        {
          "data": {
            "text/html": [
              "Syncing run <strong><a href=\"https://wandb.ai/data-bigwig/Hydrogen-Oxidation-Models-Optimization/runs/f20met3j\" target=\"_blank\">morning-sweep-1</a></strong> to <a href=\"https://wandb.ai/data-bigwig/Hydrogen-Oxidation-Models-Optimization\" target=\"_blank\">Weights & Biases</a> (<a href=\"https://wandb.me/run\" target=\"_blank\">docs</a>)<br/>Sweep page:  <a href=\"https://wandb.ai/data-bigwig/Hydrogen-Oxidation-Models-Optimization/sweeps/0ctyj8nd\" target=\"_blank\">https://wandb.ai/data-bigwig/Hydrogen-Oxidation-Models-Optimization/sweeps/0ctyj8nd</a>"
            ],
            "text/plain": [
              "<IPython.core.display.HTML object>"
            ]
          },
          "metadata": {},
          "output_type": "display_data"
        },
        {
          "metadata": {
            "tags": null
          },
          "name": "stderr",
          "output_type": "stream",
          "text": [
            "\u001b[34m\u001b[1mwandb\u001b[0m: Sorting runs by +summary_metrics.loss\n"
          ]
        },
        {
          "metadata": {
            "tags": null
          },
          "name": "stdout",
          "output_type": "stream",
          "text": [
            "Early stopping, no local minimum reach since last 200 epoches\n"
          ]
        },
        {
          "data": {
            "text/html": [
              "Waiting for W&B process to finish... <strong style=\"color:red\">(failed 1).</strong> Press Control-C to abort syncing."
            ],
            "text/plain": [
              "<IPython.core.display.HTML object>"
            ]
          },
          "metadata": {},
          "output_type": "display_data"
        },
        {
          "data": {
            "application/vnd.jupyter.widget-view+json": {
              "model_id": "b76e7e440c11403e9b3760a82f1f1dc6",
              "version_major": 2,
              "version_minor": 0
            },
            "text/plain": [
              "VBox(children=(Label(value='0.000 MB of 0.000 MB uploaded (0.000 MB deduped)\\r'), FloatProgress(value=1.0, max…"
            ]
          },
          "metadata": {},
          "output_type": "display_data"
        },
        {
          "data": {
            "text/html": [
              "<style>\n",
              "    table.wandb td:nth-child(1) { padding: 0 10px; text-align: left ; width: auto;} td:nth-child(2) {text-align: left ; width: 100%}\n",
              "    .wandb-row { display: flex; flex-direction: row; flex-wrap: wrap; justify-content: flex-start; width: 100% }\n",
              "    .wandb-col { display: flex; flex-direction: column; flex-basis: 100%; flex: 1; padding: 10px; }\n",
              "    </style>\n",
              "<div class=\"wandb-row\"><div class=\"wandb-col\"><h3>Run history:</h3><br/><table class=\"wandb\"><tr><td>loss</td><td>▁</td></tr><tr><td>num_epochs</td><td>▁</td></tr><tr><td>train_loss</td><td>█▃▂▂▃▁▁▁▁▁▁▁▁▁▁▁▁▁▁▁▁▁▁▁▁▁▁▁▁▁▁▁▁▁▁▁▁▁▁▁</td></tr><tr><td>val_loss</td><td>█▃▃▄▃▁▁▁▂▁▁▁▁▁▁▁▁▁▁▁▁▁▁▁▁▁▁▁▁▁▁▁▁▁▁▁▁▁▁▁</td></tr></table><br/></div><div class=\"wandb-col\"><h3>Run summary:</h3><br/><table class=\"wandb\"><tr><td>loss</td><td>0.54341</td></tr><tr><td>num_epochs</td><td>444</td></tr><tr><td>train_loss</td><td>0.05099</td></tr><tr><td>val_loss</td><td>0.05579</td></tr></table><br/></div></div>"
            ],
            "text/plain": [
              "<IPython.core.display.HTML object>"
            ]
          },
          "metadata": {},
          "output_type": "display_data"
        },
        {
          "data": {
            "text/html": [
              "Synced <strong style=\"color:#cdcd00\">morning-sweep-1</strong>: <a href=\"https://wandb.ai/data-bigwig/Hydrogen-Oxidation-Models-Optimization/runs/f20met3j\" target=\"_blank\">https://wandb.ai/data-bigwig/Hydrogen-Oxidation-Models-Optimization/runs/f20met3j</a><br/>Synced 5 W&B file(s), 0 media file(s), 0 artifact file(s) and 0 other file(s)"
            ],
            "text/plain": [
              "<IPython.core.display.HTML object>"
            ]
          },
          "metadata": {},
          "output_type": "display_data"
        },
        {
          "data": {
            "text/html": [
              "Find logs at: <code>./wandb/run-20220921_115226-f20met3j/logs</code>"
            ],
            "text/plain": [
              "<IPython.core.display.HTML object>"
            ]
          },
          "metadata": {},
          "output_type": "display_data"
        },
        {
          "metadata": {
            "tags": null
          },
          "name": "stderr",
          "output_type": "stream",
          "text": [
            "Run f20met3j errored: KeyError('loss')\n",
            "\u001b[34m\u001b[1mwandb\u001b[0m: \u001b[32m\u001b[41mERROR\u001b[0m Run f20met3j errored: KeyError('loss')\n",
            "\u001b[34m\u001b[1mwandb\u001b[0m: Agent Starting Run: sc1s6zj2 with config:\n",
            "\u001b[34m\u001b[1mwandb\u001b[0m: \tbatch_size: 8\n",
            "\u001b[34m\u001b[1mwandb\u001b[0m: \tbeta1: 0.85\n",
            "\u001b[34m\u001b[1mwandb\u001b[0m: \tbeta2: 0.9\n",
            "\u001b[34m\u001b[1mwandb\u001b[0m: \tdict_path: ./Models/rnn_ConcInputs_WANDB_transdata.pth\n",
            "\u001b[34m\u001b[1mwandb\u001b[0m: \tepochs: 1000\n",
            "\u001b[34m\u001b[1mwandb\u001b[0m: \texclude: False\n",
            "\u001b[34m\u001b[1mwandb\u001b[0m: \thidden_size: 80\n",
            "\u001b[34m\u001b[1mwandb\u001b[0m: \tinput_size: 10\n",
            "\u001b[34m\u001b[1mwandb\u001b[0m: \tlr: 0.01\n",
            "\u001b[34m\u001b[1mwandb\u001b[0m: \tmb_coeff: 0\n",
            "\u001b[34m\u001b[1mwandb\u001b[0m: \tmean_std_path: rnn_ConcInputs_mean_std.json\n",
            "\u001b[34m\u001b[1mwandb\u001b[0m: \tmodel: v2\n",
            "\u001b[34m\u001b[1mwandb\u001b[0m: \tnsample: 1500\n",
            "\u001b[34m\u001b[1mwandb\u001b[0m: \tntimesteps: 200\n",
            "\u001b[34m\u001b[1mwandb\u001b[0m: \tnum_layers: 2\n",
            "\u001b[34m\u001b[1mwandb\u001b[0m: \toptimizer: Adam\n",
            "\u001b[34m\u001b[1mwandb\u001b[0m: \toutput_size: 9\n",
            "\u001b[34m\u001b[1mwandb\u001b[0m: \treturn_conc: True\n",
            "\u001b[34m\u001b[1mwandb\u001b[0m: \tscheduling: False\n",
            "\u001b[34m\u001b[1mwandb\u001b[0m: \tsplit: [0.7, 0.2, 0.1]\n",
            "\u001b[34m\u001b[1mwandb\u001b[0m: \ttimesteps: all\n",
            "Failed to detect the name of this notebook, you can set it manually with the WANDB_NOTEBOOK_NAME environment variable to enable code saving.\n"
          ]
        },
        {
          "data": {
            "text/html": [
              "Tracking run with wandb version 0.13.3"
            ],
            "text/plain": [
              "<IPython.core.display.HTML object>"
            ]
          },
          "metadata": {},
          "output_type": "display_data"
        },
        {
          "data": {
            "text/html": [
              "Run data is saved locally in <code>/content/drive/MyDrive/Skoltech/Research/Hydrogen Oxidation/wandb/run-20220921_125624-sc1s6zj2</code>"
            ],
            "text/plain": [
              "<IPython.core.display.HTML object>"
            ]
          },
          "metadata": {},
          "output_type": "display_data"
        },
        {
          "data": {
            "text/html": [
              "Syncing run <strong><a href=\"https://wandb.ai/data-bigwig/Hydrogen-Oxidation-Models-Optimization/runs/sc1s6zj2\" target=\"_blank\">wise-sweep-4</a></strong> to <a href=\"https://wandb.ai/data-bigwig/Hydrogen-Oxidation-Models-Optimization\" target=\"_blank\">Weights & Biases</a> (<a href=\"https://wandb.me/run\" target=\"_blank\">docs</a>)<br/>Sweep page:  <a href=\"https://wandb.ai/data-bigwig/Hydrogen-Oxidation-Models-Optimization/sweeps/0ctyj8nd\" target=\"_blank\">https://wandb.ai/data-bigwig/Hydrogen-Oxidation-Models-Optimization/sweeps/0ctyj8nd</a>"
            ],
            "text/plain": [
              "<IPython.core.display.HTML object>"
            ]
          },
          "metadata": {},
          "output_type": "display_data"
        },
        {
          "metadata": {
            "tags": null
          },
          "name": "stderr",
          "output_type": "stream",
          "text": [
            "\u001b[34m\u001b[1mwandb\u001b[0m: Sorting runs by +summary_metrics.loss\n"
          ]
        },
        {
          "metadata": {
            "tags": null
          },
          "name": "stdout",
          "output_type": "stream",
          "text": [
            "Early stopping, no local minimum reach since last 200 epoches\n"
          ]
        },
        {
          "data": {
            "text/html": [
              "Waiting for W&B process to finish... <strong style=\"color:green\">(success).</strong>"
            ],
            "text/plain": [
              "<IPython.core.display.HTML object>"
            ]
          },
          "metadata": {},
          "output_type": "display_data"
        },
        {
          "data": {
            "application/vnd.jupyter.widget-view+json": {
              "model_id": "e7f9235ffdc4470aa5aaaa82e73a1a0b",
              "version_major": 2,
              "version_minor": 0
            },
            "text/plain": [
              "VBox(children=(Label(value='0.000 MB of 0.000 MB uploaded (0.000 MB deduped)\\r'), FloatProgress(value=1.0, max…"
            ]
          },
          "metadata": {},
          "output_type": "display_data"
        },
        {
          "data": {
            "text/html": [
              "<style>\n",
              "    table.wandb td:nth-child(1) { padding: 0 10px; text-align: left ; width: auto;} td:nth-child(2) {text-align: left ; width: 100%}\n",
              "    .wandb-row { display: flex; flex-direction: row; flex-wrap: wrap; justify-content: flex-start; width: 100% }\n",
              "    .wandb-col { display: flex; flex-direction: column; flex-basis: 100%; flex: 1; padding: 10px; }\n",
              "    </style>\n",
              "<div class=\"wandb-row\"><div class=\"wandb-col\"><h3>Run history:</h3><br/><table class=\"wandb\"><tr><td>loss</td><td>▁</td></tr><tr><td>num_epochs</td><td>▁</td></tr><tr><td>train_loss</td><td>▁▁▁▁▆▁▁▁▁▁▁█▅███████████████████████████</td></tr><tr><td>val_loss</td><td>▁▁▁▁▆▁▁▁▁▂▁▇████████████████████████████</td></tr></table><br/></div><div class=\"wandb-col\"><h3>Run summary:</h3><br/><table class=\"wandb\"><tr><td>loss</td><td>1.49399</td></tr><tr><td>num_epochs</td><td>209</td></tr><tr><td>train_loss</td><td>11.49122</td></tr><tr><td>val_loss</td><td>11.93375</td></tr></table><br/></div></div>"
            ],
            "text/plain": [
              "<IPython.core.display.HTML object>"
            ]
          },
          "metadata": {},
          "output_type": "display_data"
        },
        {
          "data": {
            "text/html": [
              "Synced <strong style=\"color:#cdcd00\">wise-sweep-4</strong>: <a href=\"https://wandb.ai/data-bigwig/Hydrogen-Oxidation-Models-Optimization/runs/sc1s6zj2\" target=\"_blank\">https://wandb.ai/data-bigwig/Hydrogen-Oxidation-Models-Optimization/runs/sc1s6zj2</a><br/>Synced 5 W&B file(s), 0 media file(s), 0 artifact file(s) and 0 other file(s)"
            ],
            "text/plain": [
              "<IPython.core.display.HTML object>"
            ]
          },
          "metadata": {},
          "output_type": "display_data"
        },
        {
          "data": {
            "text/html": [
              "Find logs at: <code>./wandb/run-20220921_125624-sc1s6zj2/logs</code>"
            ],
            "text/plain": [
              "<IPython.core.display.HTML object>"
            ]
          },
          "metadata": {},
          "output_type": "display_data"
        },
        {
          "metadata": {
            "tags": null
          },
          "name": "stderr",
          "output_type": "stream",
          "text": [
            "\u001b[34m\u001b[1mwandb\u001b[0m: Agent Starting Run: idz4cj6j with config:\n",
            "\u001b[34m\u001b[1mwandb\u001b[0m: \tbatch_size: 16\n",
            "\u001b[34m\u001b[1mwandb\u001b[0m: \tbeta1: 0.95\n",
            "\u001b[34m\u001b[1mwandb\u001b[0m: \tbeta2: 0.99\n",
            "\u001b[34m\u001b[1mwandb\u001b[0m: \tdict_path: ./Models/rnn_ConcInputs_WANDB_transdata.pth\n",
            "\u001b[34m\u001b[1mwandb\u001b[0m: \tepochs: 1000\n",
            "\u001b[34m\u001b[1mwandb\u001b[0m: \texclude: False\n",
            "\u001b[34m\u001b[1mwandb\u001b[0m: \thidden_size: 60\n",
            "\u001b[34m\u001b[1mwandb\u001b[0m: \tinput_size: 10\n",
            "\u001b[34m\u001b[1mwandb\u001b[0m: \tlr: 0.001\n",
            "\u001b[34m\u001b[1mwandb\u001b[0m: \tmb_coeff: 0\n",
            "\u001b[34m\u001b[1mwandb\u001b[0m: \tmean_std_path: rnn_ConcInputs_mean_std.json\n",
            "\u001b[34m\u001b[1mwandb\u001b[0m: \tmodel: v1\n",
            "\u001b[34m\u001b[1mwandb\u001b[0m: \tnsample: 1500\n",
            "\u001b[34m\u001b[1mwandb\u001b[0m: \tntimesteps: 200\n",
            "\u001b[34m\u001b[1mwandb\u001b[0m: \tnum_layers: 4\n",
            "\u001b[34m\u001b[1mwandb\u001b[0m: \toptimizer: Adam\n",
            "\u001b[34m\u001b[1mwandb\u001b[0m: \toutput_size: 9\n",
            "\u001b[34m\u001b[1mwandb\u001b[0m: \treturn_conc: True\n",
            "\u001b[34m\u001b[1mwandb\u001b[0m: \tscheduling: False\n",
            "\u001b[34m\u001b[1mwandb\u001b[0m: \tsplit: [0.7, 0.2, 0.1]\n",
            "\u001b[34m\u001b[1mwandb\u001b[0m: \ttimesteps: all\n",
            "Failed to detect the name of this notebook, you can set it manually with the WANDB_NOTEBOOK_NAME environment variable to enable code saving.\n"
          ]
        },
        {
          "data": {
            "text/html": [
              "Tracking run with wandb version 0.13.3"
            ],
            "text/plain": [
              "<IPython.core.display.HTML object>"
            ]
          },
          "metadata": {},
          "output_type": "display_data"
        },
        {
          "data": {
            "text/html": [
              "Run data is saved locally in <code>/content/drive/MyDrive/Skoltech/Research/Hydrogen Oxidation/wandb/run-20220921_141912-idz4cj6j</code>"
            ],
            "text/plain": [
              "<IPython.core.display.HTML object>"
            ]
          },
          "metadata": {},
          "output_type": "display_data"
        },
        {
          "data": {
            "text/html": [
              "Syncing run <strong><a href=\"https://wandb.ai/data-bigwig/Hydrogen-Oxidation-Models-Optimization/runs/idz4cj6j\" target=\"_blank\">major-sweep-6</a></strong> to <a href=\"https://wandb.ai/data-bigwig/Hydrogen-Oxidation-Models-Optimization\" target=\"_blank\">Weights & Biases</a> (<a href=\"https://wandb.me/run\" target=\"_blank\">docs</a>)<br/>Sweep page:  <a href=\"https://wandb.ai/data-bigwig/Hydrogen-Oxidation-Models-Optimization/sweeps/0ctyj8nd\" target=\"_blank\">https://wandb.ai/data-bigwig/Hydrogen-Oxidation-Models-Optimization/sweeps/0ctyj8nd</a>"
            ],
            "text/plain": [
              "<IPython.core.display.HTML object>"
            ]
          },
          "metadata": {},
          "output_type": "display_data"
        }
      ],
      "source": [
        "wandb.agent(sweep_id, train_model, project=\"Hydrogen-Oxidation-Models-Optimization\", count=20)"
      ]
    },
    {
      "cell_type": "code",
      "execution_count": null,
      "metadata": {
        "id": "fU8CspH5u1lq"
      },
      "outputs": [],
      "source": []
    }
  ],
  "metadata": {
    "accelerator": "GPU",
    "colab": {
      "collapsed_sections": [],
      "provenance": [],
      "include_colab_link": true
    },
    "gpuClass": "standard",
    "kernelspec": {
      "display_name": "Python 3 (ipykernel)",
      "language": "python",
      "name": "python3"
    },
    "language_info": {
      "codemirror_mode": {
        "name": "ipython",
        "version": 3
      },
      "file_extension": ".py",
      "mimetype": "text/x-python",
      "name": "python",
      "nbconvert_exporter": "python",
      "pygments_lexer": "ipython3",
      "version": "3.8.13"
    },
    "widgets": {
      "application/vnd.jupyter.widget-state+json": {
        "1d60c7c29d914ff79fc9c7dca9cad79b": {
          "model_module": "@jupyter-widgets/controls",
          "model_module_version": "1.5.0",
          "model_name": "ProgressStyleModel",
          "state": {
            "_model_module": "@jupyter-widgets/controls",
            "_model_module_version": "1.5.0",
            "_model_name": "ProgressStyleModel",
            "_view_count": null,
            "_view_module": "@jupyter-widgets/base",
            "_view_module_version": "1.2.0",
            "_view_name": "StyleView",
            "bar_color": null,
            "description_width": ""
          }
        },
        "3322bb20da56400ca2f7f858e3244418": {
          "model_module": "@jupyter-widgets/controls",
          "model_module_version": "1.5.0",
          "model_name": "LabelModel",
          "state": {
            "_dom_classes": [],
            "_model_module": "@jupyter-widgets/controls",
            "_model_module_version": "1.5.0",
            "_model_name": "LabelModel",
            "_view_count": null,
            "_view_module": "@jupyter-widgets/controls",
            "_view_module_version": "1.5.0",
            "_view_name": "LabelView",
            "description": "",
            "description_tooltip": null,
            "layout": "IPY_MODEL_6ef299b95d794588b9b491f01cae4551",
            "placeholder": "​",
            "style": "IPY_MODEL_b09683343bbc4118a907c0bbc7c8162f",
            "value": "0.009 MB of 0.009 MB uploaded (0.000 MB deduped)\r"
          }
        },
        "391320c8e046423db0bc0f759037f1ab": {
          "model_module": "@jupyter-widgets/controls",
          "model_module_version": "1.5.0",
          "model_name": "LabelModel",
          "state": {
            "_dom_classes": [],
            "_model_module": "@jupyter-widgets/controls",
            "_model_module_version": "1.5.0",
            "_model_name": "LabelModel",
            "_view_count": null,
            "_view_module": "@jupyter-widgets/controls",
            "_view_module_version": "1.5.0",
            "_view_name": "LabelView",
            "description": "",
            "description_tooltip": null,
            "layout": "IPY_MODEL_f8cac2374e8749b0b8c5f22eae112bb2",
            "placeholder": "​",
            "style": "IPY_MODEL_be81b9aa9e704bd7b89b7a8ccaf5b127",
            "value": "0.009 MB of 0.009 MB uploaded (0.000 MB deduped)\r"
          }
        },
        "483b8078238943a7834d6a0542b39bd4": {
          "model_module": "@jupyter-widgets/controls",
          "model_module_version": "1.5.0",
          "model_name": "FloatProgressModel",
          "state": {
            "_dom_classes": [],
            "_model_module": "@jupyter-widgets/controls",
            "_model_module_version": "1.5.0",
            "_model_name": "FloatProgressModel",
            "_view_count": null,
            "_view_module": "@jupyter-widgets/controls",
            "_view_module_version": "1.5.0",
            "_view_name": "ProgressView",
            "bar_style": "",
            "description": "",
            "description_tooltip": null,
            "layout": "IPY_MODEL_9e03cbb8bb7347a695b0cf778f6095e4",
            "max": 1,
            "min": 0,
            "orientation": "horizontal",
            "style": "IPY_MODEL_d54df6c053b44a728ba59e26b22fcd7a",
            "value": 1
          }
        },
        "5fe65dc65cdc42a0b20ccd3f47fb10b2": {
          "model_module": "@jupyter-widgets/base",
          "model_module_version": "1.2.0",
          "model_name": "LayoutModel",
          "state": {
            "_model_module": "@jupyter-widgets/base",
            "_model_module_version": "1.2.0",
            "_model_name": "LayoutModel",
            "_view_count": null,
            "_view_module": "@jupyter-widgets/base",
            "_view_module_version": "1.2.0",
            "_view_name": "LayoutView",
            "align_content": null,
            "align_items": null,
            "align_self": null,
            "border": null,
            "bottom": null,
            "display": null,
            "flex": null,
            "flex_flow": null,
            "grid_area": null,
            "grid_auto_columns": null,
            "grid_auto_flow": null,
            "grid_auto_rows": null,
            "grid_column": null,
            "grid_gap": null,
            "grid_row": null,
            "grid_template_areas": null,
            "grid_template_columns": null,
            "grid_template_rows": null,
            "height": null,
            "justify_content": null,
            "justify_items": null,
            "left": null,
            "margin": null,
            "max_height": null,
            "max_width": null,
            "min_height": null,
            "min_width": null,
            "object_fit": null,
            "object_position": null,
            "order": null,
            "overflow": null,
            "overflow_x": null,
            "overflow_y": null,
            "padding": null,
            "right": null,
            "top": null,
            "visibility": null,
            "width": null
          }
        },
        "6ef299b95d794588b9b491f01cae4551": {
          "model_module": "@jupyter-widgets/base",
          "model_module_version": "1.2.0",
          "model_name": "LayoutModel",
          "state": {
            "_model_module": "@jupyter-widgets/base",
            "_model_module_version": "1.2.0",
            "_model_name": "LayoutModel",
            "_view_count": null,
            "_view_module": "@jupyter-widgets/base",
            "_view_module_version": "1.2.0",
            "_view_name": "LayoutView",
            "align_content": null,
            "align_items": null,
            "align_self": null,
            "border": null,
            "bottom": null,
            "display": null,
            "flex": null,
            "flex_flow": null,
            "grid_area": null,
            "grid_auto_columns": null,
            "grid_auto_flow": null,
            "grid_auto_rows": null,
            "grid_column": null,
            "grid_gap": null,
            "grid_row": null,
            "grid_template_areas": null,
            "grid_template_columns": null,
            "grid_template_rows": null,
            "height": null,
            "justify_content": null,
            "justify_items": null,
            "left": null,
            "margin": null,
            "max_height": null,
            "max_width": null,
            "min_height": null,
            "min_width": null,
            "object_fit": null,
            "object_position": null,
            "order": null,
            "overflow": null,
            "overflow_x": null,
            "overflow_y": null,
            "padding": null,
            "right": null,
            "top": null,
            "visibility": null,
            "width": null
          }
        },
        "933308f0f55f4e7c8cb064cf6308ec67": {
          "model_module": "@jupyter-widgets/controls",
          "model_module_version": "1.5.0",
          "model_name": "FloatProgressModel",
          "state": {
            "_dom_classes": [],
            "_model_module": "@jupyter-widgets/controls",
            "_model_module_version": "1.5.0",
            "_model_name": "FloatProgressModel",
            "_view_count": null,
            "_view_module": "@jupyter-widgets/controls",
            "_view_module_version": "1.5.0",
            "_view_name": "ProgressView",
            "bar_style": "",
            "description": "",
            "description_tooltip": null,
            "layout": "IPY_MODEL_a6f4c5436ef24f1c94ac0af48023f8b1",
            "max": 1,
            "min": 0,
            "orientation": "horizontal",
            "style": "IPY_MODEL_1d60c7c29d914ff79fc9c7dca9cad79b",
            "value": 1
          }
        },
        "9e03cbb8bb7347a695b0cf778f6095e4": {
          "model_module": "@jupyter-widgets/base",
          "model_module_version": "1.2.0",
          "model_name": "LayoutModel",
          "state": {
            "_model_module": "@jupyter-widgets/base",
            "_model_module_version": "1.2.0",
            "_model_name": "LayoutModel",
            "_view_count": null,
            "_view_module": "@jupyter-widgets/base",
            "_view_module_version": "1.2.0",
            "_view_name": "LayoutView",
            "align_content": null,
            "align_items": null,
            "align_self": null,
            "border": null,
            "bottom": null,
            "display": null,
            "flex": null,
            "flex_flow": null,
            "grid_area": null,
            "grid_auto_columns": null,
            "grid_auto_flow": null,
            "grid_auto_rows": null,
            "grid_column": null,
            "grid_gap": null,
            "grid_row": null,
            "grid_template_areas": null,
            "grid_template_columns": null,
            "grid_template_rows": null,
            "height": null,
            "justify_content": null,
            "justify_items": null,
            "left": null,
            "margin": null,
            "max_height": null,
            "max_width": null,
            "min_height": null,
            "min_width": null,
            "object_fit": null,
            "object_position": null,
            "order": null,
            "overflow": null,
            "overflow_x": null,
            "overflow_y": null,
            "padding": null,
            "right": null,
            "top": null,
            "visibility": null,
            "width": null
          }
        },
        "a0bd0709807f445bb71c19b72b848989": {
          "model_module": "@jupyter-widgets/base",
          "model_module_version": "1.2.0",
          "model_name": "LayoutModel",
          "state": {
            "_model_module": "@jupyter-widgets/base",
            "_model_module_version": "1.2.0",
            "_model_name": "LayoutModel",
            "_view_count": null,
            "_view_module": "@jupyter-widgets/base",
            "_view_module_version": "1.2.0",
            "_view_name": "LayoutView",
            "align_content": null,
            "align_items": null,
            "align_self": null,
            "border": null,
            "bottom": null,
            "display": null,
            "flex": null,
            "flex_flow": null,
            "grid_area": null,
            "grid_auto_columns": null,
            "grid_auto_flow": null,
            "grid_auto_rows": null,
            "grid_column": null,
            "grid_gap": null,
            "grid_row": null,
            "grid_template_areas": null,
            "grid_template_columns": null,
            "grid_template_rows": null,
            "height": null,
            "justify_content": null,
            "justify_items": null,
            "left": null,
            "margin": null,
            "max_height": null,
            "max_width": null,
            "min_height": null,
            "min_width": null,
            "object_fit": null,
            "object_position": null,
            "order": null,
            "overflow": null,
            "overflow_x": null,
            "overflow_y": null,
            "padding": null,
            "right": null,
            "top": null,
            "visibility": null,
            "width": null
          }
        },
        "a6f4c5436ef24f1c94ac0af48023f8b1": {
          "model_module": "@jupyter-widgets/base",
          "model_module_version": "1.2.0",
          "model_name": "LayoutModel",
          "state": {
            "_model_module": "@jupyter-widgets/base",
            "_model_module_version": "1.2.0",
            "_model_name": "LayoutModel",
            "_view_count": null,
            "_view_module": "@jupyter-widgets/base",
            "_view_module_version": "1.2.0",
            "_view_name": "LayoutView",
            "align_content": null,
            "align_items": null,
            "align_self": null,
            "border": null,
            "bottom": null,
            "display": null,
            "flex": null,
            "flex_flow": null,
            "grid_area": null,
            "grid_auto_columns": null,
            "grid_auto_flow": null,
            "grid_auto_rows": null,
            "grid_column": null,
            "grid_gap": null,
            "grid_row": null,
            "grid_template_areas": null,
            "grid_template_columns": null,
            "grid_template_rows": null,
            "height": null,
            "justify_content": null,
            "justify_items": null,
            "left": null,
            "margin": null,
            "max_height": null,
            "max_width": null,
            "min_height": null,
            "min_width": null,
            "object_fit": null,
            "object_position": null,
            "order": null,
            "overflow": null,
            "overflow_x": null,
            "overflow_y": null,
            "padding": null,
            "right": null,
            "top": null,
            "visibility": null,
            "width": null
          }
        },
        "b09683343bbc4118a907c0bbc7c8162f": {
          "model_module": "@jupyter-widgets/controls",
          "model_module_version": "1.5.0",
          "model_name": "DescriptionStyleModel",
          "state": {
            "_model_module": "@jupyter-widgets/controls",
            "_model_module_version": "1.5.0",
            "_model_name": "DescriptionStyleModel",
            "_view_count": null,
            "_view_module": "@jupyter-widgets/base",
            "_view_module_version": "1.2.0",
            "_view_name": "StyleView",
            "description_width": ""
          }
        },
        "b76e7e440c11403e9b3760a82f1f1dc6": {
          "model_module": "@jupyter-widgets/controls",
          "model_module_version": "1.5.0",
          "model_name": "VBoxModel",
          "state": {
            "_dom_classes": [],
            "_model_module": "@jupyter-widgets/controls",
            "_model_module_version": "1.5.0",
            "_model_name": "VBoxModel",
            "_view_count": null,
            "_view_module": "@jupyter-widgets/controls",
            "_view_module_version": "1.5.0",
            "_view_name": "VBoxView",
            "box_style": "",
            "children": [
              "IPY_MODEL_391320c8e046423db0bc0f759037f1ab",
              "IPY_MODEL_933308f0f55f4e7c8cb064cf6308ec67"
            ],
            "layout": "IPY_MODEL_a0bd0709807f445bb71c19b72b848989"
          }
        },
        "be81b9aa9e704bd7b89b7a8ccaf5b127": {
          "model_module": "@jupyter-widgets/controls",
          "model_module_version": "1.5.0",
          "model_name": "DescriptionStyleModel",
          "state": {
            "_model_module": "@jupyter-widgets/controls",
            "_model_module_version": "1.5.0",
            "_model_name": "DescriptionStyleModel",
            "_view_count": null,
            "_view_module": "@jupyter-widgets/base",
            "_view_module_version": "1.2.0",
            "_view_name": "StyleView",
            "description_width": ""
          }
        },
        "d54df6c053b44a728ba59e26b22fcd7a": {
          "model_module": "@jupyter-widgets/controls",
          "model_module_version": "1.5.0",
          "model_name": "ProgressStyleModel",
          "state": {
            "_model_module": "@jupyter-widgets/controls",
            "_model_module_version": "1.5.0",
            "_model_name": "ProgressStyleModel",
            "_view_count": null,
            "_view_module": "@jupyter-widgets/base",
            "_view_module_version": "1.2.0",
            "_view_name": "StyleView",
            "bar_color": null,
            "description_width": ""
          }
        },
        "e7f9235ffdc4470aa5aaaa82e73a1a0b": {
          "model_module": "@jupyter-widgets/controls",
          "model_module_version": "1.5.0",
          "model_name": "VBoxModel",
          "state": {
            "_dom_classes": [],
            "_model_module": "@jupyter-widgets/controls",
            "_model_module_version": "1.5.0",
            "_model_name": "VBoxModel",
            "_view_count": null,
            "_view_module": "@jupyter-widgets/controls",
            "_view_module_version": "1.5.0",
            "_view_name": "VBoxView",
            "box_style": "",
            "children": [
              "IPY_MODEL_3322bb20da56400ca2f7f858e3244418",
              "IPY_MODEL_483b8078238943a7834d6a0542b39bd4"
            ],
            "layout": "IPY_MODEL_5fe65dc65cdc42a0b20ccd3f47fb10b2"
          }
        },
        "f8cac2374e8749b0b8c5f22eae112bb2": {
          "model_module": "@jupyter-widgets/base",
          "model_module_version": "1.2.0",
          "model_name": "LayoutModel",
          "state": {
            "_model_module": "@jupyter-widgets/base",
            "_model_module_version": "1.2.0",
            "_model_name": "LayoutModel",
            "_view_count": null,
            "_view_module": "@jupyter-widgets/base",
            "_view_module_version": "1.2.0",
            "_view_name": "LayoutView",
            "align_content": null,
            "align_items": null,
            "align_self": null,
            "border": null,
            "bottom": null,
            "display": null,
            "flex": null,
            "flex_flow": null,
            "grid_area": null,
            "grid_auto_columns": null,
            "grid_auto_flow": null,
            "grid_auto_rows": null,
            "grid_column": null,
            "grid_gap": null,
            "grid_row": null,
            "grid_template_areas": null,
            "grid_template_columns": null,
            "grid_template_rows": null,
            "height": null,
            "justify_content": null,
            "justify_items": null,
            "left": null,
            "margin": null,
            "max_height": null,
            "max_width": null,
            "min_height": null,
            "min_width": null,
            "object_fit": null,
            "object_position": null,
            "order": null,
            "overflow": null,
            "overflow_x": null,
            "overflow_y": null,
            "padding": null,
            "right": null,
            "top": null,
            "visibility": null,
            "width": null
          }
        }
      }
    }
  },
  "nbformat": 4,
  "nbformat_minor": 0
}