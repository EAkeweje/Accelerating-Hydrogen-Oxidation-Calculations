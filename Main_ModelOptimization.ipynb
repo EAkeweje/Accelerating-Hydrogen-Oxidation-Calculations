{
  "cells": [
    {
      "cell_type": "markdown",
      "metadata": {
        "id": "view-in-github",
        "colab_type": "text"
      },
      "source": [
        "<a href=\"https://colab.research.google.com/github/EAkeweje/Accelerating-Hydrogen-Oxidation-Calculations/blob/main/Main_ModelOptimization.ipynb\" target=\"_parent\"><img src=\"https://colab.research.google.com/assets/colab-badge.svg\" alt=\"Open In Colab\"/></a>"
      ]
    },
    {
      "cell_type": "code",
      "execution_count": 1,
      "metadata": {
        "id": "xDny70xkh-nC"
      },
      "outputs": [],
      "source": [
        "!pip install wandb -Uq"
      ]
    },
    {
      "cell_type": "code",
      "execution_count": 2,
      "metadata": {
        "colab": {
          "base_uri": "https://localhost:8080/"
        },
        "id": "Lbe0cJ-MiCyd",
        "outputId": "49273b53-3ffb-47b3-bdd7-f9ce6ece42dc"
      },
      "outputs": [
        {
          "output_type": "stream",
          "name": "stderr",
          "text": [
            "ERROR:wandb.jupyter:Failed to detect the name of this notebook, you can set it manually with the WANDB_NOTEBOOK_NAME environment variable to enable code saving.\n",
            "\u001b[34m\u001b[1mwandb\u001b[0m: Currently logged in as: \u001b[33mdata-bigwig\u001b[0m. Use \u001b[1m`wandb login --relogin`\u001b[0m to force relogin\n"
          ]
        },
        {
          "output_type": "execute_result",
          "data": {
            "text/plain": [
              "True"
            ]
          },
          "metadata": {},
          "execution_count": 2
        }
      ],
      "source": [
        "#import and login\n",
        "import wandb\n",
        "\n",
        "wandb.login()"
      ]
    },
    {
      "cell_type": "code",
      "execution_count": 4,
      "metadata": {
        "id": "1cuI4Qzbecga"
      },
      "outputs": [],
      "source": [
        "import numpy as np\n",
        "import matplotlib.pyplot as plt\n",
        "import json\n",
        "\n",
        "import torch\n",
        "from sklearn.metrics import r2_score\n",
        "from torch.autograd import Variable\n",
        "import torch.optim as optim\n",
        "import torch.nn as nn\n",
        "import torch.nn.functional as F\n",
        "from torch.utils.data import Dataset, DataLoader\n",
        "from torch.utils.data.sampler import SubsetRandomSampler\n",
        "from torchvision import transforms\n",
        "from torchsummary import summary\n",
        "\n",
        "import os\n",
        "import sys"
      ]
    },
    {
      "cell_type": "markdown",
      "metadata": {
        "id": "RU7ouKqQud_s"
      },
      "source": [
        "## Utils and models"
      ]
    },
    {
      "cell_type": "code",
      "source": [
        "#get utils\n",
        "\n",
        "sys.path.append(os.getcwd()+'/scripts')\n",
        "# from Wandb_Utils import *\n",
        "import Wandb_Utils as wu"
      ],
      "metadata": {
        "id": "Jx8cqaoa_jBa"
      },
      "execution_count": 5,
      "outputs": []
    },
    {
      "cell_type": "code",
      "execution_count": 6,
      "metadata": {
        "id": "KDFbtxNO40wP"
      },
      "outputs": [],
      "source": [
        "###Networks\n",
        "#single step\n",
        "class RNN_Model(nn.Module):\n",
        "    def __init__(self, config):\n",
        "        super(RNN_Model, self).__init__()\n",
        "        self.input_size = config.input_size\n",
        "        self.hidden_size = config.hidden_size\n",
        "        self.output_size = config.output_size\n",
        "        self.num_layers = config.num_layers\n",
        "        #default dropout = 0.1\n",
        "        self.rnn = nn.RNN(self.input_size, self.hidden_size, self.num_layers, dropout = config.dropout, batch_first = True)\n",
        "        self.linear = nn.Linear(self.hidden_size, self.output_size)\n",
        "        \n",
        "    def forward(self, x):\n",
        "        out, _ = self.rnn(x)\n",
        "        out = self.linear(out)\n",
        "        return out\n",
        "    \n",
        "def init_weights(m):\n",
        "    if type(m) == nn.Linear:\n",
        "        nn.init.kaiming_uniform_(m.weight, nonlinearity= 'relu')\n",
        "        m.bias.data.fill_(0.0)\n",
        "\n",
        "###multiple time steps\n",
        "#one to many RNN architechture\n",
        "class Base_RNN(nn.Module):\n",
        "    def __init__(self, input_size, hidden_size, num_layers, dropout = 0.1):\n",
        "        super(Base_RNN, self).__init__()\n",
        "        self.input_size = input_size\n",
        "        self.hidden_size = hidden_size\n",
        "        self.num_layers = num_layers\n",
        "        self.rnn = nn.RNN(self.input_size, self.hidden_size, self.num_layers, dropout = dropout, batch_first = True)\n",
        "        self.linear = nn.Linear(self.hidden_size, self.input_size)\n",
        "        \n",
        "    def forward(self, x, in_hidden = None):\n",
        "        if in_hidden == None:\n",
        "            out, out_hidden = self.rnn(x)\n",
        "        else:\n",
        "            out, out_hidden = self.rnn(x, in_hidden)\n",
        "        out = self.linear(out)\n",
        "        return out, out_hidden\n",
        "\n",
        "class RNN_Model_Multiple(nn.Module):\n",
        "    def __init__(self, config):\n",
        "        super(RNN_Model_Multiple, self).__init__()\n",
        "        self.input_size = config.input_size\n",
        "        self.hidden_size = config.hidden_size\n",
        "        self.output_size = config.output_size\n",
        "        self.num_layers = config.num_layers\n",
        "        self.ntimesteps = config.ntimesteps\n",
        "        self.base_rnn = Base_RNN(self.input_size, self.hidden_size, self.num_layers, config.dropout)\n",
        "        self.relu = nn.ReLU()\n",
        "        self.linear = nn.Linear(self.input_size, self.output_size)\n",
        "        \n",
        "    def forward(self, x):\n",
        "        out = x\n",
        "        hidden = None\n",
        "        \n",
        "        #to store outputs\n",
        "        outputs = []\n",
        "        \n",
        "        for t in range(self.ntimesteps):                \n",
        "            #pass to rnn\n",
        "            out, hidden = self.base_rnn(out, hidden)\n",
        "            #pass to output layer\n",
        "            outputs.append(self.linear(self.relu(out)))\n",
        "            #skip connection\n",
        "            out += x\n",
        "\n",
        "        return torch.concat(outputs, 1)\n",
        "\n",
        "#one to many RNN architechture\n",
        "class Base_RNN_v2(nn.Module):\n",
        "    def __init__(self, output_size, hidden_size, num_layers, dropout = 0.1):\n",
        "        super(Base_RNN_v2, self).__init__()\n",
        "        self.hidden_size = hidden_size\n",
        "        self.output_size = output_size\n",
        "        self.num_layers = num_layers\n",
        "        self.rnn = nn.RNN(self.output_size, self.hidden_size, self.num_layers, dropout = dropout, batch_first = True)\n",
        "        self.linear = nn.Linear(self.hidden_size, self.output_size)\n",
        "\n",
        "    def forward(self, x, in_hidden = None):\n",
        "        if in_hidden == None:\n",
        "            out, out_hidden = self.rnn(x)\n",
        "        else:\n",
        "            out, out_hidden = self.rnn(x, in_hidden)\n",
        "        out = self.linear(out)\n",
        "        return out, out_hidden\n",
        "\n",
        "class RNN_Model_Multiple_v2(nn.Module):\n",
        "    def __init__(self, config):\n",
        "        super(RNN_Model_Multiple_v2, self).__init__()\n",
        "        self.input_size = config.input_size\n",
        "        self.hidden_size = config.hidden_size\n",
        "        self.output_size = config.output_size\n",
        "        self.num_layers = config.num_layers\n",
        "        self.ntimesteps = config.ntimesteps\n",
        "        self.base_rnn = Base_RNN_v2(self.output_size, self.hidden_size, self.num_layers, config.dropout)\n",
        "        self.relu = nn.ReLU()\n",
        "        self.linear = nn.Linear(self.input_size, self.output_size)\n",
        "\n",
        "    def forward(self, x):\n",
        "        #pass to first layer and activation\n",
        "        x = self.relu(self.linear(x))\n",
        "\n",
        "        #to store outputs\n",
        "        outputs = []\n",
        "\n",
        "        #set inputs to first RNN layer\n",
        "        out = x\n",
        "        hidden = None\n",
        "\n",
        "        #loop through rnn layers\n",
        "        for t in range(self.ntimesteps):                \n",
        "            #pass to rnn\n",
        "            out, hidden = self.base_rnn(out, hidden)\n",
        "            #pass to output layer\n",
        "            outputs.append(out)\n",
        "            #skip connection\n",
        "            out += x\n",
        "\n",
        "        return torch.concat(outputs, 1)"
      ]
    },
    {
      "cell_type": "markdown",
      "metadata": {
        "id": "RKPa7CPLvjHI"
      },
      "source": [
        "# Model Optimization"
      ]
    },
    {
      "cell_type": "code",
      "execution_count": 7,
      "metadata": {
        "colab": {
          "base_uri": "https://localhost:8080/"
        },
        "id": "NOE7vQpX-WR3",
        "outputId": "20df3824-8ef8-42f2-a986-5e46c36326e2"
      },
      "outputs": [
        {
          "output_type": "execute_result",
          "data": {
            "text/plain": [
              "{'name': 'Accelerating Hydrogen Oxidation Calculations (Concentration inputs, transformed data, Exclude pressure, Exclude H2 and O2 from model target, 5 steps (1,5, 15...))',\n",
              " 'description': 'Model Optimization for Adam Optimizer',\n",
              " 'method': 'bayes',\n",
              " 'metric': {'name': 'loss', 'goal': 'minimize'}}"
            ]
          },
          "metadata": {},
          "execution_count": 7
        }
      ],
      "source": [
        "#Define the sweep\n",
        "sweep_config = {\n",
        "    'name': 'Accelerating Hydrogen Oxidation Calculations (Concentration inputs, transformed data, Exclude pressure, Exclude H2 and O2 from model target, 5 steps (1,5, 15...))',\n",
        "    'description': 'Model Optimization for Adam Optimizer',\n",
        "    'method': 'bayes', #how sweep controller select hyperparameter\n",
        "    'metric': {'name': 'loss',\n",
        "               'goal': 'minimize'}\n",
        "                }\n",
        "sweep_config"
      ]
    },
    {
      "cell_type": "code",
      "execution_count": 8,
      "metadata": {
        "id": "77mYRM_uv48S"
      },
      "outputs": [],
      "source": [
        "param_dict = {\n",
        "    'batch_size': {\n",
        "        'values': [8, 16, 32, 64, 128]\n",
        "        },\n",
        "    'timesteps': {\n",
        "        'value': [1, 5, 15, 100, 200]\n",
        "        },\n",
        "    'nsample': {\n",
        "        'value': 1500\n",
        "        },\n",
        "    'hidden_size': {\n",
        "        'values': [20, 40, 60, 80, 100]\n",
        "        },\n",
        "    'num_layers': {\n",
        "        'values': [2, 3, 4]\n",
        "        },\n",
        "    'dropout': {\n",
        "        'values': [0, 0.05, 0.1, 0.15, 0.2]\n",
        "    },\n",
        "    'ntimesteps': {\n",
        "        'value': 5\n",
        "        },\n",
        "    'epochs': {\n",
        "        'value': 2500\n",
        "        },\n",
        "    'optimizer': {\n",
        "        'value': 'Adam'\n",
        "        },\n",
        "    'lr': {\n",
        "      'values': [5e-2, 1e-2, 5e-3, 1e-3, 5e-4, 1e-4]\n",
        "        },\n",
        "    'weight_decay': {\n",
        "        'values' : [0.05, 0.01, 0]\n",
        "    },\n",
        "    'beta1': {\n",
        "        'values': [0.85, 0.9, 0.95]\n",
        "        },\n",
        "    'beta2': {\n",
        "        'values': [0.9, 0.95, 0.99]\n",
        "        },\n",
        "    'mb_coeff': {\n",
        "        'value': 0\n",
        "        },\n",
        "    'scheduling': {\n",
        "        'values': [True, False]\n",
        "       },\n",
        "    'model': {\n",
        "        'values': ['v1', 'v2']\n",
        "    },\n",
        "    'split': {\n",
        "        'value': [0.7, 0.2, 0.1]\n",
        "    },\n",
        "    'dict_path':{\n",
        "        'value': None\n",
        "    },\n",
        "    'mean_std_path': {\n",
        "        'value': \"ConcInputs_NoH2O2(taraget_only)_NoPressure_mean_std_1515100200.json\"\n",
        "    },\n",
        "    'input_size':{\n",
        "        'value': 9\n",
        "    },\n",
        "    'output_size':{\n",
        "        'value': 7\n",
        "    },\n",
        "    'in_conc': {\n",
        "        'value': True\n",
        "    },\n",
        "    'inputs_path': {\n",
        "        'value' : 'input_98660.npy'\n",
        "    },\n",
        "    'outputs_dir': {\n",
        "        'value': './Out_files_npy'\n",
        "    },\n",
        "    'in_h2_o2': {\n",
        "        'value': True\n",
        "    },\n",
        "    'out_h2_o2': {\n",
        "        'value': False\n",
        "    },\n",
        "    'in_pres': {\n",
        "        'value': False\n",
        "    }\n",
        "    }\n",
        "sweep_config['parameters'] = param_dict"
      ]
    },
    {
      "cell_type": "code",
      "execution_count": 9,
      "metadata": {
        "colab": {
          "base_uri": "https://localhost:8080/"
        },
        "id": "082S9eNN7Map",
        "outputId": "dd706afb-7acd-46f7-8dc4-09d59ea0b7b0"
      },
      "outputs": [
        {
          "output_type": "execute_result",
          "data": {
            "text/plain": [
              "{'name': 'Accelerating Hydrogen Oxidation Calculations (Concentration inputs, transformed data, Exclude pressure, Exclude H2 and O2 from model target, 5 steps (1,5, 15...))',\n",
              " 'description': 'Model Optimization for Adam Optimizer',\n",
              " 'method': 'bayes',\n",
              " 'metric': {'name': 'loss', 'goal': 'minimize'},\n",
              " 'parameters': {'batch_size': {'values': [8, 16, 32, 64, 128]},\n",
              "  'timesteps': {'value': [1, 5, 15, 100, 200]},\n",
              "  'nsample': {'value': 1500},\n",
              "  'hidden_size': {'values': [20, 40, 60, 80, 100]},\n",
              "  'num_layers': {'values': [2, 3, 4]},\n",
              "  'dropout': {'values': [0, 0.05, 0.1, 0.15, 0.2]},\n",
              "  'ntimesteps': {'value': 5},\n",
              "  'epochs': {'value': 2500},\n",
              "  'optimizer': {'value': 'Adam'},\n",
              "  'lr': {'values': [0.05, 0.01, 0.005, 0.001, 0.0005, 0.0001]},\n",
              "  'weight_decay': {'values': [0.05, 0.01, 0]},\n",
              "  'beta1': {'values': [0.85, 0.9, 0.95]},\n",
              "  'beta2': {'values': [0.9, 0.95, 0.99]},\n",
              "  'mb_coeff': {'value': 0},\n",
              "  'scheduling': {'values': [True, False]},\n",
              "  'model': {'values': ['v1', 'v2']},\n",
              "  'split': {'value': [0.7, 0.2, 0.1]},\n",
              "  'dict_path': {'value': None},\n",
              "  'mean_std_path': {'value': 'ConcInputs_NoH2O2(taraget_only)_NoPressure_mean_std_1515100200.json'},\n",
              "  'input_size': {'value': 9},\n",
              "  'output_size': {'value': 7},\n",
              "  'in_conc': {'value': True},\n",
              "  'inputs_path': {'value': 'input_98660.npy'},\n",
              "  'outputs_dir': {'value': './Out_files_npy'},\n",
              "  'in_h2_o2': {'value': True},\n",
              "  'out_h2_o2': {'value': False},\n",
              "  'in_pres': {'value': False}}}"
            ]
          },
          "metadata": {},
          "execution_count": 9
        }
      ],
      "source": [
        "sweep_config"
      ]
    },
    {
      "cell_type": "code",
      "execution_count": 10,
      "metadata": {
        "id": "uFVzZZMq7OCu",
        "colab": {
          "base_uri": "https://localhost:8080/"
        },
        "outputId": "430ca27b-0ce8-427e-956a-7c53b26376a3"
      },
      "outputs": [
        {
          "output_type": "stream",
          "name": "stdout",
          "text": [
            "Create sweep with ID: mnzb7jr5\n",
            "Sweep URL: https://wandb.ai/data-bigwig/Hydrogen-Oxidation-Models-Optimization/sweeps/mnzb7jr5\n"
          ]
        }
      ],
      "source": [
        "# Initialize Sweep\n",
        "sweep_id = wandb.sweep(sweep_config, project=\"Hydrogen-Oxidation-Models-Optimization\")"
      ]
    },
    {
      "cell_type": "code",
      "source": [
        "# sweep_id = '9s68j7y9'"
      ],
      "metadata": {
        "id": "WSdWpq3aWdAz"
      },
      "execution_count": 11,
      "outputs": []
    },
    {
      "cell_type": "code",
      "execution_count": 12,
      "metadata": {
        "id": "tnnFILnZ85RP"
      },
      "outputs": [],
      "source": [
        "def train_model(config = None):\n",
        "  # tell wandb to get started\n",
        "  with wandb.init(config=config):\n",
        "  # access all HPs through wandb.config, so logging matches execution!\n",
        "    config = wandb.config\n",
        "\n",
        "    device = torch.device(\"cuda\" if torch.cuda.is_available() else \"cpu\")\n",
        "\n",
        "    #Get data\n",
        "    train_loader, val_loader, test_loader = wu.make_dataloaders(config)\n",
        "    #obtaining mean and std of training set\n",
        "    train_x_mean, train_x_std, train_y_mean, train_y_std = wu.load_mean_std(config.mean_std_path, train_loader)\n",
        "    #initialize model\n",
        "    if config.model == 'v1':\n",
        "      model = RNN_Model_Multiple(config)\n",
        "    elif config.model == 'v2':\n",
        "      model = RNN_Model_Multiple_v2(config)\n",
        "\n",
        "    #training\n",
        "    model = model.to(device)\n",
        "    mean_std = [train_x_mean.to(device), train_x_std.to(device), train_y_mean.to(device), train_y_std.to(device)]\n",
        "    criterion  = nn.MSELoss()\n",
        "    epochs, val_loss = wu.training(model, train_loader, val_loader, config, criterion, mean_std, device)\n",
        "    wandb.log({'loss': val_loss})\n",
        "    wandb.log({'num_epochs': epochs})\n",
        "\n",
        "    # #saving best model from sweep\n",
        "    # try:\n",
        "    #   sweep_min_loss = wandb.Api().sweep(f'data-bigwig/Hydrogen-Oxidation-Models-Optimization/sweeps/{sweep_id}').best_run().summary_metrics['loss']\n",
        "    # except Exception as e:\n",
        "    #   print(f'Ooops! Probably first run. Save model anyways')\n",
        "    #   sweep_min_loss = np.inf\n",
        "      \n",
        "    # # Saving State Dict\n",
        "    # if val_loss <= sweep_min_loss:\n",
        "    #   if config.dict_path != None:\n",
        "    #     torch.save(model.state_dict(), config.dict_path)\n",
        "    #     print('Model saving...')\n",
        "    \n"
      ]
    },
    {
      "cell_type": "code",
      "execution_count": null,
      "metadata": {
        "colab": {
          "base_uri": "https://localhost:8080/",
          "height": 1000,
          "referenced_widgets": [
            "d6d2cb23e56642dcac893c01bd72d21c",
            "c6a113e2d6e04b3083ce10892ef24f41",
            "08ac02d1a4c643099a9d294445cd0674",
            "c519c9b2303544789e56b0c0a309926c",
            "62bf77a2cf3d4ec3b9d52520f57f2ee4",
            "1cdc00aab7c04f2a9bbad8fa4ec3b3f5",
            "6235e65dbb4e4183bfabfc9b57a076a6",
            "4bc4210f525f490a8c9f0ebdec1465f3"
          ]
        },
        "id": "x4ceo-ErIF_X",
        "outputId": "c4008140-1091-4cab-9c13-6cc3c78e1540"
      },
      "outputs": [
        {
          "output_type": "stream",
          "name": "stderr",
          "text": [
            "\u001b[34m\u001b[1mwandb\u001b[0m: Agent Starting Run: tn3q59ag with config:\n",
            "\u001b[34m\u001b[1mwandb\u001b[0m: \tbatch_size: 128\n",
            "\u001b[34m\u001b[1mwandb\u001b[0m: \tbeta1: 0.85\n",
            "\u001b[34m\u001b[1mwandb\u001b[0m: \tbeta2: 0.99\n",
            "\u001b[34m\u001b[1mwandb\u001b[0m: \tdict_path: None\n",
            "\u001b[34m\u001b[1mwandb\u001b[0m: \tdropout: 0.15\n",
            "\u001b[34m\u001b[1mwandb\u001b[0m: \tepochs: 2500\n",
            "\u001b[34m\u001b[1mwandb\u001b[0m: \thidden_size: 40\n",
            "\u001b[34m\u001b[1mwandb\u001b[0m: \tin_conc: True\n",
            "\u001b[34m\u001b[1mwandb\u001b[0m: \tin_h2_o2: True\n",
            "\u001b[34m\u001b[1mwandb\u001b[0m: \tin_pres: False\n",
            "\u001b[34m\u001b[1mwandb\u001b[0m: \tinput_size: 9\n",
            "\u001b[34m\u001b[1mwandb\u001b[0m: \tinputs_path: input_98660.npy\n",
            "\u001b[34m\u001b[1mwandb\u001b[0m: \tlr: 0.05\n",
            "\u001b[34m\u001b[1mwandb\u001b[0m: \tmb_coeff: 0\n",
            "\u001b[34m\u001b[1mwandb\u001b[0m: \tmean_std_path: ConcInputs_NoH2O2(taraget_only)_NoPressure_mean_std_1515100200.json\n",
            "\u001b[34m\u001b[1mwandb\u001b[0m: \tmodel: v1\n",
            "\u001b[34m\u001b[1mwandb\u001b[0m: \tnsample: 1500\n",
            "\u001b[34m\u001b[1mwandb\u001b[0m: \tntimesteps: 5\n",
            "\u001b[34m\u001b[1mwandb\u001b[0m: \tnum_layers: 4\n",
            "\u001b[34m\u001b[1mwandb\u001b[0m: \toptimizer: Adam\n",
            "\u001b[34m\u001b[1mwandb\u001b[0m: \tout_h2_o2: False\n",
            "\u001b[34m\u001b[1mwandb\u001b[0m: \toutput_size: 7\n",
            "\u001b[34m\u001b[1mwandb\u001b[0m: \toutputs_dir: ./Out_files_npy\n",
            "\u001b[34m\u001b[1mwandb\u001b[0m: \tscheduling: False\n",
            "\u001b[34m\u001b[1mwandb\u001b[0m: \tsplit: [0.7, 0.2, 0.1]\n",
            "\u001b[34m\u001b[1mwandb\u001b[0m: \ttimesteps: [1, 5, 15, 100, 200]\n",
            "\u001b[34m\u001b[1mwandb\u001b[0m: \tweight_decay: 0.01\n",
            "ERROR:wandb.jupyter:Failed to detect the name of this notebook, you can set it manually with the WANDB_NOTEBOOK_NAME environment variable to enable code saving.\n"
          ]
        },
        {
          "output_type": "display_data",
          "data": {
            "text/plain": [
              "<IPython.core.display.HTML object>"
            ],
            "text/html": [
              "Tracking run with wandb version 0.13.3"
            ]
          },
          "metadata": {}
        },
        {
          "output_type": "display_data",
          "data": {
            "text/plain": [
              "<IPython.core.display.HTML object>"
            ],
            "text/html": [
              "Run data is saved locally in <code>/content/drive/MyDrive/Skoltech/Research/Hydrogen Oxidation/wandb/run-20220930_110140-tn3q59ag</code>"
            ]
          },
          "metadata": {}
        },
        {
          "output_type": "display_data",
          "data": {
            "text/plain": [
              "<IPython.core.display.HTML object>"
            ],
            "text/html": [
              "Syncing run <strong><a href=\"https://wandb.ai/data-bigwig/Hydrogen-Oxidation-Models-Optimization/runs/tn3q59ag\" target=\"_blank\">kind-sweep-1</a></strong> to <a href=\"https://wandb.ai/data-bigwig/Hydrogen-Oxidation-Models-Optimization\" target=\"_blank\">Weights & Biases</a> (<a href=\"https://wandb.me/run\" target=\"_blank\">docs</a>)<br/>Sweep page:  <a href=\"https://wandb.ai/data-bigwig/Hydrogen-Oxidation-Models-Optimization/sweeps/mnzb7jr5\" target=\"_blank\">https://wandb.ai/data-bigwig/Hydrogen-Oxidation-Models-Optimization/sweeps/mnzb7jr5</a>"
            ]
          },
          "metadata": {}
        },
        {
          "output_type": "display_data",
          "data": {
            "text/plain": [
              "<IPython.core.display.HTML object>"
            ],
            "text/html": [
              "Waiting for W&B process to finish... <strong style=\"color:green\">(success).</strong>"
            ]
          },
          "metadata": {}
        },
        {
          "output_type": "display_data",
          "data": {
            "text/plain": [
              "VBox(children=(Label(value='0.000 MB of 0.000 MB uploaded (0.000 MB deduped)\\r'), FloatProgress(value=1.0, max…"
            ],
            "application/vnd.jupyter.widget-view+json": {
              "version_major": 2,
              "version_minor": 0,
              "model_id": "d6d2cb23e56642dcac893c01bd72d21c"
            }
          },
          "metadata": {}
        },
        {
          "output_type": "display_data",
          "data": {
            "text/plain": [
              "<IPython.core.display.HTML object>"
            ],
            "text/html": [
              "<style>\n",
              "    table.wandb td:nth-child(1) { padding: 0 10px; text-align: left ; width: auto;} td:nth-child(2) {text-align: left ; width: 100%}\n",
              "    .wandb-row { display: flex; flex-direction: row; flex-wrap: wrap; justify-content: flex-start; width: 100% }\n",
              "    .wandb-col { display: flex; flex-direction: column; flex-basis: 100%; flex: 1; padding: 10px; }\n",
              "    </style>\n",
              "<div class=\"wandb-row\"><div class=\"wandb-col\"><h3>Run history:</h3><br/><table class=\"wandb\"><tr><td>learning_rate</td><td>▁▁▁▁▁▁▁▁▁▁▁▁▁▁▁▁▁▁▁▁▁▁▁▁▁▁▁▁▁▁▁▁▁▁▁▁▁▁▁▁</td></tr><tr><td>loss</td><td>▁</td></tr><tr><td>num_epochs</td><td>▁</td></tr><tr><td>train_loss</td><td>▃▇▄▂▄▂▄▃▃▄▄▂▂▄▂▄▂█▄▄▁▃▄▄▄▃▃▅█▃▄▄▂▂▅▄▄▃▃▂</td></tr><tr><td>val_loss</td><td>▂▇▇▂▃▁▃▄▃▂▃▁▃▂▁▃▂▆▂▄▄▁▃▃▃▃▂▃▅▂▂▂▁▂▄▂▆█▂▁</td></tr></table><br/></div><div class=\"wandb-col\"><h3>Run summary:</h3><br/><table class=\"wandb\"><tr><td>learning_rate</td><td>0.05</td></tr><tr><td>loss</td><td>1.58499</td></tr><tr><td>num_epochs</td><td>320</td></tr><tr><td>train_loss</td><td>0.70555</td></tr><tr><td>val_loss</td><td>1.00322</td></tr></table><br/></div></div>"
            ]
          },
          "metadata": {}
        },
        {
          "output_type": "display_data",
          "data": {
            "text/plain": [
              "<IPython.core.display.HTML object>"
            ],
            "text/html": [
              "Synced <strong style=\"color:#cdcd00\">kind-sweep-1</strong>: <a href=\"https://wandb.ai/data-bigwig/Hydrogen-Oxidation-Models-Optimization/runs/tn3q59ag\" target=\"_blank\">https://wandb.ai/data-bigwig/Hydrogen-Oxidation-Models-Optimization/runs/tn3q59ag</a><br/>Synced 4 W&B file(s), 0 media file(s), 0 artifact file(s) and 0 other file(s)"
            ]
          },
          "metadata": {}
        },
        {
          "output_type": "display_data",
          "data": {
            "text/plain": [
              "<IPython.core.display.HTML object>"
            ],
            "text/html": [
              "Find logs at: <code>./wandb/run-20220930_110140-tn3q59ag/logs</code>"
            ]
          },
          "metadata": {}
        },
        {
          "output_type": "stream",
          "name": "stderr",
          "text": [
            "\u001b[34m\u001b[1mwandb\u001b[0m: Agent Starting Run: 75v6u96o with config:\n",
            "\u001b[34m\u001b[1mwandb\u001b[0m: \tbatch_size: 32\n",
            "\u001b[34m\u001b[1mwandb\u001b[0m: \tbeta1: 0.95\n",
            "\u001b[34m\u001b[1mwandb\u001b[0m: \tbeta2: 0.95\n",
            "\u001b[34m\u001b[1mwandb\u001b[0m: \tdict_path: None\n",
            "\u001b[34m\u001b[1mwandb\u001b[0m: \tdropout: 0.1\n",
            "\u001b[34m\u001b[1mwandb\u001b[0m: \tepochs: 2500\n",
            "\u001b[34m\u001b[1mwandb\u001b[0m: \thidden_size: 80\n",
            "\u001b[34m\u001b[1mwandb\u001b[0m: \tin_conc: True\n",
            "\u001b[34m\u001b[1mwandb\u001b[0m: \tin_h2_o2: True\n",
            "\u001b[34m\u001b[1mwandb\u001b[0m: \tin_pres: False\n",
            "\u001b[34m\u001b[1mwandb\u001b[0m: \tinput_size: 9\n",
            "\u001b[34m\u001b[1mwandb\u001b[0m: \tinputs_path: input_98660.npy\n",
            "\u001b[34m\u001b[1mwandb\u001b[0m: \tlr: 0.001\n",
            "\u001b[34m\u001b[1mwandb\u001b[0m: \tmb_coeff: 0\n",
            "\u001b[34m\u001b[1mwandb\u001b[0m: \tmean_std_path: ConcInputs_NoH2O2(taraget_only)_NoPressure_mean_std_1515100200.json\n",
            "\u001b[34m\u001b[1mwandb\u001b[0m: \tmodel: v2\n",
            "\u001b[34m\u001b[1mwandb\u001b[0m: \tnsample: 1500\n",
            "\u001b[34m\u001b[1mwandb\u001b[0m: \tntimesteps: 5\n",
            "\u001b[34m\u001b[1mwandb\u001b[0m: \tnum_layers: 2\n",
            "\u001b[34m\u001b[1mwandb\u001b[0m: \toptimizer: Adam\n",
            "\u001b[34m\u001b[1mwandb\u001b[0m: \tout_h2_o2: False\n",
            "\u001b[34m\u001b[1mwandb\u001b[0m: \toutput_size: 7\n",
            "\u001b[34m\u001b[1mwandb\u001b[0m: \toutputs_dir: ./Out_files_npy\n",
            "\u001b[34m\u001b[1mwandb\u001b[0m: \tscheduling: True\n",
            "\u001b[34m\u001b[1mwandb\u001b[0m: \tsplit: [0.7, 0.2, 0.1]\n",
            "\u001b[34m\u001b[1mwandb\u001b[0m: \ttimesteps: [1, 5, 15, 100, 200]\n",
            "\u001b[34m\u001b[1mwandb\u001b[0m: \tweight_decay: 0.05\n",
            "Failed to detect the name of this notebook, you can set it manually with the WANDB_NOTEBOOK_NAME environment variable to enable code saving.\n"
          ]
        },
        {
          "output_type": "display_data",
          "data": {
            "text/plain": [
              "<IPython.core.display.HTML object>"
            ],
            "text/html": [
              "Tracking run with wandb version 0.13.3"
            ]
          },
          "metadata": {}
        },
        {
          "output_type": "display_data",
          "data": {
            "text/plain": [
              "<IPython.core.display.HTML object>"
            ],
            "text/html": [
              "Run data is saved locally in <code>/content/drive/MyDrive/Skoltech/Research/Hydrogen Oxidation/wandb/run-20220930_111337-75v6u96o</code>"
            ]
          },
          "metadata": {}
        },
        {
          "output_type": "display_data",
          "data": {
            "text/plain": [
              "<IPython.core.display.HTML object>"
            ],
            "text/html": [
              "Syncing run <strong><a href=\"https://wandb.ai/data-bigwig/Hydrogen-Oxidation-Models-Optimization/runs/75v6u96o\" target=\"_blank\">confused-sweep-2</a></strong> to <a href=\"https://wandb.ai/data-bigwig/Hydrogen-Oxidation-Models-Optimization\" target=\"_blank\">Weights & Biases</a> (<a href=\"https://wandb.me/run\" target=\"_blank\">docs</a>)<br/>Sweep page:  <a href=\"https://wandb.ai/data-bigwig/Hydrogen-Oxidation-Models-Optimization/sweeps/mnzb7jr5\" target=\"_blank\">https://wandb.ai/data-bigwig/Hydrogen-Oxidation-Models-Optimization/sweeps/mnzb7jr5</a>"
            ]
          },
          "metadata": {}
        }
      ],
      "source": [
        "wandb.agent(sweep_id, train_model, project=\"Hydrogen-Oxidation-Models-Optimization\", count=20)"
      ]
    },
    {
      "cell_type": "code",
      "execution_count": null,
      "metadata": {
        "id": "fU8CspH5u1lq"
      },
      "outputs": [],
      "source": []
    }
  ],
  "metadata": {
    "colab": {
      "collapsed_sections": [],
      "provenance": [],
      "include_colab_link": true
    },
    "gpuClass": "standard",
    "kernelspec": {
      "display_name": "Python 3 (ipykernel)",
      "language": "python",
      "name": "python3"
    },
    "language_info": {
      "codemirror_mode": {
        "name": "ipython",
        "version": 3
      },
      "file_extension": ".py",
      "mimetype": "text/x-python",
      "name": "python",
      "nbconvert_exporter": "python",
      "pygments_lexer": "ipython3",
      "version": "3.8.13"
    },
    "accelerator": "GPU",
    "widgets": {
      "application/vnd.jupyter.widget-state+json": {
        "d6d2cb23e56642dcac893c01bd72d21c": {
          "model_module": "@jupyter-widgets/controls",
          "model_name": "VBoxModel",
          "model_module_version": "1.5.0",
          "state": {
            "_dom_classes": [],
            "_model_module": "@jupyter-widgets/controls",
            "_model_module_version": "1.5.0",
            "_model_name": "VBoxModel",
            "_view_count": null,
            "_view_module": "@jupyter-widgets/controls",
            "_view_module_version": "1.5.0",
            "_view_name": "VBoxView",
            "box_style": "",
            "children": [
              "IPY_MODEL_c6a113e2d6e04b3083ce10892ef24f41",
              "IPY_MODEL_08ac02d1a4c643099a9d294445cd0674"
            ],
            "layout": "IPY_MODEL_c519c9b2303544789e56b0c0a309926c"
          }
        },
        "c6a113e2d6e04b3083ce10892ef24f41": {
          "model_module": "@jupyter-widgets/controls",
          "model_name": "LabelModel",
          "model_module_version": "1.5.0",
          "state": {
            "_dom_classes": [],
            "_model_module": "@jupyter-widgets/controls",
            "_model_module_version": "1.5.0",
            "_model_name": "LabelModel",
            "_view_count": null,
            "_view_module": "@jupyter-widgets/controls",
            "_view_module_version": "1.5.0",
            "_view_name": "LabelView",
            "description": "",
            "description_tooltip": null,
            "layout": "IPY_MODEL_62bf77a2cf3d4ec3b9d52520f57f2ee4",
            "placeholder": "​",
            "style": "IPY_MODEL_1cdc00aab7c04f2a9bbad8fa4ec3b3f5",
            "value": "0.009 MB of 0.009 MB uploaded (0.000 MB deduped)\r"
          }
        },
        "08ac02d1a4c643099a9d294445cd0674": {
          "model_module": "@jupyter-widgets/controls",
          "model_name": "FloatProgressModel",
          "model_module_version": "1.5.0",
          "state": {
            "_dom_classes": [],
            "_model_module": "@jupyter-widgets/controls",
            "_model_module_version": "1.5.0",
            "_model_name": "FloatProgressModel",
            "_view_count": null,
            "_view_module": "@jupyter-widgets/controls",
            "_view_module_version": "1.5.0",
            "_view_name": "ProgressView",
            "bar_style": "",
            "description": "",
            "description_tooltip": null,
            "layout": "IPY_MODEL_6235e65dbb4e4183bfabfc9b57a076a6",
            "max": 1,
            "min": 0,
            "orientation": "horizontal",
            "style": "IPY_MODEL_4bc4210f525f490a8c9f0ebdec1465f3",
            "value": 1
          }
        },
        "c519c9b2303544789e56b0c0a309926c": {
          "model_module": "@jupyter-widgets/base",
          "model_name": "LayoutModel",
          "model_module_version": "1.2.0",
          "state": {
            "_model_module": "@jupyter-widgets/base",
            "_model_module_version": "1.2.0",
            "_model_name": "LayoutModel",
            "_view_count": null,
            "_view_module": "@jupyter-widgets/base",
            "_view_module_version": "1.2.0",
            "_view_name": "LayoutView",
            "align_content": null,
            "align_items": null,
            "align_self": null,
            "border": null,
            "bottom": null,
            "display": null,
            "flex": null,
            "flex_flow": null,
            "grid_area": null,
            "grid_auto_columns": null,
            "grid_auto_flow": null,
            "grid_auto_rows": null,
            "grid_column": null,
            "grid_gap": null,
            "grid_row": null,
            "grid_template_areas": null,
            "grid_template_columns": null,
            "grid_template_rows": null,
            "height": null,
            "justify_content": null,
            "justify_items": null,
            "left": null,
            "margin": null,
            "max_height": null,
            "max_width": null,
            "min_height": null,
            "min_width": null,
            "object_fit": null,
            "object_position": null,
            "order": null,
            "overflow": null,
            "overflow_x": null,
            "overflow_y": null,
            "padding": null,
            "right": null,
            "top": null,
            "visibility": null,
            "width": null
          }
        },
        "62bf77a2cf3d4ec3b9d52520f57f2ee4": {
          "model_module": "@jupyter-widgets/base",
          "model_name": "LayoutModel",
          "model_module_version": "1.2.0",
          "state": {
            "_model_module": "@jupyter-widgets/base",
            "_model_module_version": "1.2.0",
            "_model_name": "LayoutModel",
            "_view_count": null,
            "_view_module": "@jupyter-widgets/base",
            "_view_module_version": "1.2.0",
            "_view_name": "LayoutView",
            "align_content": null,
            "align_items": null,
            "align_self": null,
            "border": null,
            "bottom": null,
            "display": null,
            "flex": null,
            "flex_flow": null,
            "grid_area": null,
            "grid_auto_columns": null,
            "grid_auto_flow": null,
            "grid_auto_rows": null,
            "grid_column": null,
            "grid_gap": null,
            "grid_row": null,
            "grid_template_areas": null,
            "grid_template_columns": null,
            "grid_template_rows": null,
            "height": null,
            "justify_content": null,
            "justify_items": null,
            "left": null,
            "margin": null,
            "max_height": null,
            "max_width": null,
            "min_height": null,
            "min_width": null,
            "object_fit": null,
            "object_position": null,
            "order": null,
            "overflow": null,
            "overflow_x": null,
            "overflow_y": null,
            "padding": null,
            "right": null,
            "top": null,
            "visibility": null,
            "width": null
          }
        },
        "1cdc00aab7c04f2a9bbad8fa4ec3b3f5": {
          "model_module": "@jupyter-widgets/controls",
          "model_name": "DescriptionStyleModel",
          "model_module_version": "1.5.0",
          "state": {
            "_model_module": "@jupyter-widgets/controls",
            "_model_module_version": "1.5.0",
            "_model_name": "DescriptionStyleModel",
            "_view_count": null,
            "_view_module": "@jupyter-widgets/base",
            "_view_module_version": "1.2.0",
            "_view_name": "StyleView",
            "description_width": ""
          }
        },
        "6235e65dbb4e4183bfabfc9b57a076a6": {
          "model_module": "@jupyter-widgets/base",
          "model_name": "LayoutModel",
          "model_module_version": "1.2.0",
          "state": {
            "_model_module": "@jupyter-widgets/base",
            "_model_module_version": "1.2.0",
            "_model_name": "LayoutModel",
            "_view_count": null,
            "_view_module": "@jupyter-widgets/base",
            "_view_module_version": "1.2.0",
            "_view_name": "LayoutView",
            "align_content": null,
            "align_items": null,
            "align_self": null,
            "border": null,
            "bottom": null,
            "display": null,
            "flex": null,
            "flex_flow": null,
            "grid_area": null,
            "grid_auto_columns": null,
            "grid_auto_flow": null,
            "grid_auto_rows": null,
            "grid_column": null,
            "grid_gap": null,
            "grid_row": null,
            "grid_template_areas": null,
            "grid_template_columns": null,
            "grid_template_rows": null,
            "height": null,
            "justify_content": null,
            "justify_items": null,
            "left": null,
            "margin": null,
            "max_height": null,
            "max_width": null,
            "min_height": null,
            "min_width": null,
            "object_fit": null,
            "object_position": null,
            "order": null,
            "overflow": null,
            "overflow_x": null,
            "overflow_y": null,
            "padding": null,
            "right": null,
            "top": null,
            "visibility": null,
            "width": null
          }
        },
        "4bc4210f525f490a8c9f0ebdec1465f3": {
          "model_module": "@jupyter-widgets/controls",
          "model_name": "ProgressStyleModel",
          "model_module_version": "1.5.0",
          "state": {
            "_model_module": "@jupyter-widgets/controls",
            "_model_module_version": "1.5.0",
            "_model_name": "ProgressStyleModel",
            "_view_count": null,
            "_view_module": "@jupyter-widgets/base",
            "_view_module_version": "1.2.0",
            "_view_name": "StyleView",
            "bar_color": null,
            "description_width": ""
          }
        }
      }
    }
  },
  "nbformat": 4,
  "nbformat_minor": 0
}