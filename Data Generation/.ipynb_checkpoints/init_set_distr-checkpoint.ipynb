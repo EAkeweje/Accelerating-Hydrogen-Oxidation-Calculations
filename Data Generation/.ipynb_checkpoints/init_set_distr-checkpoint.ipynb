{
 "cells": [
  {
   "cell_type": "code",
   "execution_count": null,
   "metadata": {},
   "outputs": [],
   "source": [
    "import numpy as np\n",
    "from matplotlib import pyplot as plt\n",
    "\n",
    "def gaussian(t, mathexp, dispersion):\n",
    "    return 1./(dispersion*np.sqrt(2.*np.pi)) * np.exp(-np.power(t - mathexp, 2.) / (2 * np.power(dispersion, 2.))) "
   ]
  },
  {
   "cell_type": "markdown",
   "metadata": {},
   "source": [
    "Initial version of dataset generation:\n",
    "Input: $T,P,{x_i}\\ \\to\\ T,{c_i}$,\n",
    "which can transform again to  $T,P,{x_i}$ (provided the equation of state) species:\n",
    "\n",
    "|| H2 | H* | O* | O2 | H2O | HO* | HO2 | H2O2 | Ar | N2  ||\n",
    "\n",
    "Ar and N$_2$ are inert and mostly contribute to the heat capacity. At this stage assume concentrations of Ar and N$_2$ equalzero.\n",
    "\n",
    "With any set of reasonable conditions, H$_2$O$_2$ and HO$_2$ concentrations are always low ($<10^{-4}$).\n",
    "Interestingly, this is not the case for H* and O* ($x < 0.2$).\n",
    "I have checked the material balance in the initial program: it holds.\n",
    "\n",
    "$2c_{\\rm H2} + c_{\\rm *OH} + c_{\\rm H} + c_{\\rm O2H} + 2c_{\\rm H2O2} + 2c_{\\rm H2O} = {\\rm const} $ \n",
    "\n",
    "and corresponds to ${x_i},P,T$ provided the ideal EoS\n",
    "\n",
    "What I suggest for the “initial dataset”: generate points as follows:\n",
    "\n",
    "Concentrations: \n",
    "\n",
    "H2: Gaussian distribution, $\\mu =0.4,\\sigma=0.15$\n",
    "\n",
    "O2: Gaussian distribution, $ \\mu=0.2,\\sigma=0.22$\n",
    "\n",
    "H2O: Gaussian distribution, $ \\mu=0.15,\\sigma=0.3$ \n",
    "\n",
    "H* : Gaussian distribution, $ \\mu=0.1,\\sigma=0.04$, upper limit 0.2\n",
    "\n",
    "O* : Gaussian distribution, $ \\mu=0.1,\\sigma=0.04$, upper limit 0.2\n",
    "\n",
    "H2O2,HO2: uniform distribution, $ \\mu=10^{-4}$  = 10-4, upper limit $2*10^{-4}$\n",
    "\n",
    "HO* : Gaussian distribution, upper limit 0.1 $ \\mu=0.05,\\sigma=0.04$, upper limit 0.1\n",
    "\n",
    "H2O2: uniform distribution, $\\mu = 10^{-4}$, upper limit 10-4\n",
    "\n",
    "T: uniform, $\\mu =2000$K:\n",
    "\n",
    "P: log uniform, $\\mu =300$kPa (not much, interestingly)\n",
    "\n",
    "Assume that $x_i$ are independent, as they are scaled in the Rosatom chembox code (sum = 1)\n",
    "However, we should take this into acct, cause if for randomness of the distribution $x_{\\rm H2}, x_{\\rm O2},x_{\\rm H2O}$ are low, this can increase $x_{\\rm H*}$ and $x_{\\rm O*}$ above reasonable level (I will continue to explore this, cause diffusion cannot increase the concentration of radicals if they are low in the beiboring cells too)\n",
    "\n",
    "A solution is simply reject any point where $x_{\\rm H*}$ or $x_{\\rm O*}$ exceeds 0.2. or $x_{\\rm HO*}$ exceeds 0.1.\n"
   ]
  },
  {
   "cell_type": "code",
   "execution_count": 7,
   "metadata": {},
   "outputs": [
    {
     "data": {
      "image/png": "[encoded data removed]",
      "text/plain": [
       "<Figure size 432x288 with 1 Axes>"
      ]
     },
     "metadata": {
      "needs_background": "light"
     },
     "output_type": "display_data"
    }
   ],
   "source": [
    "lowlim=0\n",
    "highlim=1\n",
    "mu=0.4\n",
    "sigma=0.15\n",
    "\n",
    "npoints=500\n",
    "p_h2=[];p_o2=[];p_h=[];p_o=[];p_oh=[];p_h2o=[];p_h202=[];p_ho2=[]\n",
    "\n",
    "x=np.linspace(lowlim, highlim, num=npoints, endpoint=True, retstep=False, dtype=float)\n",
    "\n",
    "fig1=plt.figure()\n",
    "\n",
    "for i in range(npoints):\n",
    "    p_h2.append(gaussian(t=x[i],mathexp=mu,dispersion=sigma))\n",
    "plt.plot(x,p_h2,label='H2')\n",
    "\n",
    "lowlim=0\n",
    "highlim=1\n",
    "mu=0.2\n",
    "sigma=0.22\n",
    "for i in range(npoints):\n",
    "    p_o2.append(gaussian(t=x[i],mathexp=mu,dispersion=sigma))\n",
    "plt.plot(x,p_o2,label='O2')\n",
    "\n",
    "lowlim=0\n",
    "highlim=1\n",
    "mu=0.15\n",
    "sigma=0.3\n",
    "for i in range(npoints):\n",
    "    p_h2o.append(gaussian(t=x[i],mathexp=mu,dispersion=sigma))\n",
    "plt.plot(x,p_h2o,label='H2O')\n",
    "\n",
    "lowlim=0\n",
    "highlim=0.1\n",
    "mu=0.05\n",
    "sigma=0.04\n",
    "for i in range(npoints):\n",
    "    p_oh.append(gaussian(t=x[i],mathexp=mu,dispersion=sigma))\n",
    "plt.plot(x,p_oh,label='HO*')\n",
    "\n",
    "lowlim=0\n",
    "highlim=0.2\n",
    "mu=0.1\n",
    "sigma=0.04\n",
    "x=np.linspace(lowlim, highlim, num=npoints, endpoint=True, retstep=False, dtype=float)\n",
    "for i in range(npoints):\n",
    "    p_h.append(gaussian(t=x[i],mathexp=mu,dispersion=sigma))\n",
    "plt.plot(x,p_h,label='H*,O*')\n",
    "\n",
    "plt.legend()\n",
    "fig1.show()\n"
   ]
  },
  {
   "cell_type": "code",
   "execution_count": null,
   "metadata": {},
   "outputs": [],
   "source": []
  }
 ],
 "metadata": {
  "kernelspec": {
   "display_name": "Python 3 (ipykernel)",
   "language": "python",
   "name": "python3"
  },
  "language_info": {
   "codemirror_mode": {
    "name": "ipython",
    "version": 3
   },
   "file_extension": ".py",
   "mimetype": "text/x-python",
   "name": "python",
   "nbconvert_exporter": "python",
   "pygments_lexer": "ipython3",
   "version": "3.8.13"
  }
 },
 "nbformat": 4,
 "nbformat_minor": 4
}
