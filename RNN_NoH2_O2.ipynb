{
  "cells": [
    {
      "cell_type": "markdown",
      "metadata": {
        "colab_type": "text",
        "id": "view-in-github"
      },
      "source": [
        "<a href=\"https://colab.research.google.com/github/EAkeweje/Accelerating-Hydrogen-Oxidation-Calculations/blob/main/RNN_based_with_Wandb.ipynb\" target=\"_parent\"><img src=\"https://colab.research.google.com/assets/colab-badge.svg\" alt=\"Open In Colab\"/></a>"
      ]
    },
    {
      "cell_type": "code",
      "execution_count": 1,
      "metadata": {
        "colab": {
          "base_uri": "https://localhost:8080/",
          "height": 151
        },
        "id": "Lbe0cJ-MiCyd",
        "outputId": "4fb2002b-f90b-4d78-da33-25f5750b64e4"
      },
      "outputs": [
        {
          "name": "stderr",
          "output_type": "stream",
          "text": [
            "\u001b[34m\u001b[1mwandb\u001b[0m: Currently logged in as: \u001b[33mdata-bigwig\u001b[0m. Use \u001b[1m`wandb login --relogin`\u001b[0m to force relogin\n"
          ]
        },
        {
          "data": {
            "text/plain": [
              "True"
            ]
          },
          "execution_count": 1,
          "metadata": {},
          "output_type": "execute_result"
        }
      ],
      "source": [
        "#import and login\n",
        "import wandb\n",
        "\n",
        "wandb.login()"
      ]
    },
    {
      "cell_type": "code",
      "execution_count": 2,
      "metadata": {
        "colab": {
          "base_uri": "https://localhost:8080/"
        },
        "id": "33uJPgUHRHMV",
        "outputId": "37e328d6-e238-4c0b-f74f-3a6bda256a08"
      },
      "outputs": [
        {
          "name": "stdout",
          "output_type": "stream",
          "text": [
            "/Volumes/GoogleDrive/My Drive/Skoltech/Research/Hydrogen Oxidation\n"
          ]
        }
      ],
      "source": [
        "%cd '/Volumes/GoogleDrive/My Drive/Skoltech/Research/Hydrogen Oxidation'"
      ]
    },
    {
      "cell_type": "code",
      "execution_count": 3,
      "metadata": {
        "id": "1cuI4Qzbecga"
      },
      "outputs": [],
      "source": [
        "import numpy as np\n",
        "import matplotlib.pyplot as plt\n",
        "import networkx as nx\n",
        "\n",
        "import torch\n",
        "from torch.autograd import Variable\n",
        "import torch.optim as optim\n",
        "import torch.nn as nn\n",
        "import torch.nn.functional as F\n",
        "from torch.utils.data import Dataset, DataLoader\n",
        "from torch.utils.data.sampler import SubsetRandomSampler\n",
        "\n",
        "import PIL\n",
        "import pandas as pd\n",
        "from tqdm.notebook import tqdm\n",
        "import json\n",
        "import time\n",
        "import cv2\n",
        "import random\n",
        "import glob\n",
        "import os\n",
        "import copy\n",
        "from sklearn.metrics import r2_score"
      ]
    },
    {
      "cell_type": "markdown",
      "metadata": {
        "id": "RU7ouKqQud_s"
      },
      "source": [
        "## Utils"
      ]
    },
    {
      "cell_type": "code",
      "execution_count": 4,
      "metadata": {
        "id": "EcwOnufhNPE_"
      },
      "outputs": [],
      "source": [
        "#Dataset object\n",
        "class OxidationDataset(Dataset):\n",
        "\n",
        "    def __init__(self, inputs_path, outputs_dir, nsample, ntimesteps):\n",
        "        \"\"\"\n",
        "        Args:\n",
        "            inputs_dir (string): \n",
        "            outputs_dir (string):\n",
        "        \"\"\"\n",
        "        \n",
        "        # x = np.loadtxt(inputs_path, skiprows = 1, delimiter= ',')\n",
        "        # x = np.loadtxt(inputs_path, delimiter= ' ')\n",
        "        with open(inputs_path, 'rb') as f:\n",
        "          x = np.load(f)\n",
        "        #drop inert gases\n",
        "        self.inputs = np.delete(x[ :nsample, :], [0, 3, 8,9], 1)[:, np.newaxis] #exclude H2, O2 and the inert gases\n",
        "        self.out_dir = outputs_dir\n",
        "        self.ntimesteps = ntimesteps\n",
        "\n",
        "\n",
        "    def __len__(self):\n",
        "        return len(self.inputs)\n",
        "\n",
        "    def __getitem__(self, idx):\n",
        "        #get output\n",
        "        # Y = np.loadtxt(os.path.join(self.out_dir, f'out{idx}.txt'), delimiter= ';')\n",
        "        with open(os.path.join(self.out_dir, f'out{idx}.npy'), 'rb') as f:\n",
        "          Y = np.load(f)\n",
        "\n",
        "        #drop inert gases\n",
        "        if type(self.ntimesteps) == int:\n",
        "            Y = Y[:self.ntimesteps, 1:-2]\n",
        "        elif type(self.ntimesteps) == list:\n",
        "            Y = Y[self.ntimesteps, 1:-2]\n",
        "        elif self.ntimesteps == 'all':\n",
        "            Y = Y[:, 1:-2]\n",
        "        else:\n",
        "            raise ValueError(\"Invalid argument 'ntimestep' should an interger, a list or 'all' string\")\n",
        "        #excluding H2 and O2\n",
        "        Y = np.delete(Y, [1,4])\n",
        "\n",
        "        return torch.from_numpy(self.inputs[idx]), torch.from_numpy(Y)"
      ]
    },
    {
      "cell_type": "code",
      "execution_count": 5,
      "metadata": {
        "id": "6Z0qixxwQ3-3"
      },
      "outputs": [],
      "source": [
        "#for data standardization\n",
        "def standardize(tensor, dim = 0, mean = None, std = None) -> torch.float64:\n",
        "    tensor = tensor.float()\n",
        "\n",
        "    if mean is None:\n",
        "        mean = tensor.mean(dim = dim, keepdim = True)\n",
        "\n",
        "    if std is None:\n",
        "        std = tensor.std(dim = dim, keepdim = True)\n",
        "\n",
        "    standard_tensor = (tensor - mean) / std\n",
        "    return standard_tensor, mean, std\n",
        "\n",
        "def inverse_standardize(tensor, dim, mean, std):\n",
        "    tensor = tensor.float()\n",
        "    return tensor * std + mean"
      ]
    },
    {
      "cell_type": "code",
      "execution_count": 6,
      "metadata": {
        "id": "UFzhT9hAIu8T"
      },
      "outputs": [],
      "source": [
        "def load_mean_std(path, loader = None):\n",
        "  if os.path.exists(path):\n",
        "    #get means and stds\n",
        "    with open(path, 'r') as f:\n",
        "        mean_std_dict = json.load(f)\n",
        "    train_x_mean = torch.tensor(mean_std_dict['mean_x'])\n",
        "    train_x_std = torch.tensor(mean_std_dict['std_x'])\n",
        "    train_y_mean = torch.tensor(mean_std_dict['mean_y'])\n",
        "    train_y_std = torch.tensor(mean_std_dict['std_y'])\n",
        "    return train_x_mean, train_x_std, train_y_mean, train_y_std\n",
        "  else:\n",
        "    return save_mean_std(loader, path, output = True)\n",
        "  "
      ]
    },
    {
      "cell_type": "code",
      "execution_count": 7,
      "metadata": {
        "id": "ZPtYcqUplFZu"
      },
      "outputs": [],
      "source": [
        "def save_mean_std(loader, path, output = False):\n",
        "  '''\n",
        "  loader:: preferably train loader\n",
        "  path:: a json path\n",
        "  output:: bool: to output the means and stds\n",
        "  '''\n",
        "  #obtaining mean and std of training set\n",
        "  train_x = []\n",
        "  train_y = []\n",
        "  for x,y in loader:\n",
        "      train_x.append(x)\n",
        "      train_y.append(y)\n",
        "\n",
        "  _, train_x_mean, train_x_std = standardize(torch.concat(train_x), 0)\n",
        "  _, train_y_mean, train_y_std = standardize(torch.concat(train_y), 0)\n",
        "\n",
        "  #write to disc\n",
        "  mean_std_dict = {\n",
        "      'mean_x' : train_x_mean.tolist(),\n",
        "      'mean_y' : train_y_mean.tolist(),\n",
        "      'std_x' : train_x_std.tolist(),\n",
        "      'std_y' : train_y_std.tolist()\n",
        "  }\n",
        "\n",
        "  with open(path, 'w') as f:\n",
        "    json.dump(mean_std_dict, f)\n",
        "  \n",
        "  if output:\n",
        "    return train_x_mean, train_x_std, train_y_mean, train_y_std"
      ]
    },
    {
      "cell_type": "code",
      "execution_count": 8,
      "metadata": {
        "id": "3o-JvRD4aDbF"
      },
      "outputs": [],
      "source": [
        "def train_step(model, optimizer, criterion, dataloader, mean_std, device, mb_coeff = 0):\n",
        "  '''\n",
        "  Do one training epoch.\n",
        "  mb_coeff is material balance weight. If mb_coeff == 0, then material balance is not considered.\n",
        "  '''\n",
        "  train_loss_ = 0.0\n",
        "  model.train()\n",
        "  for input, target in dataloader:\n",
        "    # Transfer Data to GPU if available\n",
        "    input, target = input.to(device), target.to(device)\n",
        "    # Standardize\n",
        "    input, _, _ = standardize(input, 0, mean_std[0], mean_std[1])\n",
        "    target, _, _ = standardize(target, 0, mean_std[2], mean_std[3])\n",
        "    # Forward Pass\n",
        "    predict = model(input.float())\n",
        "    # Find loss\n",
        "    if mb_coeff != 0:\n",
        "      #Material Balance\n",
        "      T_H_true, T_H_pred, T_O_true, T_O_pred = total_material(target, predict)\n",
        "      loss = criterion(predict,target.float()) + mb_coeff * criterion(T_H_pred, T_H_true) + mb_coeff * criterion(T_O_pred, T_O_true)\n",
        "    else:\n",
        "      loss = criterion(predict, target.float())\n",
        "    # Clear the gradients\n",
        "    optimizer.zero_grad()\n",
        "    # Calculate gradients\n",
        "    loss.backward()\n",
        "    # Update Weights\n",
        "    optimizer.step()\n",
        "    # Calculate Loss\n",
        "    train_loss_ += loss.item() \n",
        "  return train_loss_\n",
        "\n",
        "def valid_step(model, criterion, dataloader, mean_std, device, mb_coeff = 0):\n",
        "  valid_loss_ = 0.0\n",
        "  model.eval()     # Optional when not using Model Specific layer\n",
        "  for input, target in dataloader:\n",
        "    # Transfer Data to GPU if available\n",
        "    input, target = input.to(device), target.to(device)\n",
        "    #standardize\n",
        "    input, _, _ = standardize(input, 0, mean_std[0], mean_std[1])\n",
        "    target, _, _ = standardize(target, 0, mean_std[2], mean_std[3])\n",
        "    # Forward Pass\n",
        "    predict = model(input.float())\n",
        "    # Find the Loss\n",
        "    if mb_coeff != 0:\n",
        "      #Material Balance\n",
        "      T_H_true, T_H_pred, T_O_true, T_O_pred = total_material(target, predict)\n",
        "      loss = criterion(predict,target.float()) + mb_coeff * criterion(T_H_pred, T_H_true) + mb_coeff * criterion(T_O_pred, T_O_true)\n",
        "    else:\n",
        "      loss = criterion(predict,target.float())\n",
        "    # Calculate Loss\n",
        "    valid_loss_ += loss.item()\n",
        "  return valid_loss_"
      ]
    },
    {
      "cell_type": "code",
      "execution_count": 9,
      "metadata": {
        "id": "iLXfZKnO-nOM"
      },
      "outputs": [],
      "source": [
        "def loss_plot(train_loss, valid_loss):\n",
        "  plt.figure(figsize = (10,7))\n",
        "  epochs = len(train_loss)\n",
        "  epochs2 = len(valid_loss)\n",
        "  plt.plot(range(epochs),train_loss,'-r',label = 'Training loss')\n",
        "  plt.plot(range(epochs2),valid_loss,'-b',label = 'Validation loss')\n",
        "  plt.yscale('log')\n",
        "  plt.legend(fontsize=15)\n",
        "  plt.grid()\n",
        "  plt.xlabel('epochs', fontsize=15)\n",
        "  plt.ylabel('MSE', fontsize=15)\n",
        "  plt.show()\n",
        "# plt.title(f'Loss curve (2ks {len(dataset.guage_space)}sensor)', fontsize = 20)}"
      ]
    },
    {
      "cell_type": "code",
      "execution_count": 10,
      "metadata": {
        "id": "pJCPrVDSIrOI"
      },
      "outputs": [],
      "source": [
        "def total_material(y_true, y_pred):\n",
        "  '''\n",
        "  Computes the total material (moles) of Hydrogen and Oxygen in product.\n",
        "  y_true: ground truth\n",
        "  y_pred: (model) prediction\n",
        "  '''\n",
        "  assert y_true.ndim == y_pred.ndim, f'Tensors are of different dimensions: {y_true.ndim} and {y_pred.ndim}'\n",
        "  assert y_true.shape == y_pred.shape, f'Shape of tensor are different: {y_true.shape} and {y_pred.shape}'\n",
        "  assert y_true.ndim < 4, f'Tensor dimension must be less than 4: {y_true.ndim}'\n",
        "\n",
        "  if y_true.ndim == 1:\n",
        "    T_H_true = 2*y_true[1] + y_true[2] + y_true[5]+ 2*y_true[6] + y_true[7]+ 2*y_true[8]\n",
        "    T_H_pred = 2*y_pred[1] + y_pred[2] + y_pred[5]+ 2*y_pred[6] + y_pred[7]+ 2*y_pred[8]\n",
        "    T_O_true = y_true[3] + 2*y_true[4] + y_true[5]+ y_true[6] + 2*y_true[7]+ 2*y_true[8]\n",
        "    T_O_pred = y_pred[3] + 2*y_pred[4] + y_pred[5]+ y_pred[6] + 2*y_pred[7]+ 2*y_pred[8]\n",
        "\n",
        "  elif y_true.ndim == 2:\n",
        "    T_H_true = 2*y_true[:,1] + y_true[:,2] + y_true[:,5]+ 2*y_true[:,6] + y_true[:,7]+ 2*y_true[:,8]\n",
        "    T_H_pred = 2*y_pred[:,1] + y_pred[:,2] + y_pred[:,5]+ 2*y_pred[:,6] + y_pred[:,7]+ 2*y_pred[:,8]\n",
        "    T_O_true = y_true[:,3] + 2*y_true[:,4] + y_true[:,5]+ y_true[:,6] + 2*y_true[:,7]+ 2*y_true[:,8]\n",
        "    T_O_pred = y_pred[:,3] + 2*y_pred[:,4] + y_pred[:,5]+ y_pred[:,6] + 2*y_pred[:,7]+ 2*y_pred[:,8]\n",
        "  \n",
        "  elif y_true.ndim == 3:\n",
        "    T_H_true = 2*y_true[:,:,1] + y_true[:,:,2] + y_true[:,:,5]+ 2*y_true[:,:,6] + y_true[:,:,7]+ 2*y_true[:,:,8]\n",
        "    T_H_pred = 2*y_pred[:,:,1] + y_pred[:,:,2] + y_pred[:,:,5]+ 2*y_pred[:,:,6] + y_pred[:,:,7]+ 2*y_pred[:,:,8]\n",
        "    T_O_true = y_true[:,:,3] + 2*y_true[:,:,4] + y_true[:,:,5]+ y_true[:,:,6] + 2*y_true[:,:,7]+ 2*y_true[:,:,8]\n",
        "    T_O_pred = y_pred[:,:,3] + 2*y_pred[:,:,4] + y_pred[:,:,5]+ y_pred[:,:,6] + 2*y_pred[:,:,7]+ 2*y_pred[:,:,8]\n",
        "  \n",
        "  return T_H_true, T_H_pred, T_O_true, T_O_pred\n"
      ]
    },
    {
      "cell_type": "code",
      "execution_count": 11,
      "metadata": {
        "id": "KDFbtxNO40wP"
      },
      "outputs": [],
      "source": [
        "###Networks\n",
        "#single step\n",
        "class RNN_Model(nn.Module):\n",
        "    def __init__(self, input_size, hidden_size, num_layers, output_size):\n",
        "        super(RNN_Model, self).__init__()\n",
        "        self.input_size = input_size\n",
        "        self.hidden_size = hidden_size\n",
        "        self.output_size = output_size\n",
        "        self.num_layers = num_layers\n",
        "        self.rnn = nn.RNN(self.input_size, self.hidden_size, self.num_layers, dropout = 0.1, batch_first = True)\n",
        "        self.linear = nn.Linear(self.hidden_size, self.output_size)\n",
        "        \n",
        "    def forward(self, x):\n",
        "        out, _ = self.rnn(x)\n",
        "        out = self.linear(out)\n",
        "        return out\n",
        "    \n",
        "def init_weights(m):\n",
        "    if type(m) == nn.Linear:\n",
        "        nn.init.kaiming_uniform_(m.weight, nonlinearity= 'relu')\n",
        "        m.bias.data.fill_(0.0)\n",
        "\n",
        "###multiple time steps\n",
        "#one to many RNN architechture\n",
        "class Base_RNN(nn.Module):\n",
        "    def __init__(self, input_size, hidden_size, num_layers):\n",
        "        super(Base_RNN, self).__init__()\n",
        "        self.input_size = input_size\n",
        "        self.hidden_size = hidden_size\n",
        "        self.num_layers = num_layers\n",
        "        self.rnn = nn.RNN(self.input_size, self.hidden_size, self.num_layers, dropout = 0.1, batch_first = True)\n",
        "        self.linear = nn.Linear(self.hidden_size, self.input_size)\n",
        "        \n",
        "    def forward(self, x, in_hidden = None):\n",
        "        if in_hidden == None:\n",
        "            out, out_hidden = self.rnn(x)\n",
        "        else:\n",
        "            out, out_hidden = self.rnn(x, in_hidden)\n",
        "        out = self.linear(out)\n",
        "        return out, out_hidden\n",
        "\n",
        "class RNN_Model_Multiple(nn.Module):\n",
        "    def __init__(self,input_size, hidden_size, num_layers, output_size, ntimesteps):\n",
        "        super(RNN_Model_Multiple, self).__init__()\n",
        "        self.input_size = input_size\n",
        "        self.hidden_size = hidden_size\n",
        "        self.output_size = output_size\n",
        "        self.num_layers = num_layers\n",
        "        self.ntimesteps = ntimesteps\n",
        "        self.base_rnn = Base_RNN(self.input_size, self.hidden_size, self.num_layers)\n",
        "        self.relu = nn.ReLU()\n",
        "        self.linear = nn.Linear(self.input_size, self.output_size)\n",
        "        \n",
        "    def forward(self, x):\n",
        "        out = x\n",
        "        hidden = None\n",
        "        \n",
        "        #to store outputs\n",
        "        outputs = []\n",
        "        \n",
        "        for t in range(self.ntimesteps):                \n",
        "            #pass to rnn\n",
        "            out, hidden = self.base_rnn(out, hidden)\n",
        "            #pass to output layer\n",
        "            outputs.append(self.linear(self.relu(out)))\n",
        "            #skip connection\n",
        "            out += x\n",
        "\n",
        "        return torch.concat(outputs, 1)\n",
        "\n",
        "#one to many RNN architechture\n",
        "class Base_RNN_v2(nn.Module):\n",
        "    def __init__(self, output_size, hidden_size, num_layers):\n",
        "        super(Base_RNN_v2, self).__init__()\n",
        "        self.hidden_size = hidden_size\n",
        "        self.output_size = output_size\n",
        "        self.num_layers = num_layers\n",
        "        self.rnn = nn.RNN(self.output_size, self.hidden_size, self.num_layers, dropout = 0.1, batch_first = True)\n",
        "        self.linear = nn.Linear(self.hidden_size, self.output_size)\n",
        "\n",
        "    def forward(self, x, in_hidden = None):\n",
        "        if in_hidden == None:\n",
        "            out, out_hidden = self.rnn(x)\n",
        "        else:\n",
        "            out, out_hidden = self.rnn(x, in_hidden)\n",
        "        out = self.linear(out)\n",
        "        return out, out_hidden\n",
        "\n",
        "class RNN_Model_Multiple_v2(nn.Module):\n",
        "    def __init__(self,input_size, hidden_size, num_layers, output_size, ntimesteps):\n",
        "        super(RNN_Model_Multiple_v2, self).__init__()\n",
        "        self.input_size = input_size\n",
        "        self.hidden_size = hidden_size\n",
        "        self.output_size = output_size\n",
        "        self.num_layers = num_layers\n",
        "        self.ntimesteps = ntimesteps\n",
        "        self.base_rnn = Base_RNN_v2(self.output_size, self.hidden_size, self.num_layers)\n",
        "        self.relu = nn.ReLU()\n",
        "        self.linear = nn.Linear(self.input_size, self.output_size)\n",
        "\n",
        "    def forward(self, x):\n",
        "        #pass to first layer and activation\n",
        "        x = self.relu(self.linear(x))\n",
        "\n",
        "        #to store outputs\n",
        "        outputs = []\n",
        "\n",
        "        #set inputs to first RNN layer\n",
        "        out = x\n",
        "        hidden = None\n",
        "\n",
        "        #loop through rnn layers\n",
        "        for t in range(self.ntimesteps):                \n",
        "            #pass to rnn\n",
        "            out, hidden = self.base_rnn(out, hidden)\n",
        "            #pass to output layer\n",
        "            outputs.append(out)\n",
        "            #skip connection\n",
        "            out += x\n",
        "\n",
        "        return torch.concat(outputs, 1)"
      ]
    },
    {
      "cell_type": "code",
      "execution_count": 12,
      "metadata": {
        "id": "8t5KrR8hEVJi"
      },
      "outputs": [],
      "source": [
        "def make_dataloaders(config):\n",
        "    '''\n",
        "    batch_size: int = batch size\n",
        "    ntimesteps: int or list = number/list of time steps in data\n",
        "    nsample: int = number of samples to use\n",
        "    split: list = list of train set to data ration and train+valid set to data ratio\n",
        "    '''\n",
        "    #initialize dataset object\n",
        "    dataset = OxidationDataset(inputs_path = 'input_98660.npy',#'input_98660.txt',\n",
        "                               outputs_dir = './Out_files_npy',\n",
        "                               nsample = config.nsample,\n",
        "                               ntimesteps = config.timesteps)\n",
        "    # Creating Training, Validation, and Test dataloaders\n",
        "    # split Train : Val : Test = 0.7 : 0.2 : 0.1\n",
        "    dataset_size = len(dataset)\n",
        "    indices = list(range(dataset_size))\n",
        "    train_split = int(np.floor(config.split[0] * dataset_size))\n",
        "    val_split = int(np.floor(config.split[1] * dataset_size))\n",
        "    shuffle_dataset = True\n",
        "    random_seed = 42\n",
        "    if shuffle_dataset :\n",
        "        np.random.seed(random_seed)\n",
        "        np.random.shuffle(indices)\n",
        "    train_indices = indices[ : train_split]\n",
        "    val_indices = indices[train_split : train_split + val_split]\n",
        "    test_indices = indices[train_split + val_split : ]\n",
        "\n",
        "    # Creating PT data samplers and loaders:\n",
        "    train_sampler = SubsetRandomSampler(train_indices)\n",
        "    valid_sampler = SubsetRandomSampler(val_indices)\n",
        "    test_sampler = SubsetRandomSampler(test_indices)\n",
        "\n",
        "    train_loader = DataLoader(dataset, batch_size = config.batch_size, sampler=train_sampler)\n",
        "    validation_loader = DataLoader(dataset, batch_size = config.batch_size, sampler=valid_sampler)\n",
        "    test_loader = DataLoader(dataset, batch_size = config.batch_size, sampler=test_sampler)\n",
        "    \n",
        "    return train_loader, validation_loader, test_loader\n",
        "\n",
        "def to_device(model, train_x_mean, train_x_std, train_y_mean, train_y_std):\n",
        "  if torch.cuda.is_available():\n",
        "    model = model.cuda()\n",
        "    train_x_mean = train_x_mean.cuda()\n",
        "    train_x_std = train_x_std.cuda()\n",
        "    train_y_mean = train_y_mean.cuda()\n",
        "    train_y_std = train_y_std.cuda()"
      ]
    },
    {
      "cell_type": "code",
      "execution_count": 13,
      "metadata": {
        "id": "4pJsQiLArxzk"
      },
      "outputs": [],
      "source": [
        "def training(model, train_loader, val_loader, config, criterion, mean_std, device, dict_path):\n",
        "  '''\n",
        "  model:: Neural network\n",
        "  epoch:: \n",
        "  optimizer:: optimization algorithm. Default Adam\n",
        "  learning rate:: \n",
        "  dict_path:: path to save best model's state_dict\n",
        "  criterion:: loss function. Default = nn.MSELoss()\n",
        "  scheduler:: schedule learning rate. Default = False\n",
        "  mb_coeff :: Weight for material balance inclusion. Default = 0\n",
        "  '''\n",
        "  min_valid_loss = np.inf\n",
        "  # train_loss = []\n",
        "  # valid_loss = []\n",
        "\n",
        "  if config.optimizer == 'Adam':\n",
        "    optimizer = torch.optim.Adam(model.parameters(), lr = config.lr, betas = (config.beta1, config.beta2))\n",
        "  elif config.optimizer == 'SGD':\n",
        "    optimizer = torch.optim.SGD(model.parameters(), lr = config.lr, momentum= config.SGD_momentum)\n",
        "  else:\n",
        "    raise ValueError(f'Unknown optimizer ({config.optimizer})')\n",
        "\n",
        "  scheduler = torch.optim.lr_scheduler.StepLR(optimizer, step_size=50, gamma=0.1)\n",
        "  no_save = 0 #for early stopping\n",
        "\n",
        "  for e in range(config.epochs):\n",
        "    train_loss_ = train_step(model, optimizer, criterion, train_loader, mean_std, device, config.mb_coeff)\n",
        "    valid_loss_ = valid_step(model, criterion, val_loader, mean_std, device, config.mb_coeff)\n",
        "\n",
        "    wandb.log({\"train_loss\": train_loss_/len(train_loader),\n",
        "               \"val_loss\": valid_loss_/len(val_loader)})\n",
        "\n",
        "    if config.scheduling:\n",
        "      scheduler.step()\n",
        "\n",
        "    if min_valid_loss > valid_loss_:\n",
        "        min_valid_loss = valid_loss_\n",
        "\n",
        "        no_save = 0 #reset counter\n",
        "        # Saving State Dict\n",
        "        if dict_path != None:\n",
        "          torch.save(model.state_dict(), dict_path)\n",
        "        \n",
        "    else:\n",
        "      no_save += 1\n",
        "\n",
        "    # Early stopping\n",
        "    if no_save >= 200:\n",
        "      break\n",
        "\n",
        "  return e, min_valid_loss"
      ]
    },
    {
      "cell_type": "markdown",
      "metadata": {
        "id": "LYgKLBgK6tFy"
      },
      "source": [
        "#Training"
      ]
    },
    {
      "cell_type": "code",
      "execution_count": 14,
      "metadata": {
        "colab": {
          "base_uri": "https://localhost:8080/"
        },
        "id": "bqQfsi9J7Cxv",
        "outputId": "e207b633-4424-44d4-a9f0-0063a91ea0bb"
      },
      "outputs": [
        {
          "data": {
            "text/plain": [
              "{'batch_size': 16,\n",
              " 'timesteps': 'all',\n",
              " 'nsample': 1500,\n",
              " 'split': [0.7, 0.2, 0.1],\n",
              " 'mean_std_path': 'rnn_NoH2_O2_all_mean_std.json',\n",
              " 'input_size': 8,\n",
              " 'hidden_size': 100,\n",
              " 'num_layers': 2,\n",
              " 'output_size': 7,\n",
              " 'ntimesteps': 201,\n",
              " 'epochs': 500,\n",
              " 'optimizer': 'Adam',\n",
              " 'SGD_momentum': 0.9,\n",
              " 'beta1': 0.95,\n",
              " 'beta2': 0.9,\n",
              " 'lr': 0.001,\n",
              " 'dict_path': 'rnn_NoH2_O2_all.pth',\n",
              " 'scheduling': True,\n",
              " 'mb_coeff': 0,\n",
              " 'model': 'v1'}"
            ]
          },
          "execution_count": 14,
          "metadata": {},
          "output_type": "execute_result"
        }
      ],
      "source": [
        "# Config\n",
        "params = dict(\n",
        "    ## data\n",
        "    batch_size = 16,\n",
        "    timesteps = 'all',\n",
        "    nsample = 1500,\n",
        "    split = [0.7, 0.2, 0.1],\n",
        "    mean_std_path = 'rnn_NoH2_O2_all_mean_std.json',\n",
        "    ## model\n",
        "    input_size = 8,\n",
        "    hidden_size = 100,\n",
        "    num_layers = 2,\n",
        "    output_size = 7,\n",
        "    ntimesteps = 201,\n",
        "    ## training\n",
        "    epochs = 500,\n",
        "    optimizer = 'Adam',\n",
        "    SGD_momentum = 0.9,\n",
        "    beta1 = 0.95, \n",
        "    beta2 = 0.9,\n",
        "    lr = 0.001,\n",
        "    dict_path = 'rnn_NoH2_O2_all.pth', #lr_momentum\n",
        "    scheduling = True,\n",
        "    mb_coeff = 0,\n",
        "    model = 'v1'\n",
        "    )\n",
        "\n",
        "params"
      ]
    },
    {
      "cell_type": "code",
      "execution_count": 15,
      "metadata": {},
      "outputs": [
        {
          "data": {
            "text/html": [
              "Tracking run with wandb version 0.13.3"
            ],
            "text/plain": [
              "<IPython.core.display.HTML object>"
            ]
          },
          "metadata": {},
          "output_type": "display_data"
        },
        {
          "data": {
            "text/html": [
              "Run data is saved locally in <code>/Volumes/GoogleDrive/My Drive/Skoltech/Research/Hydrogen Oxidation/wandb/run-20220913_140242-1v0bu5dd</code>"
            ],
            "text/plain": [
              "<IPython.core.display.HTML object>"
            ]
          },
          "metadata": {},
          "output_type": "display_data"
        },
        {
          "data": {
            "text/html": [
              "Syncing run <strong><a href=\"https://wandb.ai/data-bigwig/Hyrogen-Oxidation-Models/runs/1v0bu5dd\" target=\"_blank\">First Without $H_2$ and $O_2$</a></strong> to <a href=\"https://wandb.ai/data-bigwig/Hyrogen-Oxidation-Models\" target=\"_blank\">Weights & Biases</a> (<a href=\"https://wandb.me/run\" target=\"_blank\">docs</a>)<br/>"
            ],
            "text/plain": [
              "<IPython.core.display.HTML object>"
            ]
          },
          "metadata": {},
          "output_type": "display_data"
        },
        {
          "name": "stderr",
          "output_type": "stream",
          "text": [
            "Exception in thread Thread-11:\n",
            "Traceback (most recent call last):\n",
            "  File \"/Users/emmanuelakeweje/opt/anaconda3/lib/python3.8/site-packages/wandb/filesync/step_checksum.py\", line 85, in _thread_body\n",
            "    shutil.copy2(req.path, path)\n",
            "  File \"/Users/emmanuelakeweje/opt/anaconda3/lib/python3.8/shutil.py\", line 436, in copy2\n",
            "    copystat(src, dst, follow_symlinks=follow_symlinks)\n",
            "  File \"/Users/emmanuelakeweje/opt/anaconda3/lib/python3.8/shutil.py\", line 396, in copystat\n",
            "    lookup(\"chflags\")(dst, st.st_flags, follow_symlinks=follow)\n",
            "PermissionError: [Errno 1] Operation not permitted: '/var/folders/fn/s76qlgpx53b64n471qn2ylkc0000gn/T/tmpckw1vx71wandb/2r5jolzu-wandb-metadata.json'\n",
            "\n",
            "During handling of the above exception, another exception occurred:\n",
            "\n",
            "Traceback (most recent call last):\n",
            "  File \"/Users/emmanuelakeweje/opt/anaconda3/lib/python3.8/threading.py\", line 932, in _bootstrap_inner\n",
            "    self.run()\n",
            "  File \"/Users/emmanuelakeweje/opt/anaconda3/lib/python3.8/threading.py\", line 870, in run\n",
            "    self._target(*self._args, **self._kwargs)\n",
            "  File \"/Users/emmanuelakeweje/opt/anaconda3/lib/python3.8/site-packages/wandb/filesync/step_checksum.py\", line 88, in _thread_body\n",
            "    shutil.copy2(req.path, path)\n",
            "  File \"/Users/emmanuelakeweje/opt/anaconda3/lib/python3.8/shutil.py\", line 436, in copy2\n",
            "    copystat(src, dst, follow_symlinks=follow_symlinks)\n",
            "  File \"/Users/emmanuelakeweje/opt/anaconda3/lib/python3.8/shutil.py\", line 396, in copystat\n",
            "    lookup(\"chflags\")(dst, st.st_flags, follow_symlinks=follow)\n",
            "PermissionError: [Errno 1] Operation not permitted: '/var/folders/fn/s76qlgpx53b64n471qn2ylkc0000gn/T/tmpckw1vx71wandb/2r5jolzu-wandb-metadata.json'\n",
            "/Users/emmanuelakeweje/opt/anaconda3/lib/python3.8/site-packages/torch/nn/modules/loss.py:520: UserWarning: Using a target size (torch.Size([16, 1807])) that is different to the input size (torch.Size([16, 201, 7])). This will likely lead to incorrect results due to broadcasting. Please ensure they have the same size.\n",
            "  return F.mse_loss(input, target, reduction=self.reduction)\n"
          ]
        },
        {
          "data": {
            "text/html": [
              "Waiting for W&B process to finish... <strong style=\"color:red\">(failed 1).</strong> Press Control-C to abort syncing."
            ],
            "text/plain": [
              "<IPython.core.display.HTML object>"
            ]
          },
          "metadata": {},
          "output_type": "display_data"
        },
        {
          "data": {
            "application/vnd.jupyter.widget-view+json": {
              "model_id": "491bda483f804c3182192fceefe15444",
              "version_major": 2,
              "version_minor": 0
            },
            "text/plain": [
              "VBox(children=(Label(value='0.000 MB of 0.000 MB uploaded (0.000 MB deduped)\\r'), FloatProgress(value=1.0, max…"
            ]
          },
          "metadata": {},
          "output_type": "display_data"
        },
        {
          "name": "stderr",
          "output_type": "stream",
          "text": [
            "\u001b[34m\u001b[1mwandb\u001b[0m: \u001b[32m\u001b[41mERROR\u001b[0m Control-C detected -- Run data was not synced\n"
          ]
        },
        {
          "ename": "RuntimeError",
          "evalue": "The size of tensor a (7) must match the size of tensor b (1807) at non-singleton dimension 2",
          "output_type": "error",
          "traceback": [
            "\u001b[0;31m---------------------------------------------------------------------------\u001b[0m",
            "\u001b[0;31mRuntimeError\u001b[0m                              Traceback (most recent call last)",
            "\u001b[1;32m/Users/emmanuelakeweje/Documents/SkT/Research Contract/Accelerating-Hydrogen-Oxidation-Calculations/RNN_NoH2_O2.ipynb Cell 18\u001b[0m in \u001b[0;36m<cell line: 1>\u001b[0;34m()\u001b[0m\n\u001b[1;32m     <a href='vscode-notebook-cell:/Users/emmanuelakeweje/Documents/SkT/Research%20Contract/Accelerating-Hydrogen-Oxidation-Calculations/RNN_NoH2_O2.ipynb#X61sZmlsZQ%3D%3D?line=22'>23</a>\u001b[0m mean_std \u001b[39m=\u001b[39m [train_x_mean\u001b[39m.\u001b[39mto(device), train_x_std\u001b[39m.\u001b[39mto(device), train_y_mean\u001b[39m.\u001b[39mto(device), train_y_std\u001b[39m.\u001b[39mto(device)]\n\u001b[1;32m     <a href='vscode-notebook-cell:/Users/emmanuelakeweje/Documents/SkT/Research%20Contract/Accelerating-Hydrogen-Oxidation-Calculations/RNN_NoH2_O2.ipynb#X61sZmlsZQ%3D%3D?line=23'>24</a>\u001b[0m criterion  \u001b[39m=\u001b[39m nn\u001b[39m.\u001b[39mMSELoss()\n\u001b[0;32m---> <a href='vscode-notebook-cell:/Users/emmanuelakeweje/Documents/SkT/Research%20Contract/Accelerating-Hydrogen-Oxidation-Calculations/RNN_NoH2_O2.ipynb#X61sZmlsZQ%3D%3D?line=24'>25</a>\u001b[0m epochs, val_loss \u001b[39m=\u001b[39m training(model, train_loader, val_loader, config, criterion, mean_std, device, dict_path)\n\u001b[1;32m     <a href='vscode-notebook-cell:/Users/emmanuelakeweje/Documents/SkT/Research%20Contract/Accelerating-Hydrogen-Oxidation-Calculations/RNN_NoH2_O2.ipynb#X61sZmlsZQ%3D%3D?line=25'>26</a>\u001b[0m wandb\u001b[39m.\u001b[39mlog({\u001b[39m'\u001b[39m\u001b[39mloss\u001b[39m\u001b[39m'\u001b[39m: val_loss})\n\u001b[1;32m     <a href='vscode-notebook-cell:/Users/emmanuelakeweje/Documents/SkT/Research%20Contract/Accelerating-Hydrogen-Oxidation-Calculations/RNN_NoH2_O2.ipynb#X61sZmlsZQ%3D%3D?line=26'>27</a>\u001b[0m wandb\u001b[39m.\u001b[39mlog({\u001b[39m'\u001b[39m\u001b[39mnum_epochs\u001b[39m\u001b[39m'\u001b[39m: epochs})\n",
            "\u001b[1;32m/Users/emmanuelakeweje/Documents/SkT/Research Contract/Accelerating-Hydrogen-Oxidation-Calculations/RNN_NoH2_O2.ipynb Cell 18\u001b[0m in \u001b[0;36mtraining\u001b[0;34m(model, train_loader, val_loader, config, criterion, mean_std, device, dict_path)\u001b[0m\n\u001b[1;32m     <a href='vscode-notebook-cell:/Users/emmanuelakeweje/Documents/SkT/Research%20Contract/Accelerating-Hydrogen-Oxidation-Calculations/RNN_NoH2_O2.ipynb#X61sZmlsZQ%3D%3D?line=23'>24</a>\u001b[0m no_save \u001b[39m=\u001b[39m \u001b[39m0\u001b[39m \u001b[39m#for early stopping\u001b[39;00m\n\u001b[1;32m     <a href='vscode-notebook-cell:/Users/emmanuelakeweje/Documents/SkT/Research%20Contract/Accelerating-Hydrogen-Oxidation-Calculations/RNN_NoH2_O2.ipynb#X61sZmlsZQ%3D%3D?line=25'>26</a>\u001b[0m \u001b[39mfor\u001b[39;00m e \u001b[39min\u001b[39;00m \u001b[39mrange\u001b[39m(config\u001b[39m.\u001b[39mepochs):\n\u001b[0;32m---> <a href='vscode-notebook-cell:/Users/emmanuelakeweje/Documents/SkT/Research%20Contract/Accelerating-Hydrogen-Oxidation-Calculations/RNN_NoH2_O2.ipynb#X61sZmlsZQ%3D%3D?line=26'>27</a>\u001b[0m   train_loss_ \u001b[39m=\u001b[39m train_step(model, optimizer, criterion, train_loader, mean_std, device, config\u001b[39m.\u001b[39;49mmb_coeff)\n\u001b[1;32m     <a href='vscode-notebook-cell:/Users/emmanuelakeweje/Documents/SkT/Research%20Contract/Accelerating-Hydrogen-Oxidation-Calculations/RNN_NoH2_O2.ipynb#X61sZmlsZQ%3D%3D?line=27'>28</a>\u001b[0m   valid_loss_ \u001b[39m=\u001b[39m valid_step(model, criterion, val_loader, mean_std, device, config\u001b[39m.\u001b[39mmb_coeff)\n\u001b[1;32m     <a href='vscode-notebook-cell:/Users/emmanuelakeweje/Documents/SkT/Research%20Contract/Accelerating-Hydrogen-Oxidation-Calculations/RNN_NoH2_O2.ipynb#X61sZmlsZQ%3D%3D?line=29'>30</a>\u001b[0m   wandb\u001b[39m.\u001b[39mlog({\u001b[39m\"\u001b[39m\u001b[39mtrain_loss\u001b[39m\u001b[39m\"\u001b[39m: train_loss_\u001b[39m/\u001b[39m\u001b[39mlen\u001b[39m(train_loader),\n\u001b[1;32m     <a href='vscode-notebook-cell:/Users/emmanuelakeweje/Documents/SkT/Research%20Contract/Accelerating-Hydrogen-Oxidation-Calculations/RNN_NoH2_O2.ipynb#X61sZmlsZQ%3D%3D?line=30'>31</a>\u001b[0m              \u001b[39m\"\u001b[39m\u001b[39mval_loss\u001b[39m\u001b[39m\"\u001b[39m: valid_loss_\u001b[39m/\u001b[39m\u001b[39mlen\u001b[39m(val_loader)})\n",
            "\u001b[1;32m/Users/emmanuelakeweje/Documents/SkT/Research Contract/Accelerating-Hydrogen-Oxidation-Calculations/RNN_NoH2_O2.ipynb Cell 18\u001b[0m in \u001b[0;36mtrain_step\u001b[0;34m(model, optimizer, criterion, dataloader, mean_std, device, mb_coeff)\u001b[0m\n\u001b[1;32m     <a href='vscode-notebook-cell:/Users/emmanuelakeweje/Documents/SkT/Research%20Contract/Accelerating-Hydrogen-Oxidation-Calculations/RNN_NoH2_O2.ipynb#X61sZmlsZQ%3D%3D?line=19'>20</a>\u001b[0m   loss \u001b[39m=\u001b[39m criterion(predict,target\u001b[39m.\u001b[39mfloat()) \u001b[39m+\u001b[39m mb_coeff \u001b[39m*\u001b[39m criterion(T_H_pred, T_H_true) \u001b[39m+\u001b[39m mb_coeff \u001b[39m*\u001b[39m criterion(T_O_pred, T_O_true)\n\u001b[1;32m     <a href='vscode-notebook-cell:/Users/emmanuelakeweje/Documents/SkT/Research%20Contract/Accelerating-Hydrogen-Oxidation-Calculations/RNN_NoH2_O2.ipynb#X61sZmlsZQ%3D%3D?line=20'>21</a>\u001b[0m \u001b[39melse\u001b[39;00m:\n\u001b[0;32m---> <a href='vscode-notebook-cell:/Users/emmanuelakeweje/Documents/SkT/Research%20Contract/Accelerating-Hydrogen-Oxidation-Calculations/RNN_NoH2_O2.ipynb#X61sZmlsZQ%3D%3D?line=21'>22</a>\u001b[0m   loss \u001b[39m=\u001b[39m criterion(predict, target\u001b[39m.\u001b[39;49mfloat())\n\u001b[1;32m     <a href='vscode-notebook-cell:/Users/emmanuelakeweje/Documents/SkT/Research%20Contract/Accelerating-Hydrogen-Oxidation-Calculations/RNN_NoH2_O2.ipynb#X61sZmlsZQ%3D%3D?line=22'>23</a>\u001b[0m \u001b[39m# Clear the gradients\u001b[39;00m\n\u001b[1;32m     <a href='vscode-notebook-cell:/Users/emmanuelakeweje/Documents/SkT/Research%20Contract/Accelerating-Hydrogen-Oxidation-Calculations/RNN_NoH2_O2.ipynb#X61sZmlsZQ%3D%3D?line=23'>24</a>\u001b[0m optimizer\u001b[39m.\u001b[39mzero_grad()\n",
            "File \u001b[0;32m~/opt/anaconda3/lib/python3.8/site-packages/torch/nn/modules/module.py:1102\u001b[0m, in \u001b[0;36mModule._call_impl\u001b[0;34m(self, *input, **kwargs)\u001b[0m\n\u001b[1;32m   1098\u001b[0m \u001b[39m# If we don't have any hooks, we want to skip the rest of the logic in\u001b[39;00m\n\u001b[1;32m   1099\u001b[0m \u001b[39m# this function, and just call forward.\u001b[39;00m\n\u001b[1;32m   1100\u001b[0m \u001b[39mif\u001b[39;00m \u001b[39mnot\u001b[39;00m (\u001b[39mself\u001b[39m\u001b[39m.\u001b[39m_backward_hooks \u001b[39mor\u001b[39;00m \u001b[39mself\u001b[39m\u001b[39m.\u001b[39m_forward_hooks \u001b[39mor\u001b[39;00m \u001b[39mself\u001b[39m\u001b[39m.\u001b[39m_forward_pre_hooks \u001b[39mor\u001b[39;00m _global_backward_hooks\n\u001b[1;32m   1101\u001b[0m         \u001b[39mor\u001b[39;00m _global_forward_hooks \u001b[39mor\u001b[39;00m _global_forward_pre_hooks):\n\u001b[0;32m-> 1102\u001b[0m     \u001b[39mreturn\u001b[39;00m forward_call(\u001b[39m*\u001b[39;49m\u001b[39minput\u001b[39;49m, \u001b[39m*\u001b[39;49m\u001b[39m*\u001b[39;49mkwargs)\n\u001b[1;32m   1103\u001b[0m \u001b[39m# Do not call functions when jit is used\u001b[39;00m\n\u001b[1;32m   1104\u001b[0m full_backward_hooks, non_full_backward_hooks \u001b[39m=\u001b[39m [], []\n",
            "File \u001b[0;32m~/opt/anaconda3/lib/python3.8/site-packages/torch/nn/modules/loss.py:520\u001b[0m, in \u001b[0;36mMSELoss.forward\u001b[0;34m(self, input, target)\u001b[0m\n\u001b[1;32m    519\u001b[0m \u001b[39mdef\u001b[39;00m \u001b[39mforward\u001b[39m(\u001b[39mself\u001b[39m, \u001b[39minput\u001b[39m: Tensor, target: Tensor) \u001b[39m-\u001b[39m\u001b[39m>\u001b[39m Tensor:\n\u001b[0;32m--> 520\u001b[0m     \u001b[39mreturn\u001b[39;00m F\u001b[39m.\u001b[39;49mmse_loss(\u001b[39minput\u001b[39;49m, target, reduction\u001b[39m=\u001b[39;49m\u001b[39mself\u001b[39;49m\u001b[39m.\u001b[39;49mreduction)\n",
            "File \u001b[0;32m~/opt/anaconda3/lib/python3.8/site-packages/torch/nn/functional.py:3111\u001b[0m, in \u001b[0;36mmse_loss\u001b[0;34m(input, target, size_average, reduce, reduction)\u001b[0m\n\u001b[1;32m   3108\u001b[0m \u001b[39mif\u001b[39;00m size_average \u001b[39mis\u001b[39;00m \u001b[39mnot\u001b[39;00m \u001b[39mNone\u001b[39;00m \u001b[39mor\u001b[39;00m reduce \u001b[39mis\u001b[39;00m \u001b[39mnot\u001b[39;00m \u001b[39mNone\u001b[39;00m:\n\u001b[1;32m   3109\u001b[0m     reduction \u001b[39m=\u001b[39m _Reduction\u001b[39m.\u001b[39mlegacy_get_string(size_average, reduce)\n\u001b[0;32m-> 3111\u001b[0m expanded_input, expanded_target \u001b[39m=\u001b[39m torch\u001b[39m.\u001b[39;49mbroadcast_tensors(\u001b[39minput\u001b[39;49m, target)\n\u001b[1;32m   3112\u001b[0m \u001b[39mreturn\u001b[39;00m torch\u001b[39m.\u001b[39m_C\u001b[39m.\u001b[39m_nn\u001b[39m.\u001b[39mmse_loss(expanded_input, expanded_target, _Reduction\u001b[39m.\u001b[39mget_enum(reduction))\n",
            "File \u001b[0;32m~/opt/anaconda3/lib/python3.8/site-packages/torch/functional.py:72\u001b[0m, in \u001b[0;36mbroadcast_tensors\u001b[0;34m(*tensors)\u001b[0m\n\u001b[1;32m     70\u001b[0m \u001b[39mif\u001b[39;00m has_torch_function(tensors):\n\u001b[1;32m     71\u001b[0m     \u001b[39mreturn\u001b[39;00m handle_torch_function(broadcast_tensors, tensors, \u001b[39m*\u001b[39mtensors)\n\u001b[0;32m---> 72\u001b[0m \u001b[39mreturn\u001b[39;00m _VF\u001b[39m.\u001b[39;49mbroadcast_tensors(tensors)\n",
            "\u001b[0;31mRuntimeError\u001b[0m: The size of tensor a (7) must match the size of tensor b (1807) at non-singleton dimension 2"
          ]
        }
      ],
      "source": [
        "with wandb.init(project = 'Hyrogen-Oxidation-Models',name = 'First Without $H_2$ and $O_2$', config= params):\n",
        "    # access all HPs through wandb.config, so logging matches execution!\n",
        "    config = wandb.config\n",
        "\n",
        "    device = torch.device(\"cuda\" if torch.cuda.is_available() else \"cpu\")\n",
        "    mean_std_path = config.mean_std_path\n",
        "    input_size = config.input_size\n",
        "    output_size = config.output_size\n",
        "    dict_path = config.dict_path\n",
        "\n",
        "    #Get data\n",
        "    train_loader, val_loader, test_loader = make_dataloaders(config)\n",
        "    #obtaining mean and std of training set\n",
        "    train_x_mean, train_x_std, train_y_mean, train_y_std = load_mean_std(mean_std_path, train_loader)\n",
        "    #initialize model\n",
        "    if config.model == 'v1':\n",
        "        model = RNN_Model_Multiple(input_size, config.hidden_size, config.num_layers, output_size, config.ntimesteps)\n",
        "    elif config.model == 'v2':\n",
        "        model = RNN_Model_Multiple_v2(input_size, config.hidden_size, config.num_layers, output_size, config.ntimesteps)\n",
        "    model.apply(init_weights)\n",
        "    #training\n",
        "    model = model.to(device)\n",
        "    mean_std = [train_x_mean.to(device), train_x_std.to(device), train_y_mean.to(device), train_y_std.to(device)]\n",
        "    criterion  = nn.MSELoss()\n",
        "    epochs, val_loss = training(model, train_loader, val_loader, config, criterion, mean_std, device, dict_path)\n",
        "    wandb.log({'loss': val_loss})\n",
        "    wandb.log({'num_epochs': epochs})"
      ]
    },
    {
      "cell_type": "code",
      "execution_count": null,
      "metadata": {},
      "outputs": [],
      "source": []
    },
    {
      "cell_type": "markdown",
      "metadata": {
        "id": "s7_wiqP6ti5f"
      },
      "source": [
        "# Inference"
      ]
    },
    {
      "cell_type": "code",
      "execution_count": null,
      "metadata": {
        "colab": {
          "base_uri": "https://localhost:8080/"
        },
        "id": "E9ABCdnbQ3-8",
        "outputId": "f5baf2fd-ed06-4630-bf2a-692ebe81aee8"
      },
      "outputs": [
        {
          "data": {
            "text/plain": [
              "RNN_Model_Multiple(\n",
              "  (base_rnn): Base_RNN(\n",
              "    (rnn): RNN(10, 32, num_layers=2, batch_first=True, dropout=0.1)\n",
              "    (linear): Linear(in_features=32, out_features=10, bias=True)\n",
              "  )\n",
              "  (relu): ReLU()\n",
              "  (linear): Linear(in_features=10, out_features=9, bias=True)\n",
              ")"
            ]
          },
          "execution_count": 16,
          "metadata": {},
          "output_type": "execute_result"
        }
      ],
      "source": [
        "## data\n",
        "batch_size = 32\n",
        "timesteps = 'all'\n",
        "nsample = 1500\n",
        "split = [0.7, 0.2, 0.1]\n",
        "mean_std_path = 'rnn_all_mean_std.json'\n",
        "## model\n",
        "input_size = 10\n",
        "hidden_size = 32\n",
        "num_layers = 2\n",
        "output_size = 9\n",
        "ntimesteps = 201\n",
        "\n",
        "dict_path = './Models/best_rnn_all.pth' #lr_momentum\n",
        "\n",
        "train_loader, val_loader, test_loader = make_dataloaders( batch_size,  timesteps,  nsample,  split)\n",
        "#obtaining mean and std of training set\n",
        "train_x_mean, train_x_std, train_y_mean, train_y_std = load_mean_std( mean_std_path)\n",
        "#model\n",
        "model = RNN_Model_Multiple( input_size,  hidden_size,  num_layers,  output_size,  ntimesteps)\n",
        "model.apply(init_weights)\n",
        "model.load_state_dict(torch.load(dict_path, map_location=torch.device('cpu')))\n",
        "if torch.cuda.is_available():\n",
        "    model = model.cuda()\n",
        "    train_x_mean = train_x_mean.cuda()\n",
        "    train_x_std = train_x_std.cuda()\n",
        "    train_y_mean = train_y_mean.cuda()\n",
        "    train_y_std = train_y_std.cuda()\n",
        "model.eval()"
      ]
    },
    {
      "cell_type": "code",
      "execution_count": null,
      "metadata": {
        "colab": {
          "base_uri": "https://localhost:8080/"
        },
        "id": "JwUjh1-yQ3-8",
        "outputId": "d34bb1e3-e346-4f1f-9787-e28deee585aa"
      },
      "outputs": [
        {
          "name": "stdout",
          "output_type": "stream",
          "text": [
            "Normalized Error: 0.15740376710891724\n"
          ]
        }
      ],
      "source": [
        "##NME\n",
        "target_stack = []\n",
        "predict_stack = []\n",
        "for i, (input, target) in enumerate(val_loader):\n",
        "  if torch.cuda.is_available():\n",
        "      input, target = input.cuda(), target.cuda()\n",
        "\n",
        "  #standardize\n",
        "  input, _, _ = standardize(input, 0, train_x_mean, train_x_std)\n",
        "  target, _, _ = standardize(target, 0, train_y_mean, train_y_std)\n",
        "\n",
        "  pred = model(input.float())\n",
        "  predict_stack.append(pred)#inverse_standardize(pred, 0, train_y_mean, train_y_std))\n",
        "  target_stack.append(target)\n",
        "\n",
        "error = torch.linalg.norm(torch.concat(target_stack) - torch.concat(predict_stack))/torch.linalg.norm(torch.concat(target_stack))\n",
        "print(f'Normalized Error: {error}')"
      ]
    },
    {
      "cell_type": "code",
      "execution_count": null,
      "metadata": {
        "colab": {
          "base_uri": "https://localhost:8080/"
        },
        "id": "eCukISVvQ3-9",
        "outputId": "6faec180-9aa6-4ff4-f345-ed8ac9309304"
      },
      "outputs": [
        {
          "data": {
            "text/plain": [
              "0.9750529857689033"
            ]
          },
          "execution_count": 18,
          "metadata": {},
          "output_type": "execute_result"
        }
      ],
      "source": [
        "r2_score(torch.concat(target_stack).flatten().detach().cpu().numpy(), torch.concat(predict_stack).flatten().detach().cpu().numpy())"
      ]
    },
    {
      "cell_type": "code",
      "execution_count": null,
      "metadata": {
        "id": "-6YKCbzvQ3--"
      },
      "outputs": [],
      "source": [
        "#visualization\n",
        "def result_plot(y_test, pred):\n",
        "    fig, ax = plt.subplots(3, 3, figsize=(20,15))\n",
        "    title =  [ 'T', 'H2', 'H', 'O', 'O2', 'OH', 'H2O', 'HO2', 'H2O2']\n",
        "    for i in range(9):\n",
        "        a = i//3; b= i%3\n",
        "        ax[a,b].scatter(pred[:,i], y_test[:,i])\n",
        "        ax[a,b].plot(np.arange(y_test[:,i].min(), y_test[:,i].max()), \n",
        "                     np.arange(y_test[:,i].min(), y_test[:,i].max()), '--k')\n",
        "        ax[a,b].set_title(title[i])\n",
        "        ax[a,b].set_xlabel('Prediction')\n",
        "        ax[a,b].set_ylabel('Groundtruth')\n",
        "    plt.show()"
      ]
    },
    {
      "cell_type": "code",
      "execution_count": null,
      "metadata": {
        "colab": {
          "base_uri": "https://localhost:8080/",
          "height": 809
        },
        "id": "jhKALet_Q3--",
        "outputId": "1b8641d4-2bdb-4ab9-b861-5415f112633e"
      },
      "outputs": [
        {
          "data": {
            "image/png": "[encoded data removed]",
            "text/plain": [
              "<Figure size 1440x1080 with 9 Axes>"
            ]
          },
          "metadata": {},
          "output_type": "display_data"
        }
      ],
      "source": [
        "result_plot(torch.concat(target_stack).detach().squeeze().cpu(),\n",
        "            torch.concat(predict_stack).detach().squeeze().cpu())"
      ]
    },
    {
      "cell_type": "code",
      "execution_count": null,
      "metadata": {
        "id": "D18-I9Z2Q3-_"
      },
      "outputs": [],
      "source": [
        "#test with last input from input.txt (row 197)\n",
        "model.eval()\n",
        "x_test = torch.tensor([[[0.345863,0.037831,0.074332,0.318219,0.061714,0.161887,4.7e-05,0.000106,290634.0,1684.0]]])#0.294903, 0.098913, 0.061895, 0.396953, 0.039459, 0.107669, 0.000127, 0.000081, 381430.000000, 2804.000000])\n",
        "#standardize\n",
        "x_test, _, _ = standardize(x_test, 0, train_x_mean, train_x_std)\n",
        "pred_test = model(x_test)\n",
        "y_test = torch.from_numpy(np.loadtxt('./Out_files_197/out4.txt', delimiter= ';')[-1, 1:-2])\n",
        "y_test, _, _ = standardize(y_test, 0, train_y_mean, train_y_std)"
      ]
    },
    {
      "cell_type": "code",
      "execution_count": null,
      "metadata": {
        "colab": {
          "base_uri": "https://localhost:8080/"
        },
        "id": "_cRPPLuzyHdW",
        "outputId": "58e5ea9f-e2f9-4fd2-c413-fe91cc79cd86"
      },
      "outputs": [
        {
          "data": {
            "text/plain": [
              "tensor(0.0429, grad_fn=<DivBackward0>)"
            ]
          },
          "execution_count": 22,
          "metadata": {},
          "output_type": "execute_result"
        }
      ],
      "source": [
        "torch.sum(torch.square(y_test - pred_test))/torch.sum(torch.square(y_test))"
      ]
    },
    {
      "cell_type": "code",
      "execution_count": null,
      "metadata": {
        "colab": {
          "base_uri": "https://localhost:8080/"
        },
        "id": "-3J4QBTqQ3_A",
        "outputId": "fdf541a4-c179-4bbf-e8d2-3ea4f3bc25e7"
      },
      "outputs": [
        {
          "data": {
            "text/plain": [
              "0.6748446876516665"
            ]
          },
          "execution_count": 23,
          "metadata": {},
          "output_type": "execute_result"
        }
      ],
      "source": [
        "r2_score(y_test.flatten().detach().cpu().numpy(), pred_test.flatten().detach().cpu().numpy())"
      ]
    },
    {
      "cell_type": "code",
      "execution_count": null,
      "metadata": {
        "colab": {
          "base_uri": "https://localhost:8080/"
        },
        "id": "eQ0pnQ6zQ3_A",
        "outputId": "cd0ac2cc-45a4-4462-b4b1-a3300495b463"
      },
      "outputs": [
        {
          "data": {
            "text/plain": [
              "(tensor([[[[ 1.0836, -1.1254, -0.7881,  ..., -0.0448, -0.7199, -1.4907],\n",
              "           [ 0.9131, -0.9322, -1.0471,  ..., -0.5619, -0.7735, -0.5985],\n",
              "           [ 0.6824, -0.8743, -1.0565,  ..., -0.5839, -0.8387, -0.6754],\n",
              "           ...,\n",
              "           [-0.3405, -0.8148, -0.8087,  ..., -0.6129, -0.5829, -0.5573],\n",
              "           [-0.3405, -0.8148, -0.8087,  ..., -0.6129, -0.5829, -0.5573],\n",
              "           [-0.3406, -0.8148, -0.8087,  ..., -0.6129, -0.5829, -0.5573]]]]),\n",
              " tensor([[-0.4123, -0.8769, -0.8973,  ..., -0.7258, -0.7335, -0.6686],\n",
              "         [-1.1070, -0.9046, -0.9736,  ..., -0.6045, -0.6613, -0.6165],\n",
              "         [-0.9350, -0.9262, -0.9218,  ..., -0.6412, -0.4342, -0.4194],\n",
              "         ...,\n",
              "         [-0.3460, -0.8545, -0.9113,  ..., -0.5902, -0.5073, -0.5019],\n",
              "         [-0.3460, -0.8545, -0.9113,  ..., -0.5902, -0.5073, -0.5019],\n",
              "         [-0.3460, -0.8545, -0.9113,  ..., -0.5902, -0.5073, -0.5019]],\n",
              "        grad_fn=<SqueezeBackward1>))"
            ]
          },
          "execution_count": 24,
          "metadata": {},
          "output_type": "execute_result"
        }
      ],
      "source": [
        "# y_test.shape, pred_test.squeeze().shape\n",
        "y_test.unsqueeze(dim = 0), pred_test.squeeze(dim = 0)#"
      ]
    },
    {
      "cell_type": "code",
      "execution_count": null,
      "metadata": {
        "colab": {
          "base_uri": "https://localhost:8080/"
        },
        "id": "5Li-s7x4HWUY",
        "outputId": "3492155b-5636-4618-9741-87b11fe163f1"
      },
      "outputs": [
        {
          "data": {
            "text/plain": [
              "(tensor([[-6.9995, -6.2299, -6.5206, -6.6491, -6.6999, -6.6958, -6.6502, -6.5838,\n",
              "          -6.5124, -6.4453, -6.3856, -6.3339, -6.2899, -6.2523, -6.2203, -6.1928,\n",
              "          -6.1692, -6.1487, -6.1309, -6.1152, -6.1013, -6.0889, -6.0776, -6.0675,\n",
              "          -6.0584, -6.0501, -6.0426, -6.0357, -6.0294, -6.0236, -6.0183, -6.0135,\n",
              "          -6.0090, -6.0049, -6.0011, -5.9975, -5.9942, -5.9912, -5.9884, -5.9858,\n",
              "          -5.9833, -5.9811, -5.9789, -5.9770, -5.9752, -5.9735, -5.9718, -5.9703,\n",
              "          -5.9689, -5.9676, -5.9663, -5.9651, -5.9640, -5.9630, -5.9620, -5.9611,\n",
              "          -5.9602, -5.9594, -5.9586, -5.9578, -5.9571, -5.9564, -5.9558, -5.9552,\n",
              "          -5.9547, -5.9541, -5.9536, -5.9532, -5.9527, -5.9523, -5.9519, -5.9515,\n",
              "          -5.9512, -5.9508, -5.9505, -5.9502, -5.9499, -5.9496, -5.9494, -5.9491,\n",
              "          -5.9489, -5.9486, -5.9484, -5.9482, -5.9480, -5.9479, -5.9477, -5.9475,\n",
              "          -5.9474, -5.9472, -5.9470, -5.9469, -5.9468, -5.9466, -5.9465, -5.9464,\n",
              "          -5.9463, -5.9462, -5.9461, -5.9460, -5.9459, -5.9458, -5.9457, -5.9456,\n",
              "          -5.9455, -5.9454, -5.9453, -5.9453, -5.9452, -5.9451, -5.9451, -5.9450,\n",
              "          -5.9450, -5.9449, -5.9449, -5.9448, -5.9448, -5.9447, -5.9447, -5.9446,\n",
              "          -5.9446, -5.9445, -5.9445, -5.9445, -5.9444, -5.9444, -5.9444, -5.9443,\n",
              "          -5.9443, -5.9443, -5.9443, -5.9442, -5.9442, -5.9442, -5.9442, -5.9441,\n",
              "          -5.9441, -5.9441, -5.9441, -5.9441, -5.9440, -5.9440, -5.9440, -5.9440,\n",
              "          -5.9440, -5.9440, -5.9439, -5.9439, -5.9439, -5.9439, -5.9439, -5.9439,\n",
              "          -5.9439, -5.9439, -5.9438, -5.9438, -5.9438, -5.9438, -5.9438, -5.9438,\n",
              "          -5.9438, -5.9438, -5.9438, -5.9438, -5.9437, -5.9437, -5.9437, -5.9437,\n",
              "          -5.9437, -5.9437, -5.9437, -5.9437, -5.9437, -5.9437, -5.9437, -5.9437,\n",
              "          -5.9437, -5.9437, -5.9437, -5.9436, -5.9436, -5.9436, -5.9436, -5.9436,\n",
              "          -5.9436, -5.9436, -5.9436, -5.9436, -5.9436, -5.9436, -5.9436, -5.9436,\n",
              "          -5.9436, -5.9436, -5.9436, -5.9436, -5.9436, -5.9436, -5.9436, -5.9436,\n",
              "          -5.9436]]),\n",
              " tensor([[-7.0072, -6.6780, -6.0208, -5.5482, -5.8436, -6.2947, -6.3219, -5.8990,\n",
              "          -6.4049, -5.8360, -5.9068, -6.0297, -5.6488, -6.0164, -5.7496, -5.8606,\n",
              "          -5.9127, -5.7597, -5.9462, -5.8199, -5.8577, -5.8972, -5.8128, -5.9000,\n",
              "          -5.8411, -5.8565, -5.8767, -5.8366, -5.8771, -5.8514, -5.8566, -5.8681,\n",
              "          -5.8487, -5.8668, -5.8564, -5.8572, -5.8638, -5.8542, -5.8626, -5.8581,\n",
              "          -5.8580, -5.8614, -5.8568, -5.8606, -5.8589, -5.8585, -5.8603, -5.8581,\n",
              "          -5.8598, -5.8591, -5.8588, -5.8597, -5.8586, -5.8594, -5.8591, -5.8589,\n",
              "          -5.8594, -5.8589, -5.8592, -5.8592, -5.8590, -5.8593, -5.8590, -5.8592,\n",
              "          -5.8592, -5.8591, -5.8592, -5.8591, -5.8591, -5.8591, -5.8591, -5.8592,\n",
              "          -5.8591, -5.8591, -5.8591, -5.8591, -5.8591, -5.8591, -5.8591, -5.8591,\n",
              "          -5.8591, -5.8591, -5.8591, -5.8591, -5.8591, -5.8591, -5.8591, -5.8591,\n",
              "          -5.8591, -5.8591, -5.8591, -5.8591, -5.8591, -5.8591, -5.8591, -5.8591,\n",
              "          -5.8591, -5.8591, -5.8591, -5.8591, -5.8591, -5.8591, -5.8591, -5.8591,\n",
              "          -5.8591, -5.8591, -5.8591, -5.8591, -5.8591, -5.8591, -5.8591, -5.8591,\n",
              "          -5.8591, -5.8591, -5.8591, -5.8591, -5.8591, -5.8591, -5.8591, -5.8591,\n",
              "          -5.8591, -5.8591, -5.8591, -5.8591, -5.8591, -5.8591, -5.8591, -5.8591,\n",
              "          -5.8591, -5.8591, -5.8591, -5.8591, -5.8591, -5.8591, -5.8591, -5.8591,\n",
              "          -5.8591, -5.8591, -5.8591, -5.8591, -5.8591, -5.8591, -5.8591, -5.8591,\n",
              "          -5.8591, -5.8591, -5.8591, -5.8591, -5.8591, -5.8591, -5.8591, -5.8591,\n",
              "          -5.8591, -5.8591, -5.8591, -5.8591, -5.8591, -5.8591, -5.8591, -5.8591,\n",
              "          -5.8591, -5.8591, -5.8591, -5.8591, -5.8591, -5.8591, -5.8591, -5.8591,\n",
              "          -5.8591, -5.8591, -5.8591, -5.8591, -5.8591, -5.8591, -5.8591, -5.8591,\n",
              "          -5.8591, -5.8591, -5.8591, -5.8591, -5.8591, -5.8591, -5.8591, -5.8591,\n",
              "          -5.8591, -5.8591, -5.8591, -5.8591, -5.8591, -5.8591, -5.8591, -5.8591,\n",
              "          -5.8591, -5.8591, -5.8591, -5.8591, -5.8591, -5.8591, -5.8591, -5.8591,\n",
              "          -5.8591]], grad_fn=<AddBackward0>),\n",
              " tensor([[-6.0938, -4.7965, -5.1651, -5.3297, -5.4093, -5.4164, -5.3642, -5.2813,\n",
              "          -5.1904, -5.1045, -5.0281, -4.9622, -4.9061, -4.8584, -4.8179, -4.7832,\n",
              "          -4.7535, -4.7280, -4.7057, -4.6863, -4.6690, -4.6538, -4.6400, -4.6275,\n",
              "          -4.6164, -4.6063, -4.5972, -4.5888, -4.5813, -4.5743, -4.5679, -4.5621,\n",
              "          -4.5567, -4.5518, -4.5472, -4.5430, -4.5390, -4.5354, -4.5321, -4.5289,\n",
              "          -4.5260, -4.5233, -4.5208, -4.5185, -4.5163, -4.5143, -4.5123, -4.5105,\n",
              "          -4.5088, -4.5073, -4.5058, -4.5044, -4.5031, -4.5018, -4.5007, -4.4996,\n",
              "          -4.4986, -4.4976, -4.4967, -4.4958, -4.4949, -4.4942, -4.4934, -4.4927,\n",
              "          -4.4921, -4.4915, -4.4909, -4.4903, -4.4898, -4.4893, -4.4889, -4.4884,\n",
              "          -4.4880, -4.4877, -4.4873, -4.4869, -4.4866, -4.4863, -4.4860, -4.4857,\n",
              "          -4.4854, -4.4852, -4.4849, -4.4847, -4.4845, -4.4843, -4.4841, -4.4839,\n",
              "          -4.4837, -4.4836, -4.4834, -4.4832, -4.4831, -4.4830, -4.4828, -4.4827,\n",
              "          -4.4826, -4.4824, -4.4823, -4.4822, -4.4821, -4.4820, -4.4819, -4.4818,\n",
              "          -4.4817, -4.4816, -4.4816, -4.4815, -4.4814, -4.4813, -4.4813, -4.4812,\n",
              "          -4.4812, -4.4811, -4.4810, -4.4810, -4.4809, -4.4809, -4.4808, -4.4808,\n",
              "          -4.4808, -4.4807, -4.4807, -4.4806, -4.4806, -4.4806, -4.4805, -4.4805,\n",
              "          -4.4805, -4.4805, -4.4804, -4.4804, -4.4804, -4.4804, -4.4803, -4.4803,\n",
              "          -4.4803, -4.4803, -4.4802, -4.4802, -4.4802, -4.4802, -4.4802, -4.4802,\n",
              "          -4.4801, -4.4801, -4.4801, -4.4801, -4.4801, -4.4801, -4.4801, -4.4800,\n",
              "          -4.4800, -4.4800, -4.4800, -4.4800, -4.4800, -4.4800, -4.4800, -4.4800,\n",
              "          -4.4799, -4.4799, -4.4799, -4.4799, -4.4799, -4.4799, -4.4799, -4.4799,\n",
              "          -4.4799, -4.4799, -4.4799, -4.4799, -4.4799, -4.4799, -4.4798, -4.4798,\n",
              "          -4.4798, -4.4798, -4.4798, -4.4798, -4.4798, -4.4798, -4.4798, -4.4798,\n",
              "          -4.4798, -4.4798, -4.4798, -4.4798, -4.4798, -4.4798, -4.4798, -4.4798,\n",
              "          -4.4798, -4.4798, -4.4798, -4.4798, -4.4798, -4.4798, -4.4798, -4.4798,\n",
              "          -4.4797]]),\n",
              " tensor([[-6.2485, -5.5935, -4.5442, -3.3322, -3.7231, -4.4986, -4.4228, -4.0401,\n",
              "          -4.6384, -3.9574, -4.1336, -4.1554, -3.7805, -4.2320, -3.8694, -4.0379,\n",
              "          -4.0622, -3.8920, -4.1326, -3.9478, -4.0244, -4.0490, -3.9559, -4.0669,\n",
              "          -3.9827, -4.0139, -4.0302, -3.9837, -4.0363, -3.9986, -4.0111, -4.0213,\n",
              "          -3.9983, -4.0224, -4.0064, -4.0104, -4.0167, -4.0052, -4.0164, -4.0095,\n",
              "          -4.0106, -4.0141, -4.0085, -4.0136, -4.0108, -4.0109, -4.0128, -4.0101,\n",
              "          -4.0124, -4.0112, -4.0111, -4.0122, -4.0108, -4.0119, -4.0114, -4.0113,\n",
              "          -4.0118, -4.0112, -4.0116, -4.0115, -4.0114, -4.0116, -4.0113, -4.0115,\n",
              "          -4.0115, -4.0114, -4.0116, -4.0114, -4.0115, -4.0115, -4.0114, -4.0115,\n",
              "          -4.0115, -4.0115, -4.0115, -4.0115, -4.0115, -4.0115, -4.0115, -4.0115,\n",
              "          -4.0115, -4.0115, -4.0115, -4.0115, -4.0115, -4.0115, -4.0115, -4.0115,\n",
              "          -4.0115, -4.0115, -4.0115, -4.0115, -4.0115, -4.0115, -4.0115, -4.0115,\n",
              "          -4.0115, -4.0115, -4.0115, -4.0115, -4.0115, -4.0115, -4.0115, -4.0115,\n",
              "          -4.0115, -4.0115, -4.0115, -4.0115, -4.0115, -4.0115, -4.0115, -4.0115,\n",
              "          -4.0115, -4.0115, -4.0115, -4.0115, -4.0115, -4.0115, -4.0115, -4.0115,\n",
              "          -4.0115, -4.0115, -4.0115, -4.0115, -4.0115, -4.0115, -4.0115, -4.0115,\n",
              "          -4.0115, -4.0115, -4.0115, -4.0115, -4.0115, -4.0115, -4.0115, -4.0115,\n",
              "          -4.0115, -4.0115, -4.0115, -4.0115, -4.0115, -4.0115, -4.0115, -4.0115,\n",
              "          -4.0115, -4.0115, -4.0115, -4.0115, -4.0115, -4.0115, -4.0115, -4.0115,\n",
              "          -4.0115, -4.0115, -4.0115, -4.0115, -4.0115, -4.0115, -4.0115, -4.0115,\n",
              "          -4.0115, -4.0115, -4.0115, -4.0115, -4.0115, -4.0115, -4.0115, -4.0115,\n",
              "          -4.0115, -4.0115, -4.0115, -4.0115, -4.0115, -4.0115, -4.0115, -4.0115,\n",
              "          -4.0115, -4.0115, -4.0115, -4.0115, -4.0115, -4.0115, -4.0115, -4.0115,\n",
              "          -4.0115, -4.0115, -4.0115, -4.0115, -4.0115, -4.0115, -4.0115, -4.0115,\n",
              "          -4.0115, -4.0115, -4.0115, -4.0115, -4.0115, -4.0115, -4.0115, -4.0115,\n",
              "          -4.0115]], grad_fn=<AddBackward0>))"
            ]
          },
          "execution_count": 26,
          "metadata": {},
          "output_type": "execute_result"
        }
      ],
      "source": [
        "total_material(y_test, pred_test)"
      ]
    },
    {
      "cell_type": "markdown",
      "metadata": {
        "id": "RKPa7CPLvjHI"
      },
      "source": [
        "# Model Optimization"
      ]
    },
    {
      "cell_type": "code",
      "execution_count": 15,
      "metadata": {
        "id": "NOE7vQpX-WR3"
      },
      "outputs": [],
      "source": [
        "#Define the sweep\n",
        "sweep_config = {\n",
        "    'name': 'Accelerating Hydrogen Oxidation Calculations',\n",
        "    'description': 'Model Optimization for Adam Optimizer',\n",
        "    'method': 'random', #how sweep controller select hyperparameter\n",
        "    'metric': {'name': 'loss',\n",
        "               'goal': 'minimize'}\n",
        "                }\n",
        "sweep_config"
      ]
    },
    {
      "cell_type": "code",
      "execution_count": 16,
      "metadata": {
        "id": "77mYRM_uv48S"
      },
      "outputs": [],
      "source": [
        "param_dict = {\n",
        "    'batch_size': {\n",
        "        'values': [8, 16, 32]\n",
        "        },\n",
        "    'timesteps': {\n",
        "        'value': 'all'\n",
        "        },\n",
        "    'nsample': {\n",
        "        'value': 1500\n",
        "        },\n",
        "    'hidden_size': {\n",
        "        'values': [20, 40, 60, 80, 100]\n",
        "        },\n",
        "    'num_layers': {\n",
        "        'values': [2, 3, 4]\n",
        "        },\n",
        "    'ntimesteps': {\n",
        "        'value': 201\n",
        "        },\n",
        "    'epochs': {\n",
        "        'value': 1000\n",
        "        },\n",
        "    'early_stopping': {\n",
        "        'values': [True, False]\n",
        "        },\n",
        "    'optimizer': {\n",
        "        'value': 'Adam'\n",
        "        },\n",
        "    'lr': {\n",
        "      'values': [5e-1, 1e-1, 5e-2, 1e-2, 5e-3, 1e-3]\n",
        "        },\n",
        "    'beta1': {\n",
        "        'values': [0.85, 0.9, 0.95]\n",
        "        },\n",
        "    'beta2': {\n",
        "        'values': [0.9, 0.95, 0.99]\n",
        "        },\n",
        "    'mb_coeff': {\n",
        "        'values': [0, 0.1]\n",
        "        },\n",
        "    'scheduling': {\n",
        "        'values': [True, False]\n",
        "       },\n",
        "    'model': {\n",
        "        'values': ['v1', 'v2']\n",
        "    },\n",
        "    'split': {\n",
        "        'value': [0.7, 0.2, 0.1]\n",
        "    },\n",
        "    'dict_path':{\n",
        "        'value': None\n",
        "    }\n",
        "    }\n",
        "\n",
        "sweep_config['parameters'] = param_dict"
      ]
    },
    {
      "cell_type": "code",
      "execution_count": 17,
      "metadata": {
        "id": "082S9eNN7Map"
      },
      "outputs": [],
      "source": [
        "sweep_config"
      ]
    },
    {
      "cell_type": "code",
      "execution_count": null,
      "metadata": {
        "colab": {
          "base_uri": "https://localhost:8080/"
        },
        "id": "uFVzZZMq7OCu",
        "outputId": "a7137844-e3f3-4bfb-a0aa-5cd15dc77a0f"
      },
      "outputs": [
        {
          "name": "stdout",
          "output_type": "stream",
          "text": [
            "Create sweep with ID: qvxky6fx\n",
            "Sweep URL: https://wandb.ai/data-bigwig/Hydrogen-Oxidation-Models-Optimization/sweeps/qvxky6fx\n"
          ]
        }
      ],
      "source": [
        "# Initialize Sweep\n",
        "sweep_id = wandb.sweep(sweep_config, project=\"Hydrogen-Oxidation-Models-Optimization\")"
      ]
    },
    {
      "cell_type": "code",
      "execution_count": 18,
      "metadata": {
        "id": "tnnFILnZ85RP"
      },
      "outputs": [],
      "source": [
        "def train_model(config = None):\n",
        "  # tell wandb to get started\n",
        "  with wandb.init(config=config):\n",
        "  # access all HPs through wandb.config, so logging matches execution!\n",
        "    config = wandb.config\n",
        "\n",
        "    device = torch.device(\"cuda\" if torch.cuda.is_available() else \"cpu\")\n",
        "    mean_std_path = 'rnn_all_mean_std.json'\n",
        "    input_size = 10\n",
        "    output_size = 9\n",
        "    dict_path = None\n",
        "\n",
        "    #Get data\n",
        "    train_loader, val_loader, test_loader = make_dataloaders(config)\n",
        "    #obtaining mean and std of training set\n",
        "    train_x_mean, train_x_std, train_y_mean, train_y_std = load_mean_std(mean_std_path)\n",
        "    #initialize model\n",
        "    if config.model == 'v1':\n",
        "      model = RNN_Model_Multiple(input_size, config.hidden_size, config.num_layers, output_size, config.ntimesteps)\n",
        "    elif config.model == 'v2':\n",
        "      model = RNN_Model_Multiple_v2(input_size, config.hidden_size, config.num_layers, output_size, config.ntimesteps)\n",
        "    model.apply(init_weights)\n",
        "    #training\n",
        "    model = model.to(device)\n",
        "    mean_std = [train_x_mean.to(device), train_x_std.to(device), train_y_mean.to(device), train_y_std.to(device)]\n",
        "    criterion  = nn.MSELoss()\n",
        "    epochs, val_loss = training(model, train_loader, val_loader, config, criterion, mean_std, device, dict_path)\n",
        "    wandb.log({'loss': val_loss})\n",
        "    wandb.log({'num_epochs': epochs})"
      ]
    },
    {
      "cell_type": "code",
      "execution_count": 19,
      "metadata": {
        "id": "R1N7tSQaFQDx"
      },
      "outputs": [],
      "source": [
        "sweep_id = 'qvxky6fx'"
      ]
    },
    {
      "cell_type": "code",
      "execution_count": 20,
      "metadata": {
        "colab": {
          "base_uri": "https://localhost:8080/",
          "height": 1000,
          "referenced_widgets": [
            "d43de2f323d542f78550104ecc6ad7c0",
            "0e4a898eef1b459bb4f8cf4cd20331ef",
            "8b00e85fd41f4bca951a740dcf9b787c",
            "adb4c1c7df914936a1f6724278a99cbf",
            "adda05babb0241eaa0e31fc63ebb074e",
            "14cf5b8bd12d4097837480c8ce3ae866",
            "c05375af954140748cdd2068cbe1ac78",
            "e5be67e6070d47138fc80423b05e65c6"
          ]
        },
        "id": "x4ceo-ErIF_X",
        "outputId": "6dfcabb8-9291-4b94-f339-35513841a0b6"
      },
      "outputs": [
        {
          "name": "stderr",
          "output_type": "stream",
          "text": [
            "\u001b[34m\u001b[1mwandb\u001b[0m: Agent Starting Run: 7a4p6mau with config:\n",
            "\u001b[34m\u001b[1mwandb\u001b[0m: \tbatch_size: 8\n",
            "\u001b[34m\u001b[1mwandb\u001b[0m: \tbeta1: 0.9\n",
            "\u001b[34m\u001b[1mwandb\u001b[0m: \tbeta2: 0.95\n",
            "\u001b[34m\u001b[1mwandb\u001b[0m: \tdict_path: None\n",
            "\u001b[34m\u001b[1mwandb\u001b[0m: \tearly_stopping: True\n",
            "\u001b[34m\u001b[1mwandb\u001b[0m: \tepochs: 1000\n",
            "\u001b[34m\u001b[1mwandb\u001b[0m: \thidden_size: 20\n",
            "\u001b[34m\u001b[1mwandb\u001b[0m: \tlr: 0.005\n",
            "\u001b[34m\u001b[1mwandb\u001b[0m: \tmb_coeff: 0.1\n",
            "\u001b[34m\u001b[1mwandb\u001b[0m: \tmodel: v2\n",
            "\u001b[34m\u001b[1mwandb\u001b[0m: \tnsample: 1500\n",
            "\u001b[34m\u001b[1mwandb\u001b[0m: \tntimesteps: 201\n",
            "\u001b[34m\u001b[1mwandb\u001b[0m: \tnum_layers: 2\n",
            "\u001b[34m\u001b[1mwandb\u001b[0m: \toptimizer: Adam\n",
            "\u001b[34m\u001b[1mwandb\u001b[0m: \tscheduling: True\n",
            "\u001b[34m\u001b[1mwandb\u001b[0m: \tsplit: [0.7, 0.2, 0.1]\n",
            "\u001b[34m\u001b[1mwandb\u001b[0m: \ttimesteps: all\n",
            "ERROR:wandb.jupyter:Failed to detect the name of this notebook, you can set it manually with the WANDB_NOTEBOOK_NAME environment variable to enable code saving.\n",
            "\u001b[34m\u001b[1mwandb\u001b[0m: Currently logged in as: \u001b[33mdata-bigwig\u001b[0m. Use \u001b[1m`wandb login --relogin`\u001b[0m to force relogin\n"
          ]
        },
        {
          "data": {
            "text/html": [
              "Tracking run with wandb version 0.13.3"
            ],
            "text/plain": [
              "<IPython.core.display.HTML object>"
            ]
          },
          "metadata": {},
          "output_type": "display_data"
        },
        {
          "data": {
            "text/html": [
              "Run data is saved locally in <code>/content/drive/MyDrive/Skoltech/Research/Hydrogen Oxidation/wandb/run-20220912_143857-7a4p6mau</code>"
            ],
            "text/plain": [
              "<IPython.core.display.HTML object>"
            ]
          },
          "metadata": {},
          "output_type": "display_data"
        },
        {
          "data": {
            "text/html": [
              "Syncing run <strong><a href=\"https://wandb.ai/data-bigwig/Hydrogen-Oxidation-Models-Optimization/runs/7a4p6mau\" target=\"_blank\">frosty-sweep-6</a></strong> to <a href=\"https://wandb.ai/data-bigwig/Hydrogen-Oxidation-Models-Optimization\" target=\"_blank\">Weights & Biases</a> (<a href=\"https://wandb.me/run\" target=\"_blank\">docs</a>)<br/>Sweep page:  <a href=\"https://wandb.ai/data-bigwig/Hydrogen-Oxidation-Models-Optimization/sweeps/qvxky6fx\" target=\"_blank\">https://wandb.ai/data-bigwig/Hydrogen-Oxidation-Models-Optimization/sweeps/qvxky6fx</a>"
            ],
            "text/plain": [
              "<IPython.core.display.HTML object>"
            ]
          },
          "metadata": {},
          "output_type": "display_data"
        },
        {
          "data": {
            "text/html": [
              "Waiting for W&B process to finish... <strong style=\"color:green\">(success).</strong>"
            ],
            "text/plain": [
              "<IPython.core.display.HTML object>"
            ]
          },
          "metadata": {},
          "output_type": "display_data"
        },
        {
          "data": {
            "application/vnd.jupyter.widget-view+json": {
              "model_id": "d43de2f323d542f78550104ecc6ad7c0",
              "version_major": 2,
              "version_minor": 0
            },
            "text/plain": [
              "VBox(children=(Label(value='0.000 MB of 0.000 MB uploaded (0.000 MB deduped)\\r'), FloatProgress(value=1.0, max…"
            ]
          },
          "metadata": {},
          "output_type": "display_data"
        },
        {
          "data": {
            "text/html": [
              "<style>\n",
              "    table.wandb td:nth-child(1) { padding: 0 10px; text-align: left ; width: auto;} td:nth-child(2) {text-align: left ; width: 100%}\n",
              "    .wandb-row { display: flex; flex-direction: row; flex-wrap: wrap; justify-content: flex-start; width: 100% }\n",
              "    .wandb-col { display: flex; flex-direction: column; flex-basis: 100%; flex: 1; padding: 10px; }\n",
              "    </style>\n",
              "<div class=\"wandb-row\"><div class=\"wandb-col\"><h3>Run history:</h3><br/><table class=\"wandb\"><tr><td>loss</td><td>▁</td></tr><tr><td>num_epochs</td><td>▁</td></tr><tr><td>train_loss</td><td>█▄▃▂▂▁▁▁▁▁▁▁▁▁▁▁▁▁▁▁▁▁▁▁▁▁▁▁▁▁▁▁▁▁▁▁▁▁▁▁</td></tr><tr><td>val_loss</td><td>█▃▂▂▂▁▁▁▁▁▁▁▁▁▁▁▁▁▁▁▁▁▁▁▁▁▁▁▁▁▁▁▁▁▁▁▁▁▁▁</td></tr></table><br/></div><div class=\"wandb-col\"><h3>Run summary:</h3><br/><table class=\"wandb\"><tr><td>loss</td><td>3.08314</td></tr><tr><td>num_epochs</td><td>451</td></tr><tr><td>train_loss</td><td>0.07043</td></tr><tr><td>val_loss</td><td>0.08312</td></tr></table><br/></div></div>"
            ],
            "text/plain": [
              "<IPython.core.display.HTML object>"
            ]
          },
          "metadata": {},
          "output_type": "display_data"
        },
        {
          "data": {
            "text/html": [
              "Synced <strong style=\"color:#cdcd00\">frosty-sweep-6</strong>: <a href=\"https://wandb.ai/data-bigwig/Hydrogen-Oxidation-Models-Optimization/runs/7a4p6mau\" target=\"_blank\">https://wandb.ai/data-bigwig/Hydrogen-Oxidation-Models-Optimization/runs/7a4p6mau</a><br/>Synced 4 W&B file(s), 0 media file(s), 0 artifact file(s) and 0 other file(s)"
            ],
            "text/plain": [
              "<IPython.core.display.HTML object>"
            ]
          },
          "metadata": {},
          "output_type": "display_data"
        },
        {
          "data": {
            "text/html": [
              "Find logs at: <code>./wandb/run-20220912_143857-7a4p6mau/logs</code>"
            ],
            "text/plain": [
              "<IPython.core.display.HTML object>"
            ]
          },
          "metadata": {},
          "output_type": "display_data"
        },
        {
          "name": "stderr",
          "output_type": "stream",
          "text": [
            "\u001b[34m\u001b[1mwandb\u001b[0m: Agent Starting Run: 2oduhhoq with config:\n",
            "\u001b[34m\u001b[1mwandb\u001b[0m: \tbatch_size: 16\n",
            "\u001b[34m\u001b[1mwandb\u001b[0m: \tbeta1: 0.9\n",
            "\u001b[34m\u001b[1mwandb\u001b[0m: \tbeta2: 0.9\n",
            "\u001b[34m\u001b[1mwandb\u001b[0m: \tdict_path: None\n",
            "\u001b[34m\u001b[1mwandb\u001b[0m: \tearly_stopping: True\n",
            "\u001b[34m\u001b[1mwandb\u001b[0m: \tepochs: 1000\n",
            "\u001b[34m\u001b[1mwandb\u001b[0m: \thidden_size: 60\n",
            "\u001b[34m\u001b[1mwandb\u001b[0m: \tlr: 0.1\n",
            "\u001b[34m\u001b[1mwandb\u001b[0m: \tmb_coeff: 0.1\n",
            "\u001b[34m\u001b[1mwandb\u001b[0m: \tmodel: v1\n",
            "\u001b[34m\u001b[1mwandb\u001b[0m: \tnsample: 1500\n",
            "\u001b[34m\u001b[1mwandb\u001b[0m: \tntimesteps: 201\n",
            "\u001b[34m\u001b[1mwandb\u001b[0m: \tnum_layers: 3\n",
            "\u001b[34m\u001b[1mwandb\u001b[0m: \toptimizer: Adam\n",
            "\u001b[34m\u001b[1mwandb\u001b[0m: \tscheduling: True\n",
            "\u001b[34m\u001b[1mwandb\u001b[0m: \tsplit: [0.7, 0.2, 0.1]\n",
            "\u001b[34m\u001b[1mwandb\u001b[0m: \ttimesteps: all\n"
          ]
        },
        {
          "data": {
            "text/html": [
              "Tracking run with wandb version 0.13.3"
            ],
            "text/plain": [
              "<IPython.core.display.HTML object>"
            ]
          },
          "metadata": {},
          "output_type": "display_data"
        },
        {
          "data": {
            "text/html": [
              "Run data is saved locally in <code>/content/drive/MyDrive/Skoltech/Research/Hydrogen Oxidation/wandb/run-20220912_175031-2oduhhoq</code>"
            ],
            "text/plain": [
              "<IPython.core.display.HTML object>"
            ]
          },
          "metadata": {},
          "output_type": "display_data"
        },
        {
          "data": {
            "text/html": [
              "Syncing run <strong><a href=\"https://wandb.ai/data-bigwig/Hydrogen-Oxidation-Models-Optimization/runs/2oduhhoq\" target=\"_blank\">fragrant-sweep-7</a></strong> to <a href=\"https://wandb.ai/data-bigwig/Hydrogen-Oxidation-Models-Optimization\" target=\"_blank\">Weights & Biases</a> (<a href=\"https://wandb.me/run\" target=\"_blank\">docs</a>)<br/>Sweep page:  <a href=\"https://wandb.ai/data-bigwig/Hydrogen-Oxidation-Models-Optimization/sweeps/qvxky6fx\" target=\"_blank\">https://wandb.ai/data-bigwig/Hydrogen-Oxidation-Models-Optimization/sweeps/qvxky6fx</a>"
            ],
            "text/plain": [
              "<IPython.core.display.HTML object>"
            ]
          },
          "metadata": {},
          "output_type": "display_data"
        },
        {
          "name": "stderr",
          "output_type": "stream",
          "text": [
            "\u001b[34m\u001b[1mwandb\u001b[0m: Ctrl + C detected. Stopping sweep.\n"
          ]
        }
      ],
      "source": [
        "wandb.agent(sweep_id, train_model, project=\"Hydrogen-Oxidation-Models-Optimization\", count=20)"
      ]
    },
    {
      "cell_type": "code",
      "execution_count": null,
      "metadata": {
        "id": "z6GFHeT3bEH_"
      },
      "outputs": [],
      "source": []
    },
    {
      "cell_type": "code",
      "execution_count": null,
      "metadata": {
        "id": "A3o-VwP7cBVj"
      },
      "outputs": [],
      "source": []
    }
  ],
  "metadata": {
    "accelerator": "GPU",
    "colab": {
      "collapsed_sections": [],
      "include_colab_link": true,
      "provenance": [],
      "toc_visible": true
    },
    "gpuClass": "standard",
    "kernelspec": {
      "display_name": "Python 3.8.13 ('base')",
      "language": "python",
      "name": "python3"
    },
    "language_info": {
      "codemirror_mode": {
        "name": "ipython",
        "version": 3
      },
      "file_extension": ".py",
      "mimetype": "text/x-python",
      "name": "python",
      "nbconvert_exporter": "python",
      "pygments_lexer": "ipython3",
      "version": "3.8.13"
    },
    "vscode": {
      "interpreter": {
        "hash": "816669048578a18ea9da5a90347fcfb466c35a26f25290f373f54dd49fbc6f85"
      }
    },
    "widgets": {
      "application/vnd.jupyter.widget-state+json": {
        "0e4a898eef1b459bb4f8cf4cd20331ef": {
          "model_module": "@jupyter-widgets/controls",
          "model_module_version": "1.5.0",
          "model_name": "LabelModel",
          "state": {
            "_dom_classes": [],
            "_model_module": "@jupyter-widgets/controls",
            "_model_module_version": "1.5.0",
            "_model_name": "LabelModel",
            "_view_count": null,
            "_view_module": "@jupyter-widgets/controls",
            "_view_module_version": "1.5.0",
            "_view_name": "LabelView",
            "description": "",
            "description_tooltip": null,
            "layout": "IPY_MODEL_adda05babb0241eaa0e31fc63ebb074e",
            "placeholder": "​",
            "style": "IPY_MODEL_14cf5b8bd12d4097837480c8ce3ae866",
            "value": "0.009 MB of 0.009 MB uploaded (0.000 MB deduped)\r"
          }
        },
        "14cf5b8bd12d4097837480c8ce3ae866": {
          "model_module": "@jupyter-widgets/controls",
          "model_module_version": "1.5.0",
          "model_name": "DescriptionStyleModel",
          "state": {
            "_model_module": "@jupyter-widgets/controls",
            "_model_module_version": "1.5.0",
            "_model_name": "DescriptionStyleModel",
            "_view_count": null,
            "_view_module": "@jupyter-widgets/base",
            "_view_module_version": "1.2.0",
            "_view_name": "StyleView",
            "description_width": ""
          }
        },
        "8b00e85fd41f4bca951a740dcf9b787c": {
          "model_module": "@jupyter-widgets/controls",
          "model_module_version": "1.5.0",
          "model_name": "FloatProgressModel",
          "state": {
            "_dom_classes": [],
            "_model_module": "@jupyter-widgets/controls",
            "_model_module_version": "1.5.0",
            "_model_name": "FloatProgressModel",
            "_view_count": null,
            "_view_module": "@jupyter-widgets/controls",
            "_view_module_version": "1.5.0",
            "_view_name": "ProgressView",
            "bar_style": "",
            "description": "",
            "description_tooltip": null,
            "layout": "IPY_MODEL_c05375af954140748cdd2068cbe1ac78",
            "max": 1,
            "min": 0,
            "orientation": "horizontal",
            "style": "IPY_MODEL_e5be67e6070d47138fc80423b05e65c6",
            "value": 1
          }
        },
        "adb4c1c7df914936a1f6724278a99cbf": {
          "model_module": "@jupyter-widgets/base",
          "model_module_version": "1.2.0",
          "model_name": "LayoutModel",
          "state": {
            "_model_module": "@jupyter-widgets/base",
            "_model_module_version": "1.2.0",
            "_model_name": "LayoutModel",
            "_view_count": null,
            "_view_module": "@jupyter-widgets/base",
            "_view_module_version": "1.2.0",
            "_view_name": "LayoutView",
            "align_content": null,
            "align_items": null,
            "align_self": null,
            "border": null,
            "bottom": null,
            "display": null,
            "flex": null,
            "flex_flow": null,
            "grid_area": null,
            "grid_auto_columns": null,
            "grid_auto_flow": null,
            "grid_auto_rows": null,
            "grid_column": null,
            "grid_gap": null,
            "grid_row": null,
            "grid_template_areas": null,
            "grid_template_columns": null,
            "grid_template_rows": null,
            "height": null,
            "justify_content": null,
            "justify_items": null,
            "left": null,
            "margin": null,
            "max_height": null,
            "max_width": null,
            "min_height": null,
            "min_width": null,
            "object_fit": null,
            "object_position": null,
            "order": null,
            "overflow": null,
            "overflow_x": null,
            "overflow_y": null,
            "padding": null,
            "right": null,
            "top": null,
            "visibility": null,
            "width": null
          }
        },
        "adda05babb0241eaa0e31fc63ebb074e": {
          "model_module": "@jupyter-widgets/base",
          "model_module_version": "1.2.0",
          "model_name": "LayoutModel",
          "state": {
            "_model_module": "@jupyter-widgets/base",
            "_model_module_version": "1.2.0",
            "_model_name": "LayoutModel",
            "_view_count": null,
            "_view_module": "@jupyter-widgets/base",
            "_view_module_version": "1.2.0",
            "_view_name": "LayoutView",
            "align_content": null,
            "align_items": null,
            "align_self": null,
            "border": null,
            "bottom": null,
            "display": null,
            "flex": null,
            "flex_flow": null,
            "grid_area": null,
            "grid_auto_columns": null,
            "grid_auto_flow": null,
            "grid_auto_rows": null,
            "grid_column": null,
            "grid_gap": null,
            "grid_row": null,
            "grid_template_areas": null,
            "grid_template_columns": null,
            "grid_template_rows": null,
            "height": null,
            "justify_content": null,
            "justify_items": null,
            "left": null,
            "margin": null,
            "max_height": null,
            "max_width": null,
            "min_height": null,
            "min_width": null,
            "object_fit": null,
            "object_position": null,
            "order": null,
            "overflow": null,
            "overflow_x": null,
            "overflow_y": null,
            "padding": null,
            "right": null,
            "top": null,
            "visibility": null,
            "width": null
          }
        },
        "c05375af954140748cdd2068cbe1ac78": {
          "model_module": "@jupyter-widgets/base",
          "model_module_version": "1.2.0",
          "model_name": "LayoutModel",
          "state": {
            "_model_module": "@jupyter-widgets/base",
            "_model_module_version": "1.2.0",
            "_model_name": "LayoutModel",
            "_view_count": null,
            "_view_module": "@jupyter-widgets/base",
            "_view_module_version": "1.2.0",
            "_view_name": "LayoutView",
            "align_content": null,
            "align_items": null,
            "align_self": null,
            "border": null,
            "bottom": null,
            "display": null,
            "flex": null,
            "flex_flow": null,
            "grid_area": null,
            "grid_auto_columns": null,
            "grid_auto_flow": null,
            "grid_auto_rows": null,
            "grid_column": null,
            "grid_gap": null,
            "grid_row": null,
            "grid_template_areas": null,
            "grid_template_columns": null,
            "grid_template_rows": null,
            "height": null,
            "justify_content": null,
            "justify_items": null,
            "left": null,
            "margin": null,
            "max_height": null,
            "max_width": null,
            "min_height": null,
            "min_width": null,
            "object_fit": null,
            "object_position": null,
            "order": null,
            "overflow": null,
            "overflow_x": null,
            "overflow_y": null,
            "padding": null,
            "right": null,
            "top": null,
            "visibility": null,
            "width": null
          }
        },
        "d43de2f323d542f78550104ecc6ad7c0": {
          "model_module": "@jupyter-widgets/controls",
          "model_module_version": "1.5.0",
          "model_name": "VBoxModel",
          "state": {
            "_dom_classes": [],
            "_model_module": "@jupyter-widgets/controls",
            "_model_module_version": "1.5.0",
            "_model_name": "VBoxModel",
            "_view_count": null,
            "_view_module": "@jupyter-widgets/controls",
            "_view_module_version": "1.5.0",
            "_view_name": "VBoxView",
            "box_style": "",
            "children": [
              "IPY_MODEL_0e4a898eef1b459bb4f8cf4cd20331ef",
              "IPY_MODEL_8b00e85fd41f4bca951a740dcf9b787c"
            ],
            "layout": "IPY_MODEL_adb4c1c7df914936a1f6724278a99cbf"
          }
        },
        "e5be67e6070d47138fc80423b05e65c6": {
          "model_module": "@jupyter-widgets/controls",
          "model_module_version": "1.5.0",
          "model_name": "ProgressStyleModel",
          "state": {
            "_model_module": "@jupyter-widgets/controls",
            "_model_module_version": "1.5.0",
            "_model_name": "ProgressStyleModel",
            "_view_count": null,
            "_view_module": "@jupyter-widgets/base",
            "_view_module_version": "1.2.0",
            "_view_name": "StyleView",
            "bar_color": null,
            "description_width": ""
          }
        }
      }
    }
  },
  "nbformat": 4,
  "nbformat_minor": 0
}
