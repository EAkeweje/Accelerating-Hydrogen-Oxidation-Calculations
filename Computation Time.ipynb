{
 "cells": [
  {
   "cell_type": "code",
   "execution_count": 1,
   "id": "6d906b3b-7812-4e7c-8987-df847ccd67c7",
   "metadata": {},
   "outputs": [],
   "source": [
    "import numpy as np\n",
    "import matplotlib.pyplot as plt\n",
    "import pandas as pd\n",
    "import json\n",
    "import time\n",
    "import random\n",
    "import os\n",
    "\n",
    "import torch\n",
    "from torch.autograd import Variable\n",
    "import torch.optim as optim\n",
    "import torch.nn as nn\n",
    "import torch.nn.functional as F\n",
    "from torch.utils.data import Dataset, DataLoader\n",
    "from torch.utils.data.sampler import SubsetRandomSampler\n",
    "\n",
    "from sklearn.metrics import r2_score"
   ]
  },
  {
   "cell_type": "code",
   "execution_count": 2,
   "id": "f33de389-ddac-4a8b-bde7-08270b033021",
   "metadata": {},
   "outputs": [
    {
     "name": "stdout",
     "output_type": "stream",
     "text": [
      "/Volumes/GoogleDrive/My Drive/Skoltech/Research/Hydrogen Oxidation\n"
     ]
    }
   ],
   "source": [
    "cd '/Volumes/GoogleDrive/My Drive/Skoltech/Research/Hydrogen Oxidation/'"
   ]
  },
  {
   "cell_type": "markdown",
   "id": "9806fe5c-e1c9-4f62-a9cc-7bab459344f5",
   "metadata": {
    "tags": []
   },
   "source": [
    "# Utils"
   ]
  },
  {
   "cell_type": "markdown",
   "id": "cc4c563f-4a1f-4be1-ba17-5a9b6905619a",
   "metadata": {},
   "source": [
    "## Dataset"
   ]
  },
  {
   "cell_type": "code",
   "execution_count": 3,
   "id": "a6245935-0bdd-4325-b8f9-0093c10b17e4",
   "metadata": {},
   "outputs": [],
   "source": [
    "class OxidationDataset(Dataset):\n",
    "\n",
    "    def __init__(self, inputs_path, outputs_dir, nsample, ntimesteps):\n",
    "        \"\"\"\n",
    "        Args:\n",
    "            inputs_dir (string): \n",
    "            outputs_dir (string):\n",
    "        \"\"\"\n",
    "        \n",
    "        # x = np.loadtxt(inputs_path, skiprows = 1, delimiter= ',')\n",
    "        x = np.loadtxt(inputs_path, delimiter= ' ')\n",
    "        #drop inert gases\n",
    "        self.inputs = np.delete(x[ :nsample, :], [8,9], 1)[:, np.newaxis]\n",
    "        self.out_dir = outputs_dir\n",
    "        self.ntimesteps = ntimesteps\n",
    "\n",
    "\n",
    "    def __len__(self):\n",
    "        return len(self.inputs)\n",
    "\n",
    "    def __getitem__(self, idx):\n",
    "        #get output\n",
    "        Y = np.loadtxt(os.path.join(self.out_dir, f'out{idx}.txt'), delimiter= ';')\n",
    "        \n",
    "        #drop inert gases\n",
    "        if type(self.ntimesteps) == int:\n",
    "            Y = Y[:self.ntimesteps, 1:-2]\n",
    "        elif type(self.ntimesteps) == list:\n",
    "            Y = Y[self.ntimesteps, 1:-2]\n",
    "        elif self.ntimesteps == 'all':\n",
    "            Y = Y[:, 1:-2]\n",
    "        else:\n",
    "            raise ValueError(\"Invalid argument 'ntimestep' should an interger, a list or 'all' string\")\n",
    "\n",
    "        return torch.from_numpy(self.inputs[idx]), torch.from_numpy(Y)"
   ]
  },
  {
   "cell_type": "markdown",
   "id": "08856b51-8e95-4d9f-a77f-8cb12e186e77",
   "metadata": {},
   "source": [
    "## Transformation"
   ]
  },
  {
   "cell_type": "code",
   "execution_count": 4,
   "id": "0870ffe1-5778-4a0f-9992-d6e54fd84f45",
   "metadata": {},
   "outputs": [],
   "source": [
    "#for data standardization\n",
    "def standardize(tensor, dim = 0, mean = None, std = None) -> torch.float64:\n",
    "    tensor = tensor.float()\n",
    "    \n",
    "    if mean is None:\n",
    "        mean = tensor.mean(dim = dim, keepdim = True)\n",
    "    \n",
    "    if std is None:\n",
    "        std = tensor.std(dim = dim, keepdim = True)\n",
    "\n",
    "    standard_tensor = (tensor - mean) / std\n",
    "    return standard_tensor, mean, std\n",
    "\n",
    "def inverse_standardize(tensor, dim, mean, std):\n",
    "    tensor = tensor.float()\n",
    "    return tensor * std + mean"
   ]
  },
  {
   "cell_type": "markdown",
   "id": "acc71ae2-d1d1-492a-b1d3-cbb23571daff",
   "metadata": {},
   "source": [
    "## Data Loaders"
   ]
  },
  {
   "cell_type": "code",
   "execution_count": 5,
   "id": "1e486b54-f455-4b1c-87cb-30cf4948a699",
   "metadata": {},
   "outputs": [],
   "source": [
    "def loaders(batch_size, ntimesteps, nsample, split):\n",
    "    '''\n",
    "    batch_size: int = batch size\n",
    "    ntimesteps: int or list = number/list of time steps in data\n",
    "    nsample: int = number of samples to use\n",
    "    split: list = list of train set to data ration and train+valid set to data ratio\n",
    "    '''\n",
    "    #initialize dataset object\n",
    "    dataset = OxidationDataset(inputs_path = 'input_98660.txt',\n",
    "                               outputs_dir = './Out_files_98660',\n",
    "                               nsample = nsample,\n",
    "                               ntimesteps = ntimesteps)\n",
    "    # Creating Training, Validation, and Test dataloaders\n",
    "    # split Train : Val : Test = 0.7 : 0.2 : 0.1\n",
    "    dataset_size = len(dataset)\n",
    "    indices = list(range(dataset_size))\n",
    "    train_split = int(np.floor(split[0] * dataset_size))\n",
    "    val_split = int(np.floor(split[1] * dataset_size))\n",
    "    shuffle_dataset = True\n",
    "    random_seed = 42\n",
    "    if shuffle_dataset :\n",
    "        np.random.seed(random_seed)\n",
    "        np.random.shuffle(indices)\n",
    "    train_indices = indices[ : train_split]\n",
    "    val_indices = indices[train_split : val_split]\n",
    "    test_indices = indices[val_split : ]\n",
    "\n",
    "    # Creating PT data samplers and loaders:\n",
    "    train_sampler = SubsetRandomSampler(train_indices)\n",
    "    valid_sampler = SubsetRandomSampler(val_indices)\n",
    "    test_sampler = SubsetRandomSampler(test_indices)\n",
    "\n",
    "    train_loader = DataLoader(dataset, batch_size=batch_size, sampler=train_sampler)\n",
    "    validation_loader = DataLoader(dataset, batch_size=batch_size, sampler=valid_sampler)\n",
    "    test_loader = DataLoader(dataset, batch_size=batch_size, sampler=test_sampler)\n",
    "    \n",
    "    return train_loader, validation_loader, test_loader"
   ]
  },
  {
   "cell_type": "markdown",
   "id": "25692802-4fda-4a7a-9202-79c856b613af",
   "metadata": {},
   "source": [
    "## Inference"
   ]
  },
  {
   "cell_type": "code",
   "execution_count": 6,
   "id": "a968a7f8-171d-4fe4-8efd-5020dfc7021f",
   "metadata": {},
   "outputs": [],
   "source": [
    "def run_inference(model, dataloader):\n",
    "    output_stack = []\n",
    "    predict_stack = []\n",
    "    total_duration = 0\n",
    "\n",
    "    for i, (input, output) in enumerate(dataloader):\n",
    "        if torch.cuda.is_available():\n",
    "            input, output = input.cuda(), output.cuda()\n",
    "\n",
    "        #standardize\n",
    "        start = time.time()\n",
    "        input, _, _ = standardize(input, 0, torch.tensor(mean_std_dict['mean_x']), torch.tensor(mean_std_dict['std_x']))\n",
    "        pred = model(input.float())\n",
    "        pred = inverse_standardize(pred, 0, torch.tensor(mean_std_dict['mean_y']), torch.tensor(mean_std_dict['std_y']))\n",
    "        duration = time.time() - start\n",
    "        total_duration += duration\n",
    "\n",
    "        #stack results\n",
    "        predict_stack.append(pred)\n",
    "        output_stack.append(output)\n",
    "\n",
    "    error = torch.linalg.norm(torch.concat(output_stack) - torch.concat(predict_stack))/torch.linalg.norm(torch.concat(output_stack))\n",
    "    \n",
    "    return total_duration, error"
   ]
  },
  {
   "cell_type": "markdown",
   "id": "a13d58d2-d85b-4e3e-ae21-11884c3d8ea8",
   "metadata": {
    "tags": []
   },
   "source": [
    "# Singular time estimations"
   ]
  },
  {
   "cell_type": "markdown",
   "id": "de7a9c5b-4528-438b-b72e-5fd2385714e5",
   "metadata": {},
   "source": [
    "## Load Data"
   ]
  },
  {
   "cell_type": "code",
   "execution_count": 7,
   "id": "e81adf0e-114c-4224-92b6-22881f54ce95",
   "metadata": {},
   "outputs": [],
   "source": [
    "#Model Architecture\n",
    "class RNN_Model(nn.Module):\n",
    "    def __init__(self, input_size, hidden_size, num_layers, output_size):\n",
    "        super(RNN_Model, self).__init__()\n",
    "        self.input_size = input_size\n",
    "        self.hidden_size = hidden_size\n",
    "        self.output_size = output_size\n",
    "        self.num_layers = num_layers\n",
    "        self.rnn = nn.RNN(self.input_size, self.hidden_size, self.num_layers, dropout = 0.1, batch_first = True)\n",
    "        self.linear = nn.Linear(self.hidden_size, self.output_size)\n",
    "        \n",
    "    def forward(self, x):\n",
    "        out, _ = self.rnn(x)\n",
    "        out = self.linear(out)\n",
    "        return out"
   ]
  },
  {
   "cell_type": "code",
   "execution_count": 8,
   "id": "b13fa265-e393-4d07-a9cd-5b184f9b7bcd",
   "metadata": {},
   "outputs": [
    {
     "name": "stdout",
     "output_type": "stream",
     "text": [
      "torch.Size([64, 1, 10]) torch.Size([64, 1, 9])\n"
     ]
    }
   ],
   "source": [
    "#get data loaders\n",
    "batch_size = 64\n",
    "ntimesteps = [-1]\n",
    "nsample = 1000\n",
    "split = [0.5, 0.9]\n",
    "train_loader, _, _ = loaders(batch_size, ntimesteps, nsample, split)\n",
    "\n",
    "#check\n",
    "for x,y in train_loader:\n",
    "    print(x.shape, y.shape)\n",
    "    break"
   ]
  },
  {
   "cell_type": "code",
   "execution_count": 9,
   "id": "2d324c40-a119-4a94-a6d3-7de91e4a118b",
   "metadata": {},
   "outputs": [
    {
     "data": {
      "text/plain": [
       "RNN_Model(\n",
       "  (rnn): RNN(10, 32, num_layers=2, batch_first=True, dropout=0.1)\n",
       "  (linear): Linear(in_features=32, out_features=9, bias=True)\n",
       ")"
      ]
     },
     "execution_count": 9,
     "metadata": {},
     "output_type": "execute_result"
    }
   ],
   "source": [
    "#initialize the model\n",
    "input_size = 10\n",
    "hidden_size = 32\n",
    "num_layers = 2\n",
    "output_size = 9\n",
    "model = RNN_Model(input_size, hidden_size, num_layers, output_size)\n",
    "model"
   ]
  },
  {
   "cell_type": "code",
   "execution_count": 10,
   "id": "a5ceb4f1-d189-43cf-8213-4a072c13e76b",
   "metadata": {},
   "outputs": [],
   "source": [
    "#get means and stds\n",
    "with open('rnn_mean_std.json', 'r') as f:\n",
    "    mean_std_dict = json.load(f)"
   ]
  },
  {
   "cell_type": "code",
   "execution_count": 11,
   "id": "8c070d98-102b-41e6-b03d-a695ab5150c2",
   "metadata": {},
   "outputs": [
    {
     "data": {
      "text/plain": [
       "0.01945505142211914"
      ]
     },
     "execution_count": 11,
     "metadata": {},
     "output_type": "execute_result"
    }
   ],
   "source": [
    "model.load_state_dict(torch.load('./Models/rnn.pth',\n",
    "                                 map_location=torch.device('cpu')))\n",
    "if torch.cuda.is_available():\n",
    "    model = model.cuda()\n",
    "    for i in mean_std_dict.keys():\n",
    "        mean_std_dict[i] = mean_std_dict[i].cuda()\n",
    "\n",
    "model.eval()\n",
    "timers = []\n",
    "for _ in range(20):\n",
    "    total_duration, _ = run_inference(model, train_loader)\n",
    "    timers.append(total_duration)\n",
    "# print(f'Duration: {total_duration},\\nNormalized Error: {error}')\n",
    "\n",
    "np.mean(timers)"
   ]
  },
  {
   "cell_type": "markdown",
   "id": "20086cdb-45d0-4c2d-a5e1-aa140b68bb4e",
   "metadata": {
    "tags": []
   },
   "source": [
    "# 5 time estimations"
   ]
  },
  {
   "cell_type": "code",
   "execution_count": 12,
   "id": "36c4fe8c-4ca0-4e30-8977-cd97320e30f5",
   "metadata": {},
   "outputs": [],
   "source": [
    "#model architecture:::one to many RNN architechture\n",
    "class Base_RNN(nn.Module):\n",
    "    def __init__(self, input_size, hidden_size, num_layers):\n",
    "        super(Base_RNN, self).__init__()\n",
    "        self.input_size = input_size\n",
    "        self.hidden_size = hidden_size\n",
    "        self.num_layers = num_layers\n",
    "        self.rnn = nn.RNN(self.input_size, self.hidden_size, self.num_layers, dropout = 0.1, batch_first = True)\n",
    "        self.linear = nn.Linear(self.hidden_size, self.input_size)\n",
    "        \n",
    "    def forward(self, x, in_hidden = None):\n",
    "        if in_hidden == None:\n",
    "            out, out_hidden = self.rnn(x)\n",
    "        else:\n",
    "            out, out_hidden = self.rnn(x, in_hidden)\n",
    "        out = self.linear(out)\n",
    "        return out, out_hidden\n",
    "    \n",
    "class RNN_Model_Multiple(nn.Module):\n",
    "    def __init__(self,input_size, hidden_size, num_layers, output_size, ntimesteps):\n",
    "        super(RNN_Model_Multiple, self).__init__()\n",
    "        self.input_size = input_size\n",
    "        self.hidden_size = hidden_size\n",
    "        self.output_size = output_size\n",
    "        self.num_layers = num_layers\n",
    "        self.ntimesteps = ntimesteps\n",
    "        self.base_rnn = Base_RNN(self.input_size, self.hidden_size, self.num_layers)\n",
    "        self.relu = nn.ReLU()\n",
    "        self.linear = nn.Linear(self.input_size, self.output_size)\n",
    "        \n",
    "    def forward(self, x):\n",
    "        out = x\n",
    "        hidden = None\n",
    "        \n",
    "        #to store outputs\n",
    "        outputs = []\n",
    "        \n",
    "        for t in range(self.ntimesteps):                \n",
    "            #pass to rnn\n",
    "            out, hidden = self.base_rnn(out, hidden)\n",
    "            #pass to output layer\n",
    "            outputs.append(self.linear(self.relu(out)))\n",
    "            #skip connection\n",
    "            out += x\n",
    "\n",
    "        return torch.concat(outputs, 1)\n"
   ]
  },
  {
   "cell_type": "code",
   "execution_count": 13,
   "id": "ae4f3b2c-248d-4a27-b298-b5448fe964bb",
   "metadata": {},
   "outputs": [
    {
     "name": "stdout",
     "output_type": "stream",
     "text": [
      "torch.Size([64, 1, 10]) torch.Size([64, 5, 9])\n"
     ]
    }
   ],
   "source": [
    "#initialize dataset object\n",
    "# batch_size = 64\n",
    "ntimesteps = [0, 20, 50, 100, -1]\n",
    "nsample = 1000\n",
    "split = [0.5, 0.9]\n",
    "train_loader, _, _ = loaders(batch_size, ntimesteps, nsample, split)\n",
    "\n",
    "#check\n",
    "for x,y in train_loader:\n",
    "    print(x.shape, y.shape)\n",
    "    break"
   ]
  },
  {
   "cell_type": "code",
   "execution_count": 14,
   "id": "b61ee091-0fd6-41ad-ad28-ec733abd4d87",
   "metadata": {},
   "outputs": [
    {
     "data": {
      "text/plain": [
       "RNN_Model_Multiple(\n",
       "  (base_rnn): Base_RNN(\n",
       "    (rnn): RNN(10, 32, num_layers=2, batch_first=True, dropout=0.1)\n",
       "    (linear): Linear(in_features=32, out_features=10, bias=True)\n",
       "  )\n",
       "  (relu): ReLU()\n",
       "  (linear): Linear(in_features=10, out_features=9, bias=True)\n",
       ")"
      ]
     },
     "execution_count": 14,
     "metadata": {},
     "output_type": "execute_result"
    }
   ],
   "source": [
    "#initialize the model\n",
    "input_size = 10\n",
    "hidden_size = 32\n",
    "num_layers = 2\n",
    "output_size = 9\n",
    "ntimesteps = 5\n",
    "model = RNN_Model_Multiple(input_size, hidden_size, num_layers, output_size, ntimesteps)\n",
    "model"
   ]
  },
  {
   "cell_type": "code",
   "execution_count": 15,
   "id": "a75c3b99-f76b-4a1a-a2e7-6b725500ec16",
   "metadata": {},
   "outputs": [],
   "source": [
    "#get means and stds\n",
    "with open('rnn_5_mean_std.json', 'r') as f:\n",
    "    mean_std_dict = json.load(f)"
   ]
  },
  {
   "cell_type": "code",
   "execution_count": 16,
   "id": "8011c648-f489-4683-859c-4b9d3949ff8f",
   "metadata": {},
   "outputs": [
    {
     "data": {
      "text/plain": [
       "0.032682943344116214"
      ]
     },
     "execution_count": 16,
     "metadata": {},
     "output_type": "execute_result"
    }
   ],
   "source": [
    "model.load_state_dict(torch.load('./Models/best_rnn_5.pth',\n",
    "                                 map_location=torch.device('cpu')))\n",
    "if torch.cuda.is_available():\n",
    "    model = model.cuda()\n",
    "    for i in mean_std_dict.keys():\n",
    "        mean_std_dict[i] = mean_std_dict[i].cuda()\n",
    "\n",
    "model.eval()\n",
    "timers = []\n",
    "for _ in range(20):\n",
    "    total_duration, _ = run_inference(model, train_loader)\n",
    "    timers.append(total_duration)\n",
    "# print(f'Duration: {total_duration},\\nNormalized Error: {error}')\n",
    "\n",
    "np.mean(timers)"
   ]
  },
  {
   "cell_type": "markdown",
   "id": "8707fe41-2cd5-4288-81dc-09e5430b02b8",
   "metadata": {
    "tags": []
   },
   "source": [
    "# Complete time estimation"
   ]
  },
  {
   "cell_type": "code",
   "execution_count": 17,
   "id": "945ee2d3-e15c-4b9d-8d13-78a4962ed8bb",
   "metadata": {},
   "outputs": [
    {
     "name": "stdout",
     "output_type": "stream",
     "text": [
      "torch.Size([64, 1, 10]) torch.Size([64, 201, 9])\n"
     ]
    }
   ],
   "source": [
    "#initialize dataset object\n",
    "# batch_size = 64\n",
    "ntimesteps = 'all'\n",
    "nsample = 1000\n",
    "split = [0.5, 0.9]\n",
    "train_loader, _, _ = loaders(batch_size, ntimesteps, nsample, split)\n",
    "\n",
    "#check\n",
    "for x,y in train_loader:\n",
    "    print(x.shape, y.shape)\n",
    "    break"
   ]
  },
  {
   "cell_type": "code",
   "execution_count": 18,
   "id": "d8d76d10-f3d1-4d6a-a721-d83386e8c882",
   "metadata": {},
   "outputs": [
    {
     "data": {
      "text/plain": [
       "RNN_Model_Multiple(\n",
       "  (base_rnn): Base_RNN(\n",
       "    (rnn): RNN(10, 32, num_layers=2, batch_first=True, dropout=0.1)\n",
       "    (linear): Linear(in_features=32, out_features=10, bias=True)\n",
       "  )\n",
       "  (relu): ReLU()\n",
       "  (linear): Linear(in_features=10, out_features=9, bias=True)\n",
       ")"
      ]
     },
     "execution_count": 18,
     "metadata": {},
     "output_type": "execute_result"
    }
   ],
   "source": [
    "#initialize the model\n",
    "input_size = 10\n",
    "hidden_size = 32\n",
    "num_layers = 2\n",
    "output_size = 9\n",
    "ntimesteps = 201\n",
    "model = RNN_Model_Multiple(input_size, hidden_size, num_layers, output_size, ntimesteps)\n",
    "# model.apply(init_weights)\n",
    "model"
   ]
  },
  {
   "cell_type": "code",
   "execution_count": 19,
   "id": "6ed16963-41b0-4c11-b005-6f1c7737856f",
   "metadata": {},
   "outputs": [],
   "source": [
    "with open('rnn_all_mean_std.json', 'r') as f:\n",
    "    mean_std_dict = json.load(f)"
   ]
  },
  {
   "cell_type": "code",
   "execution_count": 20,
   "id": "0458e5fe-95c2-4d74-a5c6-090d3a4348aa",
   "metadata": {},
   "outputs": [
    {
     "data": {
      "text/plain": [
       "0.5481042504310608"
      ]
     },
     "execution_count": 20,
     "metadata": {},
     "output_type": "execute_result"
    }
   ],
   "source": [
    "model.load_state_dict(torch.load('./Models/best_rnn_all.pth',\n",
    "                                 map_location=torch.device('cpu')))\n",
    "if torch.cuda.is_available():\n",
    "    model = model.cuda()\n",
    "    for i in mean_std_dict.keys():\n",
    "        mean_std_dict[i] = mean_std_dict[i].cuda()\n",
    "\n",
    "model.eval()\n",
    "timers = []\n",
    "for _ in range(20):\n",
    "    total_duration, _ = run_inference(model, train_loader)\n",
    "    timers.append(total_duration)\n",
    "# print(f'Duration: {total_duration},\\nNormalized Error: {error}')\n",
    "\n",
    "np.mean(timers)"
   ]
  },
  {
   "cell_type": "markdown",
   "id": "0ef3478d-8cf6-453e-b345-658c6e3a2dc5",
   "metadata": {},
   "source": [
    "## Result visualization"
   ]
  },
  {
   "cell_type": "code",
   "execution_count": 137,
   "id": "e40e49a1-ad37-4742-bdd2-e1a1675aa21e",
   "metadata": {},
   "outputs": [
    {
     "data": {
      "text/html": [
       "<div>\n",
       "<style scoped>\n",
       "    .dataframe tbody tr th:only-of-type {\n",
       "        vertical-align: middle;\n",
       "    }\n",
       "\n",
       "    .dataframe tbody tr th {\n",
       "        vertical-align: top;\n",
       "    }\n",
       "\n",
       "    .dataframe thead th {\n",
       "        text-align: right;\n",
       "    }\n",
       "</style>\n",
       "<table border=\"1\" class=\"dataframe\">\n",
       "  <thead>\n",
       "    <tr style=\"text-align: right;\">\n",
       "      <th></th>\n",
       "      <th>RNN for one time step</th>\n",
       "      <th>RNN for 5 time steps</th>\n",
       "      <th>RNN for all time steps</th>\n",
       "      <th>chemical_box program</th>\n",
       "    </tr>\n",
       "    <tr>\n",
       "      <th>Batch size</th>\n",
       "      <th></th>\n",
       "      <th></th>\n",
       "      <th></th>\n",
       "      <th></th>\n",
       "    </tr>\n",
       "  </thead>\n",
       "  <tbody>\n",
       "    <tr>\n",
       "      <th>64</th>\n",
       "      <td>0.005450</td>\n",
       "      <td>0.009279</td>\n",
       "      <td>0.494376</td>\n",
       "      <td>NaN</td>\n",
       "    </tr>\n",
       "    <tr>\n",
       "      <th>32</th>\n",
       "      <td>0.014056</td>\n",
       "      <td>0.019663</td>\n",
       "      <td>1.047822</td>\n",
       "      <td>NaN</td>\n",
       "    </tr>\n",
       "    <tr>\n",
       "      <th>16</th>\n",
       "      <td>0.015103</td>\n",
       "      <td>0.033406</td>\n",
       "      <td>1.518657</td>\n",
       "      <td>NaN</td>\n",
       "    </tr>\n",
       "    <tr>\n",
       "      <th>8</th>\n",
       "      <td>0.029780</td>\n",
       "      <td>0.065624</td>\n",
       "      <td>2.902060</td>\n",
       "      <td>NaN</td>\n",
       "    </tr>\n",
       "    <tr>\n",
       "      <th>No batch</th>\n",
       "      <td>NaN</td>\n",
       "      <td>NaN</td>\n",
       "      <td>NaN</td>\n",
       "      <td>18.077882</td>\n",
       "    </tr>\n",
       "  </tbody>\n",
       "</table>\n",
       "</div>"
      ],
      "text/plain": [
       "            RNN for one time step  RNN for 5 time steps  \\\n",
       "Batch size                                                \n",
       "64                       0.005450              0.009279   \n",
       "32                       0.014056              0.019663   \n",
       "16                       0.015103              0.033406   \n",
       "8                        0.029780              0.065624   \n",
       "No batch                      NaN                   NaN   \n",
       "\n",
       "            RNN for all time steps  chemical_box program  \n",
       "Batch size                                                \n",
       "64                        0.494376                   NaN  \n",
       "32                        1.047822                   NaN  \n",
       "16                        1.518657                   NaN  \n",
       "8                         2.902060                   NaN  \n",
       "No batch                       NaN             18.077882  "
      ]
     },
     "execution_count": 137,
     "metadata": {},
     "output_type": "execute_result"
    }
   ],
   "source": [
    "df = pd.read_csv('RNN Times.csv', index_col=0)#header= ['Batch Size', 'RNN for one time step', 'RNN for 5 time steps', 'RNN for all time steps'])\n",
    "df.loc['No batch','chemical_box program'] = 18.07788202\n",
    "df.rename(columns= {'R1': 'RNN for one time step',\n",
    "                   'R5': 'RNN for 5 time steps',\n",
    "                   'R201': 'RNN for all time steps'}, inplace = True)\n",
    "df"
   ]
  },
  {
   "cell_type": "code",
   "execution_count": 139,
   "id": "624c0816-5efb-40be-95ff-96790670b0aa",
   "metadata": {},
   "outputs": [
    {
     "data": {
      "text/plain": [
       "<matplotlib.legend.Legend at 0x7f7dab31aee0>"
      ]
     },
     "execution_count": 139,
     "metadata": {},
     "output_type": "execute_result"
    },
    {
     "data": {
      "image/png": "[encoded data removed]",
      "text/plain": [
       "<Figure size 1080x504 with 1 Axes>"
      ]
     },
     "metadata": {
      "needs_background": "light"
     },
     "output_type": "display_data"
    }
   ],
   "source": [
    "df.plot.barh(figsize=(15,7), logx =True, fontsize = 15)\n",
    "plt.xlabel('Computation time (s)', fontsize = 15)\n",
    "plt.ylabel('Batch size (for RNNs)', fontsize = 15)\n",
    "plt.legend(fontsize = 15)"
   ]
  },
  {
   "cell_type": "code",
   "execution_count": 174,
   "id": "85c32195-8737-45c5-bf6d-6613f6a8672a",
   "metadata": {},
   "outputs": [
    {
     "data": {
      "text/plain": [
       "Batch size\n",
       "64    0.000011\n",
       "32    0.000027\n",
       "16    0.000029\n",
       "8     0.000059\n",
       "Name: RNN for one time step, dtype: float64"
      ]
     },
     "execution_count": 174,
     "metadata": {},
     "output_type": "execute_result"
    }
   ],
   "source": [
    "n_batch = [8,16,32, 63]\n",
    "df['RNN for one time step'].iloc[:-1]/np.array(n_batch)/np.array(batch_size)"
   ]
  },
  {
   "cell_type": "code",
   "execution_count": 175,
   "id": "d59a23f3-9ac7-4e97-85fe-8d37480dd4fa",
   "metadata": {},
   "outputs": [
    {
     "data": {
      "text/plain": [
       "Batch size\n",
       "64    0.000011\n",
       "32    0.000028\n",
       "16    0.000030\n",
       "8     0.000060\n",
       "Name: RNN for one time step, dtype: float64"
      ]
     },
     "execution_count": 175,
     "metadata": {},
     "output_type": "execute_result"
    }
   ],
   "source": [
    "df['RNN for one time step'].iloc[:-1]/500"
   ]
  },
  {
   "cell_type": "code",
   "execution_count": 173,
   "id": "c5fef512-49b0-4122-ae01-5a0cd25519bc",
   "metadata": {},
   "outputs": [
    {
     "data": {
      "text/plain": [
       "Text(0.5, 1.0, 'Average Computation Time')"
      ]
     },
     "execution_count": 173,
     "metadata": {},
     "output_type": "execute_result"
    },
    {
     "data": {
      "image/png": "[encoded data removed]",
      "text/plain": [
       "<Figure size 864x504 with 1 Axes>"
      ]
     },
     "metadata": {
      "needs_background": "light"
     },
     "output_type": "display_data"
    }
   ],
   "source": [
    "batch_size = [64,32,16,8]\n",
    "plt.figure(figsize=(12,7))\n",
    "plt.plot(batch_size, np.log10(df['RNN for one time step'].iloc[:-1]/500), label = 'RNN for one time step')\n",
    "plt.plot(batch_size, np.log10(df['RNN for 5 time steps'].iloc[:-1]/500), label = 'RNN for 5 time steps')\n",
    "plt.plot(batch_size, np.log10(df['RNN for all time steps'].iloc[:-1]/500), label = 'RNN for all time steps')\n",
    "plt.plot(batch_size, np.log10([18.07788202/500 for i in range(4)]), label = 'Chemical_box')\n",
    "plt.legend(fontsize = 15)\n",
    "plt.xlabel('Batch Size', fontsize= 15)\n",
    "plt.ylabel('log$_{10}$ (Avg. Computation time per prediction)', fontsize= 15)\n",
    "plt.title('Average Computation Time', fontsize = 25)"
   ]
  },
  {
   "cell_type": "code",
   "execution_count": null,
   "id": "cb4dfcfa-361e-40cb-aa41-4571690189f7",
   "metadata": {},
   "outputs": [],
   "source": []
  }
 ],
 "metadata": {
  "kernelspec": {
   "display_name": "Python 3 (ipykernel)",
   "language": "python",
   "name": "python3"
  },
  "language_info": {
   "codemirror_mode": {
    "name": "ipython",
    "version": 3
   },
   "file_extension": ".py",
   "mimetype": "text/x-python",
   "name": "python",
   "nbconvert_exporter": "python",
   "pygments_lexer": "ipython3",
   "version": "3.8.13"
  },
  "vscode": {
   "interpreter": {
    "hash": "816669048578a18ea9da5a90347fcfb466c35a26f25290f373f54dd49fbc6f85"
   }
  }
 },
 "nbformat": 4,
 "nbformat_minor": 5
}
